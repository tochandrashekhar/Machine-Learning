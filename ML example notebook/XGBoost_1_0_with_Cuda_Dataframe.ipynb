{
  "nbformat": 4,
  "nbformat_minor": 0,
  "metadata": {
    "colab": {
      "name": "XGBoost 1.0 with Cuda Dataframe.ipynb",
      "provenance": [],
      "authorship_tag": "ABX9TyOyNFDH06eS6OfBcOY4FE3o",
      "include_colab_link": true
    },
    "kernelspec": {
      "name": "python3",
      "display_name": "Python 3"
    },
    "accelerator": "GPU"
  },
  "cells": [
    {
      "cell_type": "markdown",
      "metadata": {
        "id": "view-in-github",
        "colab_type": "text"
      },
      "source": [
        "<a href=\"https://colab.research.google.com/github/srivatsan88/YouTubeLI/blob/master/XGBoost_1_0_with_Cuda_Dataframe.ipynb\" target=\"_parent\"><img src=\"https://colab.research.google.com/assets/colab-badge.svg\" alt=\"Open In Colab\"/></a>"
      ]
    },
    {
      "cell_type": "code",
      "metadata": {
        "id": "iBE5buvrfNIq",
        "colab_type": "code",
        "outputId": "2a64de54-25ef-45f2-e43b-54e8d9994c8a",
        "colab": {
          "base_uri": "https://localhost:8080/",
          "height": 318
        }
      },
      "source": [
        "!nvidia-smi"
      ],
      "execution_count": 0,
      "outputs": [
        {
          "output_type": "stream",
          "text": [
            "Sat Feb 22 11:34:35 2020       \n",
            "+-----------------------------------------------------------------------------+\n",
            "| NVIDIA-SMI 440.48.02    Driver Version: 418.67       CUDA Version: 10.1     |\n",
            "|-------------------------------+----------------------+----------------------+\n",
            "| GPU  Name        Persistence-M| Bus-Id        Disp.A | Volatile Uncorr. ECC |\n",
            "| Fan  Temp  Perf  Pwr:Usage/Cap|         Memory-Usage | GPU-Util  Compute M. |\n",
            "|===============================+======================+======================|\n",
            "|   0  Tesla T4            Off  | 00000000:00:04.0 Off |                    0 |\n",
            "| N/A   46C    P8    10W /  70W |      0MiB / 15079MiB |      0%      Default |\n",
            "+-------------------------------+----------------------+----------------------+\n",
            "                                                                               \n",
            "+-----------------------------------------------------------------------------+\n",
            "| Processes:                                                       GPU Memory |\n",
            "|  GPU       PID   Type   Process name                             Usage      |\n",
            "|=============================================================================|\n",
            "|  No running processes found                                                 |\n",
            "+-----------------------------------------------------------------------------+\n"
          ],
          "name": "stdout"
        }
      ]
    },
    {
      "cell_type": "code",
      "metadata": {
        "id": "DSk0LUhg0nQm",
        "colab_type": "code",
        "outputId": "5349c614-9ffb-4904-a892-66285f7c14aa",
        "colab": {
          "base_uri": "https://localhost:8080/",
          "height": 996
        }
      },
      "source": [
        "!cat /proc/cpuinfo"
      ],
      "execution_count": 0,
      "outputs": [
        {
          "output_type": "stream",
          "text": [
            "processor\t: 0\n",
            "vendor_id\t: GenuineIntel\n",
            "cpu family\t: 6\n",
            "model\t\t: 85\n",
            "model name\t: Intel(R) Xeon(R) CPU @ 2.00GHz\n",
            "stepping\t: 3\n",
            "microcode\t: 0x1\n",
            "cpu MHz\t\t: 2000.164\n",
            "cache size\t: 39424 KB\n",
            "physical id\t: 0\n",
            "siblings\t: 2\n",
            "core id\t\t: 0\n",
            "cpu cores\t: 1\n",
            "apicid\t\t: 0\n",
            "initial apicid\t: 0\n",
            "fpu\t\t: yes\n",
            "fpu_exception\t: yes\n",
            "cpuid level\t: 13\n",
            "wp\t\t: yes\n",
            "flags\t\t: fpu vme de pse tsc msr pae mce cx8 apic sep mtrr pge mca cmov pat pse36 clflush mmx fxsr sse sse2 ss ht syscall nx pdpe1gb rdtscp lm constant_tsc rep_good nopl xtopology nonstop_tsc cpuid tsc_known_freq pni pclmulqdq ssse3 fma cx16 pcid sse4_1 sse4_2 x2apic movbe popcnt aes xsave avx f16c rdrand hypervisor lahf_lm abm 3dnowprefetch invpcid_single ssbd ibrs ibpb stibp fsgsbase tsc_adjust bmi1 hle avx2 smep bmi2 erms invpcid rtm mpx avx512f avx512dq rdseed adx smap clflushopt clwb avx512cd avx512bw avx512vl xsaveopt xsavec xgetbv1 xsaves arat md_clear arch_capabilities\n",
            "bugs\t\t: cpu_meltdown spectre_v1 spectre_v2 spec_store_bypass l1tf mds swapgs\n",
            "bogomips\t: 4000.32\n",
            "clflush size\t: 64\n",
            "cache_alignment\t: 64\n",
            "address sizes\t: 46 bits physical, 48 bits virtual\n",
            "power management:\n",
            "\n",
            "processor\t: 1\n",
            "vendor_id\t: GenuineIntel\n",
            "cpu family\t: 6\n",
            "model\t\t: 85\n",
            "model name\t: Intel(R) Xeon(R) CPU @ 2.00GHz\n",
            "stepping\t: 3\n",
            "microcode\t: 0x1\n",
            "cpu MHz\t\t: 2000.164\n",
            "cache size\t: 39424 KB\n",
            "physical id\t: 0\n",
            "siblings\t: 2\n",
            "core id\t\t: 0\n",
            "cpu cores\t: 1\n",
            "apicid\t\t: 1\n",
            "initial apicid\t: 1\n",
            "fpu\t\t: yes\n",
            "fpu_exception\t: yes\n",
            "cpuid level\t: 13\n",
            "wp\t\t: yes\n",
            "flags\t\t: fpu vme de pse tsc msr pae mce cx8 apic sep mtrr pge mca cmov pat pse36 clflush mmx fxsr sse sse2 ss ht syscall nx pdpe1gb rdtscp lm constant_tsc rep_good nopl xtopology nonstop_tsc cpuid tsc_known_freq pni pclmulqdq ssse3 fma cx16 pcid sse4_1 sse4_2 x2apic movbe popcnt aes xsave avx f16c rdrand hypervisor lahf_lm abm 3dnowprefetch invpcid_single ssbd ibrs ibpb stibp fsgsbase tsc_adjust bmi1 hle avx2 smep bmi2 erms invpcid rtm mpx avx512f avx512dq rdseed adx smap clflushopt clwb avx512cd avx512bw avx512vl xsaveopt xsavec xgetbv1 xsaves arat md_clear arch_capabilities\n",
            "bugs\t\t: cpu_meltdown spectre_v1 spectre_v2 spec_store_bypass l1tf mds swapgs\n",
            "bogomips\t: 4000.32\n",
            "clflush size\t: 64\n",
            "cache_alignment\t: 64\n",
            "address sizes\t: 46 bits physical, 48 bits virtual\n",
            "power management:\n",
            "\n"
          ],
          "name": "stdout"
        }
      ]
    },
    {
      "cell_type": "code",
      "metadata": {
        "id": "XETsqND1bBjA",
        "colab_type": "code",
        "outputId": "32ce2773-654e-4dad-c428-a6914d249fd3",
        "colab": {
          "base_uri": "https://localhost:8080/",
          "height": 1000
        }
      },
      "source": [
        "!git clone https://github.com/rapidsai/rapidsai-csp-utils.git\n",
        "!bash rapidsai-csp-utils/colab/rapids-colab.sh\n",
        "\n",
        "import sys, os\n",
        "\n",
        "dist_package_index = sys.path.index('/usr/local/lib/python3.6/dist-packages')\n",
        "sys.path = sys.path[:dist_package_index] + ['/usr/local/lib/python3.6/site-packages'] + sys.path[dist_package_index:]\n",
        "sys.path\n",
        "exec(open('rapidsai-csp-utils/colab/update_modules.py').read(), globals())"
      ],
      "execution_count": 0,
      "outputs": [
        {
          "output_type": "stream",
          "text": [
            "Cloning into 'rapidsai-csp-utils'...\n",
            "remote: Enumerating objects: 30, done.\u001b[K\n",
            "remote: Counting objects: 100% (30/30), done.\u001b[K\n",
            "remote: Compressing objects: 100% (29/29), done.\u001b[K\n",
            "remote: Total 30 (delta 6), reused 5 (delta 0), pack-reused 0\u001b[K\n",
            "Unpacking objects: 100% (30/30), done.\n",
            "PLEASE READ\n",
            "********************************************************************************************************\n",
            "Colab Notebooks Migration Notice:\n",
            " \n",
            "We have changed the location of the Colab script to our new CSP utilties repo.\n",
            "We are also dropping support for versions below 0.11, as we are on 0.13 nightlies\n",
            " \n",
            "Not all Colab notebooks are updated (like personal Colabs) and/or are using outdated versions of RAPIDS,\n",
            "so we HIGHLY encourage users to update their scripts and Colab notebooks both with the new link AND with \n",
            "to the new API.  Otherwise, your code MAY BREAK\n",
            " \n",
            "This notice will disappear/be updated on our next release.\n",
            " \n",
            "Please enter in the box your desired RAPIDS version (ex: '0.11' or '0.12', between 0.11 to 0.13, without the quotes)\n",
            "and hit Enter. If you need stability, use 0.12. If you want bleeding edge, use our nightlies (0.13), but things can break.\n",
            "0.12\n",
            "Please COMPARE the \"SCRIPT TO COPY\" with the code in the above cell.  If they are the same, just type any key.  If not, do steps 2-4. \n",
            " \n",
            "SCRIPT TO COPY: \n",
            "!git clone https://github.com/rapidsai/rapidsai-csp-utils.git\n",
            "!bash rapidsai-csp-utils/colab/rapids-colab.sh\n",
            "import sys, os\n",
            "dist_package_index = sys.path.index('/usr/local/lib/python3.6/dist-packages')\n",
            "sys.path = sys.path[:dist_package_index] + ['/usr/local/lib/python3.6/site-packages'] + sys.path[dist_package_index:]\n",
            "sys.path\n",
            "exec(open('rapidsai-csp-utils/colab/update_modules.py').read(), globals())\n",
            "********************************************************************************************************\n",
            "Do you have the above version of the script running in your cell? (Y/N)\n",
            "Y\n",
            "Continuing with RAPIDS install\n",
            "Checking for GPU type:\n",
            "***********************************************************************\n",
            "Woo! Your instance has the right kind of GPU, a 'Tesla T4'!\n",
            "***********************************************************************\n",
            "\n",
            "Removing conflicting packages, will replace with RAPIDS compatible versions\n",
            "Uninstalling xgboost-0.90:\n",
            "  Successfully uninstalled xgboost-0.90\n",
            "Uninstalling dask-2.9.2:\n",
            "  Successfully uninstalled dask-2.9.2\n",
            "Uninstalling distributed-1.25.3:\n",
            "  Successfully uninstalled distributed-1.25.3\n",
            "Installing conda\n",
            "--2020-02-22 11:35:09--  https://repo.continuum.io/miniconda/Miniconda3-4.5.4-Linux-x86_64.sh\n",
            "Resolving repo.continuum.io (repo.continuum.io)... 104.18.200.79, 104.18.201.79, 2606:4700::6812:c84f, ...\n",
            "Connecting to repo.continuum.io (repo.continuum.io)|104.18.200.79|:443... connected.\n",
            "HTTP request sent, awaiting response... 200 OK\n",
            "Length: 58468498 (56M) [application/x-sh]\n",
            "Saving to: ‘Miniconda3-4.5.4-Linux-x86_64.sh’\n",
            "\n",
            "Miniconda3-4.5.4-Li 100%[===================>]  55.76M  24.6MB/s    in 2.3s    \n",
            "\n",
            "2020-02-22 11:35:12 (24.6 MB/s) - ‘Miniconda3-4.5.4-Linux-x86_64.sh’ saved [58468498/58468498]\n",
            "\n",
            "PREFIX=/usr/local\n",
            "installing: python-3.6.5-hc3d631a_2 ...\n",
            "Python 3.6.5 :: Anaconda, Inc.\n",
            "installing: ca-certificates-2018.03.07-0 ...\n",
            "installing: conda-env-2.6.0-h36134e3_1 ...\n",
            "installing: libgcc-ng-7.2.0-hdf63c60_3 ...\n",
            "installing: libstdcxx-ng-7.2.0-hdf63c60_3 ...\n",
            "installing: libffi-3.2.1-hd88cf55_4 ...\n",
            "installing: ncurses-6.1-hf484d3e_0 ...\n",
            "installing: openssl-1.0.2o-h20670df_0 ...\n",
            "installing: tk-8.6.7-hc745277_3 ...\n",
            "installing: xz-5.2.4-h14c3975_4 ...\n",
            "installing: yaml-0.1.7-had09818_2 ...\n",
            "installing: zlib-1.2.11-ha838bed_2 ...\n",
            "installing: libedit-3.1.20170329-h6b74fdf_2 ...\n",
            "installing: readline-7.0-ha6073c6_4 ...\n",
            "installing: sqlite-3.23.1-he433501_0 ...\n",
            "installing: asn1crypto-0.24.0-py36_0 ...\n",
            "installing: certifi-2018.4.16-py36_0 ...\n",
            "installing: chardet-3.0.4-py36h0f667ec_1 ...\n",
            "installing: idna-2.6-py36h82fb2a8_1 ...\n",
            "installing: pycosat-0.6.3-py36h0a5515d_0 ...\n",
            "installing: pycparser-2.18-py36hf9f622e_1 ...\n",
            "installing: pysocks-1.6.8-py36_0 ...\n",
            "installing: ruamel_yaml-0.15.37-py36h14c3975_2 ...\n",
            "installing: six-1.11.0-py36h372c433_1 ...\n",
            "installing: cffi-1.11.5-py36h9745a5d_0 ...\n",
            "installing: setuptools-39.2.0-py36_0 ...\n",
            "installing: cryptography-2.2.2-py36h14c3975_0 ...\n",
            "installing: wheel-0.31.1-py36_0 ...\n",
            "installing: pip-10.0.1-py36_0 ...\n",
            "installing: pyopenssl-18.0.0-py36_0 ...\n",
            "installing: urllib3-1.22-py36hbe7ace6_0 ...\n",
            "installing: requests-2.18.4-py36he2e5f8d_1 ...\n",
            "installing: conda-4.5.4-py36_0 ...\n",
            "installation finished.\n",
            "WARNING:\n",
            "    You currently have a PYTHONPATH environment variable set. This may cause\n",
            "    unexpected behavior when running the Python interpreter in Miniconda3.\n",
            "    For best results, please verify that your PYTHONPATH only points to\n",
            "    directories of packages that are compatible with the Python interpreter\n",
            "    in Miniconda3: /usr/local\n",
            "Installing RAPIDS 0.12 packages from the stable release channel\n",
            "Please standby, this will take a few minutes...\n",
            "Solving environment: - \b\b\\ \b\b| \b\b/ \b\b- \b\b\\ \b\b| \b\b/ \b\b- \b\b\\ \b\b| \b\b/ \b\b- \b\b\\ \b\b| \b\b/ \b\b- \b\b\\ \b\b| \b\b/ \b\b- \b\b\\ \b\b| \b\b/ \b\b- \b\b\\ \b\b| \b\b/ \b\b- \b\b\\ \b\b| \b\b/ \b\b- \b\b\\ \b\b| \b\b/ \b\b- \b\b\\ \b\b| \b\b/ \b\b- \b\b\\ \b\b| \b\b/ \b\b- \b\b\\ \b\b| \b\b/ \b\b- \b\b\\ \b\b| \b\b/ \b\b- \b\b\\ \b\b| \b\b/ \b\b- \b\b\\ \b\b| \b\b/ \b\b- \b\b\\ \b\b| \b\b/ \b\b- \b\b\\ \b\b| \b\b/ \b\b- \b\b\\ \b\b| \b\b/ \b\b- \b\b\\ \b\b| \b\b/ \b\b- \b\b\\ \b\b| \b\b/ \b\b- \b\b\\ \b\b| \b\b/ \b\b- \b\b\\ \b\b| \b\b/ \b\b- \b\b\\ \b\b| \b\b/ \b\b- \b\b\\ \b\b| \b\b/ \b\b- \b\b\\ \b\b| \b\b/ \b\b- \b\b\\ \b\b| \b\b/ \b\b- \b\b\\ \b\b| \b\b/ \b\b- \b\b\\ \b\b| \b\b/ \b\b- \b\b\\ \b\b| \b\b/ \b\b- \b\b\\ \b\b| \b\b/ \b\b- \b\b\\ \b\b| \b\b/ \b\b- \b\b\\ \b\b| \b\b/ \b\b- \b\b\\ \b\b| \b\b/ \b\b- \b\b\\ \b\b| \b\b/ \b\b- \b\b\\ \b\b| \b\b/ \b\b- \b\b\\ \b\b| \b\b/ \b\b- \b\b\\ \b\b| \b\b/ \b\b- \b\b\\ \b\b| \b\b/ \b\b- \b\b\\ \b\b| \b\b/ \b\b- \b\b\\ \b\b| \b\b/ \b\b- \b\b\\ \b\b| \b\b/ \b\b- \b\b\\ \b\b| \b\b/ \b\b- \b\b\\ \b\b| \b\b/ \b\b- \b\b\\ \b\b| \b\b/ \b\b- \b\b\\ \b\b| \b\b/ \b\b- \b\b\\ \b\b| \b\b/ \b\b- \b\b\\ \b\b| \b\b/ \b\b- \b\b\\ \b\b| \b\b/ \b\b- \b\b\\ \b\b| \b\b/ \b\b- \b\b\\ \b\b| \b\b/ \b\b- \b\b\\ \b\b| \b\b/ \b\b- \b\b\\ \b\b| \b\b/ \b\b- \b\b\\ \b\b| \b\b/ \b\b- \b\b\\ \b\b| \b\b/ \b\b- \b\b\\ \b\b| \b\b/ \b\b- \b\b\\ \b\b| \b\b/ \b\b- \b\b\\ \b\b| \b\b/ \b\b- \b\b\\ \b\b| \b\b/ \b\b- \b\b\\ \b\b| \b\b/ \b\b- \b\b\\ \b\b| \b\b/ \b\b- \b\b\\ \b\b| \b\b/ \b\b- \b\b\\ \b\b| \b\b/ \b\b- \b\b\\ \b\b| \b\b/ \b\b- \b\b\\ \b\b| \b\b/ \b\b- \b\b\\ \b\b| \b\b/ \b\b- \b\b\\ \b\b| \b\b/ \b\b- \b\b\\ \b\b| \b\b/ \b\b- \b\b\\ \b\b| \b\b/ \b\b- \b\b\\ \b\b| \b\b/ \b\b- \b\b\\ \b\b| \b\b/ \b\b- \b\b\\ \b\b| \b\b/ \b\b- \b\b\\ \b\b| \b\b/ \b\b- \b\b\\ \b\b| \b\b/ \b\b- \b\b\\ \b\b| \b\b/ \b\b- \b\b\\ \b\b| \b\b/ \b\b- \b\b\\ \b\b| \b\b/ \b\b- \b\b\\ \b\b| \b\b/ \b\b- \b\b\\ \b\b| \b\b/ \b\b- \b\b\\ \b\b| \b\b/ \b\b- \b\b\\ \b\b| \b\b/ \b\b- \b\b\\ \b\b| \b\b/ \b\b- \b\b\\ \b\b| \b\b/ \b\b- \b\b\\ \b\b| \b\b/ \b\b- \b\b\\ \b\b| \b\b/ \b\b- \b\b\\ \b\b| \b\b/ \b\b- \b\b\\ \b\b| \b\b/ \b\b- \b\b\\ \b\b| \b\b/ \b\b- \b\b\\ \b\b| \b\b/ \b\b- \b\b\\ \b\b| \b\b/ \b\b- \b\b\\ \b\b| \b\b/ \b\b- \b\b\\ \b\b| \b\b/ \b\b- \b\b\\ \b\b| \b\b/ \b\b- \b\b\\ \b\b| \b\b/ \b\b- \b\b\\ \b\b| \b\b/ \b\b- \b\b\\ \b\b| \b\b/ \b\b- \b\b\\ \b\b| \b\b/ \b\b- \b\b\\ \b\b| \b\b/ \b\b- \b\b\\ \b\b| \b\b/ \b\b- \b\b\\ \b\b| \b\b/ \b\b- \b\b\\ \b\b| \b\b/ \b\b- \b\b\\ \b\b| \b\b/ \b\b- \b\b\\ \b\b| \b\b/ \b\b- \b\b\\ \b\b| \b\b/ \b\b- \b\b\\ \b\b| \b\b/ \b\b- \b\b\\ \b\b| \b\b/ \b\b- \b\b\\ \b\b| \b\b/ \b\b- \b\b\\ \b\b| \b\b/ \b\b- \b\b\\ \b\b| \b\b/ \b\b- \b\b\\ \b\b| \b\b/ \b\b- \b\b\\ \b\b| \b\b/ \b\b- \b\b\\ \b\b| \b\b/ \b\b- \b\b\\ \b\b| \b\b/ \b\b- \b\b\\ \b\b| \b\b/ \b\b- \b\b\\ \b\b| \b\b/ \b\b- \b\b\\ \b\b| \b\b/ \b\b- \b\b\\ \b\b| \b\b/ \b\b- \b\b\\ \b\b| \b\b/ \b\b- \b\b\\ \b\b| \b\b/ \b\b- \b\b\\ \b\b| \b\b/ \b\b- \b\b\\ \b\b| \b\b/ \b\b- \b\b\\ \b\b| \b\b/ \b\b- \b\b\\ \b\b| \b\b/ \b\b- \b\b\\ \b\b| \b\b/ \b\b- \b\b\\ \b\b| \b\b/ \b\b- \b\b\\ \b\b| \b\b/ \b\b- \b\b\\ \b\b| \b\b/ \b\b- \b\b\\ \b\b| \b\b/ \b\b- \b\b\\ \b\b| \b\b/ \b\b- \b\b\\ \b\b| \b\b/ \b\b- \b\b\\ \b\b| \b\b/ \b\b- \b\b\\ \b\b| \b\b/ \b\b- \b\b\\ \b\b| \b\b/ \b\b- \b\b\\ \b\b| \b\b/ \b\b- \b\b\\ \b\b| \b\b/ \b\b- \b\b\\ \b\b| \b\b/ \b\b- \b\b\\ \b\b| \b\b/ \b\b- \b\b\\ \b\b| \b\b/ \b\b- \b\b\\ \b\b| \b\b/ \b\b- \b\b\\ \b\b| \b\b/ \b\b- \b\b\\ \b\b| \b\b/ \b\b- \b\b\\ \b\b| \b\b/ \b\b- \b\b\\ \b\b| \b\b/ \b\b- \b\b\\ \b\b| \b\b/ \b\b- \b\b\\ \b\b| \b\b/ \b\b- \b\b\\ \b\b| \b\b/ \b\b- \b\b\\ \b\b| \b\b/ \b\b- \b\b\\ \b\b| \b\b/ \b\b- \b\b\\ \b\b| \b\b/ \b\b- \b\b\\ \b\b| \b\b/ \b\b- \b\b\\ \b\b| \b\b/ \b\b- \b\b\\ \b\b| \b\b/ \b\b- \b\b\\ \b\b| \b\b/ \b\b- \b\b\\ \b\b| \b\b/ \b\b- \b\b\\ \b\b| \b\b/ \b\b- \b\b\\ \b\b| \b\b/ \b\b- \b\b\\ \b\b| \b\b/ \b\b- \b\b\\ \b\b| \b\b/ \b\b- \b\b\\ \b\b| \b\b/ \b\b- \b\b\\ \b\b| \b\b/ \b\b- \b\b\\ \b\b| \b\b/ \b\b- \b\b\\ \b\b| \b\b/ \b\b- \b\b\\ \b\b| \b\b/ \b\b- \b\b\\ \b\b| \b\b/ \b\b- \b\b\\ \b\b| \b\b/ \b\b- \b\b\\ \b\b| \b\b/ \b\b- \b\b\\ \b\b| \b\b/ \b\b- \b\b\\ \b\b| \b\b/ \b\b- \b\b\\ \b\b| \b\b/ \b\b- \b\b\\ \b\b| \b\b/ \b\b- \b\b\\ \b\b| \b\b/ \b\b- \b\b\\ \b\b| \b\b/ \b\b- \b\b\\ \b\b| \b\b/ \b\b- \b\b\\ \b\b| \b\b/ \b\b- \b\b\\ \b\b| \b\b/ \b\b- \b\b\\ \b\b| \b\b/ \b\b- \b\b\\ \b\b| \b\b/ \b\b- \b\b\\ \b\b| \b\b/ \b\b- \b\b\\ \b\b| \b\b/ \b\b- \b\b\\ \b\b| \b\b/ \b\b- \b\b\\ \b\b| \b\b/ \b\b- \b\b\\ \b\b| \b\b/ \b\b- \b\b\\ \b\b| \b\b/ \b\b- \b\b\\ \b\b| \b\b/ \b\b- \b\b\\ \b\b| \b\b/ \b\b- \b\b\\ \b\b| \b\b/ \b\b- \b\b\\ \b\b| \b\b/ \b\b- \b\b\\ \b\b| \b\b/ \b\b- \b\b\\ \b\b| \b\b/ \b\b- \b\b\\ \b\b| \b\b/ \b\b- \b\b\\ \b\b| \b\b/ \b\b- \b\b\\ \b\b| \b\b/ \b\b- \b\b\\ \b\b| \b\b/ \b\b- \b\b\\ \b\b| \b\b/ \b\b- \b\b\\ \b\b| \b\b/ \b\b- \b\b\\ \b\b| \b\b/ \b\b- \b\b\\ \b\b| \b\b/ \b\b- \b\b\\ \b\b| \b\b/ \b\b- \b\b\\ \b\b| \b\b/ \b\b- \b\b\\ \b\b| \b\b/ \b\b- \b\b\\ \b\b| \b\b/ \b\b- \b\b\\ \b\b| \b\b/ \b\b- \b\b\\ \b\b| \b\b/ \b\b- \b\b\\ \b\b| \b\b/ \b\b- \b\b\\ \b\b| \b\b/ \b\b- \b\b\\ \b\b| \b\b/ \b\b- \b\b\\ \b\b| \b\b/ \b\b- \b\b\\ \b\b| \b\b/ \b\b- \b\b\\ \b\b| \b\b/ \b\b- \b\b\\ \b\b| \b\b/ \b\b- \b\b\\ \b\b| \b\b/ \b\b- \b\b\\ \b\b| \b\b/ \b\b- \b\b\\ \b\b| \b\b/ \b\b- \b\b\\ \b\b| \b\b/ \b\b- \b\b\\ \b\b| \b\b/ \b\b- \b\b\\ \b\b| \b\b/ \b\b- \b\b\\ \b\b| \b\b/ \b\b- \b\b\\ \b\b| \b\b/ \b\b- \b\b\\ \b\b| \b\b/ \b\b- \b\b\\ \b\b| \b\b/ \b\b- \b\b\\ \b\b| \b\b/ \b\b- \b\b\\ \b\b| \b\b/ \b\b- \b\b\\ \b\b| \b\b/ \b\b- \b\b\\ \b\b| \b\b/ \b\b- \b\b\\ \b\b| \b\b/ \b\b- \b\b\\ \b\b| \b\b/ \b\b- \b\b\\ \b\b| \b\b/ \b\b- \b\b\\ \b\b| \b\b/ \b\b- \b\b\\ \b\b| \b\b/ \b\b- \b\b\\ \b\b| \b\b/ \b\b- \b\b\\ \b\b| \b\b/ \b\b- \b\b\\ \b\b| \b\b/ \b\b- \b\b\\ \b\b| \b\b/ \b\b- \b\b\\ \b\b| \b\b/ \b\b- \b\b\\ \b\b| \b\b/ \b\b- \b\b\\ \b\b| \b\b/ \b\b- \b\b\\ \b\b| \b\b/ \b\b- \b\b\\ \b\b| \b\b/ \b\b- \b\b\\ \b\b| \b\b/ \b\b- \b\b\\ \b\b| \b\b/ \b\b- \b\b\\ \b\b| \b\b/ \b\b- \b\b\\ \b\b| \b\b/ \b\b- \b\b\\ \b\b| \b\b/ \b\b- \b\b\\ \b\b| \b\b/ \b\b- \b\b\\ \b\b| \b\b/ \b\b- \b\b\\ \b\b| \b\b/ \b\b- \b\b\\ \b\b| \b\b/ \b\b- \b\b\\ \b\b| \b\b/ \b\b- \b\b\\ \b\b| \b\b/ \b\b- \b\b\\ \b\b| \b\b/ \b\b- \b\b\\ \b\b| \b\b/ \b\b- \b\b\\ \b\b| \b\b/ \b\b- \b\b\\ \b\b| \b\b/ \b\b- \b\b\\ \b\b| \b\b/ \b\b- \b\b\\ \b\b| \b\b/ \b\b- \b\b\\ \b\b| \b\b/ \b\b- \b\b\\ \b\b| \b\b/ \b\b- \b\b\\ \b\b| \b\b/ \b\b- \b\b\\ \b\b| \b\b/ \b\b- \b\b\\ \b\b| \b\b/ \b\b- \b\b\\ \b\b| \b\b/ \b\b- \b\b\\ \b\b| \b\b/ \b\b- \b\b\\ \b\b| \b\b/ \b\b- \b\b\\ \b\b| \b\b/ \b\b- \b\b\\ \b\b| \b\b/ \b\b- \b\b\\ \b\b| \b\b/ \b\b- \b\b\\ \b\b| \b\b/ \b\b- \b\b\\ \b\b| \b\b/ \b\b- \b\b\\ \b\b| \b\b/ \b\b- \b\b\\ \b\b| \b\b/ \b\b- \b\b\\ \b\b| \b\b/ \b\b- \b\b\\ \b\b| \b\b/ \b\b- \b\b\\ \b\b| \b\b/ \b\b- \b\b\\ \b\b| \b\b/ \b\b- \b\b\\ \b\b| \b\b/ \b\b- \b\b\\ \b\b| \b\b/ \b\b- \b\b\\ \b\b| \b\b/ \b\b- \b\b\\ \b\b| \b\b/ \b\b- \b\b\\ \b\b| \b\b/ \b\b- \b\b\\ \b\b| \b\b/ \b\b- \b\b\\ \b\b| \b\b/ \b\b- \b\b\\ \b\b| \b\b/ \b\b- \b\b\\ \b\b| \b\b/ \b\b- \b\b\\ \b\b| \b\b/ \b\b- \b\b\\ \b\b| \b\b/ \b\b- \b\b\\ \b\b| \b\b/ \b\b- \b\b\\ \b\b| \b\b/ \b\b- \b\b\\ \b\b| \b\b/ \b\b- \b\b\\ \b\b| \b\b/ \b\b- \b\b\\ \b\b| \b\b/ \b\b- \b\b\\ \b\b| \b\b/ \b\b- \b\b\\ \b\b| \b\b/ \b\b- \b\b\\ \b\b| \b\b/ \b\b- \b\b\\ \b\b| \b\b/ \b\b- \b\b\\ \b\b| \b\b/ \b\b- \b\b\\ \b\b| \b\b/ \b\b- \b\b\\ \b\b| \b\b/ \b\b- \b\b\\ \b\b| \b\b/ \b\b- \b\b\\ \b\b| \b\b/ \b\b- \b\b\\ \b\b| \b\b/ \b\b- \b\b\\ \b\b| \b\b/ \b\b- \b\b\\ \b\b| \b\b/ \b\b- \b\b\\ \b\b| \b\b/ \b\b- \b\b\\ \b\b| \b\b/ \b\b- \b\b\\ \b\b| \b\b/ \b\b- \b\b\\ \b\b| \b\b/ \b\b- \b\b\\ \b\b| \b\b/ \b\b- \b\b\\ \b\b| \b\b/ \b\b- \b\b\\ \b\b| \b\b/ \b\b- \b\b\\ \b\b| \b\b/ \b\b- \b\b\\ \b\b| \b\b/ \b\b- \b\b\\ \b\b| \b\b/ \b\b- \b\b\\ \b\b| \b\b/ \b\b- \b\b\\ \b\b| \b\b/ \b\b- \b\b\\ \b\b| \b\b/ \b\b- \b\b\\ \b\b| \b\b/ \b\b- \b\b\\ \b\b| \b\b/ \b\b- \b\b\\ \b\b| \b\b/ \b\b- \b\b\\ \b\b| \b\b/ \b\b- \b\b\\ \b\b| \b\b/ \b\b- \b\b\\ \b\b| \b\b/ \b\b- \b\b\\ \b\b| \b\b/ \b\b- \b\b\\ \b\b| \b\b/ \b\b- \b\b\\ \b\b| \b\b/ \b\b- \b\b\\ \b\b| \b\b/ \b\b- \b\b\\ \b\b| \b\b/ \b\b- \b\b\\ \b\b| \b\b/ \b\b- \b\b\\ \b\b| \b\b/ \b\b- \b\b\\ \b\b| \b\b/ \b\b- \b\b\\ \b\b| \b\b/ \b\b- \b\b\\ \b\b| \b\b/ \b\b- \b\b\\ \b\b| \b\b/ \b\b- \b\b\\ \b\b| \b\b/ \b\b- \b\b\\ \b\b| \b\b/ \b\b- \b\b\\ \b\b| \b\b/ \b\b- \b\b\\ \b\b| \b\b/ \b\b- \b\b\\ \b\b| \b\b/ \b\b- \b\b\\ \b\b| \b\b/ \b\b- \b\b\\ \b\b| \b\b/ \b\b- \b\b\\ \b\b| \b\b/ \b\b- \b\b\\ \b\b| \b\b/ \b\b- \b\b\\ \b\b| \b\b/ \b\b- \b\b\\ \b\b| \b\b/ \b\b- \b\b\\ \b\b| \b\b/ \b\b- \b\b\\ \b\b| \b\b/ \b\b- \b\b\\ \b\b| \b\b/ \b\b- \b\b\\ \b\b| \b\b/ \b\b- \b\b\\ \b\b| \b\b/ \b\b- \b\b\\ \b\b| \b\b/ \b\b- \b\b\\ \b\b| \b\b/ \b\b- \b\b\\ \b\b| \b\b/ \b\b- \b\b\\ \b\b| \b\b/ \b\b- \b\b\\ \b\b| \b\b/ \b\b- \b\b\\ \b\b| \b\b/ \b\b- \b\b\\ \b\b| \b\b/ \b\b- \b\b\\ \b\b| \b\b/ \b\b- \b\b\\ \b\b| \b\b/ \b\b- \b\b\\ \b\b| \b\b/ \b\b- \b\b\\ \b\b| \b\b/ \b\b- \b\b\\ \b\b| \b\b/ \b\b- \b\b\\ \b\b| \b\b/ \b\b- \b\b\\ \b\b| \b\b/ \b\b- \b\b\\ \b\b| \b\b/ \b\b- \b\b\\ \b\b| \b\b/ \b\b- \b\b\\ \b\b| \b\b/ \b\b- \b\b\\ \b\b| \b\b/ \b\b- \b\b\\ \b\b| \b\b/ \b\b- \b\b\\ \b\b| \b\b/ \b\b- \b\b\\ \b\b| \b\b/ \b\b- \b\b\\ \b\b| \b\b/ \b\b- \b\b\\ \b\b| \b\b/ \b\b- \b\b\\ \b\b| \b\b/ \b\b- \b\b\\ \b\b| \b\b/ \b\b- \b\b\\ \b\b| \b\b/ \b\b- \b\b\\ \b\b| \b\b/ \b\b- \b\b\\ \b\b| \b\b/ \b\b- \b\b\\ \b\b| \b\b/ \b\bdone\n",
            "\n",
            "\n",
            "==> WARNING: A newer version of conda exists. <==\n",
            "  current version: 4.5.4\n",
            "  latest version: 4.8.2\n",
            "\n",
            "Please update conda by running\n",
            "\n",
            "    $ conda update -n base conda\n",
            "\n",
            "\n",
            "\n",
            "## Package Plan ##\n",
            "\n",
            "  environment location: /usr/local\n",
            "\n",
            "  added / updated specs: \n",
            "    - cudatoolkit=10.0\n",
            "    - cudf=0.12\n",
            "    - cugraph\n",
            "    - cuml\n",
            "    - cuspatial\n",
            "    - dask-cudf\n",
            "    - gcsfs\n",
            "    - pynvml\n",
            "    - python=3.6\n",
            "    - xgboost\n",
            "\n",
            "\n",
            "The following packages will be downloaded:\n",
            "\n",
            "    package                    |            build\n",
            "    ---------------------------|-----------------\n",
            "    ncurses-6.1                |    hf484d3e_1002         1.3 MB  conda-forge\n",
            "    fastavro-0.22.9            |   py36h516909a_0         409 KB  conda-forge\n",
            "    scikit-learn-0.22.1        |   py36hcdab131_1         7.1 MB  conda-forge\n",
            "    packaging-20.1             |             py_0          31 KB  conda-forge\n",
            "    tornado-6.0.3              |   py36h516909a_4         636 KB  conda-forge\n",
            "    zict-1.0.0                 |             py_0          10 KB  conda-forge\n",
            "    libxgboost-0.90.rapidsdev1 |       cuda10.0_1        32.8 MB  rapidsai/label/xgboost\n",
            "    cugraph-0.12.0             |           py36_0         4.0 MB  rapidsai\n",
            "    cudf-0.12.0                |           py36_0         9.9 MB  rapidsai\n",
            "    libstdcxx-ng-9.2.0         |       hdf63c60_2         4.5 MB  conda-forge\n",
            "    xorg-libx11-1.6.9          |       h516909a_0         918 KB  conda-forge\n",
            "    toolz-0.10.0               |             py_0          46 KB  conda-forge\n",
            "    libdap4-3.20.4             |       hd3bb157_0        18.5 MB  conda-forge\n",
            "    pyjwt-1.7.1                |             py_0          17 KB  conda-forge\n",
            "    pynvml-8.0.4               |             py_0          31 KB  conda-forge\n",
            "    libssh2-1.8.2              |       h22169c7_2         257 KB  conda-forge\n",
            "    openjpeg-2.3.1             |       h981e76c_3         475 KB  conda-forge\n",
            "    zlib-1.2.11                |    h516909a_1006         105 KB  conda-forge\n",
            "    _libgcc_mutex-0.1          |      conda_forge           3 KB  conda-forge\n",
            "    krb5-1.16.4                |       h2fd8d38_0         1.4 MB  conda-forge\n",
            "    grpc-cpp-1.23.0            |       h18db393_0         4.5 MB  conda-forge\n",
            "    fontconfig-2.13.1          |    h86ecdb6_1001         340 KB  conda-forge\n",
            "    python-dateutil-2.8.1      |             py_0         220 KB  conda-forge\n",
            "    hdf5-1.10.5                |nompi_h3c11f04_1104         3.1 MB  conda-forge\n",
            "    xorg-xextproto-7.3.0       |    h14c3975_1002          27 KB  conda-forge\n",
            "    python-3.6.7               |    h357f687_1006        34.6 MB  conda-forge\n",
            "    oauthlib-3.0.1             |             py_0          82 KB  conda-forge\n",
            "    libtiff-4.1.0              |       hfc65ed5_0         595 KB  conda-forge\n",
            "    glib-2.58.3                |py36h6f030ca_1002         3.3 MB  conda-forge\n",
            "    libcugraph-0.12.0          |       cuda10.0_0        18.9 MB  rapidsai\n",
            "    gflags-2.2.2               |    he1b5a44_1002         175 KB  conda-forge\n",
            "    fsspec-0.6.2               |             py_0          46 KB  conda-forge\n",
            "    libprotobuf-3.8.0          |       h8b12597_0         4.7 MB  conda-forge\n",
            "    xerces-c-3.2.2             |    h8412b87_1004         1.7 MB  conda-forge\n",
            "    libevent-2.1.10            |       h72c5cf5_0         1.3 MB  conda-forge\n",
            "    freexl-1.0.5               |    h14c3975_1002          43 KB  conda-forge\n",
            "    json-c-0.13.1              |    h14c3975_1001          71 KB  conda-forge\n",
            "    xorg-renderproto-0.11.1    |    h14c3975_1002           8 KB  conda-forge\n",
            "    thrift-cpp-0.12.0          |    hf3afdfd_1004         2.4 MB  conda-forge\n",
            "    c-ares-1.15.0              |    h516909a_1001         100 KB  conda-forge\n",
            "    openssl-1.1.1d             |       h516909a_0         2.1 MB  conda-forge\n",
            "    icu-64.2                   |       he1b5a44_1        12.6 MB  conda-forge\n",
            "    libgfortran-ng-7.3.0       |       hdf63c60_5         1.7 MB  conda-forge\n",
            "    rmm-0.12.0                 |           py36_0         353 KB  rapidsai\n",
            "    boost-cpp-1.70.0           |       h8e57a91_2        21.1 MB  conda-forge\n",
            "    _openmp_mutex-4.5          |           1_llvm           5 KB  conda-forge\n",
            "    cairo-1.16.0               |    hfb77d84_1002         1.5 MB  conda-forge\n",
            "    jpeg-9c                    |    h14c3975_1001         251 KB  conda-forge\n",
            "    setuptools-45.2.0          |           py36_0         653 KB  conda-forge\n",
            "    libxml2-2.9.10             |       hee79883_0         1.3 MB  conda-forge\n",
            "    pycparser-2.19             |             py_2          88 KB  conda-forge\n",
            "    tzcode-2019a               |    h516909a_1002         429 KB  conda-forge\n",
            "    msgpack-python-1.0.0       |   py36hc9558a2_0          90 KB  conda-forge\n",
            "    pyparsing-2.4.6            |             py_0          59 KB  conda-forge\n",
            "    cryptography-2.8           |   py36h72c5cf5_1         616 KB  conda-forge\n",
            "    libllvm8-8.0.1             |       hc9558a2_0        23.2 MB  conda-forge\n",
            "    cudatoolkit-10.0.130       |                0       380.0 MB  nvidia\n",
            "    idna-2.9                   |             py_1          52 KB  conda-forge\n",
            "    freetype-2.10.0            |       he983fc9_1         884 KB  conda-forge\n",
            "    libcumlprims-0.12          |       cuda10.0_9         6.5 MB  nvidia\n",
            "    libgdal-2.4.4              |       h2b6fda6_0        18.7 MB  conda-forge\n",
            "    ca-certificates-2019.11.28 |       hecc5488_0         145 KB  conda-forge\n",
            "    xorg-libxrender-0.9.10     |    h516909a_1002          31 KB  conda-forge\n",
            "    cfitsio-3.470              |       hb60a0a2_2         1.4 MB  conda-forge\n",
            "    cloudpickle-1.3.0          |             py_0          24 KB  conda-forge\n",
            "    libuuid-2.32.1             |    h14c3975_1000          26 KB  conda-forge\n",
            "    six-1.14.0                 |           py36_0          23 KB  conda-forge\n",
            "    click-7.0                  |             py_0          61 KB  conda-forge\n",
            "    google-auth-1.11.2         |             py_0          47 KB  conda-forge\n",
            "    ucx-1.7.0+g9d06c3a         |       cuda10.0_0         8.2 MB  rapidsai\n",
            "    xorg-kbproto-1.0.7         |    h14c3975_1002          26 KB  conda-forge\n",
            "    llvmlite-0.31.0            |   py36h8b12597_0         337 KB  conda-forge\n",
            "    libhwloc-2.1.0             |       h3c4fd83_0         2.7 MB  conda-forge\n",
            "    parquet-cpp-1.5.1          |                2           3 KB  conda-forge\n",
            "    nvstrings-0.12.0           |           py36_0         129 KB  rapidsai\n",
            "    pyarrow-0.15.0             |   py36h8b68381_1         3.2 MB  conda-forge\n",
            "    gettext-0.19.8.1           |    hc5be6a0_1002         3.6 MB  conda-forge\n",
            "    heapdict-1.0.1             |             py_0           7 KB  conda-forge\n",
            "    kealib-1.4.10              |    h58c409b_1005         173 KB  conda-forge\n",
            "    pillow-7.0.0               |   py36hefe7db6_0         647 KB  conda-forge\n",
            "    pip-20.0.2                 |             py_2         1.0 MB  conda-forge\n",
            "    pytz-2019.3                |             py_0         237 KB  conda-forge\n",
            "    libcblas-3.8.0             |      15_openblas          10 KB  conda-forge\n",
            "    google-auth-oauthlib-0.4.1 |             py_2          18 KB  conda-forge\n",
            "    numpy-1.18.1               |   py36h95a1406_0         5.2 MB  conda-forge\n",
            "    nccl-2.4.6.1               |       cuda10.0_0        66.5 MB  nvidia\n",
            "    hdf4-4.2.13                |    hf30be14_1003         964 KB  conda-forge\n",
            "    xorg-xproto-7.0.31         |    h14c3975_1007          72 KB  conda-forge\n",
            "    xorg-libxext-1.3.4         |       h516909a_0          51 KB  conda-forge\n",
            "    xorg-libxau-1.0.9          |       h14c3975_0          13 KB  conda-forge\n",
            "    psutil-5.7.0               |   py36h516909a_0         325 KB  conda-forge\n",
            "    double-conversion-3.1.5    |       he1b5a44_2          85 KB  conda-forge\n",
            "    xgboost-0.90.rapidsdev1    |   cuda10.0py36_1          12 KB  rapidsai/label/xgboost\n",
            "    distributed-2.11.0         |           py36_0         986 KB  conda-forge\n",
            "    bokeh-1.4.0                |           py36_0        13.5 MB  conda-forge\n",
            "    tblib-1.6.0                |             py_0          14 KB  conda-forge\n",
            "    arrow-cpp-0.15.0           |   py36h090bef1_2        18.1 MB  conda-forge\n",
            "    pandas-0.25.3              |   py36hb3f55d8_0        11.4 MB  conda-forge\n",
            "    proj-6.3.0                 |       hc80f0dc_0        10.3 MB  conda-forge\n",
            "    requests-oauthlib-1.2.0    |             py_0          19 KB  conda-forge\n",
            "    libspatialite-4.3.0a       |    ha48a99a_1034         3.1 MB  conda-forge\n",
            "    jinja2-2.11.1              |             py_0          94 KB  conda-forge\n",
            "    giflib-5.1.7               |       h516909a_1         455 KB  conda-forge\n",
            "    pyopenssl-19.1.0           |             py_1          47 KB  conda-forge\n",
            "    ucx-py-0.12.0+g9d06c3a     |           py36_0         270 KB  rapidsai\n",
            "    tk-8.6.10                  |       hed695b0_0         3.2 MB  conda-forge\n",
            "    readline-8.0               |       hf8c457e_0         441 KB  conda-forge\n",
            "    poppler-data-0.4.9         |                1         3.4 MB  conda-forge\n",
            "    uriparser-0.9.3            |       he1b5a44_1          49 KB  conda-forge\n",
            "    xorg-libice-1.0.10         |       h516909a_0          57 KB  conda-forge\n",
            "    dlpack-0.2                 |       he1b5a44_1          13 KB  conda-forge\n",
            "    pcre-8.44                  |       he1b5a44_0         261 KB  conda-forge\n",
            "    libgcc-ng-9.2.0            |       h24d8f2e_2         8.2 MB  conda-forge\n",
            "    cupy-7.2.0                 |   py36he57b8b9_1        15.2 MB  conda-forge\n",
            "    xorg-libsm-1.2.3           |    h84519dc_1000          25 KB  conda-forge\n",
            "    cytoolz-0.10.1             |   py36h516909a_0         431 KB  conda-forge\n",
            "    expat-2.2.9                |       he1b5a44_2         191 KB  conda-forge\n",
            "    xorg-libxdmcp-1.1.3        |       h516909a_0          18 KB  conda-forge\n",
            "    brotli-1.0.7               |    he1b5a44_1000         1.0 MB  conda-forge\n",
            "    librmm-0.12.0              |       cuda10.0_0          53 KB  rapidsai\n",
            "    decorator-4.4.1            |             py_0          11 KB  conda-forge\n",
            "    libopenblas-0.3.8          |       h5ec1e0e_0         7.8 MB  conda-forge\n",
            "    cachetools-3.1.1           |             py_0          11 KB  conda-forge\n",
            "    gcsfs-0.6.0                |             py_0          19 KB  conda-forge\n",
            "    libiconv-1.15              |    h516909a_1005         2.0 MB  conda-forge\n",
            "    geos-3.8.0                 |       he1b5a44_0         1.0 MB  conda-forge\n",
            "    blinker-1.4                |             py_1          13 KB  conda-forge\n",
            "    xz-5.2.4                   |    h14c3975_1001         366 KB  conda-forge\n",
            "    pyasn1-0.4.8               |             py_0          53 KB  conda-forge\n",
            "    requests-2.23.0            |           py36_0          85 KB  conda-forge\n",
            "    postgresql-12.2            |       hf1211e9_0         5.0 MB  conda-forge\n",
            "    partd-1.1.0                |             py_0          17 KB  conda-forge\n",
            "    cuspatial-0.12.0           |           py36_0         574 KB  rapidsai\n",
            "    libnetcdf-4.7.3            |nompi_h9f9fd6a_101         1.3 MB  conda-forge\n",
            "    gdal-2.4.4                 |   py36h5f563d9_0         1.4 MB  conda-forge\n",
            "    yaml-0.2.2                 |       h516909a_1          82 KB  conda-forge\n",
            "    olefile-0.46               |             py_0          31 KB  conda-forge\n",
            "    scipy-1.4.1                |   py36h921218d_0        18.9 MB  conda-forge\n",
            "    geotiff-1.5.1              |       h38872f0_8         279 KB  conda-forge\n",
            "    pysocks-1.7.1              |           py36_0          27 KB  conda-forge\n",
            "    chardet-3.0.4              |        py36_1003         190 KB  conda-forge\n",
            "    poppler-0.67.0             |       h14e79db_8         8.9 MB  conda-forge\n",
            "    cffi-1.13.2                |   py36h8022711_0         220 KB  conda-forge\n",
            "    bzip2-1.0.8                |       h516909a_2         396 KB  conda-forge\n",
            "    libcurl-7.68.0             |       hda55be3_0         564 KB  conda-forge\n",
            "    liblapack-3.8.0            |      15_openblas          10 KB  conda-forge\n",
            "    libblas-3.8.0              |      15_openblas          10 KB  conda-forge\n",
            "    dask-2.11.0                |             py_0           4 KB  conda-forge\n",
            "    libpng-1.6.37              |       hed695b0_0         343 KB  conda-forge\n",
            "    libffi-3.2.1               |    he1b5a44_1006          46 KB  conda-forge\n",
            "    glog-0.4.0                 |       he1b5a44_1         104 KB  conda-forge\n",
            "    markupsafe-1.1.1           |   py36h516909a_0          26 KB  conda-forge\n",
            "    sqlite-3.30.1              |       hcee41ef_0         2.0 MB  conda-forge\n",
            "    libnvstrings-0.12.0        |       cuda10.0_0        30.1 MB  rapidsai\n",
            "    libedit-3.1.20170329       |    hf8c457e_1001         172 KB  conda-forge\n",
            "    lz4-c-1.8.3                |    he1b5a44_1001         187 KB  conda-forge\n",
            "    numba-0.48.0               |   py36hb3f55d8_0         3.4 MB  conda-forge\n",
            "    pixman-0.38.0              |    h516909a_1003         594 KB  conda-forge\n",
            "    libcuspatial-0.12.0        |       cuda10.0_0         1.6 MB  rapidsai\n",
            "    certifi-2019.11.28         |           py36_0         149 KB  conda-forge\n",
            "    libxcb-1.13                |    h14c3975_1002         396 KB  conda-forge\n",
            "    libkml-1.3.0               |    h4fcabce_1010         643 KB  conda-forge\n",
            "    re2-2020.01.01             |       he1b5a44_0         422 KB  conda-forge\n",
            "    libpq-12.2                 |       hae5116b_0         2.6 MB  conda-forge\n",
            "    zstd-1.4.3                 |       h3b9ef0a_0         935 KB  conda-forge\n",
            "    rsa-4.0                    |             py_0          27 KB  conda-forge\n",
            "    libcudf-0.12.0             |       cuda10.0_0       119.2 MB  rapidsai\n",
            "    locket-0.2.0               |             py_2           6 KB  conda-forge\n",
            "    py-xgboost-0.90.rapidsdev1 |   cuda10.0py36_1          87 KB  rapidsai/label/xgboost\n",
            "    cuml-0.12.0                |  cuda10.0_py36_0         9.1 MB  rapidsai\n",
            "    pyyaml-5.3                 |   py36h516909a_0         185 KB  conda-forge\n",
            "    joblib-0.14.1              |             py_0         198 KB  conda-forge\n",
            "    libcuml-0.12.0             |       cuda10.0_0        51.8 MB  rapidsai\n",
            "    curl-7.68.0                |       hf8cf82a_0         137 KB  conda-forge\n",
            "    snappy-1.1.8               |       he1b5a44_1          39 KB  conda-forge\n",
            "    dask-core-2.11.0           |             py_0         592 KB  conda-forge\n",
            "    urllib3-1.25.7             |           py36_0         160 KB  conda-forge\n",
            "    wheel-0.34.2               |             py_1          24 KB  conda-forge\n",
            "    sortedcontainers-2.1.0     |             py_0          25 KB  conda-forge\n",
            "    fastrlock-0.4              |py36he1b5a44_1000          32 KB  conda-forge\n",
            "    cudnn-7.6.0                |       cuda10.0_0       216.6 MB  nvidia\n",
            "    llvm-openmp-9.0.1          |       hc9558a2_2         782 KB  conda-forge\n",
            "    pthread-stubs-0.4          |    h14c3975_1001           5 KB  conda-forge\n",
            "    pyasn1-modules-0.2.7       |             py_0          60 KB  conda-forge\n",
            "    dask-cudf-0.12.0           |           py36_0          70 KB  rapidsai\n",
            "    ------------------------------------------------------------\n",
            "                                           Total:        1.28 GB\n",
            "\n",
            "The following NEW packages will be INSTALLED:\n",
            "\n",
            "    _libgcc_mutex:        0.1-conda_forge                conda-forge           \n",
            "    _openmp_mutex:        4.5-1_llvm                     conda-forge           \n",
            "    arrow-cpp:            0.15.0-py36h090bef1_2          conda-forge           \n",
            "    blinker:              1.4-py_1                       conda-forge           \n",
            "    bokeh:                1.4.0-py36_0                   conda-forge           \n",
            "    boost-cpp:            1.70.0-h8e57a91_2              conda-forge           \n",
            "    brotli:               1.0.7-he1b5a44_1000            conda-forge           \n",
            "    bzip2:                1.0.8-h516909a_2               conda-forge           \n",
            "    c-ares:               1.15.0-h516909a_1001           conda-forge           \n",
            "    cachetools:           3.1.1-py_0                     conda-forge           \n",
            "    cairo:                1.16.0-hfb77d84_1002           conda-forge           \n",
            "    cfitsio:              3.470-hb60a0a2_2               conda-forge           \n",
            "    click:                7.0-py_0                       conda-forge           \n",
            "    cloudpickle:          1.3.0-py_0                     conda-forge           \n",
            "    cudatoolkit:          10.0.130-0                     nvidia                \n",
            "    cudf:                 0.12.0-py36_0                  rapidsai              \n",
            "    cudnn:                7.6.0-cuda10.0_0               nvidia                \n",
            "    cugraph:              0.12.0-py36_0                  rapidsai              \n",
            "    cuml:                 0.12.0-cuda10.0_py36_0         rapidsai              \n",
            "    cupy:                 7.2.0-py36he57b8b9_1           conda-forge           \n",
            "    curl:                 7.68.0-hf8cf82a_0              conda-forge           \n",
            "    cuspatial:            0.12.0-py36_0                  rapidsai              \n",
            "    cytoolz:              0.10.1-py36h516909a_0          conda-forge           \n",
            "    dask:                 2.11.0-py_0                    conda-forge           \n",
            "    dask-core:            2.11.0-py_0                    conda-forge           \n",
            "    dask-cudf:            0.12.0-py36_0                  rapidsai              \n",
            "    decorator:            4.4.1-py_0                     conda-forge           \n",
            "    distributed:          2.11.0-py36_0                  conda-forge           \n",
            "    dlpack:               0.2-he1b5a44_1                 conda-forge           \n",
            "    double-conversion:    3.1.5-he1b5a44_2               conda-forge           \n",
            "    expat:                2.2.9-he1b5a44_2               conda-forge           \n",
            "    fastavro:             0.22.9-py36h516909a_0          conda-forge           \n",
            "    fastrlock:            0.4-py36he1b5a44_1000          conda-forge           \n",
            "    fontconfig:           2.13.1-h86ecdb6_1001           conda-forge           \n",
            "    freetype:             2.10.0-he983fc9_1              conda-forge           \n",
            "    freexl:               1.0.5-h14c3975_1002            conda-forge           \n",
            "    fsspec:               0.6.2-py_0                     conda-forge           \n",
            "    gcsfs:                0.6.0-py_0                     conda-forge           \n",
            "    gdal:                 2.4.4-py36h5f563d9_0           conda-forge           \n",
            "    geos:                 3.8.0-he1b5a44_0               conda-forge           \n",
            "    geotiff:              1.5.1-h38872f0_8               conda-forge           \n",
            "    gettext:              0.19.8.1-hc5be6a0_1002         conda-forge           \n",
            "    gflags:               2.2.2-he1b5a44_1002            conda-forge           \n",
            "    giflib:               5.1.7-h516909a_1               conda-forge           \n",
            "    glib:                 2.58.3-py36h6f030ca_1002       conda-forge           \n",
            "    glog:                 0.4.0-he1b5a44_1               conda-forge           \n",
            "    google-auth:          1.11.2-py_0                    conda-forge           \n",
            "    google-auth-oauthlib: 0.4.1-py_2                     conda-forge           \n",
            "    grpc-cpp:             1.23.0-h18db393_0              conda-forge           \n",
            "    hdf4:                 4.2.13-hf30be14_1003           conda-forge           \n",
            "    hdf5:                 1.10.5-nompi_h3c11f04_1104     conda-forge           \n",
            "    heapdict:             1.0.1-py_0                     conda-forge           \n",
            "    icu:                  64.2-he1b5a44_1                conda-forge           \n",
            "    jinja2:               2.11.1-py_0                    conda-forge           \n",
            "    joblib:               0.14.1-py_0                    conda-forge           \n",
            "    jpeg:                 9c-h14c3975_1001               conda-forge           \n",
            "    json-c:               0.13.1-h14c3975_1001           conda-forge           \n",
            "    kealib:               1.4.10-h58c409b_1005           conda-forge           \n",
            "    krb5:                 1.16.4-h2fd8d38_0              conda-forge           \n",
            "    libblas:              3.8.0-15_openblas              conda-forge           \n",
            "    libcblas:             3.8.0-15_openblas              conda-forge           \n",
            "    libcudf:              0.12.0-cuda10.0_0              rapidsai              \n",
            "    libcugraph:           0.12.0-cuda10.0_0              rapidsai              \n",
            "    libcuml:              0.12.0-cuda10.0_0              rapidsai              \n",
            "    libcumlprims:         0.12-cuda10.0_9                nvidia                \n",
            "    libcurl:              7.68.0-hda55be3_0              conda-forge           \n",
            "    libcuspatial:         0.12.0-cuda10.0_0              rapidsai              \n",
            "    libdap4:              3.20.4-hd3bb157_0              conda-forge           \n",
            "    libevent:             2.1.10-h72c5cf5_0              conda-forge           \n",
            "    libgdal:              2.4.4-h2b6fda6_0               conda-forge           \n",
            "    libgfortran-ng:       7.3.0-hdf63c60_5               conda-forge           \n",
            "    libhwloc:             2.1.0-h3c4fd83_0               conda-forge           \n",
            "    libiconv:             1.15-h516909a_1005             conda-forge           \n",
            "    libkml:               1.3.0-h4fcabce_1010            conda-forge           \n",
            "    liblapack:            3.8.0-15_openblas              conda-forge           \n",
            "    libllvm8:             8.0.1-hc9558a2_0               conda-forge           \n",
            "    libnetcdf:            4.7.3-nompi_h9f9fd6a_101       conda-forge           \n",
            "    libnvstrings:         0.12.0-cuda10.0_0              rapidsai              \n",
            "    libopenblas:          0.3.8-h5ec1e0e_0               conda-forge           \n",
            "    libpng:               1.6.37-hed695b0_0              conda-forge           \n",
            "    libpq:                12.2-hae5116b_0                conda-forge           \n",
            "    libprotobuf:          3.8.0-h8b12597_0               conda-forge           \n",
            "    librmm:               0.12.0-cuda10.0_0              rapidsai              \n",
            "    libspatialite:        4.3.0a-ha48a99a_1034           conda-forge           \n",
            "    libssh2:              1.8.2-h22169c7_2               conda-forge           \n",
            "    libtiff:              4.1.0-hfc65ed5_0               conda-forge           \n",
            "    libuuid:              2.32.1-h14c3975_1000           conda-forge           \n",
            "    libxcb:               1.13-h14c3975_1002             conda-forge           \n",
            "    libxgboost:           0.90.rapidsdev1-cuda10.0_1     rapidsai/label/xgboost\n",
            "    libxml2:              2.9.10-hee79883_0              conda-forge           \n",
            "    llvm-openmp:          9.0.1-hc9558a2_2               conda-forge           \n",
            "    llvmlite:             0.31.0-py36h8b12597_0          conda-forge           \n",
            "    locket:               0.2.0-py_2                     conda-forge           \n",
            "    lz4-c:                1.8.3-he1b5a44_1001            conda-forge           \n",
            "    markupsafe:           1.1.1-py36h516909a_0           conda-forge           \n",
            "    msgpack-python:       1.0.0-py36hc9558a2_0           conda-forge           \n",
            "    nccl:                 2.4.6.1-cuda10.0_0             nvidia                \n",
            "    numba:                0.48.0-py36hb3f55d8_0          conda-forge           \n",
            "    numpy:                1.18.1-py36h95a1406_0          conda-forge           \n",
            "    nvstrings:            0.12.0-py36_0                  rapidsai              \n",
            "    oauthlib:             3.0.1-py_0                     conda-forge           \n",
            "    olefile:              0.46-py_0                      conda-forge           \n",
            "    openjpeg:             2.3.1-h981e76c_3               conda-forge           \n",
            "    packaging:            20.1-py_0                      conda-forge           \n",
            "    pandas:               0.25.3-py36hb3f55d8_0          conda-forge           \n",
            "    parquet-cpp:          1.5.1-2                        conda-forge           \n",
            "    partd:                1.1.0-py_0                     conda-forge           \n",
            "    pcre:                 8.44-he1b5a44_0                conda-forge           \n",
            "    pillow:               7.0.0-py36hefe7db6_0           conda-forge           \n",
            "    pixman:               0.38.0-h516909a_1003           conda-forge           \n",
            "    poppler:              0.67.0-h14e79db_8              conda-forge           \n",
            "    poppler-data:         0.4.9-1                        conda-forge           \n",
            "    postgresql:           12.2-hf1211e9_0                conda-forge           \n",
            "    proj:                 6.3.0-hc80f0dc_0               conda-forge           \n",
            "    psutil:               5.7.0-py36h516909a_0           conda-forge           \n",
            "    pthread-stubs:        0.4-h14c3975_1001              conda-forge           \n",
            "    py-xgboost:           0.90.rapidsdev1-cuda10.0py36_1 rapidsai/label/xgboost\n",
            "    pyarrow:              0.15.0-py36h8b68381_1          conda-forge           \n",
            "    pyasn1:               0.4.8-py_0                     conda-forge           \n",
            "    pyasn1-modules:       0.2.7-py_0                     conda-forge           \n",
            "    pyjwt:                1.7.1-py_0                     conda-forge           \n",
            "    pynvml:               8.0.4-py_0                     conda-forge           \n",
            "    pyparsing:            2.4.6-py_0                     conda-forge           \n",
            "    python-dateutil:      2.8.1-py_0                     conda-forge           \n",
            "    pytz:                 2019.3-py_0                    conda-forge           \n",
            "    pyyaml:               5.3-py36h516909a_0             conda-forge           \n",
            "    re2:                  2020.01.01-he1b5a44_0          conda-forge           \n",
            "    requests-oauthlib:    1.2.0-py_0                     conda-forge           \n",
            "    rmm:                  0.12.0-py36_0                  rapidsai              \n",
            "    rsa:                  4.0-py_0                       conda-forge           \n",
            "    scikit-learn:         0.22.1-py36hcdab131_1          conda-forge           \n",
            "    scipy:                1.4.1-py36h921218d_0           conda-forge           \n",
            "    snappy:               1.1.8-he1b5a44_1               conda-forge           \n",
            "    sortedcontainers:     2.1.0-py_0                     conda-forge           \n",
            "    tblib:                1.6.0-py_0                     conda-forge           \n",
            "    thrift-cpp:           0.12.0-hf3afdfd_1004           conda-forge           \n",
            "    toolz:                0.10.0-py_0                    conda-forge           \n",
            "    tornado:              6.0.3-py36h516909a_4           conda-forge           \n",
            "    tzcode:               2019a-h516909a_1002            conda-forge           \n",
            "    ucx:                  1.7.0+g9d06c3a-cuda10.0_0      rapidsai              \n",
            "    ucx-py:               0.12.0+g9d06c3a-py36_0         rapidsai              \n",
            "    uriparser:            0.9.3-he1b5a44_1               conda-forge           \n",
            "    xerces-c:             3.2.2-h8412b87_1004            conda-forge           \n",
            "    xgboost:              0.90.rapidsdev1-cuda10.0py36_1 rapidsai/label/xgboost\n",
            "    xorg-kbproto:         1.0.7-h14c3975_1002            conda-forge           \n",
            "    xorg-libice:          1.0.10-h516909a_0              conda-forge           \n",
            "    xorg-libsm:           1.2.3-h84519dc_1000            conda-forge           \n",
            "    xorg-libx11:          1.6.9-h516909a_0               conda-forge           \n",
            "    xorg-libxau:          1.0.9-h14c3975_0               conda-forge           \n",
            "    xorg-libxdmcp:        1.1.3-h516909a_0               conda-forge           \n",
            "    xorg-libxext:         1.3.4-h516909a_0               conda-forge           \n",
            "    xorg-libxrender:      0.9.10-h516909a_1002           conda-forge           \n",
            "    xorg-renderproto:     0.11.1-h14c3975_1002           conda-forge           \n",
            "    xorg-xextproto:       7.3.0-h14c3975_1002            conda-forge           \n",
            "    xorg-xproto:          7.0.31-h14c3975_1007           conda-forge           \n",
            "    zict:                 1.0.0-py_0                     conda-forge           \n",
            "    zstd:                 1.4.3-h3b9ef0a_0               conda-forge           \n",
            "\n",
            "The following packages will be UPDATED:\n",
            "\n",
            "    ca-certificates:      2018.03.07-0                                          --> 2019.11.28-hecc5488_0      conda-forge\n",
            "    certifi:              2018.4.16-py36_0                                      --> 2019.11.28-py36_0          conda-forge\n",
            "    cffi:                 1.11.5-py36h9745a5d_0                                 --> 1.13.2-py36h8022711_0      conda-forge\n",
            "    chardet:              3.0.4-py36h0f667ec_1                                  --> 3.0.4-py36_1003            conda-forge\n",
            "    cryptography:         2.2.2-py36h14c3975_0                                  --> 2.8-py36h72c5cf5_1         conda-forge\n",
            "    idna:                 2.6-py36h82fb2a8_1                                    --> 2.9-py_1                   conda-forge\n",
            "    libedit:              3.1.20170329-h6b74fdf_2                               --> 3.1.20170329-hf8c457e_1001 conda-forge\n",
            "    libffi:               3.2.1-hd88cf55_4                                      --> 3.2.1-he1b5a44_1006        conda-forge\n",
            "    libgcc-ng:            7.2.0-hdf63c60_3                                      --> 9.2.0-h24d8f2e_2           conda-forge\n",
            "    libstdcxx-ng:         7.2.0-hdf63c60_3                                      --> 9.2.0-hdf63c60_2           conda-forge\n",
            "    ncurses:              6.1-hf484d3e_0                                        --> 6.1-hf484d3e_1002          conda-forge\n",
            "    openssl:              1.0.2o-h20670df_0                                     --> 1.1.1d-h516909a_0          conda-forge\n",
            "    pip:                  10.0.1-py36_0                                         --> 20.0.2-py_2                conda-forge\n",
            "    pycparser:            2.18-py36hf9f622e_1                                   --> 2.19-py_2                  conda-forge\n",
            "    pyopenssl:            18.0.0-py36_0                                         --> 19.1.0-py_1                conda-forge\n",
            "    pysocks:              1.6.8-py36_0                                          --> 1.7.1-py36_0               conda-forge\n",
            "    python:               3.6.5-hc3d631a_2                                      --> 3.6.7-h357f687_1006        conda-forge\n",
            "    readline:             7.0-ha6073c6_4                                        --> 8.0-hf8c457e_0             conda-forge\n",
            "    requests:             2.18.4-py36he2e5f8d_1                                 --> 2.23.0-py36_0              conda-forge\n",
            "    setuptools:           39.2.0-py36_0                                         --> 45.2.0-py36_0              conda-forge\n",
            "    six:                  1.11.0-py36h372c433_1                                 --> 1.14.0-py36_0              conda-forge\n",
            "    sqlite:               3.23.1-he433501_0                                     --> 3.30.1-hcee41ef_0          conda-forge\n",
            "    tk:                   8.6.7-hc745277_3                                      --> 8.6.10-hed695b0_0          conda-forge\n",
            "    urllib3:              1.22-py36hbe7ace6_0                                   --> 1.25.7-py36_0              conda-forge\n",
            "    wheel:                0.31.1-py36_0                                         --> 0.34.2-py_1                conda-forge\n",
            "    xz:                   5.2.4-h14c3975_4                                      --> 5.2.4-h14c3975_1001        conda-forge\n",
            "    yaml:                 0.1.7-had09818_2                                      --> 0.2.2-h516909a_1           conda-forge\n",
            "    zlib:                 1.2.11-ha838bed_2                                     --> 1.2.11-h516909a_1006       conda-forge\n",
            "\n",
            "\n",
            "Downloading and Extracting Packages\n",
            "ncurses-6.1          |  1.3 MB | : 100% 1.0/1 [00:00<00:00,  1.22it/s]               \n",
            "fastavro-0.22.9      |  409 KB | : 100% 1.0/1 [00:00<00:00,  8.96it/s]               \n",
            "scikit-learn-0.22.1  |  7.1 MB | : 100% 1.0/1 [00:01<00:00,  1.55s/it]               \n",
            "packaging-20.1       |   31 KB | : 100% 1.0/1 [00:00<00:00, 23.50it/s]\n",
            "tornado-6.0.3        |  636 KB | : 100% 1.0/1 [00:00<00:00,  5.17it/s]               \n",
            "zict-1.0.0           |   10 KB | : 100% 1.0/1 [00:00<00:00, 29.84it/s]\n",
            "libxgboost-0.90.rapi | 32.8 MB | : 100% 1.0/1 [00:10<00:00, 10.10s/it]               \n",
            "cugraph-0.12.0       |  4.0 MB | : 100% 1.0/1 [00:02<00:00,  2.53s/it]               \n",
            "cudf-0.12.0          |  9.9 MB | : 100% 1.0/1 [00:02<00:00,  2.66s/it]                \n",
            "libstdcxx-ng-9.2.0   |  4.5 MB | : 100% 1.0/1 [00:00<00:00,  1.42it/s]               \n",
            "xorg-libx11-1.6.9    |  918 KB | : 100% 1.0/1 [00:00<00:00,  4.44it/s]               \n",
            "toolz-0.10.0         |   46 KB | : 100% 1.0/1 [00:00<00:00, 17.10it/s]\n",
            "libdap4-3.20.4       | 18.5 MB | : 100% 1.0/1 [00:02<00:00,  2.71s/it]               \n",
            "pyjwt-1.7.1          |   17 KB | : 100% 1.0/1 [00:00<00:00, 24.26it/s]\n",
            "pynvml-8.0.4         |   31 KB | : 100% 1.0/1 [00:00<00:00, 20.92it/s]\n",
            "libssh2-1.8.2        |  257 KB | : 100% 1.0/1 [00:00<00:00,  8.42it/s]               \n",
            "openjpeg-2.3.1       |  475 KB | : 100% 1.0/1 [00:00<00:00,  9.41it/s]\n",
            "zlib-1.2.11          |  105 KB | : 100% 1.0/1 [00:00<00:00, 20.31it/s]\n",
            "_libgcc_mutex-0.1    |    3 KB | : 100% 1.0/1 [00:00<00:00, 26.52it/s]\n",
            "krb5-1.16.4          |  1.4 MB | : 100% 1.0/1 [00:00<00:00,  3.44it/s]              \n",
            "grpc-cpp-1.23.0      |  4.5 MB | : 100% 1.0/1 [00:00<00:00,  1.00it/s]               \n",
            "fontconfig-2.13.1    |  340 KB | : 100% 1.0/1 [00:00<00:00,  7.58it/s]               \n",
            "python-dateutil-2.8. |  220 KB | : 100% 1.0/1 [00:00<00:00, 17.62it/s]\n",
            "hdf5-1.10.5          |  3.1 MB | : 100% 1.0/1 [00:00<00:00,  1.94it/s]               \n",
            "xorg-xextproto-7.3.0 |   27 KB | : 100% 1.0/1 [00:00<00:00, 18.36it/s]\n",
            "python-3.6.7         | 34.6 MB | : 100% 1.0/1 [00:05<00:00,  5.19s/it]               \n",
            "oauthlib-3.0.1       |   82 KB | : 100% 1.0/1 [00:00<00:00, 14.40it/s]\n",
            "libtiff-4.1.0        |  595 KB | : 100% 1.0/1 [00:00<00:00,  6.80it/s]               \n",
            "glib-2.58.3          |  3.3 MB | : 100% 1.0/1 [00:00<00:00,  1.28it/s]               \n",
            "libcugraph-0.12.0    | 18.9 MB | : 100% 1.0/1 [00:04<00:00,  4.79s/it]               \n",
            "gflags-2.2.2         |  175 KB | : 100% 1.0/1 [00:00<00:00, 10.59it/s]\n",
            "fsspec-0.6.2         |   46 KB | : 100% 1.0/1 [00:00<00:00, 16.99it/s]\n",
            "libprotobuf-3.8.0    |  4.7 MB | : 100% 1.0/1 [00:01<00:00,  1.01s/it]               \n",
            "xerces-c-3.2.2       |  1.7 MB | : 100% 1.0/1 [00:00<00:00,  1.80it/s]               \n",
            "libevent-2.1.10      |  1.3 MB | : 100% 1.0/1 [00:00<00:00,  2.52it/s]               \n",
            "freexl-1.0.5         |   43 KB | : 100% 1.0/1 [00:00<00:00, 25.81it/s]\n",
            "json-c-0.13.1        |   71 KB | : 100% 1.0/1 [00:00<00:00, 20.75it/s]\n",
            "xorg-renderproto-0.1 |    8 KB | : 100% 1.0/1 [00:00<00:00, 17.33it/s]\n",
            "thrift-cpp-0.12.0    |  2.4 MB | : 100% 1.0/1 [00:00<00:00,  2.11it/s]               \n",
            "c-ares-1.15.0        |  100 KB | : 100% 1.0/1 [00:00<00:00, 19.52it/s]\n",
            "openssl-1.1.1d       |  2.1 MB | : 100% 1.0/1 [00:00<00:00,  2.49it/s]               \n",
            "icu-64.2             | 12.6 MB | : 100% 1.0/1 [00:02<00:00,  2.06s/it]               \n",
            "libgfortran-ng-7.3.0 |  1.7 MB | : 100% 1.0/1 [00:00<00:00,  2.77it/s]               \n",
            "rmm-0.12.0           |  353 KB | : 100% 1.0/1 [00:01<00:00,  1.49s/it]               \n",
            "boost-cpp-1.70.0     | 21.1 MB | : 100% 1.0/1 [00:09<00:00,  9.37s/it]               \n",
            "_openmp_mutex-4.5    |    5 KB | : 100% 1.0/1 [00:00<00:00, 33.41it/s]\n",
            "cairo-1.16.0         |  1.5 MB | : 100% 1.0/1 [00:00<00:00,  2.71it/s]              \n",
            "jpeg-9c              |  251 KB | : 100% 1.0/1 [00:00<00:00, 12.22it/s]\n",
            "setuptools-45.2.0    |  653 KB | : 100% 1.0/1 [00:00<00:00,  4.34it/s]               \n",
            "libxml2-2.9.10       |  1.3 MB | : 100% 1.0/1 [00:00<00:00,  2.61it/s]               \n",
            "pycparser-2.19       |   88 KB | : 100% 1.0/1 [00:00<00:00, 16.56it/s]\n",
            "tzcode-2019a         |  429 KB | : 100% 1.0/1 [00:00<00:00,  2.72it/s]               \n",
            "msgpack-python-1.0.0 |   90 KB | : 100% 1.0/1 [00:00<00:00,  9.80it/s]\n",
            "pyparsing-2.4.6      |   59 KB | : 100% 1.0/1 [00:00<00:00, 16.85it/s]\n",
            "cryptography-2.8     |  616 KB | : 100% 1.0/1 [00:00<00:00,  4.65it/s]               \n",
            "libllvm8-8.0.1       | 23.2 MB | : 100% 1.0/1 [00:03<00:00,  3.94s/it]               \n",
            "cudatoolkit-10.0.130 | 380.0 MB | : 100% 1.0/1 [00:57<00:00, 57.57s/it]                \n",
            "idna-2.9             |   52 KB | : 100% 1.0/1 [00:00<00:00, 20.17it/s]\n",
            "freetype-2.10.0      |  884 KB | : 100% 1.0/1 [00:00<00:00,  5.27it/s]               \n",
            "libcumlprims-0.12    |  6.5 MB | : 100% 1.0/1 [00:03<00:00,  3.37s/it]               \n",
            "libgdal-2.4.4        | 18.7 MB | : 100% 1.0/1 [00:03<00:00,  3.52s/it]               \n",
            "ca-certificates-2019 |  145 KB | : 100% 1.0/1 [00:00<00:00, 18.65it/s]\n",
            "xorg-libxrender-0.9. |   31 KB | : 100% 1.0/1 [00:00<00:00, 27.46it/s]\n",
            "cfitsio-3.470        |  1.4 MB | : 100% 1.0/1 [00:00<00:00,  3.45it/s]               \n",
            "cloudpickle-1.3.0    |   24 KB | : 100% 1.0/1 [00:00<00:00, 26.96it/s]\n",
            "libuuid-2.32.1       |   26 KB | : 100% 1.0/1 [00:00<00:00, 29.79it/s]\n",
            "six-1.14.0           |   23 KB | : 100% 1.0/1 [00:00<00:00, 27.29it/s]\n",
            "click-7.0            |   61 KB | : 100% 1.0/1 [00:00<00:00,  9.55it/s]\n",
            "google-auth-1.11.2   |   47 KB | : 100% 1.0/1 [00:00<00:00, 15.80it/s]\n",
            "ucx-1.7.0+g9d06c3a   |  8.2 MB | : 100% 1.0/1 [00:03<00:00,  3.12s/it]               \n",
            "xorg-kbproto-1.0.7   |   26 KB | : 100% 1.0/1 [00:00<00:00, 16.53it/s]\n",
            "llvmlite-0.31.0      |  337 KB | : 100% 1.0/1 [00:00<00:00,  9.32it/s]\n",
            "libhwloc-2.1.0       |  2.7 MB | : 100% 1.0/1 [00:00<00:00,  2.16it/s]               \n",
            "parquet-cpp-1.5.1    |    3 KB | : 100% 1.0/1 [00:00<00:00, 20.85it/s]\n",
            "nvstrings-0.12.0     |  129 KB | : 100% 1.0/1 [00:00<00:00,  1.26it/s]               \n",
            "pyarrow-0.15.0       |  3.2 MB | : 100% 1.0/1 [00:00<00:00,  1.03it/s]               \n",
            "gettext-0.19.8.1     |  3.6 MB | : 100% 1.0/1 [00:01<00:00,  1.18s/it]               \n",
            "heapdict-1.0.1       |    7 KB | : 100% 1.0/1 [00:00<00:00, 25.66it/s]\n",
            "kealib-1.4.10        |  173 KB | : 100% 1.0/1 [00:00<00:00, 13.72it/s]\n",
            "pillow-7.0.0         |  647 KB | : 100% 1.0/1 [00:00<00:00,  4.59it/s]               \n",
            "pip-20.0.2           |  1.0 MB | : 100% 1.0/1 [00:00<00:00,  2.69it/s]               \n",
            "pytz-2019.3          |  237 KB | : 100% 1.0/1 [00:00<00:00,  4.40it/s]               \n",
            "libcblas-3.8.0       |   10 KB | : 100% 1.0/1 [00:00<00:00, 26.79it/s]\n",
            "google-auth-oauthlib |   18 KB | : 100% 1.0/1 [00:00<00:00, 28.22it/s]\n",
            "numpy-1.18.1         |  5.2 MB | : 100% 1.0/1 [00:01<00:00,  1.14s/it]              \n",
            "nccl-2.4.6.1         | 66.5 MB | : 100% 1.0/1 [00:11<00:00, 11.29s/it]               \n",
            "hdf4-4.2.13          |  964 KB | : 100% 1.0/1 [00:00<00:00,  4.33it/s]               \n",
            "xorg-xproto-7.0.31   |   72 KB | : 100% 1.0/1 [00:00<00:00, 19.19it/s]\n",
            "xorg-libxext-1.3.4   |   51 KB | : 100% 1.0/1 [00:00<00:00, 24.69it/s]\n",
            "xorg-libxau-1.0.9    |   13 KB | : 100% 1.0/1 [00:00<00:00, 30.76it/s]\n",
            "psutil-5.7.0         |  325 KB | : 100% 1.0/1 [00:00<00:00,  8.55it/s]\n",
            "double-conversion-3. |   85 KB | : 100% 1.0/1 [00:00<00:00, 17.94it/s]\n",
            "xgboost-0.90.rapidsd |   12 KB | : 100% 1.0/1 [00:01<00:00,  1.16s/it] \n",
            "distributed-2.11.0   |  986 KB | : 100% 1.0/1 [00:00<00:00,  3.16it/s]               \n",
            "bokeh-1.4.0          | 13.5 MB | : 100% 1.0/1 [00:03<00:00,  3.78s/it]               \n",
            "tblib-1.6.0          |   14 KB | : 100% 1.0/1 [00:00<00:00, 25.31it/s]\n",
            "arrow-cpp-0.15.0     | 18.1 MB | : 100% 1.0/1 [00:03<00:00,  3.13s/it]              \n",
            "pandas-0.25.3        | 11.4 MB | : 100% 1.0/1 [00:02<00:00,  2.70s/it]               \n",
            "proj-6.3.0           | 10.3 MB | : 100% 1.0/1 [00:01<00:00,  1.55s/it]               \n",
            "requests-oauthlib-1. |   19 KB | : 100% 1.0/1 [00:00<00:00, 26.59it/s]\n",
            "libspatialite-4.3.0a |  3.1 MB | : 100% 1.0/1 [00:00<00:00,  1.80it/s]               \n",
            "jinja2-2.11.1        |   94 KB | : 100% 1.0/1 [00:00<00:00, 14.06it/s]\n",
            "giflib-5.1.7         |  455 KB | : 100% 1.0/1 [00:00<00:00,  8.16it/s]              \n",
            "pyopenssl-19.1.0     |   47 KB | : 100% 1.0/1 [00:00<00:00, 19.66it/s]\n",
            "ucx-py-0.12.0+g9d06c |  270 KB | : 100% 1.0/1 [00:01<00:00,  1.04s/it]               \n",
            "tk-8.6.10            |  3.2 MB | : 100% 1.0/1 [00:00<00:00,  1.53it/s]             \n",
            "readline-8.0         |  441 KB | : 100% 1.0/1 [00:00<00:00,  8.64it/s]\n",
            "poppler-data-0.4.9   |  3.4 MB | : 100% 1.0/1 [00:00<00:00,  1.56it/s]               \n",
            "uriparser-0.9.3      |   49 KB | : 100% 1.0/1 [00:00<00:00,  5.41it/s]                \n",
            "xorg-libice-1.0.10   |   57 KB | : 100% 1.0/1 [00:00<00:00, 22.85it/s]\n",
            "dlpack-0.2           |   13 KB | : 100% 1.0/1 [00:00<00:00, 27.05it/s]\n",
            "pcre-8.44            |  261 KB | : 100% 1.0/1 [00:00<00:00, 12.12it/s]\n",
            "libgcc-ng-9.2.0      |  8.2 MB | : 100% 1.0/1 [00:01<00:00,  1.38s/it]               \n",
            "cupy-7.2.0           | 15.2 MB | : 100% 1.0/1 [00:03<00:00,  3.48s/it]               \n",
            "xorg-libsm-1.2.3     |   25 KB | : 100% 1.0/1 [00:00<00:00, 25.89it/s]\n",
            "cytoolz-0.10.1       |  431 KB | : 100% 1.0/1 [00:00<00:00,  5.38it/s]               \n",
            "expat-2.2.9          |  191 KB | : 100% 1.0/1 [00:00<00:00, 12.09it/s]\n",
            "xorg-libxdmcp-1.1.3  |   18 KB | : 100% 1.0/1 [00:00<00:00, 29.08it/s]\n",
            "brotli-1.0.7         |  1.0 MB | : 100% 1.0/1 [00:00<00:00,  5.29it/s]               \n",
            "librmm-0.12.0        |   53 KB | : 100% 1.0/1 [00:01<00:00,  1.21s/it]                \n",
            "decorator-4.4.1      |   11 KB | : 100% 1.0/1 [00:00<00:00, 20.83it/s]\n",
            "libopenblas-0.3.8    |  7.8 MB | : 100% 1.0/1 [00:01<00:00,  1.34s/it]              \n",
            "cachetools-3.1.1     |   11 KB | : 100% 1.0/1 [00:00<00:00, 31.12it/s]\n",
            "gcsfs-0.6.0          |   19 KB | : 100% 1.0/1 [00:00<00:00, 23.22it/s]\n",
            "libiconv-1.15        |  2.0 MB | : 100% 1.0/1 [00:00<00:00,  3.63it/s]               \n",
            "geos-3.8.0           |  1.0 MB | : 100% 1.0/1 [00:00<00:00,  2.50it/s]               \n",
            "blinker-1.4          |   13 KB | : 100% 1.0/1 [00:00<00:00, 23.26it/s]\n",
            "xz-5.2.4             |  366 KB | : 100% 1.0/1 [00:00<00:00,  8.49it/s]               \n",
            "pyasn1-0.4.8         |   53 KB | : 100% 1.0/1 [00:00<00:00, 16.65it/s]\n",
            "requests-2.23.0      |   85 KB | : 100% 1.0/1 [00:00<00:00, 18.55it/s]\n",
            "postgresql-12.2      |  5.0 MB | : 100% 1.0/1 [00:00<00:00,  1.14it/s]               \n",
            "partd-1.1.0          |   17 KB | : 100% 1.0/1 [00:00<00:00, 18.62it/s]\n",
            "cuspatial-0.12.0     |  574 KB | : 100% 1.0/1 [00:00<00:00,  1.39it/s]               \n",
            "libnetcdf-4.7.3      |  1.3 MB | : 100% 1.0/1 [00:00<00:00,  3.14it/s]               \n",
            "gdal-2.4.4           |  1.4 MB | : 100% 1.0/1 [00:00<00:00,  3.62it/s]               \n",
            "yaml-0.2.2           |   82 KB | : 100% 1.0/1 [00:00<00:00, 21.33it/s]\n",
            "olefile-0.46         |   31 KB | : 100% 1.0/1 [00:00<00:00, 26.41it/s]\n",
            "scipy-1.4.1          | 18.9 MB | : 100% 1.0/1 [00:03<00:00,  3.37s/it]               \n",
            "geotiff-1.5.1        |  279 KB | : 100% 1.0/1 [00:00<00:00,  9.98it/s]\n",
            "pysocks-1.7.1        |   27 KB | : 100% 1.0/1 [00:00<00:00, 26.02it/s]\n",
            "chardet-3.0.4        |  190 KB | : 100% 1.0/1 [00:00<00:00, 10.85it/s]\n",
            "poppler-0.67.0       |  8.9 MB | : 100% 1.0/1 [00:01<00:00,  1.49s/it]               \n",
            "cffi-1.13.2          |  220 KB | : 100% 1.0/1 [00:00<00:00, 13.64it/s]\n",
            "bzip2-1.0.8          |  396 KB | : 100% 1.0/1 [00:00<00:00, 10.22it/s]\n",
            "libcurl-7.68.0       |  564 KB | : 100% 1.0/1 [00:00<00:00,  7.30it/s]               \n",
            "liblapack-3.8.0      |   10 KB | : 100% 1.0/1 [00:00<00:00, 32.22it/s]\n",
            "libblas-3.8.0        |   10 KB | : 100% 1.0/1 [00:00<00:00, 34.60it/s]\n",
            "dask-2.11.0          |    4 KB | : 100% 1.0/1 [00:00<00:00, 37.04it/s]\n",
            "libpng-1.6.37        |  343 KB | : 100% 1.0/1 [00:00<00:00, 10.62it/s]\n",
            "libffi-3.2.1         |   46 KB | : 100% 1.0/1 [00:00<00:00, 27.55it/s]\n",
            "glog-0.4.0           |  104 KB | : 100% 1.0/1 [00:00<00:00, 18.66it/s]\n",
            "markupsafe-1.1.1     |   26 KB | : 100% 1.0/1 [00:00<00:00, 30.82it/s]\n",
            "sqlite-3.30.1        |  2.0 MB | : 100% 1.0/1 [00:00<00:00,  3.14it/s]               \n",
            "libnvstrings-0.12.0  | 30.1 MB | : 100% 1.0/1 [00:08<00:00,  8.30s/it]               \n",
            "libedit-3.1.20170329 |  172 KB | : 100% 1.0/1 [00:00<00:00, 13.02it/s]\n",
            "lz4-c-1.8.3          |  187 KB | : 100% 1.0/1 [00:00<00:00, 12.34it/s]\n",
            "numba-0.48.0         |  3.4 MB | : 100% 1.0/1 [00:00<00:00,  1.01it/s]               \n",
            "pixman-0.38.0        |  594 KB | : 100% 1.0/1 [00:00<00:00,  8.65it/s]               \n",
            "libcuspatial-0.12.0  |  1.6 MB | : 100% 1.0/1 [00:01<00:00,  1.84s/it]               \n",
            "certifi-2019.11.28   |  149 KB | : 100% 1.0/1 [00:00<00:00, 15.65it/s]\n",
            "libxcb-1.13          |  396 KB | : 100% 1.0/1 [00:00<00:00,  6.60it/s]              \n",
            "libkml-1.3.0         |  643 KB | : 100% 1.0/1 [00:00<00:00,  4.96it/s]               \n",
            "re2-2020.01.01       |  422 KB | : 100% 1.0/1 [00:00<00:00,  6.11it/s]               \n",
            "libpq-12.2           |  2.6 MB | : 100% 1.0/1 [00:00<00:00,  1.26it/s]               \n",
            "zstd-1.4.3           |  935 KB | : 100% 1.0/1 [00:00<00:00,  5.99it/s]               \n",
            "rsa-4.0              |   27 KB | : 100% 1.0/1 [00:00<00:00, 19.07it/s]\n",
            "libcudf-0.12.0       | 119.2 MB | : 100% 1.0/1 [00:29<00:00, 29.04s/it]               \n",
            "locket-0.2.0         |    6 KB | : 100% 1.0/1 [00:00<00:00, 29.93it/s]\n",
            "py-xgboost-0.90.rapi |   87 KB | : 100% 1.0/1 [00:01<00:00,  1.31s/it]              \n",
            "cuml-0.12.0          |  9.1 MB | : 100% 1.0/1 [00:02<00:00,  2.32s/it]               \n",
            "pyyaml-5.3           |  185 KB | : 100% 1.0/1 [00:00<00:00, 14.76it/s]\n",
            "joblib-0.14.1        |  198 KB | : 100% 1.0/1 [00:00<00:00,  9.29it/s]\n",
            "libcuml-0.12.0       | 51.8 MB | : 100% 1.0/1 [00:11<00:00, 11.66s/it]              \n",
            "curl-7.68.0          |  137 KB | : 100% 1.0/1 [00:00<00:00, 20.10it/s]\n",
            "snappy-1.1.8         |   39 KB | : 100% 1.0/1 [00:00<00:00, 23.65it/s]\n",
            "dask-core-2.11.0     |  592 KB | : 100% 1.0/1 [00:00<00:00,  4.07it/s]               \n",
            "urllib3-1.25.7       |  160 KB | : 100% 1.0/1 [00:00<00:00,  7.70it/s]\n",
            "wheel-0.34.2         |   24 KB | : 100% 1.0/1 [00:00<00:00, 21.98it/s]\n",
            "sortedcontainers-2.1 |   25 KB | : 100% 1.0/1 [00:00<00:00, 27.12it/s]\n",
            "fastrlock-0.4        |   32 KB | : 100% 1.0/1 [00:00<00:00, 19.50it/s]\n",
            "cudnn-7.6.0          | 216.6 MB | : 100% 1.0/1 [00:34<00:00, 34.09s/it]               \n",
            "llvm-openmp-9.0.1    |  782 KB | : 100% 1.0/1 [00:00<00:00,  6.52it/s]               \n",
            "pthread-stubs-0.4    |    5 KB | : 100% 1.0/1 [00:00<00:00, 24.58it/s]\n",
            "pyasn1-modules-0.2.7 |   60 KB | : 100% 1.0/1 [00:00<00:00, 15.30it/s]\n",
            "dask-cudf-0.12.0     |   70 KB | : 100% 1.0/1 [00:01<00:00,  4.66s/it]               \n",
            "Preparing transaction: \\ \b\b| \b\b/ \b\b- \b\b\\ \b\b| \b\b/ \b\b- \b\b\\ \b\b| \b\b/ \b\b- \b\b\\ \b\b| \b\b/ \b\b- \b\b\\ \b\b| \b\b/ \b\b- \b\b\\ \b\b| \b\b/ \b\b- \b\b\\ \b\bdone\n",
            "Verifying transaction: / \b\b- \b\b\\ \b\b| \b\b/ \b\b- \b\b\\ \b\b| \b\b/ \b\b- \b\b\\ \b\b| \b\b/ \b\b- \b\b\\ \b\b| \b\b/ \b\b- \b\b\\ \b\b| \b\b/ \b\b- \b\b\\ \b\b| \b\b/ \b\b- \b\b\\ \b\b| \b\b/ \b\b- \b\b\\ \b\b| \b\b/ \b\b- \b\b\\ \b\b| \b\b/ \b\b- \b\b\\ \b\b| \b\b/ \b\b- \b\b\\ \b\b| \b\b/ \b\b- \b\b\\ \b\b| \b\b/ \b\b- \b\b\\ \b\b| \b\b/ \b\b- \b\b\\ \b\b| \b\b/ \b\b- \b\b\\ \b\b| \b\b/ \b\b- \b\b\\ \b\b| \b\b/ \b\b- \b\b\\ \b\b| \b\b/ \b\b- \b\b\\ \b\b| \b\b/ \b\b- \b\b\\ \b\b| \b\b/ \b\b- \b\b\\ \b\b| \b\b/ \b\b- \b\b\\ \b\b| \b\b/ \b\b- \b\b\\ \b\b| \b\b/ \b\b- \b\b\\ \b\b| \b\b/ \b\b- \b\b\\ \b\b| \b\b/ \b\b- \b\b\\ \b\b| \b\b/ \b\b- \b\b\\ \b\b| \b\b/ \b\b- \b\b\\ \b\b| \b\b/ \b\b- \b\b\\ \b\b| \b\b/ \b\b- \b\b\\ \b\b| \b\b/ \b\b- \b\b\\ \b\b| \b\b/ \b\b- \b\b\\ \b\b| \b\b/ \b\b- \b\b\\ \b\b| \b\b/ \b\b- \b\b\\ \b\b| \b\b/ \b\b- \b\b\\ \b\b| \b\b/ \b\b- \b\b\\ \b\b| \b\b/ \b\b- \b\b\\ \b\b| \b\b/ \b\b- \b\b\\ \b\b| \b\b/ \b\b- \b\b\\ \b\b| \b\b/ \b\b- \b\b\\ \b\b| \b\b/ \b\b- \b\b\\ \b\b| \b\b/ \b\b- \b\b\\ \b\b| \b\b/ \b\b- \b\b\\ \b\b| \b\b/ \b\b- \b\b\\ \b\b| \b\b/ \b\b- \b\b\\ \b\b| \b\b/ \b\b- \b\b\\ \b\b| \b\b/ \b\b- \b\b\\ \b\b| \b\b/ \b\b- \b\b\\ \b\b| \b\b/ \b\b- \b\b\\ \b\b| \b\b/ \b\b- \b\b\\ \b\b| \b\b/ \b\b- \b\b\\ \b\b| \b\b/ \b\b- \b\b\\ \b\b| \b\b/ \b\b- \b\b\\ \b\b| \b\b/ \b\b- \b\b\\ \b\b| \b\b/ \b\b- \b\b\\ \b\b| \b\b/ \b\b- \b\b\\ \b\b| \b\b/ \b\b- \b\b\\ \b\b| \b\b/ \b\b- \b\b\\ \b\b| \b\b/ \b\b- \b\b\\ \b\b| \b\b/ \b\b- \b\b\\ \b\b| \b\b/ \b\b- \b\b\\ \b\b| \b\b/ \b\b- \b\b\\ \b\b| \b\b/ \b\b- \b\b\\ \b\b| \b\b/ \b\b- \b\b\\ \b\b| \b\b/ \b\b- \b\b\\ \b\b| \b\b/ \b\b- \b\b\\ \b\b| \b\b/ \b\b- \b\b\\ \b\b| \b\b/ \b\b- \b\b\\ \b\b| \b\b/ \b\b- \b\b\\ \b\b| \b\b/ \b\b- \b\b\\ \b\b| \b\b/ \b\b- \b\b\\ \b\b| \b\b/ \b\b- \b\b\\ \b\b| \b\b/ \b\b- \b\b\\ \b\b| \b\b/ \b\b- \b\b\\ \b\b| \b\b/ \b\b- \b\b\\ \b\b| \b\b/ \b\b- \b\b\\ \b\b| \b\b/ \b\b- \b\b\\ \b\b| \b\b/ \b\b- \b\b\\ \b\b| \b\b/ \b\b- \b\b\\ \b\b| \b\b/ \b\b- \b\b\\ \b\b| \b\b/ \b\b- \b\b\\ \b\b| \b\b/ \b\b- \b\b\\ \b\b| \b\b/ \b\b- \b\b\\ \b\b| \b\b/ \b\b- \b\b\\ \b\b| \b\b/ \b\b- \b\b\\ \b\b| \b\b/ \b\b- \b\b\\ \b\b| \b\b/ \b\b- \b\b\\ \b\b| \b\b/ \b\b- \b\b\\ \b\b| \b\b/ \b\b- \b\b\\ \b\b| \b\b/ \b\b- \b\b\\ \b\b| \b\b/ \b\b- \b\b\\ \b\b| \b\b/ \b\b- \b\b\\ \b\b| \b\b/ \b\b- \b\b\\ \b\b| \b\b/ \b\b- \b\b\\ \b\b| \b\b/ \b\b- \b\b\\ \b\b| \b\b/ \b\b- \b\b\\ \b\b| \b\b/ \b\b- \b\b\\ \b\b| \b\b/ \b\b- \b\b\\ \b\b| \b\b/ \b\b- \b\b\\ \b\b| \b\b/ \b\b- \b\b\\ \b\b| \b\b/ \b\b- \b\b\\ \b\b| \b\b/ \b\b- \b\b\\ \b\b| \b\b/ \b\b- \b\b\\ \b\b| \b\b/ \b\b- \b\b\\ \b\b| \b\b/ \b\b- \b\b\\ \b\b| \b\b/ \b\b- \b\b\\ \b\b| \b\b/ \b\b- \b\b\\ \b\b| \b\b/ \b\b- \b\b\\ \b\b| \b\b/ \b\b- \b\b\\ \b\b| \b\b/ \b\b- \b\b\\ \b\b| \b\b/ \b\b- \b\b\\ \b\b| \b\b/ \b\b- \b\b\\ \b\b| \b\b/ \b\b- \b\b\\ \b\b| \b\b/ \b\b- \b\b\\ \b\b| \b\b/ \b\b- \b\b\\ \b\b| \b\b/ \b\b- \b\b\\ \b\b| \b\b/ \b\b- \b\b\\ \b\b| \b\b/ \b\b- \b\b\\ \b\b| \b\b/ \b\b- \b\b\\ \b\b| \b\b/ \b\b- \b\b\\ \b\b| \b\b/ \b\b- \b\b\\ \b\b| \b\b/ \b\b- \b\b\\ \b\b| \b\b/ \b\b- \b\b\\ \b\b| \b\b/ \b\b- \b\b\\ \b\b| \b\b/ \b\b- \b\b\\ \b\b| \b\b/ \b\b- \b\b\\ \b\b| \b\b/ \b\b- \b\b\\ \b\b| \b\b/ \b\b- \b\b\\ \b\b| \b\b/ \b\b- \b\b\\ \b\b| \b\b/ \b\b- \b\b\\ \b\b| \b\b/ \b\b- \b\b\\ \b\b| \b\b/ \b\b- \b\b\\ \b\b| \b\b/ \b\b- \b\b\\ \b\b| \b\b/ \b\b- \b\b\\ \b\b| \b\b/ \b\b- \b\b\\ \b\b| \b\b/ \b\b- \b\b\\ \b\b| \b\b/ \b\b- \b\b\\ \b\b| \b\b/ \b\b- \b\b\\ \b\b| \b\b/ \b\b- \b\b\\ \b\b| \b\b/ \b\b- \b\b\\ \b\b| \b\b/ \b\b- \b\b\\ \b\b| \b\b/ \b\b- \b\b\\ \b\b| \b\b/ \b\b- \b\b\\ \b\b| \b\b/ \b\b- \b\b\\ \b\b| \b\b/ \b\b- \b\b\\ \b\b| \b\b/ \b\b- \b\b\\ \b\b| \b\b/ \b\b- \b\b\\ \b\b| \b\b/ \b\b- \b\b\\ \b\b| \b\b/ \b\b- \b\b\\ \b\b| \b\b/ \b\b- \b\b\\ \b\b| \b\b/ \b\b- \b\b\\ \b\b| \b\b/ \b\b- \b\b\\ \b\b| \b\b/ \b\b- \b\b\\ \b\b| \b\b/ \b\b- \b\b\\ \b\b| \b\b/ \b\b- \b\b\\ \b\b| \b\b/ \b\b- \b\b\\ \b\b| \b\b/ \b\b- \b\b\\ \b\b| \b\b/ \b\b- \b\b\\ \b\b| \b\b/ \b\b- \b\b\\ \b\b| \b\b/ \b\b- \b\bdone\n",
            "Executing transaction: | \b\b/ \b\b- \b\b\\ \b\b| \b\b/ \b\b- \b\b\\ \b\b| \b\b/ \b\b- \b\b\\ \b\b| \b\b/ \b\b- \b\b\\ \b\b| \b\b/ \b\b- \b\b\\ \b\b| \b\b/ \b\b- \b\b\\ \b\b| \b\b/ \b\b- \b\b\\ \b\b| \b\b/ \b\b- \b\b\\ \b\b| \b\b/ \b\b- \b\b\\ \b\b| \b\b/ \b\b- \b\b\\ \b\b| \b\b/ \b\b- \b\b\\ \b\b| \b\b/ \b\b- \b\b\\ \b\b| \b\b/ \b\b- \b\b\\ \b\b| \b\b/ \b\b- \b\b\\ \b\b| \b\b/ \b\b- \b\b\\ \b\b| \b\b/ \b\b- \b\b\\ \b\b| \b\b/ \b\b- \b\b\\ \b\b| \b\b/ \b\b- \b\b\\ \b\b| \b\b/ \b\b- \b\b\\ \b\b| \b\b/ \b\b- \b\b\\ \b\b| \b\b/ \b\b- \b\b\\ \b\b| \b\b/ \b\b- \b\b\\ \b\b| \b\b/ \b\b- \b\b\\ \b\b| \b\b/ \b\b- \b\b\\ \b\b| \b\b/ \b\b- \b\b\\ \b\b| \b\b/ \b\b- \b\b\\ \b\b| \b\b/ \b\b- \b\b\\ \b\b| \b\b/ \b\b- \b\b\\ \b\b| \b\b/ \b\b- \b\b\\ \b\b| \b\b/ \b\b- \b\b\\ \b\b| \b\b/ \b\b- \b\b\\ \b\b| \b\b/ \b\b- \b\b\\ \b\b| \b\b/ \b\b- \b\b\\ \b\b| \b\b/ \b\b- \b\b\\ \b\b| \b\b/ \b\b- \b\b\\ \b\b| \b\b/ \b\b- \b\b\\ \b\b| \b\b/ \b\b- \b\b\\ \b\b| \b\b/ \b\b- \b\b\\ \b\b| \b\b/ \b\b- \b\b\\ \b\b| \b\b/ \b\b- \b\b\\ \b\b| \b\b/ \b\b- \b\b\\ \b\b| \b\b/ \b\b- \b\b\\ \b\b| \b\b/ \b\b- \b\b\\ \b\b| \b\b/ \b\b- \b\b\\ \b\b| \b\b/ \b\b- \b\b\\ \b\b| \b\b/ \b\b- \b\b\\ \b\b| \b\b/ \b\b- \b\b\\ \b\b| \b\b/ \b\b- \b\b\\ \b\b| \b\b/ \b\b- \b\b\\ \b\b| \b\b/ \b\b- \b\b\\ \b\b| \b\b/ \b\b- \b\b\\ \b\b| \b\b/ \b\b- \b\b\\ \b\b| \b\b/ \b\b- \b\b\\ \b\b| \b\b/ \b\b- \b\b\\ \b\b| \b\b/ \b\b- \b\b\\ \b\b| \b\b/ \b\b- \b\b\\ \b\b| \b\b/ \b\b- \b\b\\ \b\b| \b\b/ \b\b- \b\b\\ \b\b| \b\b/ \b\b- \b\b\\ \b\b| \b\b/ \b\b- \b\b\\ \b\b| \b\b/ \b\b- \b\b\\ \b\b| \b\b/ \b\b- \b\b\\ \b\b| \b\b/ \b\b- \b\b\\ \b\b| \b\b/ \b\b- \b\b\\ \b\b| \b\b/ \b\b- \b\b\\ \b\b| \b\b/ \b\b- \b\b\\ \b\b| \b\b/ \b\b- \b\b\\ \b\b| \b\b/ \b\b- \b\b\\ \b\b| \b\b/ \b\b- \b\b\\ \b\b| \b\b/ \b\b- \b\b\\ \b\b| \b\b/ \b\b- \b\b\\ \b\b| \b\b/ \b\b- \b\b\\ \b\b| \b\b/ \b\b- \b\b\\ \b\b| \b\b/ \b\b- \b\b\\ \b\b| \b\b/ \b\b- \b\b\\ \b\b| \b\b/ \b\b- \b\b\\ \b\b| \b\b/ \b\b- \b\b\\ \b\b| \b\b/ \b\b- \b\b\\ \b\b| \b\b/ \b\b- \b\b\\ \b\b| \b\b/ \b\b- \b\b\\ \b\b| \b\b/ \b\b- \b\b\\ \b\b| \b\b/ \b\b- \b\b\\ \b\b| \b\b/ \b\b- \b\b\\ \b\b| \b\b/ \b\b- \b\b\\ \b\b| \b\b/ \b\b- \b\b\\ \b\b| \b\b/ \b\b- \b\b\\ \b\b| \b\b/ \b\b- \b\b\\ \b\b| \b\b/ \b\b- \b\b\\ \b\b| \b\b/ \b\b- \b\b\\ \b\b| \b\b/ \b\b- \b\b\\ \b\b| \b\b/ \b\b- \b\b\\ \b\b| \b\b/ \b\b- \b\b\\ \b\b| \b\b/ \b\b- \b\b\\ \b\b| \b\b/ \b\b- \b\b\\ \b\b| \b\b/ \b\b- \b\b\\ \b\b| \b\b/ \b\b- \b\b\\ \b\b| \b\b/ \b\b- \b\b\\ \b\b| \b\b/ \b\b- \b\b\\ \b\b| \b\b/ \b\b- \b\b\\ \b\b| \b\b/ \b\b- \b\b\\ \b\b| \b\b/ \b\b- \b\b\\ \b\b| \b\b/ \b\b- \b\b\\ \b\b| \b\b/ \b\b- \b\b\\ \b\b| \b\b/ \b\b- \b\b\\ \b\b| \b\b/ \b\b- \b\b\\ \b\b| \b\b/ \b\b- \b\b\\ \b\b| \b\b/ \b\b- \b\b\\ \b\b| \b\b/ \b\b- \b\b\\ \b\b| \b\b/ \b\b- \b\b\\ \b\b| \b\b/ \b\b- \b\b\\ \b\b| \b\b/ \b\b- \b\b\\ \b\b| \b\b/ \b\b- \b\b\\ \b\b| \b\b/ \b\b- \b\b\\ \b\b| \b\b/ \b\b- \b\b\\ \b\b| \b\b/ \b\b- \b\b\\ \b\b| \b\b/ \b\b- \b\b\\ \b\b| \b\b/ \b\b- \b\b\\ \b\b| \b\b/ \b\b- \b\b\\ \b\b| \b\b/ \b\b- \b\b\\ \b\b| \b\b/ \b\b- \b\b\\ \b\b| \b\b/ \b\b- \b\b\\ \b\b| \b\b/ \b\b- \b\b\\ \b\b| \b\b/ \b\b- \b\b\\ \b\b| \b\b/ \b\b- \b\b\\ \b\b| \b\b/ \b\b- \b\b\\ \b\b| \b\b/ \b\b- \b\b\\ \b\b| \b\b/ \b\b- \b\b\\ \b\b| \b\b/ \b\b- \b\b\\ \b\b| \b\b/ \b\b- \b\b\\ \b\b| \b\b/ \b\b- \b\b\\ \b\b| \b\b/ \b\b- \b\b\\ \b\b| \b\b/ \b\b- \b\b\\ \b\b| \b\b/ \b\b- \b\b\\ \b\b| \b\b/ \b\b- \b\b\\ \b\b| \b\b/ \b\b- \b\b\\ \b\b| \b\b/ \b\b- \b\b\\ \b\b| \b\b/ \b\b- \b\b\\ \b\b| \b\b/ \b\b- \b\b\\ \b\b| \b\b/ \b\b- \b\b\\ \b\b| \b\b/ \b\b- \b\b\\ \b\b| \b\b/ \b\b- \b\b\\ \b\b| \b\b/ \b\b- \b\b\\ \b\b| \b\b/ \b\b- \b\b\\ \b\b| \b\b/ \b\b- \b\b\\ \b\b| \b\b/ \b\b- \b\b\\ \b\b| \b\b/ \b\b- \b\b\\ \b\b| \b\b/ \b\b- \b\b\\ \b\b| \b\b/ \b\b- \b\b\\ \b\b| \b\b/ \b\b- \b\b\\ \b\b| \b\b/ \b\b- \b\b\\ \b\b| \b\b/ \b\b- \b\b\\ \b\b| \b\b/ \b\b- \b\b\\ \b\b| \b\b/ \b\b- \b\b\\ \b\b| \b\b/ \b\b- \b\b\\ \b\b| \b\b/ \b\b- \b\b\\ \b\b| \b\b/ \b\b- \b\b\\ \b\b| \b\b/ \b\b- \b\b\\ \b\b| \b\b/ \b\b- \b\b\\ \b\b| \b\b/ \b\b- \b\b\\ \b\b| \b\b/ \b\b- \b\b\\ \b\b| \b\b/ \b\b- \b\b\\ \b\b| \b\b/ \b\b- \b\b\\ \b\b| \b\b/ \b\b- \b\b\\ \b\b| \b\b/ \b\b- \b\b\\ \b\b| \b\b/ \b\b- \b\b\\ \b\b| \b\b/ \b\b- \b\b\\ \b\b| \b\b/ \b\b- \b\b\\ \b\b| \b\b/ \b\b- \b\b\\ \b\b| \b\b/ \b\b- \b\b\\ \b\b| \b\b/ \b\b- \b\b\\ \b\b| \b\b/ \b\b- \b\b\\ \b\b| \b\b/ \b\b- \b\b\\ \b\b| \b\b/ \b\b- \b\b\\ \b\b| \b\b/ \b\b- \b\b\\ \b\b| \b\b/ \b\b- \b\b\\ \b\b| \b\b/ \b\b- \b\b\\ \b\b| \b\b/ \b\b- \b\b\\ \b\b| \b\b/ \b\b- \b\b\\ \b\b| \b\b/ \b\b- \b\b\\ \b\b| \b\b/ \b\b- \b\b\\ \b\b| \b\b/ \b\b- \b\b\\ \b\b| \b\b/ \b\b- \b\b\\ \b\b| \b\b/ \b\b- \b\b\\ \b\b| \b\b/ \b\b- \b\b\\ \b\b| \b\b/ \b\b- \b\b\\ \b\b| \b\b/ \b\b- \b\b\\ \b\b| \b\b/ \b\b- \b\b\\ \b\b| \b\b/ \b\b- \b\b\\ \b\b| \b\b/ \b\b- \b\b\\ \b\b| \b\b/ \b\b- \b\b\\ \b\b| \b\b/ \b\b- \b\b\\ \b\b| \b\b/ \b\b- \b\b\\ \b\b| \b\b/ \b\b- \b\b\\ \b\b| \b\b/ \b\b- \b\b\\ \b\b| \b\b/ \b\b- \b\b\\ \b\b| \b\b/ \b\b- \b\b\\ \b\b| \b\b/ \b\b- \b\b\\ \b\b| \b\b/ \b\b- \b\b\\ \b\b| \b\b/ \b\b- \b\b\\ \b\b| \b\b/ \b\b- \b\b\\ \b\b| \b\b/ \b\b- \b\b\\ \b\b| \b\b/ \b\b- \b\b\\ \b\b| \b\b/ \b\b- \b\b\\ \b\b| \b\b/ \b\b- \b\b\\ \b\b| \b\b/ \b\b- \b\b\\ \b\b| \b\b/ \b\b- \b\b\\ \b\b| \b\b/ \b\b- \b\b\\ \b\b| \b\b/ \b\b- \b\b\\ \b\b| \b\b/ \b\b- \b\b\\ \b\b| \b\b/ \b\b- \b\b\\ \b\b| \b\b/ \b\b- \b\b\\ \b\b| \b\b/ \b\b- \b\b\\ \b\b| \b\b/ \b\b- \b\b\\ \b\b| \b\b/ \b\b- \b\b\\ \b\b| \b\b/ \b\b- \b\b\\ \b\b| \b\b/ \b\b- \b\b\\ \b\b| \b\b/ \b\b- \b\b\\ \b\b| \b\b/ \b\b- \b\b\\ \b\b| \b\b/ \b\b- \b\b\\ \b\b| \b\b/ \b\b- \b\b\\ \b\b| \b\b/ \b\b- \b\b\\ \b\b| \b\b/ \b\b- \b\b\\ \b\b| \b\b/ \b\b- \b\b\\ \b\b| \b\b/ \b\b- \b\b\\ \b\b| \b\b/ \b\b- \b\b\\ \b\b| \b\b/ \b\b- \b\b\\ \b\b| \b\b/ \b\b- \b\b\\ \b\b| \b\b/ \b\b- \b\b\\ \b\b| \b\b/ \b\b- \b\b\\ \b\b| \b\b/ \b\b- \b\b\\ \b\b| \b\b/ \b\b- \b\b\\ \b\b| \b\b/ \b\b- \b\b\\ \b\b| \b\b/ \b\b- \b\b\\ \b\b| \b\b/ \b\b- \b\b\\ \b\b| \b\b/ \b\b- \b\b\\ \b\b| \b\b/ \b\b- \b\b\\ \b\b| \b\b/ \b\b- \b\b\\ \b\b| \b\b/ \b\b- \b\b\\ \b\b| \b\b/ \b\b- \b\b\\ \b\b| \b\b/ \b\b- \b\b\\ \b\b| \b\b/ \b\b- \b\b\\ \b\b| \b\b/ \b\b- \b\b\\ \b\b| \b\b/ \b\b- \b\b\\ \b\b| \b\b/ \b\b- \b\b\\ \b\b| \b\b/ \b\b- \b\b\\ \b\b| \b\b/ \b\b- \b\b\\ \b\b| \b\b/ \b\b- \b\b\\ \b\b| \b\b/ \b\b- \b\b\\ \b\b| \b\b/ \b\b- \b\b\\ \b\b| \b\b/ \b\b- \b\b\\ \b\b| \b\b/ \b\b- \b\b\\ \b\b| \b\b/ \b\b- \b\b\\ \b\b| \b\b/ \b\b- \b\b\\ \b\b| \b\b/ \b\b- \b\b\\ \b\b| \b\b/ \b\b- \b\b\\ \b\b| \b\b/ \b\b- \b\b\\ \b\b| \b\b/ \b\b- \b\b\\ \b\b| \b\b/ \b\b- \b\b\\ \b\b| \b\b/ \b\b- \b\b\\ \b\b| \b\bdone\n",
            "Copying shared object files to /usr/lib\n",
            "\n",
            "************************************************\n",
            "Your Google Colab instance has RAPIDS installed!\n",
            "************************************************\n",
            "***********************************************************************\n",
            "Let us check on those pyarrow and cffi versions...\n",
            "***********************************************************************\n",
            "\n",
            "unloaded pyarrow 0.14.1\n",
            "unloaded pyarrow 0.14.1\n",
            "unloaded pyarrow 0.14.1\n",
            "unloaded pyarrow 0.14.1\n",
            "unloaded pyarrow 0.14.1\n",
            "unloaded pyarrow 0.14.1\n",
            "unloaded pyarrow 0.14.1\n",
            "unloaded pyarrow 0.14.1\n",
            "unloaded pyarrow 0.14.1\n",
            "unloaded pyarrow 0.14.1\n",
            "unloaded pyarrow 0.14.1\n",
            "unloaded pyarrow 0.14.1\n",
            "loaded pyarrow 0.15.0\n",
            "You're now running pyarrow 0.15.0 and are good to go!\n",
            "unloaded cffi 1.14.0\n",
            "loaded cffi 1.13.2\n"
          ],
          "name": "stdout"
        }
      ]
    },
    {
      "cell_type": "code",
      "metadata": {
        "id": "GNGaP5qfd4Lu",
        "colab_type": "code",
        "colab": {}
      },
      "source": [
        "import cudf"
      ],
      "execution_count": 0,
      "outputs": []
    },
    {
      "cell_type": "code",
      "metadata": {
        "id": "rPyAjGAOnJxv",
        "colab_type": "code",
        "outputId": "112090f7-8efb-4f73-ab75-778be24499ff",
        "colab": {
          "base_uri": "https://localhost:8080/",
          "height": 141
        }
      },
      "source": [
        "!pip install xgboost"
      ],
      "execution_count": 0,
      "outputs": [
        {
          "output_type": "stream",
          "text": [
            "Collecting xgboost\n",
            "  Downloading xgboost-1.0.1-py3-none-manylinux1_x86_64.whl (109.7 MB)\n",
            "\u001b[K     |████████████████████████████████| 109.7 MB 10 kB/s \n",
            "\u001b[?25hRequirement already satisfied: scipy in /usr/local/lib/python3.6/site-packages (from xgboost) (1.4.1)\n",
            "Requirement already satisfied: numpy in /usr/local/lib/python3.6/site-packages (from xgboost) (1.18.1)\n",
            "Installing collected packages: xgboost\n",
            "Successfully installed xgboost-1.0.1\n"
          ],
          "name": "stdout"
        }
      ]
    },
    {
      "cell_type": "code",
      "metadata": {
        "id": "Tywc5VLlif_p",
        "colab_type": "code",
        "outputId": "cf777445-fb74-4347-bf4f-786bf8f869d7",
        "colab": {
          "base_uri": "https://localhost:8080/",
          "height": 34
        }
      },
      "source": [
        "import xgboost as xgb\n",
        "xgb.__version__"
      ],
      "execution_count": 0,
      "outputs": [
        {
          "output_type": "execute_result",
          "data": {
            "text/plain": [
              "'1.0.1'"
            ]
          },
          "metadata": {
            "tags": []
          },
          "execution_count": 5
        }
      ]
    },
    {
      "cell_type": "code",
      "metadata": {
        "id": "5CYBdiMVnauV",
        "colab_type": "code",
        "colab": {}
      },
      "source": [
        "from __future__ import print_function\n",
        "import sys,tempfile, urllib, os\n",
        "import pandas as pd\n",
        "from sklearn.model_selection import train_test_split\n",
        "import numpy as np"
      ],
      "execution_count": 0,
      "outputs": []
    },
    {
      "cell_type": "code",
      "metadata": {
        "id": "krRGOK-sn3RK",
        "colab_type": "code",
        "colab": {}
      },
      "source": [
        "from sklearn.datasets import fetch_openml\n",
        "covtyp = fetch_openml(name='covertype', version=4)"
      ],
      "execution_count": 0,
      "outputs": []
    },
    {
      "cell_type": "code",
      "metadata": {
        "id": "qTm-_G-4oCgt",
        "colab_type": "code",
        "outputId": "2d979752-3ee8-4f7d-9379-93d9dd9066e1",
        "colab": {
          "base_uri": "https://localhost:8080/",
          "height": 34
        }
      },
      "source": [
        "covtyp.data.shape"
      ],
      "execution_count": 0,
      "outputs": [
        {
          "output_type": "execute_result",
          "data": {
            "text/plain": [
              "(581012, 54)"
            ]
          },
          "metadata": {
            "tags": []
          },
          "execution_count": 8
        }
      ]
    },
    {
      "cell_type": "code",
      "metadata": {
        "id": "GKxB7mRYoHu0",
        "colab_type": "code",
        "outputId": "ca2be79e-28ef-49fa-d151-52aa6c161a33",
        "colab": {
          "base_uri": "https://localhost:8080/",
          "height": 34
        }
      },
      "source": [
        "np.unique(covtyp.target)"
      ],
      "execution_count": 0,
      "outputs": [
        {
          "output_type": "execute_result",
          "data": {
            "text/plain": [
              "array(['1', '2', '3', '4', '5', '6', '7'], dtype=object)"
            ]
          },
          "metadata": {
            "tags": []
          },
          "execution_count": 9
        }
      ]
    },
    {
      "cell_type": "code",
      "metadata": {
        "id": "KbcVxoT6oKGG",
        "colab_type": "code",
        "outputId": "7358b58f-78c4-4ee0-bc12-b3f25ffe8857",
        "colab": {
          "base_uri": "https://localhost:8080/",
          "height": 318
        }
      },
      "source": [
        "!nvidia-smi"
      ],
      "execution_count": 0,
      "outputs": [
        {
          "output_type": "stream",
          "text": [
            "Sat Feb 22 11:52:29 2020       \n",
            "+-----------------------------------------------------------------------------+\n",
            "| NVIDIA-SMI 440.48.02    Driver Version: 418.67       CUDA Version: 10.1     |\n",
            "|-------------------------------+----------------------+----------------------+\n",
            "| GPU  Name        Persistence-M| Bus-Id        Disp.A | Volatile Uncorr. ECC |\n",
            "| Fan  Temp  Perf  Pwr:Usage/Cap|         Memory-Usage | GPU-Util  Compute M. |\n",
            "|===============================+======================+======================|\n",
            "|   0  Tesla T4            Off  | 00000000:00:04.0 Off |                    0 |\n",
            "| N/A   34C    P8     9W /  70W |      0MiB / 15079MiB |      0%      Default |\n",
            "+-------------------------------+----------------------+----------------------+\n",
            "                                                                               \n",
            "+-----------------------------------------------------------------------------+\n",
            "| Processes:                                                       GPU Memory |\n",
            "|  GPU       PID   Type   Process name                             Usage      |\n",
            "|=============================================================================|\n",
            "|  No running processes found                                                 |\n",
            "+-----------------------------------------------------------------------------+\n"
          ],
          "name": "stdout"
        }
      ]
    },
    {
      "cell_type": "code",
      "metadata": {
        "id": "XHMQc3o6oNWl",
        "colab_type": "code",
        "colab": {}
      },
      "source": [
        "cov_df = pd.DataFrame(data= np.c_[covtyp['data'], covtyp['target']],\n",
        "                     columns= covtyp['feature_names'] + ['target'])"
      ],
      "execution_count": 0,
      "outputs": []
    },
    {
      "cell_type": "code",
      "metadata": {
        "id": "SKllKhG_oREH",
        "colab_type": "code",
        "outputId": "00304e77-ead6-4a9a-949a-17b1f847c39d",
        "colab": {
          "base_uri": "https://localhost:8080/",
          "height": 34
        }
      },
      "source": [
        "cov_df.memory_usage(index=True).sum()"
      ],
      "execution_count": 0,
      "outputs": [
        {
          "output_type": "execute_result",
          "data": {
            "text/plain": [
              "255645408"
            ]
          },
          "metadata": {
            "tags": []
          },
          "execution_count": 12
        }
      ]
    },
    {
      "cell_type": "code",
      "metadata": {
        "id": "9_9w3lWqoXPf",
        "colab_type": "code",
        "outputId": "19c862f5-25c8-47a6-9ba2-dbf48331199e",
        "colab": {
          "base_uri": "https://localhost:8080/",
          "height": 52
        }
      },
      "source": [
        "print (\"Rows     : \" ,cov_df.shape[0])\n",
        "print (\"Columns  : \" ,cov_df.shape[1])"
      ],
      "execution_count": 0,
      "outputs": [
        {
          "output_type": "stream",
          "text": [
            "Rows     :  581012\n",
            "Columns  :  55\n"
          ],
          "name": "stdout"
        }
      ]
    },
    {
      "cell_type": "code",
      "metadata": {
        "id": "WJVrfKUEocNv",
        "colab_type": "code",
        "outputId": "33138498-2467-4cd4-fe59-5d1044013d4a",
        "colab": {
          "base_uri": "https://localhost:8080/",
          "height": 158
        }
      },
      "source": [
        "cov_df.target.value_counts()"
      ],
      "execution_count": 0,
      "outputs": [
        {
          "output_type": "execute_result",
          "data": {
            "text/plain": [
              "2    283301\n",
              "1    211840\n",
              "3     35754\n",
              "7     20510\n",
              "6     17367\n",
              "5      9493\n",
              "4      2747\n",
              "Name: target, dtype: int64"
            ]
          },
          "metadata": {
            "tags": []
          },
          "execution_count": 14
        }
      ]
    },
    {
      "cell_type": "code",
      "metadata": {
        "id": "VEbmaOBxomWc",
        "colab_type": "code",
        "outputId": "14429db6-2f8d-412f-eb45-0e192a43a0bc",
        "colab": {
          "base_uri": "https://localhost:8080/",
          "height": 1000
        }
      },
      "source": [
        "cov_df.dtypes"
      ],
      "execution_count": 0,
      "outputs": [
        {
          "output_type": "execute_result",
          "data": {
            "text/plain": [
              "Elevation                             object\n",
              "Aspect                                object\n",
              "Slope                                 object\n",
              "Horizontal_Distance_To_Hydrology      object\n",
              "Vertical_Distance_To_Hydrology        object\n",
              "Horizontal_Distance_To_Roadways       object\n",
              "Hillshade_9am                         object\n",
              "Hillshade_Noon                        object\n",
              "Hillshade_3pm                         object\n",
              "Horizontal_Distance_To_Fire_Points    object\n",
              "Wilderness_Area1                      object\n",
              "Wilderness_Area2                      object\n",
              "Wilderness_Area3                      object\n",
              "Wilderness_Area4                      object\n",
              "Soil_Type1                            object\n",
              "Soil_Type2                            object\n",
              "Soil_Type3                            object\n",
              "Soil_Type4                            object\n",
              "Soil_Type5                            object\n",
              "Soil_Type6                            object\n",
              "Soil_Type7                            object\n",
              "Soil_Type8                            object\n",
              "Soil_Type9                            object\n",
              "Soil_Type10                           object\n",
              "Soil_Type11                           object\n",
              "Soil_Type12                           object\n",
              "Soil_Type13                           object\n",
              "Soil_Type14                           object\n",
              "Soil_Type15                           object\n",
              "Soil_Type16                           object\n",
              "Soil_Type17                           object\n",
              "Soil_Type18                           object\n",
              "Soil_Type19                           object\n",
              "Soil_Type20                           object\n",
              "Soil_Type21                           object\n",
              "Soil_Type22                           object\n",
              "Soil_Type23                           object\n",
              "Soil_Type24                           object\n",
              "Soil_Type25                           object\n",
              "Soil_Type26                           object\n",
              "Soil_Type27                           object\n",
              "Soil_Type28                           object\n",
              "Soil_Type29                           object\n",
              "Soil_Type30                           object\n",
              "Soil_Type31                           object\n",
              "Soil_Type32                           object\n",
              "Soil_Type33                           object\n",
              "Soil_Type34                           object\n",
              "Soil_Type35                           object\n",
              "Soil_Type36                           object\n",
              "Soil_Type37                           object\n",
              "Soil_Type38                           object\n",
              "Soil_Type39                           object\n",
              "Soil_Type40                           object\n",
              "target                                object\n",
              "dtype: object"
            ]
          },
          "metadata": {
            "tags": []
          },
          "execution_count": 15
        }
      ]
    },
    {
      "cell_type": "code",
      "metadata": {
        "id": "LxS3rUoWoqB4",
        "colab_type": "code",
        "colab": {}
      },
      "source": [
        "for cols in cov_df.columns:\n",
        "  cov_df[cols] = pd.to_numeric(cov_df[cols])"
      ],
      "execution_count": 0,
      "outputs": []
    },
    {
      "cell_type": "code",
      "metadata": {
        "id": "qYoLlknsotBD",
        "colab_type": "code",
        "colab": {}
      },
      "source": [
        "cov_df['target'] = cov_df['target']-1"
      ],
      "execution_count": 0,
      "outputs": []
    },
    {
      "cell_type": "code",
      "metadata": {
        "id": "qLKtwCsBowT9",
        "colab_type": "code",
        "colab": {}
      },
      "source": [
        "cov_df_X = cov_df.copy()\n",
        "cov_df_y =  cov_df_X.pop('target')"
      ],
      "execution_count": 0,
      "outputs": []
    },
    {
      "cell_type": "code",
      "metadata": {
        "id": "P-GSxKQDoysQ",
        "colab_type": "code",
        "colab": {}
      },
      "source": [
        "X_train, X_test, y_train, y_test = train_test_split(cov_df_X, cov_df_y, train_size=0.85, test_size=0.15)"
      ],
      "execution_count": 0,
      "outputs": []
    },
    {
      "cell_type": "code",
      "metadata": {
        "id": "i4zdCMbCo1AQ",
        "colab_type": "code",
        "colab": {}
      },
      "source": [
        "X_train_gdf = cudf.DataFrame.from_pandas(X_train)\n",
        "X_test_gdf = cudf.DataFrame.from_pandas(X_test)\n",
        "y_train_gdf = cudf.DataFrame.from_pandas(pd.DataFrame(y_train))\n",
        "y_test_gdf = cudf.DataFrame.from_pandas(pd.DataFrame(y_test))"
      ],
      "execution_count": 0,
      "outputs": []
    },
    {
      "cell_type": "code",
      "metadata": {
        "id": "5lIm39-Lo4K0",
        "colab_type": "code",
        "outputId": "74a8e961-e87f-403d-c338-3b705c08c132",
        "colab": {
          "base_uri": "https://localhost:8080/",
          "height": 301
        }
      },
      "source": [
        "!nvidia-smi"
      ],
      "execution_count": 0,
      "outputs": [
        {
          "output_type": "stream",
          "text": [
            "Sat Feb 22 11:52:43 2020       \n",
            "+-----------------------------------------------------------------------------+\n",
            "| NVIDIA-SMI 440.48.02    Driver Version: 418.67       CUDA Version: 10.1     |\n",
            "|-------------------------------+----------------------+----------------------+\n",
            "| GPU  Name        Persistence-M| Bus-Id        Disp.A | Volatile Uncorr. ECC |\n",
            "| Fan  Temp  Perf  Pwr:Usage/Cap|         Memory-Usage | GPU-Util  Compute M. |\n",
            "|===============================+======================+======================|\n",
            "|   0  Tesla T4            Off  | 00000000:00:04.0 Off |                    0 |\n",
            "| N/A   35C    P0    25W /  70W |    655MiB / 15079MiB |      0%      Default |\n",
            "+-------------------------------+----------------------+----------------------+\n",
            "                                                                               \n",
            "+-----------------------------------------------------------------------------+\n",
            "| Processes:                                                       GPU Memory |\n",
            "|  GPU       PID   Type   Process name                             Usage      |\n",
            "|=============================================================================|\n",
            "+-----------------------------------------------------------------------------+\n"
          ],
          "name": "stdout"
        }
      ]
    },
    {
      "cell_type": "code",
      "metadata": {
        "id": "934sD9sKo6uw",
        "colab_type": "code",
        "colab": {}
      },
      "source": [
        "dtrain = xgb.DMatrix(X_train_gdf, label=y_train_gdf)\n",
        "dtest = xgb.DMatrix(X_test_gdf, label=y_test_gdf)"
      ],
      "execution_count": 0,
      "outputs": []
    },
    {
      "cell_type": "code",
      "metadata": {
        "id": "Zb6ldhlkpB5F",
        "colab_type": "code",
        "outputId": "19a4b38d-a52d-4cf5-dd3a-bf283c1b0027",
        "colab": {
          "base_uri": "https://localhost:8080/",
          "height": 301
        }
      },
      "source": [
        "!nvidia-smi"
      ],
      "execution_count": 0,
      "outputs": [
        {
          "output_type": "stream",
          "text": [
            "Sat Feb 22 11:52:45 2020       \n",
            "+-----------------------------------------------------------------------------+\n",
            "| NVIDIA-SMI 440.48.02    Driver Version: 418.67       CUDA Version: 10.1     |\n",
            "|-------------------------------+----------------------+----------------------+\n",
            "| GPU  Name        Persistence-M| Bus-Id        Disp.A | Volatile Uncorr. ECC |\n",
            "| Fan  Temp  Perf  Pwr:Usage/Cap|         Memory-Usage | GPU-Util  Compute M. |\n",
            "|===============================+======================+======================|\n",
            "|   0  Tesla T4            Off  | 00000000:00:04.0 Off |                    0 |\n",
            "| N/A   35C    P0    25W /  70W |    921MiB / 15079MiB |      0%      Default |\n",
            "+-------------------------------+----------------------+----------------------+\n",
            "                                                                               \n",
            "+-----------------------------------------------------------------------------+\n",
            "| Processes:                                                       GPU Memory |\n",
            "|  GPU       PID   Type   Process name                             Usage      |\n",
            "|=============================================================================|\n",
            "+-----------------------------------------------------------------------------+\n"
          ],
          "name": "stdout"
        }
      ]
    },
    {
      "cell_type": "code",
      "metadata": {
        "id": "W_K02IarpE37",
        "colab_type": "code",
        "colab": {}
      },
      "source": [
        "import time\n",
        "#setting tree and tree depth\n",
        "num_round = 200\n",
        "maxdepth = 10\n",
        "param = {\n",
        "  'colsample_bylevel': 1,\n",
        "  'colsample_bytree': 1,\n",
        "  'gamma': 0,\n",
        "  'learning_rate': 0.1, \n",
        "  'random_state': 1010,\n",
        "  'objective': 'multi:softmax', \n",
        "  'num_class': 7, \n",
        "}"
      ],
      "execution_count": 0,
      "outputs": []
    },
    {
      "cell_type": "code",
      "metadata": {
        "id": "D-jIzQivpL-b",
        "colab_type": "code",
        "outputId": "a3b4a2ed-c01d-45d5-fccf-f4bb03bf54d5",
        "colab": {
          "base_uri": "https://localhost:8080/",
          "height": 230
        }
      },
      "source": [
        "param['tree_method'] = 'gpu_hist'\n",
        "param['grow_policy'] = 'depthwise'\n",
        "param['max_depth'] = maxdepth\n",
        "param['max_leaves'] = 0\n",
        "param['verbosity'] = 0\n",
        "param['gpu_id'] = 0\n",
        "param['updater'] = 'grow_gpu_hist'\n",
        "param['predictor'] = 'gpu_predictor'\n",
        "\n",
        "gpu_result = {} \n",
        "start_time = time.time()\n",
        "# Training with the above parameters\n",
        "xgb.train(param, dtrain, num_round, evals=[(dtest, 'test')], evals_result=gpu_result, verbose_eval=20)\n",
        "\n",
        "print(\"GPU Training Time: %s seconds\" % (str(time.time() - start_time)))"
      ],
      "execution_count": 0,
      "outputs": [
        {
          "output_type": "stream",
          "text": [
            "[0]\ttest-merror:0.18362\n",
            "[20]\ttest-merror:0.13767\n",
            "[40]\ttest-merror:0.12734\n",
            "[60]\ttest-merror:0.11446\n",
            "[80]\ttest-merror:0.10614\n",
            "[100]\ttest-merror:0.10066\n",
            "[120]\ttest-merror:0.09290\n",
            "[140]\ttest-merror:0.08716\n",
            "[160]\ttest-merror:0.08163\n",
            "[180]\ttest-merror:0.07500\n",
            "[199]\ttest-merror:0.06995\n",
            "GPU Training Time: 58.34265089035034 seconds\n"
          ],
          "name": "stdout"
        }
      ]
    },
    {
      "cell_type": "code",
      "metadata": {
        "id": "emPzxmABpeek",
        "colab_type": "code",
        "colab": {}
      },
      "source": [
        "dtrain_cpu = xgb.DMatrix(X_train, label=y_train)\n",
        "dtest_cpu = xgb.DMatrix(X_test, label=y_test)"
      ],
      "execution_count": 0,
      "outputs": []
    },
    {
      "cell_type": "code",
      "metadata": {
        "id": "H7Kax9ISp1Lk",
        "colab_type": "code",
        "outputId": "5d8123c7-5619-42a9-b090-bf24ffee5995",
        "colab": {
          "base_uri": "https://localhost:8080/",
          "height": 230
        }
      },
      "source": [
        "param['tree_method'] = 'gpu_hist'\n",
        "param['grow_policy'] = 'depthwise'\n",
        "param['max_depth'] = maxdepth\n",
        "param['max_leaves'] = 0\n",
        "param['verbosity'] = 0\n",
        "param['gpu_id'] = 0\n",
        "param['updater'] = 'grow_gpu_hist'\n",
        "param['predictor'] = 'gpu_predictor'\n",
        "\n",
        "gpu_result = {} \n",
        "start_time = time.time()\n",
        "# Training with the above parameters\n",
        "xgb.train(param, dtrain_cpu, num_round, evals=[(dtest_cpu, 'test')], evals_result=gpu_result, verbose_eval=20)\n",
        "\n",
        "print(\"GPU Training Time: %s seconds\" % (str(time.time() - start_time)))"
      ],
      "execution_count": 0,
      "outputs": [
        {
          "output_type": "stream",
          "text": [
            "[0]\ttest-merror:0.18362\n",
            "[20]\ttest-merror:0.13770\n",
            "[40]\ttest-merror:0.12632\n",
            "[60]\ttest-merror:0.11662\n",
            "[80]\ttest-merror:0.10765\n",
            "[100]\ttest-merror:0.10113\n",
            "[120]\ttest-merror:0.09456\n",
            "[140]\ttest-merror:0.08852\n",
            "[160]\ttest-merror:0.08152\n",
            "[180]\ttest-merror:0.07572\n",
            "[199]\ttest-merror:0.07198\n",
            "GPU Training Time: 58.107303619384766 seconds\n"
          ],
          "name": "stdout"
        }
      ]
    },
    {
      "cell_type": "code",
      "metadata": {
        "id": "X9sTmWHGqCmZ",
        "colab_type": "code",
        "outputId": "502a719b-ca09-4e89-b291-98c176630838",
        "colab": {
          "base_uri": "https://localhost:8080/",
          "height": 301
        }
      },
      "source": [
        "!nvidia-smi"
      ],
      "execution_count": 0,
      "outputs": [
        {
          "output_type": "stream",
          "text": [
            "Sat Feb 22 11:54:45 2020       \n",
            "+-----------------------------------------------------------------------------+\n",
            "| NVIDIA-SMI 440.48.02    Driver Version: 418.67       CUDA Version: 10.1     |\n",
            "|-------------------------------+----------------------+----------------------+\n",
            "| GPU  Name        Persistence-M| Bus-Id        Disp.A | Volatile Uncorr. ECC |\n",
            "| Fan  Temp  Perf  Pwr:Usage/Cap|         Memory-Usage | GPU-Util  Compute M. |\n",
            "|===============================+======================+======================|\n",
            "|   0  Tesla T4            Off  | 00000000:00:04.0 Off |                    0 |\n",
            "| N/A   62C    P0    39W /  70W |   1255MiB / 15079MiB |      0%      Default |\n",
            "+-------------------------------+----------------------+----------------------+\n",
            "                                                                               \n",
            "+-----------------------------------------------------------------------------+\n",
            "| Processes:                                                       GPU Memory |\n",
            "|  GPU       PID   Type   Process name                             Usage      |\n",
            "|=============================================================================|\n",
            "+-----------------------------------------------------------------------------+\n"
          ],
          "name": "stdout"
        }
      ]
    },
    {
      "cell_type": "code",
      "metadata": {
        "id": "L6cjUXMbqYOW",
        "colab_type": "code",
        "outputId": "d0e1f44a-9ae4-4898-e6b6-d402469f954f",
        "colab": {
          "base_uri": "https://localhost:8080/",
          "height": 230
        }
      },
      "source": [
        "param['tree_method'] = 'hist'\n",
        "param['grow_policy'] = 'depthwise'\n",
        "param['max_depth'] = maxdepth\n",
        "param['max_leaves'] = 0\n",
        "param['verbosity'] = 0\n",
        "cpu_result = {} \n",
        "start_time = time.time()\n",
        "# Training with the above parameters\n",
        "xgb.train(param, dtrain_cpu, num_round, evals=[(dtest_cpu, 'test')], evals_result=cpu_result, verbose_eval=20)\n",
        "\n",
        "print(\"CPU Training Time: %s seconds\" % (str(time.time() - start_time)))"
      ],
      "execution_count": 0,
      "outputs": [
        {
          "output_type": "stream",
          "text": [
            "[0]\ttest-merror:0.18362\n",
            "[20]\ttest-merror:0.13770\n",
            "[40]\ttest-merror:0.12641\n",
            "[60]\ttest-merror:0.11568\n",
            "[80]\ttest-merror:0.10713\n",
            "[100]\ttest-merror:0.10103\n",
            "[120]\ttest-merror:0.09620\n",
            "[140]\ttest-merror:0.08969\n",
            "[160]\ttest-merror:0.08398\n",
            "[180]\ttest-merror:0.07786\n",
            "[199]\ttest-merror:0.07186\n",
            "CPU Training Time: 57.834529638290405 seconds\n"
          ],
          "name": "stdout"
        }
      ]
    },
    {
      "cell_type": "code",
      "metadata": {
        "id": "hw4Bi9Fms_QU",
        "colab_type": "code",
        "outputId": "9c8c08e9-6aef-4a59-bc25-8aefcee334d9",
        "colab": {
          "base_uri": "https://localhost:8080/",
          "height": 301
        }
      },
      "source": [
        "!nvidia-smi"
      ],
      "execution_count": 0,
      "outputs": [
        {
          "output_type": "stream",
          "text": [
            "Sat Feb 22 11:55:44 2020       \n",
            "+-----------------------------------------------------------------------------+\n",
            "| NVIDIA-SMI 440.48.02    Driver Version: 418.67       CUDA Version: 10.1     |\n",
            "|-------------------------------+----------------------+----------------------+\n",
            "| GPU  Name        Persistence-M| Bus-Id        Disp.A | Volatile Uncorr. ECC |\n",
            "| Fan  Temp  Perf  Pwr:Usage/Cap|         Memory-Usage | GPU-Util  Compute M. |\n",
            "|===============================+======================+======================|\n",
            "|   0  Tesla T4            Off  | 00000000:00:04.0 Off |                    0 |\n",
            "| N/A   65C    P0    39W /  70W |   1255MiB / 15079MiB |      0%      Default |\n",
            "+-------------------------------+----------------------+----------------------+\n",
            "                                                                               \n",
            "+-----------------------------------------------------------------------------+\n",
            "| Processes:                                                       GPU Memory |\n",
            "|  GPU       PID   Type   Process name                             Usage      |\n",
            "|=============================================================================|\n",
            "+-----------------------------------------------------------------------------+\n"
          ],
          "name": "stdout"
        }
      ]
    },
    {
      "cell_type": "code",
      "metadata": {
        "id": "aB8xnb6QW8VP",
        "colab_type": "code",
        "colab": {}
      },
      "source": [
        ""
      ],
      "execution_count": 0,
      "outputs": []
    }
  ]
}