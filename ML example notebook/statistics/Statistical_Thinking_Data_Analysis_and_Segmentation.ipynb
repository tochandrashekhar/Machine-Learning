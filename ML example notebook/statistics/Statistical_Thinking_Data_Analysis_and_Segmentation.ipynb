{
  "nbformat": 4,
  "nbformat_minor": 0,
  "metadata": {
    "colab": {
      "name": "Statistical Thinking - Data Analysis and Segmentation.ipynb",
      "provenance": [],
      "authorship_tag": "ABX9TyPRs0UqnPNhlXSaGEOibWTu",
      "include_colab_link": true
    },
    "kernelspec": {
      "name": "python3",
      "display_name": "Python 3"
    }
  },
  "cells": [
    {
      "cell_type": "markdown",
      "metadata": {
        "id": "view-in-github",
        "colab_type": "text"
      },
      "source": [
        "<a href=\"https://colab.research.google.com/github/srivatsan88/YouTubeLI/blob/master/statistics/Statistical_Thinking_Data_Analysis_and_Segmentation.ipynb\" target=\"_parent\"><img src=\"https://colab.research.google.com/assets/colab-badge.svg\" alt=\"Open In Colab\"/></a>"
      ]
    },
    {
      "cell_type": "code",
      "metadata": {
        "id": "TnU_4f65k8K0",
        "colab_type": "code",
        "colab": {}
      },
      "source": [
        "import warnings\n",
        "warnings.simplefilter(action='ignore', category=FutureWarning)\n",
        "warnings.simplefilter(action='ignore', category=Warning)\n",
        "\n",
        "import pandas as pd\n",
        "import numpy as np\n",
        "\n",
        "import seaborn as sns\n",
        "import matplotlib.pyplot as plt\n",
        "\n",
        "%matplotlib inline"
      ],
      "execution_count": 0,
      "outputs": []
    },
    {
      "cell_type": "code",
      "metadata": {
        "id": "jb8ZYaI52s4E",
        "colab_type": "code",
        "outputId": "1b498ee0-526e-4553-8f69-c35e43b66a4b",
        "colab": {
          "base_uri": "https://localhost:8080/",
          "height": 35
        }
      },
      "source": [
        "from google.colab import drive\n",
        "drive.mount('/content/drive')"
      ],
      "execution_count": 0,
      "outputs": [
        {
          "output_type": "stream",
          "text": [
            "Drive already mounted at /content/drive; to attempt to forcibly remount, call drive.mount(\"/content/drive\", force_remount=True).\n"
          ],
          "name": "stdout"
        }
      ]
    },
    {
      "cell_type": "code",
      "metadata": {
        "id": "3cx3vP5-2srd",
        "colab_type": "code",
        "colab": {}
      },
      "source": [
        "loan_full_df = pd.read_csv('/content/drive/My Drive/Colab Notebooks/datasets/loan_analysis.csv')"
      ],
      "execution_count": 0,
      "outputs": []
    },
    {
      "cell_type": "code",
      "metadata": {
        "id": "3bkJC-733RFL",
        "colab_type": "code",
        "outputId": "f34b9c20-37b2-4081-d891-9364e008292d",
        "colab": {
          "base_uri": "https://localhost:8080/",
          "height": 35
        }
      },
      "source": [
        "loan_full_df.shape[0]"
      ],
      "execution_count": 0,
      "outputs": [
        {
          "output_type": "execute_result",
          "data": {
            "text/plain": [
              "1048563"
            ]
          },
          "metadata": {
            "tags": []
          },
          "execution_count": 4
        }
      ]
    },
    {
      "cell_type": "code",
      "metadata": {
        "id": "RAYMSQGX3Q_d",
        "colab_type": "code",
        "outputId": "ad856ca6-f480-4f40-a814-b708e9377215",
        "colab": {
          "base_uri": "https://localhost:8080/",
          "height": 287
        }
      },
      "source": [
        "loan_full_df.head()"
      ],
      "execution_count": 0,
      "outputs": [
        {
          "output_type": "execute_result",
          "data": {
            "text/html": [
              "<div>\n",
              "<style scoped>\n",
              "    .dataframe tbody tr th:only-of-type {\n",
              "        vertical-align: middle;\n",
              "    }\n",
              "\n",
              "    .dataframe tbody tr th {\n",
              "        vertical-align: top;\n",
              "    }\n",
              "\n",
              "    .dataframe thead th {\n",
              "        text-align: right;\n",
              "    }\n",
              "</style>\n",
              "<table border=\"1\" class=\"dataframe\">\n",
              "  <thead>\n",
              "    <tr style=\"text-align: right;\">\n",
              "      <th></th>\n",
              "      <th>id</th>\n",
              "      <th>loan_amnt</th>\n",
              "      <th>int_rate</th>\n",
              "      <th>installment</th>\n",
              "      <th>grade</th>\n",
              "      <th>emp_title</th>\n",
              "      <th>home_ownership</th>\n",
              "      <th>annual_inc</th>\n",
              "      <th>loan_status</th>\n",
              "      <th>purpose</th>\n",
              "      <th>title</th>\n",
              "      <th>dti</th>\n",
              "      <th>delinq_2yrs</th>\n",
              "      <th>fico_range_low</th>\n",
              "      <th>fico_range_high</th>\n",
              "      <th>inq_last_6mths</th>\n",
              "      <th>mths_since_last_delinq</th>\n",
              "      <th>revol_bal</th>\n",
              "      <th>out_prncp</th>\n",
              "      <th>last_fico_range_high</th>\n",
              "      <th>last_fico_range_low</th>\n",
              "      <th>application_type</th>\n",
              "      <th>annual_inc_joint</th>\n",
              "      <th>dti_joint</th>\n",
              "    </tr>\n",
              "  </thead>\n",
              "  <tbody>\n",
              "    <tr>\n",
              "      <th>0</th>\n",
              "      <td>68407277</td>\n",
              "      <td>3600</td>\n",
              "      <td>13.99</td>\n",
              "      <td>123.03</td>\n",
              "      <td>C</td>\n",
              "      <td>leadman</td>\n",
              "      <td>MORTGAGE</td>\n",
              "      <td>55000.0</td>\n",
              "      <td>Fully Paid</td>\n",
              "      <td>debt_consolidation</td>\n",
              "      <td>Debt consolidation</td>\n",
              "      <td>5.91</td>\n",
              "      <td>0</td>\n",
              "      <td>675</td>\n",
              "      <td>679</td>\n",
              "      <td>1</td>\n",
              "      <td>30.0</td>\n",
              "      <td>2765</td>\n",
              "      <td>0.00</td>\n",
              "      <td>564</td>\n",
              "      <td>560</td>\n",
              "      <td>Individual</td>\n",
              "      <td>NaN</td>\n",
              "      <td>NaN</td>\n",
              "    </tr>\n",
              "    <tr>\n",
              "      <th>1</th>\n",
              "      <td>68355089</td>\n",
              "      <td>24700</td>\n",
              "      <td>11.99</td>\n",
              "      <td>820.28</td>\n",
              "      <td>C</td>\n",
              "      <td>Engineer</td>\n",
              "      <td>MORTGAGE</td>\n",
              "      <td>65000.0</td>\n",
              "      <td>Fully Paid</td>\n",
              "      <td>small_business</td>\n",
              "      <td>Business</td>\n",
              "      <td>16.06</td>\n",
              "      <td>1</td>\n",
              "      <td>715</td>\n",
              "      <td>719</td>\n",
              "      <td>4</td>\n",
              "      <td>6.0</td>\n",
              "      <td>21470</td>\n",
              "      <td>0.00</td>\n",
              "      <td>699</td>\n",
              "      <td>695</td>\n",
              "      <td>Individual</td>\n",
              "      <td>NaN</td>\n",
              "      <td>NaN</td>\n",
              "    </tr>\n",
              "    <tr>\n",
              "      <th>2</th>\n",
              "      <td>68341763</td>\n",
              "      <td>20000</td>\n",
              "      <td>10.78</td>\n",
              "      <td>432.66</td>\n",
              "      <td>B</td>\n",
              "      <td>truck driver</td>\n",
              "      <td>MORTGAGE</td>\n",
              "      <td>63000.0</td>\n",
              "      <td>Fully Paid</td>\n",
              "      <td>home_improvement</td>\n",
              "      <td>NaN</td>\n",
              "      <td>10.78</td>\n",
              "      <td>0</td>\n",
              "      <td>695</td>\n",
              "      <td>699</td>\n",
              "      <td>0</td>\n",
              "      <td>NaN</td>\n",
              "      <td>7869</td>\n",
              "      <td>0.00</td>\n",
              "      <td>704</td>\n",
              "      <td>700</td>\n",
              "      <td>Joint App</td>\n",
              "      <td>71000.0</td>\n",
              "      <td>13.85</td>\n",
              "    </tr>\n",
              "    <tr>\n",
              "      <th>3</th>\n",
              "      <td>66310712</td>\n",
              "      <td>35000</td>\n",
              "      <td>14.85</td>\n",
              "      <td>829.90</td>\n",
              "      <td>C</td>\n",
              "      <td>Information Systems Officer</td>\n",
              "      <td>MORTGAGE</td>\n",
              "      <td>110000.0</td>\n",
              "      <td>Current</td>\n",
              "      <td>debt_consolidation</td>\n",
              "      <td>Debt consolidation</td>\n",
              "      <td>17.06</td>\n",
              "      <td>0</td>\n",
              "      <td>785</td>\n",
              "      <td>789</td>\n",
              "      <td>0</td>\n",
              "      <td>NaN</td>\n",
              "      <td>7802</td>\n",
              "      <td>15897.65</td>\n",
              "      <td>679</td>\n",
              "      <td>675</td>\n",
              "      <td>Individual</td>\n",
              "      <td>NaN</td>\n",
              "      <td>NaN</td>\n",
              "    </tr>\n",
              "    <tr>\n",
              "      <th>4</th>\n",
              "      <td>68476807</td>\n",
              "      <td>10400</td>\n",
              "      <td>22.45</td>\n",
              "      <td>289.91</td>\n",
              "      <td>F</td>\n",
              "      <td>Contract Specialist</td>\n",
              "      <td>MORTGAGE</td>\n",
              "      <td>104433.0</td>\n",
              "      <td>Fully Paid</td>\n",
              "      <td>major_purchase</td>\n",
              "      <td>Major purchase</td>\n",
              "      <td>25.37</td>\n",
              "      <td>1</td>\n",
              "      <td>695</td>\n",
              "      <td>699</td>\n",
              "      <td>3</td>\n",
              "      <td>12.0</td>\n",
              "      <td>21929</td>\n",
              "      <td>0.00</td>\n",
              "      <td>704</td>\n",
              "      <td>700</td>\n",
              "      <td>Individual</td>\n",
              "      <td>NaN</td>\n",
              "      <td>NaN</td>\n",
              "    </tr>\n",
              "  </tbody>\n",
              "</table>\n",
              "</div>"
            ],
            "text/plain": [
              "         id  loan_amnt  int_rate  ...  application_type annual_inc_joint dti_joint\n",
              "0  68407277       3600     13.99  ...        Individual              NaN       NaN\n",
              "1  68355089      24700     11.99  ...        Individual              NaN       NaN\n",
              "2  68341763      20000     10.78  ...         Joint App          71000.0     13.85\n",
              "3  66310712      35000     14.85  ...        Individual              NaN       NaN\n",
              "4  68476807      10400     22.45  ...        Individual              NaN       NaN\n",
              "\n",
              "[5 rows x 24 columns]"
            ]
          },
          "metadata": {
            "tags": []
          },
          "execution_count": 5
        }
      ]
    },
    {
      "cell_type": "code",
      "metadata": {
        "id": "RX6yrhQi6hdJ",
        "colab_type": "code",
        "outputId": "64f39665-30d1-40c9-f217-b8702b0d0aff",
        "colab": {
          "base_uri": "https://localhost:8080/",
          "height": 163
        }
      },
      "source": [
        "loan_full_df['loan_status'].value_counts()"
      ],
      "execution_count": 0,
      "outputs": [
        {
          "output_type": "execute_result",
          "data": {
            "text/plain": [
              "Fully Paid            482595\n",
              "Current               419550\n",
              "Charged Off           129187\n",
              "Late (31-120 days)     10879\n",
              "In Grace Period         4227\n",
              "Late (16-30 days)       2104\n",
              "Default                   21\n",
              "Name: loan_status, dtype: int64"
            ]
          },
          "metadata": {
            "tags": []
          },
          "execution_count": 6
        }
      ]
    },
    {
      "cell_type": "code",
      "metadata": {
        "id": "cVve-WrP5y9X",
        "colab_type": "code",
        "colab": {}
      },
      "source": [
        "loan_int_df=loan_full_df[loan_full_df['loan_status']!='Current']\n",
        "loan_int_df=loan_int_df[loan_full_df['loan_status']!='Late (31-120 days)']\n",
        "loan_int_df=loan_int_df[loan_full_df['loan_status']!='In Grace Period']\n",
        "loan_int_df=loan_int_df[loan_full_df['loan_status']!='Late (16-30 days)']\n",
        "loan_int_df['loan_status']=loan_int_df['loan_status'].replace('Charged Off','Default')\n",
        "loan_int_df['loan_status']=loan_int_df['loan_status'].replace('Fully Paid','Good')"
      ],
      "execution_count": 0,
      "outputs": []
    },
    {
      "cell_type": "code",
      "metadata": {
        "id": "PRlGJ8Hj5yyP",
        "colab_type": "code",
        "outputId": "78d16827-4022-4f51-8a3e-9da318cfeaab",
        "colab": {
          "base_uri": "https://localhost:8080/",
          "height": 72
        }
      },
      "source": [
        "loan_int_df['loan_status'].value_counts()"
      ],
      "execution_count": 0,
      "outputs": [
        {
          "output_type": "execute_result",
          "data": {
            "text/plain": [
              "Good       482595\n",
              "Default    129208\n",
              "Name: loan_status, dtype: int64"
            ]
          },
          "metadata": {
            "tags": []
          },
          "execution_count": 8
        }
      ]
    },
    {
      "cell_type": "code",
      "metadata": {
        "id": "vHvU8y-oAuR3",
        "colab_type": "code",
        "outputId": "f41cf8f5-5e4b-41b2-9653-1d47c5d89275",
        "colab": {
          "base_uri": "https://localhost:8080/",
          "height": 35
        }
      },
      "source": [
        "loan_int_df['last_fico_range_low'].min()"
      ],
      "execution_count": 0,
      "outputs": [
        {
          "output_type": "execute_result",
          "data": {
            "text/plain": [
              "0"
            ]
          },
          "metadata": {
            "tags": []
          },
          "execution_count": 9
        }
      ]
    },
    {
      "cell_type": "code",
      "metadata": {
        "id": "8HdrGx1xAwHn",
        "colab_type": "code",
        "colab": {}
      },
      "source": [
        "loan_int_df['last_fico_range_low']=loan_int_df.apply(lambda x: x['fico_range_low'] if x['last_fico_range_low']==0 else x['last_fico_range_low'],axis=1)"
      ],
      "execution_count": 0,
      "outputs": []
    },
    {
      "cell_type": "code",
      "metadata": {
        "id": "OgZnrghW-b09",
        "colab_type": "code",
        "outputId": "b9906e1e-9752-405b-9618-0de40186fe01",
        "colab": {
          "base_uri": "https://localhost:8080/",
          "height": 235
        }
      },
      "source": [
        "loan_int_df['last_fico_range_low'].value_counts().sort_index()"
      ],
      "execution_count": 0,
      "outputs": [
        {
          "output_type": "execute_result",
          "data": {
            "text/plain": [
              "500    3585\n",
              "505    3895\n",
              "510    4328\n",
              "515    4564\n",
              "520    5228\n",
              "       ... \n",
              "825    1497\n",
              "830     887\n",
              "835     448\n",
              "840     246\n",
              "845     124\n",
              "Name: last_fico_range_low, Length: 70, dtype: int64"
            ]
          },
          "metadata": {
            "tags": []
          },
          "execution_count": 11
        }
      ]
    },
    {
      "cell_type": "code",
      "metadata": {
        "id": "llHI5PsedmST",
        "colab_type": "code",
        "outputId": "9e544139-9122-4a4e-927c-74b7daa01a73",
        "colab": {
          "base_uri": "https://localhost:8080/",
          "height": 272
        }
      },
      "source": [
        "pd.cut(loan_int_df['last_fico_range_low'],5)"
      ],
      "execution_count": 0,
      "outputs": [
        {
          "output_type": "execute_result",
          "data": {
            "text/plain": [
              "0          (499.655, 569.0]\n",
              "1            (638.0, 707.0]\n",
              "2            (638.0, 707.0]\n",
              "4            (638.0, 707.0]\n",
              "5            (707.0, 776.0]\n",
              "                 ...       \n",
              "1048558      (569.0, 638.0]\n",
              "1048559      (638.0, 707.0]\n",
              "1048560      (638.0, 707.0]\n",
              "1048561      (707.0, 776.0]\n",
              "1048562      (707.0, 776.0]\n",
              "Name: last_fico_range_low, Length: 611803, dtype: category\n",
              "Categories (5, interval[float64]): [(499.655, 569.0] < (569.0, 638.0] < (638.0, 707.0] < (707.0, 776.0] <\n",
              "                                    (776.0, 845.0]]"
            ]
          },
          "metadata": {
            "tags": []
          },
          "execution_count": 12
        }
      ]
    },
    {
      "cell_type": "code",
      "metadata": {
        "id": "CNQqinfa3Q1U",
        "colab_type": "code",
        "colab": {}
      },
      "source": [
        "loan_int_df['fico_buckets']=pd.cut(loan_int_df['last_fico_range_low'],5,labels=['High Risky','Risky','Low Risk','Good','Excellent'])"
      ],
      "execution_count": 0,
      "outputs": []
    },
    {
      "cell_type": "code",
      "metadata": {
        "id": "tSZ-1q856dQ6",
        "colab_type": "code",
        "outputId": "c2465691-556f-449a-c1a3-a635761d8b7e",
        "colab": {
          "base_uri": "https://localhost:8080/",
          "height": 126
        }
      },
      "source": [
        "loan_int_df['fico_buckets'].value_counts()"
      ],
      "execution_count": 0,
      "outputs": [
        {
          "output_type": "execute_result",
          "data": {
            "text/plain": [
              "Low Risk      222683\n",
              "Good          186904\n",
              "Risky          79704\n",
              "High Risky     76403\n",
              "Excellent      46109\n",
              "Name: fico_buckets, dtype: int64"
            ]
          },
          "metadata": {
            "tags": []
          },
          "execution_count": 14
        }
      ]
    },
    {
      "cell_type": "code",
      "metadata": {
        "id": "X05JOrJd6dEL",
        "colab_type": "code",
        "colab": {}
      },
      "source": [
        "loan_status_df=loan_int_df[['loan_status','fico_buckets']].groupby(['loan_status','fico_buckets']).agg({'fico_buckets':'count'})"
      ],
      "execution_count": 0,
      "outputs": []
    },
    {
      "cell_type": "code",
      "metadata": {
        "id": "EEysVBJ8JvKe",
        "colab_type": "code",
        "outputId": "89f897ed-18f9-4c48-8e0b-979d43d924e4",
        "colab": {
          "base_uri": "https://localhost:8080/",
          "height": 348
        }
      },
      "source": [
        "loan_status_df.rename({'fico_buckets':'count'},axis='columns').reset_index()"
      ],
      "execution_count": 0,
      "outputs": [
        {
          "output_type": "execute_result",
          "data": {
            "text/html": [
              "<div>\n",
              "<style scoped>\n",
              "    .dataframe tbody tr th:only-of-type {\n",
              "        vertical-align: middle;\n",
              "    }\n",
              "\n",
              "    .dataframe tbody tr th {\n",
              "        vertical-align: top;\n",
              "    }\n",
              "\n",
              "    .dataframe thead th {\n",
              "        text-align: right;\n",
              "    }\n",
              "</style>\n",
              "<table border=\"1\" class=\"dataframe\">\n",
              "  <thead>\n",
              "    <tr style=\"text-align: right;\">\n",
              "      <th></th>\n",
              "      <th>loan_status</th>\n",
              "      <th>fico_buckets</th>\n",
              "      <th>count</th>\n",
              "    </tr>\n",
              "  </thead>\n",
              "  <tbody>\n",
              "    <tr>\n",
              "      <th>0</th>\n",
              "      <td>Default</td>\n",
              "      <td>High Risky</td>\n",
              "      <td>62487</td>\n",
              "    </tr>\n",
              "    <tr>\n",
              "      <th>1</th>\n",
              "      <td>Default</td>\n",
              "      <td>Risky</td>\n",
              "      <td>40171</td>\n",
              "    </tr>\n",
              "    <tr>\n",
              "      <th>2</th>\n",
              "      <td>Default</td>\n",
              "      <td>Low Risk</td>\n",
              "      <td>22693</td>\n",
              "    </tr>\n",
              "    <tr>\n",
              "      <th>3</th>\n",
              "      <td>Default</td>\n",
              "      <td>Good</td>\n",
              "      <td>3530</td>\n",
              "    </tr>\n",
              "    <tr>\n",
              "      <th>4</th>\n",
              "      <td>Default</td>\n",
              "      <td>Excellent</td>\n",
              "      <td>327</td>\n",
              "    </tr>\n",
              "    <tr>\n",
              "      <th>5</th>\n",
              "      <td>Good</td>\n",
              "      <td>High Risky</td>\n",
              "      <td>13916</td>\n",
              "    </tr>\n",
              "    <tr>\n",
              "      <th>6</th>\n",
              "      <td>Good</td>\n",
              "      <td>Risky</td>\n",
              "      <td>39533</td>\n",
              "    </tr>\n",
              "    <tr>\n",
              "      <th>7</th>\n",
              "      <td>Good</td>\n",
              "      <td>Low Risk</td>\n",
              "      <td>199990</td>\n",
              "    </tr>\n",
              "    <tr>\n",
              "      <th>8</th>\n",
              "      <td>Good</td>\n",
              "      <td>Good</td>\n",
              "      <td>183374</td>\n",
              "    </tr>\n",
              "    <tr>\n",
              "      <th>9</th>\n",
              "      <td>Good</td>\n",
              "      <td>Excellent</td>\n",
              "      <td>45782</td>\n",
              "    </tr>\n",
              "  </tbody>\n",
              "</table>\n",
              "</div>"
            ],
            "text/plain": [
              "  loan_status fico_buckets   count\n",
              "0     Default   High Risky   62487\n",
              "1     Default        Risky   40171\n",
              "2     Default     Low Risk   22693\n",
              "3     Default         Good    3530\n",
              "4     Default    Excellent     327\n",
              "5        Good   High Risky   13916\n",
              "6        Good        Risky   39533\n",
              "7        Good     Low Risk  199990\n",
              "8        Good         Good  183374\n",
              "9        Good    Excellent   45782"
            ]
          },
          "metadata": {
            "tags": []
          },
          "execution_count": 16
        }
      ]
    },
    {
      "cell_type": "code",
      "metadata": {
        "id": "vIkRNo5KJuh1",
        "colab_type": "code",
        "outputId": "0f7b95a0-4c7e-4ee8-8cc2-c121c435efcf",
        "colab": {
          "base_uri": "https://localhost:8080/",
          "height": 298
        }
      },
      "source": [
        "sns.barplot(x=\"fico_buckets\", y=\"count\", hue=\"loan_status\", data=loan_status_df.rename({'fico_buckets':'count'},axis='columns').reset_index())"
      ],
      "execution_count": 0,
      "outputs": [
        {
          "output_type": "execute_result",
          "data": {
            "text/plain": [
              "<matplotlib.axes._subplots.AxesSubplot at 0x7fc3cc9b1a90>"
            ]
          },
          "metadata": {
            "tags": []
          },
          "execution_count": 17
        },
        {
          "output_type": "display_data",
          "data": {
            "image/png": "[encoded data removed]",
            "text/plain": [
              "<Figure size 432x288 with 1 Axes>"
            ]
          },
          "metadata": {
            "tags": [],
            "needs_background": "light"
          }
        }
      ]
    },
    {
      "cell_type": "code",
      "metadata": {
        "id": "JBgXw46CWtJ9",
        "colab_type": "code",
        "outputId": "5da547ce-4cdf-4578-86e3-823764ce4503",
        "colab": {
          "base_uri": "https://localhost:8080/",
          "height": 272
        }
      },
      "source": [
        "pd.qcut(loan_int_df['int_rate'],5)"
      ],
      "execution_count": 0,
      "outputs": [
        {
          "output_type": "execute_result",
          "data": {
            "text/plain": [
              "0                     (13.33, 16.55]\n",
              "1                     (10.99, 13.33]\n",
              "2                      (8.18, 10.99]\n",
              "4                     (16.55, 30.99]\n",
              "5                     (13.33, 16.55]\n",
              "                     ...            \n",
              "1048558               (13.33, 16.55]\n",
              "1048559               (10.99, 13.33]\n",
              "1048560                (8.18, 10.99]\n",
              "1048561    (5.308999999999999, 8.18]\n",
              "1048562    (5.308999999999999, 8.18]\n",
              "Name: int_rate, Length: 611803, dtype: category\n",
              "Categories (5, interval[float64]): [(5.308999999999999, 8.18] < (8.18, 10.99] < (10.99, 13.33] < (13.33, 16.55] <\n",
              "                                    (16.55, 30.99]]"
            ]
          },
          "metadata": {
            "tags": []
          },
          "execution_count": 18
        }
      ]
    },
    {
      "cell_type": "code",
      "metadata": {
        "id": "URnE0Tnz6cUC",
        "colab_type": "code",
        "colab": {}
      },
      "source": [
        "loan_int_df['rate_buckets']=pd.qcut(loan_int_df['int_rate'],5,labels=['Low','Medium','High','Very High','ForgetIt'])"
      ],
      "execution_count": 0,
      "outputs": []
    },
    {
      "cell_type": "code",
      "metadata": {
        "id": "6gz6DFwV6cJx",
        "colab_type": "code",
        "outputId": "6916a656-d983-4429-93aa-7e24c8957dd8",
        "colab": {
          "base_uri": "https://localhost:8080/",
          "height": 126
        }
      },
      "source": [
        "loan_int_df['rate_buckets'].value_counts()"
      ],
      "execution_count": 0,
      "outputs": [
        {
          "output_type": "execute_result",
          "data": {
            "text/plain": [
              "Low          130377\n",
              "High         127875\n",
              "Very High    118875\n",
              "Medium       117920\n",
              "ForgetIt     116756\n",
              "Name: rate_buckets, dtype: int64"
            ]
          },
          "metadata": {
            "tags": []
          },
          "execution_count": 20
        }
      ]
    },
    {
      "cell_type": "code",
      "metadata": {
        "id": "9DxJjm5P7Vp6",
        "colab_type": "code",
        "colab": {}
      },
      "source": [
        "loan_rate_df=loan_int_df[['loan_status','rate_buckets']].groupby(['loan_status','rate_buckets']).agg({'rate_buckets':'count'})"
      ],
      "execution_count": 0,
      "outputs": []
    },
    {
      "cell_type": "code",
      "metadata": {
        "id": "yS5FA2og7VnG",
        "colab_type": "code",
        "outputId": "4be9c822-8aab-45df-f1ae-a23d79989355",
        "colab": {
          "base_uri": "https://localhost:8080/",
          "height": 348
        }
      },
      "source": [
        "loan_rate_df.rename({'rate_buckets':'count'},axis='columns').reset_index()"
      ],
      "execution_count": 0,
      "outputs": [
        {
          "output_type": "execute_result",
          "data": {
            "text/html": [
              "<div>\n",
              "<style scoped>\n",
              "    .dataframe tbody tr th:only-of-type {\n",
              "        vertical-align: middle;\n",
              "    }\n",
              "\n",
              "    .dataframe tbody tr th {\n",
              "        vertical-align: top;\n",
              "    }\n",
              "\n",
              "    .dataframe thead th {\n",
              "        text-align: right;\n",
              "    }\n",
              "</style>\n",
              "<table border=\"1\" class=\"dataframe\">\n",
              "  <thead>\n",
              "    <tr style=\"text-align: right;\">\n",
              "      <th></th>\n",
              "      <th>loan_status</th>\n",
              "      <th>rate_buckets</th>\n",
              "      <th>count</th>\n",
              "    </tr>\n",
              "  </thead>\n",
              "  <tbody>\n",
              "    <tr>\n",
              "      <th>0</th>\n",
              "      <td>Default</td>\n",
              "      <td>Low</td>\n",
              "      <td>8572</td>\n",
              "    </tr>\n",
              "    <tr>\n",
              "      <th>1</th>\n",
              "      <td>Default</td>\n",
              "      <td>Medium</td>\n",
              "      <td>16128</td>\n",
              "    </tr>\n",
              "    <tr>\n",
              "      <th>2</th>\n",
              "      <td>Default</td>\n",
              "      <td>High</td>\n",
              "      <td>25441</td>\n",
              "    </tr>\n",
              "    <tr>\n",
              "      <th>3</th>\n",
              "      <td>Default</td>\n",
              "      <td>Very High</td>\n",
              "      <td>32580</td>\n",
              "    </tr>\n",
              "    <tr>\n",
              "      <th>4</th>\n",
              "      <td>Default</td>\n",
              "      <td>ForgetIt</td>\n",
              "      <td>46487</td>\n",
              "    </tr>\n",
              "    <tr>\n",
              "      <th>5</th>\n",
              "      <td>Good</td>\n",
              "      <td>Low</td>\n",
              "      <td>121805</td>\n",
              "    </tr>\n",
              "    <tr>\n",
              "      <th>6</th>\n",
              "      <td>Good</td>\n",
              "      <td>Medium</td>\n",
              "      <td>101792</td>\n",
              "    </tr>\n",
              "    <tr>\n",
              "      <th>7</th>\n",
              "      <td>Good</td>\n",
              "      <td>High</td>\n",
              "      <td>102434</td>\n",
              "    </tr>\n",
              "    <tr>\n",
              "      <th>8</th>\n",
              "      <td>Good</td>\n",
              "      <td>Very High</td>\n",
              "      <td>86295</td>\n",
              "    </tr>\n",
              "    <tr>\n",
              "      <th>9</th>\n",
              "      <td>Good</td>\n",
              "      <td>ForgetIt</td>\n",
              "      <td>70269</td>\n",
              "    </tr>\n",
              "  </tbody>\n",
              "</table>\n",
              "</div>"
            ],
            "text/plain": [
              "  loan_status rate_buckets   count\n",
              "0     Default          Low    8572\n",
              "1     Default       Medium   16128\n",
              "2     Default         High   25441\n",
              "3     Default    Very High   32580\n",
              "4     Default     ForgetIt   46487\n",
              "5        Good          Low  121805\n",
              "6        Good       Medium  101792\n",
              "7        Good         High  102434\n",
              "8        Good    Very High   86295\n",
              "9        Good     ForgetIt   70269"
            ]
          },
          "metadata": {
            "tags": []
          },
          "execution_count": 22
        }
      ]
    },
    {
      "cell_type": "code",
      "metadata": {
        "id": "cGo50cv77Vgj",
        "colab_type": "code",
        "outputId": "60772707-67f0-484e-87cd-53d6e0074e63",
        "colab": {
          "base_uri": "https://localhost:8080/",
          "height": 298
        }
      },
      "source": [
        "sns.barplot(x=\"rate_buckets\", y=\"count\", hue=\"loan_status\", data=loan_rate_df.rename({'rate_buckets':'count'},axis='columns').reset_index())"
      ],
      "execution_count": 0,
      "outputs": [
        {
          "output_type": "execute_result",
          "data": {
            "text/plain": [
              "<matplotlib.axes._subplots.AxesSubplot at 0x7fc3d36219b0>"
            ]
          },
          "metadata": {
            "tags": []
          },
          "execution_count": 23
        },
        {
          "output_type": "display_data",
          "data": {
            "image/png": "[encoded data removed]",
            "text/plain": [
              "<Figure size 432x288 with 1 Axes>"
            ]
          },
          "metadata": {
            "tags": [],
            "needs_background": "light"
          }
        }
      ]
    },
    {
      "cell_type": "code",
      "metadata": {
        "id": "elFQf2BjCuQG",
        "colab_type": "code",
        "outputId": "66ab81e2-793b-4b5d-85ad-8c1b30ace50b",
        "colab": {
          "base_uri": "https://localhost:8080/",
          "height": 828
        }
      },
      "source": [
        "loan_int_df[['loan_status','rate_buckets','fico_buckets']].groupby(['fico_buckets','rate_buckets']).agg({'loan_status':'count'})"
      ],
      "execution_count": 0,
      "outputs": [
        {
          "output_type": "execute_result",
          "data": {
            "text/html": [
              "<div>\n",
              "<style scoped>\n",
              "    .dataframe tbody tr th:only-of-type {\n",
              "        vertical-align: middle;\n",
              "    }\n",
              "\n",
              "    .dataframe tbody tr th {\n",
              "        vertical-align: top;\n",
              "    }\n",
              "\n",
              "    .dataframe thead th {\n",
              "        text-align: right;\n",
              "    }\n",
              "</style>\n",
              "<table border=\"1\" class=\"dataframe\">\n",
              "  <thead>\n",
              "    <tr style=\"text-align: right;\">\n",
              "      <th></th>\n",
              "      <th></th>\n",
              "      <th>loan_status</th>\n",
              "    </tr>\n",
              "    <tr>\n",
              "      <th>fico_buckets</th>\n",
              "      <th>rate_buckets</th>\n",
              "      <th></th>\n",
              "    </tr>\n",
              "  </thead>\n",
              "  <tbody>\n",
              "    <tr>\n",
              "      <th rowspan=\"5\" valign=\"top\">High Risky</th>\n",
              "      <th>Low</th>\n",
              "      <td>4821</td>\n",
              "    </tr>\n",
              "    <tr>\n",
              "      <th>Medium</th>\n",
              "      <td>9643</td>\n",
              "    </tr>\n",
              "    <tr>\n",
              "      <th>High</th>\n",
              "      <td>16080</td>\n",
              "    </tr>\n",
              "    <tr>\n",
              "      <th>Very High</th>\n",
              "      <td>19819</td>\n",
              "    </tr>\n",
              "    <tr>\n",
              "      <th>ForgetIt</th>\n",
              "      <td>26040</td>\n",
              "    </tr>\n",
              "    <tr>\n",
              "      <th rowspan=\"5\" valign=\"top\">Risky</th>\n",
              "      <th>Low</th>\n",
              "      <td>7162</td>\n",
              "    </tr>\n",
              "    <tr>\n",
              "      <th>Medium</th>\n",
              "      <td>11806</td>\n",
              "    </tr>\n",
              "    <tr>\n",
              "      <th>High</th>\n",
              "      <td>18385</td>\n",
              "    </tr>\n",
              "    <tr>\n",
              "      <th>Very High</th>\n",
              "      <td>19204</td>\n",
              "    </tr>\n",
              "    <tr>\n",
              "      <th>ForgetIt</th>\n",
              "      <td>23147</td>\n",
              "    </tr>\n",
              "    <tr>\n",
              "      <th rowspan=\"5\" valign=\"top\">Low Risk</th>\n",
              "      <th>Low</th>\n",
              "      <td>33000</td>\n",
              "    </tr>\n",
              "    <tr>\n",
              "      <th>Medium</th>\n",
              "      <td>44070</td>\n",
              "    </tr>\n",
              "    <tr>\n",
              "      <th>High</th>\n",
              "      <td>51648</td>\n",
              "    </tr>\n",
              "    <tr>\n",
              "      <th>Very High</th>\n",
              "      <td>48148</td>\n",
              "    </tr>\n",
              "    <tr>\n",
              "      <th>ForgetIt</th>\n",
              "      <td>45817</td>\n",
              "    </tr>\n",
              "    <tr>\n",
              "      <th rowspan=\"5\" valign=\"top\">Good</th>\n",
              "      <th>Low</th>\n",
              "      <td>59777</td>\n",
              "    </tr>\n",
              "    <tr>\n",
              "      <th>Medium</th>\n",
              "      <td>43395</td>\n",
              "    </tr>\n",
              "    <tr>\n",
              "      <th>High</th>\n",
              "      <td>36022</td>\n",
              "    </tr>\n",
              "    <tr>\n",
              "      <th>Very High</th>\n",
              "      <td>28051</td>\n",
              "    </tr>\n",
              "    <tr>\n",
              "      <th>ForgetIt</th>\n",
              "      <td>19659</td>\n",
              "    </tr>\n",
              "    <tr>\n",
              "      <th rowspan=\"5\" valign=\"top\">Excellent</th>\n",
              "      <th>Low</th>\n",
              "      <td>25617</td>\n",
              "    </tr>\n",
              "    <tr>\n",
              "      <th>Medium</th>\n",
              "      <td>9006</td>\n",
              "    </tr>\n",
              "    <tr>\n",
              "      <th>High</th>\n",
              "      <td>5740</td>\n",
              "    </tr>\n",
              "    <tr>\n",
              "      <th>Very High</th>\n",
              "      <td>3653</td>\n",
              "    </tr>\n",
              "    <tr>\n",
              "      <th>ForgetIt</th>\n",
              "      <td>2093</td>\n",
              "    </tr>\n",
              "  </tbody>\n",
              "</table>\n",
              "</div>"
            ],
            "text/plain": [
              "                           loan_status\n",
              "fico_buckets rate_buckets             \n",
              "High Risky   Low                  4821\n",
              "             Medium               9643\n",
              "             High                16080\n",
              "             Very High           19819\n",
              "             ForgetIt            26040\n",
              "Risky        Low                  7162\n",
              "             Medium              11806\n",
              "             High                18385\n",
              "             Very High           19204\n",
              "             ForgetIt            23147\n",
              "Low Risk     Low                 33000\n",
              "             Medium              44070\n",
              "             High                51648\n",
              "             Very High           48148\n",
              "             ForgetIt            45817\n",
              "Good         Low                 59777\n",
              "             Medium              43395\n",
              "             High                36022\n",
              "             Very High           28051\n",
              "             ForgetIt            19659\n",
              "Excellent    Low                 25617\n",
              "             Medium               9006\n",
              "             High                 5740\n",
              "             Very High            3653\n",
              "             ForgetIt             2093"
            ]
          },
          "metadata": {
            "tags": []
          },
          "execution_count": 24
        }
      ]
    },
    {
      "cell_type": "code",
      "metadata": {
        "id": "Yjw2Vs8ACuCq",
        "colab_type": "code",
        "outputId": "e33d2b50-61d5-4bbb-e737-343464631d56",
        "colab": {
          "base_uri": "https://localhost:8080/",
          "height": 258
        }
      },
      "source": [
        "pd.crosstab(index=loan_int_df['fico_buckets'],columns=loan_int_df['rate_buckets'], margins=True)"
      ],
      "execution_count": 0,
      "outputs": [
        {
          "output_type": "execute_result",
          "data": {
            "text/html": [
              "<div>\n",
              "<style scoped>\n",
              "    .dataframe tbody tr th:only-of-type {\n",
              "        vertical-align: middle;\n",
              "    }\n",
              "\n",
              "    .dataframe tbody tr th {\n",
              "        vertical-align: top;\n",
              "    }\n",
              "\n",
              "    .dataframe thead th {\n",
              "        text-align: right;\n",
              "    }\n",
              "</style>\n",
              "<table border=\"1\" class=\"dataframe\">\n",
              "  <thead>\n",
              "    <tr style=\"text-align: right;\">\n",
              "      <th>rate_buckets</th>\n",
              "      <th>Low</th>\n",
              "      <th>Medium</th>\n",
              "      <th>High</th>\n",
              "      <th>Very High</th>\n",
              "      <th>ForgetIt</th>\n",
              "      <th>All</th>\n",
              "    </tr>\n",
              "    <tr>\n",
              "      <th>fico_buckets</th>\n",
              "      <th></th>\n",
              "      <th></th>\n",
              "      <th></th>\n",
              "      <th></th>\n",
              "      <th></th>\n",
              "      <th></th>\n",
              "    </tr>\n",
              "  </thead>\n",
              "  <tbody>\n",
              "    <tr>\n",
              "      <th>High Risky</th>\n",
              "      <td>4821</td>\n",
              "      <td>9643</td>\n",
              "      <td>16080</td>\n",
              "      <td>19819</td>\n",
              "      <td>26040</td>\n",
              "      <td>76403</td>\n",
              "    </tr>\n",
              "    <tr>\n",
              "      <th>Risky</th>\n",
              "      <td>7162</td>\n",
              "      <td>11806</td>\n",
              "      <td>18385</td>\n",
              "      <td>19204</td>\n",
              "      <td>23147</td>\n",
              "      <td>79704</td>\n",
              "    </tr>\n",
              "    <tr>\n",
              "      <th>Low Risk</th>\n",
              "      <td>33000</td>\n",
              "      <td>44070</td>\n",
              "      <td>51648</td>\n",
              "      <td>48148</td>\n",
              "      <td>45817</td>\n",
              "      <td>222683</td>\n",
              "    </tr>\n",
              "    <tr>\n",
              "      <th>Good</th>\n",
              "      <td>59777</td>\n",
              "      <td>43395</td>\n",
              "      <td>36022</td>\n",
              "      <td>28051</td>\n",
              "      <td>19659</td>\n",
              "      <td>186904</td>\n",
              "    </tr>\n",
              "    <tr>\n",
              "      <th>Excellent</th>\n",
              "      <td>25617</td>\n",
              "      <td>9006</td>\n",
              "      <td>5740</td>\n",
              "      <td>3653</td>\n",
              "      <td>2093</td>\n",
              "      <td>46109</td>\n",
              "    </tr>\n",
              "    <tr>\n",
              "      <th>All</th>\n",
              "      <td>130377</td>\n",
              "      <td>117920</td>\n",
              "      <td>127875</td>\n",
              "      <td>118875</td>\n",
              "      <td>116756</td>\n",
              "      <td>611803</td>\n",
              "    </tr>\n",
              "  </tbody>\n",
              "</table>\n",
              "</div>"
            ],
            "text/plain": [
              "rate_buckets     Low  Medium    High  Very High  ForgetIt     All\n",
              "fico_buckets                                                     \n",
              "High Risky      4821    9643   16080      19819     26040   76403\n",
              "Risky           7162   11806   18385      19204     23147   79704\n",
              "Low Risk       33000   44070   51648      48148     45817  222683\n",
              "Good           59777   43395   36022      28051     19659  186904\n",
              "Excellent      25617    9006    5740       3653      2093   46109\n",
              "All           130377  117920  127875     118875    116756  611803"
            ]
          },
          "metadata": {
            "tags": []
          },
          "execution_count": 25
        }
      ]
    },
    {
      "cell_type": "code",
      "metadata": {
        "id": "e9gh2_EboqUr",
        "colab_type": "code",
        "outputId": "bc782763-f254-48f3-a4c0-0129af4c90d7",
        "colab": {
          "base_uri": "https://localhost:8080/",
          "height": 228
        }
      },
      "source": [
        "pd.crosstab(index=loan_int_df['fico_buckets'],columns=loan_int_df['rate_buckets']).apply(lambda x: x/x.sum(), axis=1)"
      ],
      "execution_count": 0,
      "outputs": [
        {
          "output_type": "execute_result",
          "data": {
            "text/html": [
              "<div>\n",
              "<style scoped>\n",
              "    .dataframe tbody tr th:only-of-type {\n",
              "        vertical-align: middle;\n",
              "    }\n",
              "\n",
              "    .dataframe tbody tr th {\n",
              "        vertical-align: top;\n",
              "    }\n",
              "\n",
              "    .dataframe thead th {\n",
              "        text-align: right;\n",
              "    }\n",
              "</style>\n",
              "<table border=\"1\" class=\"dataframe\">\n",
              "  <thead>\n",
              "    <tr style=\"text-align: right;\">\n",
              "      <th>rate_buckets</th>\n",
              "      <th>Low</th>\n",
              "      <th>Medium</th>\n",
              "      <th>High</th>\n",
              "      <th>Very High</th>\n",
              "      <th>ForgetIt</th>\n",
              "    </tr>\n",
              "    <tr>\n",
              "      <th>fico_buckets</th>\n",
              "      <th></th>\n",
              "      <th></th>\n",
              "      <th></th>\n",
              "      <th></th>\n",
              "      <th></th>\n",
              "    </tr>\n",
              "  </thead>\n",
              "  <tbody>\n",
              "    <tr>\n",
              "      <th>High Risky</th>\n",
              "      <td>0.063100</td>\n",
              "      <td>0.126212</td>\n",
              "      <td>0.210463</td>\n",
              "      <td>0.259401</td>\n",
              "      <td>0.340824</td>\n",
              "    </tr>\n",
              "    <tr>\n",
              "      <th>Risky</th>\n",
              "      <td>0.089857</td>\n",
              "      <td>0.148123</td>\n",
              "      <td>0.230666</td>\n",
              "      <td>0.240941</td>\n",
              "      <td>0.290412</td>\n",
              "    </tr>\n",
              "    <tr>\n",
              "      <th>Low Risk</th>\n",
              "      <td>0.148193</td>\n",
              "      <td>0.197905</td>\n",
              "      <td>0.231935</td>\n",
              "      <td>0.216218</td>\n",
              "      <td>0.205750</td>\n",
              "    </tr>\n",
              "    <tr>\n",
              "      <th>Good</th>\n",
              "      <td>0.319827</td>\n",
              "      <td>0.232178</td>\n",
              "      <td>0.192730</td>\n",
              "      <td>0.150082</td>\n",
              "      <td>0.105182</td>\n",
              "    </tr>\n",
              "    <tr>\n",
              "      <th>Excellent</th>\n",
              "      <td>0.555575</td>\n",
              "      <td>0.195320</td>\n",
              "      <td>0.124488</td>\n",
              "      <td>0.079225</td>\n",
              "      <td>0.045392</td>\n",
              "    </tr>\n",
              "  </tbody>\n",
              "</table>\n",
              "</div>"
            ],
            "text/plain": [
              "rate_buckets       Low    Medium      High  Very High  ForgetIt\n",
              "fico_buckets                                                   \n",
              "High Risky    0.063100  0.126212  0.210463   0.259401  0.340824\n",
              "Risky         0.089857  0.148123  0.230666   0.240941  0.290412\n",
              "Low Risk      0.148193  0.197905  0.231935   0.216218  0.205750\n",
              "Good          0.319827  0.232178  0.192730   0.150082  0.105182\n",
              "Excellent     0.555575  0.195320  0.124488   0.079225  0.045392"
            ]
          },
          "metadata": {
            "tags": []
          },
          "execution_count": 26
        }
      ]
    },
    {
      "cell_type": "code",
      "metadata": {
        "id": "JHZFLqZrCpVq",
        "colab_type": "code",
        "colab": {}
      },
      "source": [
        "fico_rate_ct=pd.crosstab(index=loan_int_df['fico_buckets'],columns=loan_int_df['rate_buckets'])"
      ],
      "execution_count": 0,
      "outputs": []
    },
    {
      "cell_type": "code",
      "metadata": {
        "id": "7ohuhrOrL6V6",
        "colab_type": "code",
        "outputId": "b72eff39-da6c-4092-f9f9-2fab7e676903",
        "colab": {
          "base_uri": "https://localhost:8080/",
          "height": 341
        }
      },
      "source": [
        "fico_rate_ct.plot.bar()"
      ],
      "execution_count": 0,
      "outputs": [
        {
          "output_type": "execute_result",
          "data": {
            "text/plain": [
              "<matplotlib.axes._subplots.AxesSubplot at 0x7fc3d229d710>"
            ]
          },
          "metadata": {
            "tags": []
          },
          "execution_count": 28
        },
        {
          "output_type": "display_data",
          "data": {
            "image/png": "[encoded data removed]",
            "text/plain": [
              "<Figure size 432x288 with 1 Axes>"
            ]
          },
          "metadata": {
            "tags": [],
            "needs_background": "light"
          }
        }
      ]
    },
    {
      "cell_type": "code",
      "metadata": {
        "id": "mEw9PSF9E4Ez",
        "colab_type": "code",
        "colab": {}
      },
      "source": [
        "from scipy import stats\n",
        "(chi2, p, dof,_) = stats.chi2_contingency([fico_rate_ct.iloc[0].values,fico_rate_ct.iloc[1].values, fico_rate_ct.iloc[2].values, fico_rate_ct.iloc[3].values, fico_rate_ct.iloc[4].values])"
      ],
      "execution_count": 0,
      "outputs": []
    },
    {
      "cell_type": "code",
      "metadata": {
        "id": "DQNwYh7OE38K",
        "colab_type": "code",
        "outputId": "4455adcc-289d-4293-cb6e-586cd0ee4304",
        "colab": {
          "base_uri": "https://localhost:8080/",
          "height": 72
        }
      },
      "source": [
        "print (\"chi2     : \" ,chi2)\n",
        "print (\"p-value  : \" ,p)\n",
        "print (\"Degree for Freedom : \" ,dof)"
      ],
      "execution_count": 0,
      "outputs": [
        {
          "output_type": "stream",
          "text": [
            "chi2     :  94025.13343840712\n",
            "p-value  :  0.0\n",
            "Degree for Freedom :  16\n"
          ],
          "name": "stdout"
        }
      ]
    },
    {
      "cell_type": "code",
      "metadata": {
        "id": "O0SqbneK6e_m",
        "colab_type": "code",
        "colab": {}
      },
      "source": [
        ""
      ],
      "execution_count": 0,
      "outputs": []
    },
    {
      "cell_type": "code",
      "metadata": {
        "id": "kIz1dp916ewb",
        "colab_type": "code",
        "colab": {}
      },
      "source": [
        "import math\n",
        "loan_int_df['fico_score']=loan_int_df['last_fico_range_low'].apply(lambda x: int(math.ceil(x/10))*10)"
      ],
      "execution_count": 0,
      "outputs": []
    },
    {
      "cell_type": "code",
      "metadata": {
        "id": "EsJ8OKUz9ctf",
        "colab_type": "code",
        "outputId": "14db5f32-e733-4e40-ed1f-646da7c94848",
        "colab": {
          "base_uri": "https://localhost:8080/",
          "height": 270
        }
      },
      "source": [
        "loan_int_df.head()"
      ],
      "execution_count": 0,
      "outputs": [
        {
          "output_type": "execute_result",
          "data": {
            "text/html": [
              "<div>\n",
              "<style scoped>\n",
              "    .dataframe tbody tr th:only-of-type {\n",
              "        vertical-align: middle;\n",
              "    }\n",
              "\n",
              "    .dataframe tbody tr th {\n",
              "        vertical-align: top;\n",
              "    }\n",
              "\n",
              "    .dataframe thead th {\n",
              "        text-align: right;\n",
              "    }\n",
              "</style>\n",
              "<table border=\"1\" class=\"dataframe\">\n",
              "  <thead>\n",
              "    <tr style=\"text-align: right;\">\n",
              "      <th></th>\n",
              "      <th>id</th>\n",
              "      <th>loan_amnt</th>\n",
              "      <th>int_rate</th>\n",
              "      <th>installment</th>\n",
              "      <th>grade</th>\n",
              "      <th>emp_title</th>\n",
              "      <th>home_ownership</th>\n",
              "      <th>annual_inc</th>\n",
              "      <th>loan_status</th>\n",
              "      <th>purpose</th>\n",
              "      <th>title</th>\n",
              "      <th>dti</th>\n",
              "      <th>delinq_2yrs</th>\n",
              "      <th>fico_range_low</th>\n",
              "      <th>fico_range_high</th>\n",
              "      <th>inq_last_6mths</th>\n",
              "      <th>mths_since_last_delinq</th>\n",
              "      <th>revol_bal</th>\n",
              "      <th>out_prncp</th>\n",
              "      <th>last_fico_range_high</th>\n",
              "      <th>last_fico_range_low</th>\n",
              "      <th>application_type</th>\n",
              "      <th>annual_inc_joint</th>\n",
              "      <th>dti_joint</th>\n",
              "      <th>fico_buckets</th>\n",
              "      <th>rate_buckets</th>\n",
              "      <th>fico_score</th>\n",
              "    </tr>\n",
              "  </thead>\n",
              "  <tbody>\n",
              "    <tr>\n",
              "      <th>0</th>\n",
              "      <td>68407277</td>\n",
              "      <td>3600</td>\n",
              "      <td>13.99</td>\n",
              "      <td>123.03</td>\n",
              "      <td>C</td>\n",
              "      <td>leadman</td>\n",
              "      <td>MORTGAGE</td>\n",
              "      <td>55000.0</td>\n",
              "      <td>Good</td>\n",
              "      <td>debt_consolidation</td>\n",
              "      <td>Debt consolidation</td>\n",
              "      <td>5.91</td>\n",
              "      <td>0</td>\n",
              "      <td>675</td>\n",
              "      <td>679</td>\n",
              "      <td>1</td>\n",
              "      <td>30.0</td>\n",
              "      <td>2765</td>\n",
              "      <td>0.0</td>\n",
              "      <td>564</td>\n",
              "      <td>560</td>\n",
              "      <td>Individual</td>\n",
              "      <td>NaN</td>\n",
              "      <td>NaN</td>\n",
              "      <td>High Risky</td>\n",
              "      <td>Very High</td>\n",
              "      <td>560</td>\n",
              "    </tr>\n",
              "    <tr>\n",
              "      <th>1</th>\n",
              "      <td>68355089</td>\n",
              "      <td>24700</td>\n",
              "      <td>11.99</td>\n",
              "      <td>820.28</td>\n",
              "      <td>C</td>\n",
              "      <td>Engineer</td>\n",
              "      <td>MORTGAGE</td>\n",
              "      <td>65000.0</td>\n",
              "      <td>Good</td>\n",
              "      <td>small_business</td>\n",
              "      <td>Business</td>\n",
              "      <td>16.06</td>\n",
              "      <td>1</td>\n",
              "      <td>715</td>\n",
              "      <td>719</td>\n",
              "      <td>4</td>\n",
              "      <td>6.0</td>\n",
              "      <td>21470</td>\n",
              "      <td>0.0</td>\n",
              "      <td>699</td>\n",
              "      <td>695</td>\n",
              "      <td>Individual</td>\n",
              "      <td>NaN</td>\n",
              "      <td>NaN</td>\n",
              "      <td>Low Risk</td>\n",
              "      <td>High</td>\n",
              "      <td>700</td>\n",
              "    </tr>\n",
              "    <tr>\n",
              "      <th>2</th>\n",
              "      <td>68341763</td>\n",
              "      <td>20000</td>\n",
              "      <td>10.78</td>\n",
              "      <td>432.66</td>\n",
              "      <td>B</td>\n",
              "      <td>truck driver</td>\n",
              "      <td>MORTGAGE</td>\n",
              "      <td>63000.0</td>\n",
              "      <td>Good</td>\n",
              "      <td>home_improvement</td>\n",
              "      <td>NaN</td>\n",
              "      <td>10.78</td>\n",
              "      <td>0</td>\n",
              "      <td>695</td>\n",
              "      <td>699</td>\n",
              "      <td>0</td>\n",
              "      <td>NaN</td>\n",
              "      <td>7869</td>\n",
              "      <td>0.0</td>\n",
              "      <td>704</td>\n",
              "      <td>700</td>\n",
              "      <td>Joint App</td>\n",
              "      <td>71000.0</td>\n",
              "      <td>13.85</td>\n",
              "      <td>Low Risk</td>\n",
              "      <td>Medium</td>\n",
              "      <td>700</td>\n",
              "    </tr>\n",
              "    <tr>\n",
              "      <th>4</th>\n",
              "      <td>68476807</td>\n",
              "      <td>10400</td>\n",
              "      <td>22.45</td>\n",
              "      <td>289.91</td>\n",
              "      <td>F</td>\n",
              "      <td>Contract Specialist</td>\n",
              "      <td>MORTGAGE</td>\n",
              "      <td>104433.0</td>\n",
              "      <td>Good</td>\n",
              "      <td>major_purchase</td>\n",
              "      <td>Major purchase</td>\n",
              "      <td>25.37</td>\n",
              "      <td>1</td>\n",
              "      <td>695</td>\n",
              "      <td>699</td>\n",
              "      <td>3</td>\n",
              "      <td>12.0</td>\n",
              "      <td>21929</td>\n",
              "      <td>0.0</td>\n",
              "      <td>704</td>\n",
              "      <td>700</td>\n",
              "      <td>Individual</td>\n",
              "      <td>NaN</td>\n",
              "      <td>NaN</td>\n",
              "      <td>Low Risk</td>\n",
              "      <td>ForgetIt</td>\n",
              "      <td>700</td>\n",
              "    </tr>\n",
              "    <tr>\n",
              "      <th>5</th>\n",
              "      <td>68426831</td>\n",
              "      <td>11950</td>\n",
              "      <td>13.44</td>\n",
              "      <td>405.18</td>\n",
              "      <td>C</td>\n",
              "      <td>Veterinary Tecnician</td>\n",
              "      <td>RENT</td>\n",
              "      <td>34000.0</td>\n",
              "      <td>Good</td>\n",
              "      <td>debt_consolidation</td>\n",
              "      <td>Debt consolidation</td>\n",
              "      <td>10.20</td>\n",
              "      <td>0</td>\n",
              "      <td>690</td>\n",
              "      <td>694</td>\n",
              "      <td>0</td>\n",
              "      <td>NaN</td>\n",
              "      <td>8822</td>\n",
              "      <td>0.0</td>\n",
              "      <td>759</td>\n",
              "      <td>755</td>\n",
              "      <td>Individual</td>\n",
              "      <td>NaN</td>\n",
              "      <td>NaN</td>\n",
              "      <td>Good</td>\n",
              "      <td>Very High</td>\n",
              "      <td>760</td>\n",
              "    </tr>\n",
              "  </tbody>\n",
              "</table>\n",
              "</div>"
            ],
            "text/plain": [
              "         id  loan_amnt  int_rate  ...  fico_buckets rate_buckets fico_score\n",
              "0  68407277       3600     13.99  ...    High Risky    Very High        560\n",
              "1  68355089      24700     11.99  ...      Low Risk         High        700\n",
              "2  68341763      20000     10.78  ...      Low Risk       Medium        700\n",
              "4  68476807      10400     22.45  ...      Low Risk     ForgetIt        700\n",
              "5  68426831      11950     13.44  ...          Good    Very High        760\n",
              "\n",
              "[5 rows x 27 columns]"
            ]
          },
          "metadata": {
            "tags": []
          },
          "execution_count": 32
        }
      ]
    },
    {
      "cell_type": "code",
      "metadata": {
        "id": "0DDN2s-V9co_",
        "colab_type": "code",
        "outputId": "5ffe5196-b786-4479-9028-3d0d61660c8c",
        "colab": {
          "base_uri": "https://localhost:8080/",
          "height": 690
        }
      },
      "source": [
        "loan_int_df[loan_int_df['loan_status']=='Default']['fico_score'].value_counts().sort_index()"
      ],
      "execution_count": 0,
      "outputs": [
        {
          "output_type": "execute_result",
          "data": {
            "text/plain": [
              "500     3183\n",
              "510     7191\n",
              "520     8370\n",
              "530     9254\n",
              "540    10127\n",
              "550    10164\n",
              "560     9703\n",
              "570     9060\n",
              "580     8004\n",
              "590     6852\n",
              "600     5881\n",
              "610     5195\n",
              "620     4468\n",
              "630     3708\n",
              "640     2898\n",
              "650     2310\n",
              "660     4091\n",
              "670     5232\n",
              "680     3918\n",
              "690     2875\n",
              "700     2027\n",
              "710     1515\n",
              "720     1024\n",
              "730      613\n",
              "740      447\n",
              "750      298\n",
              "760      230\n",
              "770      167\n",
              "780      136\n",
              "790       92\n",
              "800       72\n",
              "810       52\n",
              "820       28\n",
              "830       14\n",
              "840        6\n",
              "850        3\n",
              "Name: fico_score, dtype: int64"
            ]
          },
          "metadata": {
            "tags": []
          },
          "execution_count": 33
        }
      ]
    },
    {
      "cell_type": "code",
      "metadata": {
        "id": "vatFtDxE9cgF",
        "colab_type": "code",
        "colab": {}
      },
      "source": [
        "default_df=pd.DataFrame(loan_int_df[loan_int_df['loan_status']=='Default']['fico_score'].value_counts())"
      ],
      "execution_count": 0,
      "outputs": []
    },
    {
      "cell_type": "code",
      "metadata": {
        "id": "DVLwVLd2-A1f",
        "colab_type": "code",
        "colab": {}
      },
      "source": [
        "default_df=default_df.reset_index()"
      ],
      "execution_count": 0,
      "outputs": []
    },
    {
      "cell_type": "code",
      "metadata": {
        "id": "pibmmzOYESm_",
        "colab_type": "code",
        "colab": {}
      },
      "source": [
        "default_df.columns = ['fico_score','default_total']"
      ],
      "execution_count": 0,
      "outputs": []
    },
    {
      "cell_type": "code",
      "metadata": {
        "id": "aiXgskHxE9Ch",
        "colab_type": "code",
        "outputId": "6e2e057b-e7d1-4998-b0c5-3f6c390ac6a6",
        "colab": {
          "base_uri": "https://localhost:8080/",
          "height": 1000
        }
      },
      "source": [
        "default_df"
      ],
      "execution_count": 0,
      "outputs": [
        {
          "output_type": "execute_result",
          "data": {
            "text/html": [
              "<div>\n",
              "<style scoped>\n",
              "    .dataframe tbody tr th:only-of-type {\n",
              "        vertical-align: middle;\n",
              "    }\n",
              "\n",
              "    .dataframe tbody tr th {\n",
              "        vertical-align: top;\n",
              "    }\n",
              "\n",
              "    .dataframe thead th {\n",
              "        text-align: right;\n",
              "    }\n",
              "</style>\n",
              "<table border=\"1\" class=\"dataframe\">\n",
              "  <thead>\n",
              "    <tr style=\"text-align: right;\">\n",
              "      <th></th>\n",
              "      <th>fico_score</th>\n",
              "      <th>default_total</th>\n",
              "    </tr>\n",
              "  </thead>\n",
              "  <tbody>\n",
              "    <tr>\n",
              "      <th>0</th>\n",
              "      <td>550</td>\n",
              "      <td>10164</td>\n",
              "    </tr>\n",
              "    <tr>\n",
              "      <th>1</th>\n",
              "      <td>540</td>\n",
              "      <td>10127</td>\n",
              "    </tr>\n",
              "    <tr>\n",
              "      <th>2</th>\n",
              "      <td>560</td>\n",
              "      <td>9703</td>\n",
              "    </tr>\n",
              "    <tr>\n",
              "      <th>3</th>\n",
              "      <td>530</td>\n",
              "      <td>9254</td>\n",
              "    </tr>\n",
              "    <tr>\n",
              "      <th>4</th>\n",
              "      <td>570</td>\n",
              "      <td>9060</td>\n",
              "    </tr>\n",
              "    <tr>\n",
              "      <th>5</th>\n",
              "      <td>520</td>\n",
              "      <td>8370</td>\n",
              "    </tr>\n",
              "    <tr>\n",
              "      <th>6</th>\n",
              "      <td>580</td>\n",
              "      <td>8004</td>\n",
              "    </tr>\n",
              "    <tr>\n",
              "      <th>7</th>\n",
              "      <td>510</td>\n",
              "      <td>7191</td>\n",
              "    </tr>\n",
              "    <tr>\n",
              "      <th>8</th>\n",
              "      <td>590</td>\n",
              "      <td>6852</td>\n",
              "    </tr>\n",
              "    <tr>\n",
              "      <th>9</th>\n",
              "      <td>600</td>\n",
              "      <td>5881</td>\n",
              "    </tr>\n",
              "    <tr>\n",
              "      <th>10</th>\n",
              "      <td>670</td>\n",
              "      <td>5232</td>\n",
              "    </tr>\n",
              "    <tr>\n",
              "      <th>11</th>\n",
              "      <td>610</td>\n",
              "      <td>5195</td>\n",
              "    </tr>\n",
              "    <tr>\n",
              "      <th>12</th>\n",
              "      <td>620</td>\n",
              "      <td>4468</td>\n",
              "    </tr>\n",
              "    <tr>\n",
              "      <th>13</th>\n",
              "      <td>660</td>\n",
              "      <td>4091</td>\n",
              "    </tr>\n",
              "    <tr>\n",
              "      <th>14</th>\n",
              "      <td>680</td>\n",
              "      <td>3918</td>\n",
              "    </tr>\n",
              "    <tr>\n",
              "      <th>15</th>\n",
              "      <td>630</td>\n",
              "      <td>3708</td>\n",
              "    </tr>\n",
              "    <tr>\n",
              "      <th>16</th>\n",
              "      <td>500</td>\n",
              "      <td>3183</td>\n",
              "    </tr>\n",
              "    <tr>\n",
              "      <th>17</th>\n",
              "      <td>640</td>\n",
              "      <td>2898</td>\n",
              "    </tr>\n",
              "    <tr>\n",
              "      <th>18</th>\n",
              "      <td>690</td>\n",
              "      <td>2875</td>\n",
              "    </tr>\n",
              "    <tr>\n",
              "      <th>19</th>\n",
              "      <td>650</td>\n",
              "      <td>2310</td>\n",
              "    </tr>\n",
              "    <tr>\n",
              "      <th>20</th>\n",
              "      <td>700</td>\n",
              "      <td>2027</td>\n",
              "    </tr>\n",
              "    <tr>\n",
              "      <th>21</th>\n",
              "      <td>710</td>\n",
              "      <td>1515</td>\n",
              "    </tr>\n",
              "    <tr>\n",
              "      <th>22</th>\n",
              "      <td>720</td>\n",
              "      <td>1024</td>\n",
              "    </tr>\n",
              "    <tr>\n",
              "      <th>23</th>\n",
              "      <td>730</td>\n",
              "      <td>613</td>\n",
              "    </tr>\n",
              "    <tr>\n",
              "      <th>24</th>\n",
              "      <td>740</td>\n",
              "      <td>447</td>\n",
              "    </tr>\n",
              "    <tr>\n",
              "      <th>25</th>\n",
              "      <td>750</td>\n",
              "      <td>298</td>\n",
              "    </tr>\n",
              "    <tr>\n",
              "      <th>26</th>\n",
              "      <td>760</td>\n",
              "      <td>230</td>\n",
              "    </tr>\n",
              "    <tr>\n",
              "      <th>27</th>\n",
              "      <td>770</td>\n",
              "      <td>167</td>\n",
              "    </tr>\n",
              "    <tr>\n",
              "      <th>28</th>\n",
              "      <td>780</td>\n",
              "      <td>136</td>\n",
              "    </tr>\n",
              "    <tr>\n",
              "      <th>29</th>\n",
              "      <td>790</td>\n",
              "      <td>92</td>\n",
              "    </tr>\n",
              "    <tr>\n",
              "      <th>30</th>\n",
              "      <td>800</td>\n",
              "      <td>72</td>\n",
              "    </tr>\n",
              "    <tr>\n",
              "      <th>31</th>\n",
              "      <td>810</td>\n",
              "      <td>52</td>\n",
              "    </tr>\n",
              "    <tr>\n",
              "      <th>32</th>\n",
              "      <td>820</td>\n",
              "      <td>28</td>\n",
              "    </tr>\n",
              "    <tr>\n",
              "      <th>33</th>\n",
              "      <td>830</td>\n",
              "      <td>14</td>\n",
              "    </tr>\n",
              "    <tr>\n",
              "      <th>34</th>\n",
              "      <td>840</td>\n",
              "      <td>6</td>\n",
              "    </tr>\n",
              "    <tr>\n",
              "      <th>35</th>\n",
              "      <td>850</td>\n",
              "      <td>3</td>\n",
              "    </tr>\n",
              "  </tbody>\n",
              "</table>\n",
              "</div>"
            ],
            "text/plain": [
              "    fico_score  default_total\n",
              "0          550          10164\n",
              "1          540          10127\n",
              "2          560           9703\n",
              "3          530           9254\n",
              "4          570           9060\n",
              "5          520           8370\n",
              "6          580           8004\n",
              "7          510           7191\n",
              "8          590           6852\n",
              "9          600           5881\n",
              "10         670           5232\n",
              "11         610           5195\n",
              "12         620           4468\n",
              "13         660           4091\n",
              "14         680           3918\n",
              "15         630           3708\n",
              "16         500           3183\n",
              "17         640           2898\n",
              "18         690           2875\n",
              "19         650           2310\n",
              "20         700           2027\n",
              "21         710           1515\n",
              "22         720           1024\n",
              "23         730            613\n",
              "24         740            447\n",
              "25         750            298\n",
              "26         760            230\n",
              "27         770            167\n",
              "28         780            136\n",
              "29         790             92\n",
              "30         800             72\n",
              "31         810             52\n",
              "32         820             28\n",
              "33         830             14\n",
              "34         840              6\n",
              "35         850              3"
            ]
          },
          "metadata": {
            "tags": []
          },
          "execution_count": 37
        }
      ]
    },
    {
      "cell_type": "code",
      "metadata": {
        "id": "hPVWi6O5sv9v",
        "colab_type": "code",
        "outputId": "f6bda6f5-5f87-46d9-c3e6-71eb6740dd98",
        "colab": {
          "base_uri": "https://localhost:8080/",
          "height": 108
        }
      },
      "source": [
        "default_df[['fico_score','default_total']].corr()"
      ],
      "execution_count": 0,
      "outputs": [
        {
          "output_type": "execute_result",
          "data": {
            "text/html": [
              "<div>\n",
              "<style scoped>\n",
              "    .dataframe tbody tr th:only-of-type {\n",
              "        vertical-align: middle;\n",
              "    }\n",
              "\n",
              "    .dataframe tbody tr th {\n",
              "        vertical-align: top;\n",
              "    }\n",
              "\n",
              "    .dataframe thead th {\n",
              "        text-align: right;\n",
              "    }\n",
              "</style>\n",
              "<table border=\"1\" class=\"dataframe\">\n",
              "  <thead>\n",
              "    <tr style=\"text-align: right;\">\n",
              "      <th></th>\n",
              "      <th>fico_score</th>\n",
              "      <th>default_total</th>\n",
              "    </tr>\n",
              "  </thead>\n",
              "  <tbody>\n",
              "    <tr>\n",
              "      <th>fico_score</th>\n",
              "      <td>1.000000</td>\n",
              "      <td>-0.886782</td>\n",
              "    </tr>\n",
              "    <tr>\n",
              "      <th>default_total</th>\n",
              "      <td>-0.886782</td>\n",
              "      <td>1.000000</td>\n",
              "    </tr>\n",
              "  </tbody>\n",
              "</table>\n",
              "</div>"
            ],
            "text/plain": [
              "               fico_score  default_total\n",
              "fico_score       1.000000      -0.886782\n",
              "default_total   -0.886782       1.000000"
            ]
          },
          "metadata": {
            "tags": []
          },
          "execution_count": 38
        }
      ]
    },
    {
      "cell_type": "code",
      "metadata": {
        "id": "8KU_OG0PnBCF",
        "colab_type": "code",
        "outputId": "9c4aed4c-5a15-42d3-b0c9-d7aae3c9b559",
        "colab": {
          "base_uri": "https://localhost:8080/",
          "height": 298
        }
      },
      "source": [
        "sns.regplot(x='fico_score',y='default_total',data=default_df) "
      ],
      "execution_count": 0,
      "outputs": [
        {
          "output_type": "execute_result",
          "data": {
            "text/plain": [
              "<matplotlib.axes._subplots.AxesSubplot at 0x7fc3d220c5c0>"
            ]
          },
          "metadata": {
            "tags": []
          },
          "execution_count": 39
        },
        {
          "output_type": "display_data",
          "data": {
            "image/png": "[encoded data removed]",
            "text/plain": [
              "<Figure size 432x288 with 1 Axes>"
            ]
          },
          "metadata": {
            "tags": [],
            "needs_background": "light"
          }
        }
      ]
    },
    {
      "cell_type": "code",
      "metadata": {
        "id": "JVtDbMfzoiTg",
        "colab_type": "code",
        "outputId": "55a755e6-fed8-45c4-b6a2-3627bbb71ca6",
        "colab": {
          "base_uri": "https://localhost:8080/",
          "height": 108
        }
      },
      "source": [
        "default_df[['fico_score','default_total']].corr('spearman')"
      ],
      "execution_count": 0,
      "outputs": [
        {
          "output_type": "execute_result",
          "data": {
            "text/html": [
              "<div>\n",
              "<style scoped>\n",
              "    .dataframe tbody tr th:only-of-type {\n",
              "        vertical-align: middle;\n",
              "    }\n",
              "\n",
              "    .dataframe tbody tr th {\n",
              "        vertical-align: top;\n",
              "    }\n",
              "\n",
              "    .dataframe thead th {\n",
              "        text-align: right;\n",
              "    }\n",
              "</style>\n",
              "<table border=\"1\" class=\"dataframe\">\n",
              "  <thead>\n",
              "    <tr style=\"text-align: right;\">\n",
              "      <th></th>\n",
              "      <th>fico_score</th>\n",
              "      <th>default_total</th>\n",
              "    </tr>\n",
              "  </thead>\n",
              "  <tbody>\n",
              "    <tr>\n",
              "      <th>fico_score</th>\n",
              "      <td>1.000000</td>\n",
              "      <td>-0.939511</td>\n",
              "    </tr>\n",
              "    <tr>\n",
              "      <th>default_total</th>\n",
              "      <td>-0.939511</td>\n",
              "      <td>1.000000</td>\n",
              "    </tr>\n",
              "  </tbody>\n",
              "</table>\n",
              "</div>"
            ],
            "text/plain": [
              "               fico_score  default_total\n",
              "fico_score       1.000000      -0.939511\n",
              "default_total   -0.939511       1.000000"
            ]
          },
          "metadata": {
            "tags": []
          },
          "execution_count": 41
        }
      ]
    },
    {
      "cell_type": "code",
      "metadata": {
        "id": "fpQz11T-jZw0",
        "colab_type": "code",
        "outputId": "2d97db66-f666-4edb-f0f9-151930bc4e4a",
        "colab": {
          "base_uri": "https://localhost:8080/",
          "height": 108
        }
      },
      "source": [
        "!pip install pwlf\n",
        "import pwlf"
      ],
      "execution_count": 0,
      "outputs": [
        {
          "output_type": "stream",
          "text": [
            "Requirement already satisfied: pwlf in /usr/local/lib/python3.6/dist-packages (2.0.0)\n",
            "Requirement already satisfied: numpy>=1.14.0 in /usr/local/lib/python3.6/dist-packages (from pwlf) (1.18.3)\n",
            "Requirement already satisfied: pyDOE>=0.3.8 in /usr/local/lib/python3.6/dist-packages (from pwlf) (0.3.8)\n",
            "Requirement already satisfied: setuptools>=38.6.0 in /usr/local/lib/python3.6/dist-packages (from pwlf) (46.1.3)\n",
            "Requirement already satisfied: scipy>=1.2.0 in /usr/local/lib/python3.6/dist-packages (from pwlf) (1.4.1)\n"
          ],
          "name": "stdout"
        }
      ]
    },
    {
      "cell_type": "code",
      "metadata": {
        "id": "2EloHNkEujWc",
        "colab_type": "code",
        "colab": {}
      },
      "source": [
        "pwlf = pwlf.PiecewiseLinFit(default_df['fico_score'], default_df['default_total'])"
      ],
      "execution_count": 0,
      "outputs": []
    },
    {
      "cell_type": "code",
      "metadata": {
        "id": "ikbTQkRkvO1K",
        "colab_type": "code",
        "colab": {}
      },
      "source": [
        "pwise_model = pwlf.fit(4)"
      ],
      "execution_count": 0,
      "outputs": []
    },
    {
      "cell_type": "code",
      "metadata": {
        "id": "IK8_WFMKvUEq",
        "colab_type": "code",
        "outputId": "afe5eb60-ab57-4cdc-ed55-4a60d557e3b1",
        "colab": {
          "base_uri": "https://localhost:8080/",
          "height": 54
        }
      },
      "source": [
        "pwlf.fit_breaks"
      ],
      "execution_count": 0,
      "outputs": [
        {
          "output_type": "execute_result",
          "data": {
            "text/plain": [
              "array([500.        , 536.39270227, 619.99999988, 759.19227488,\n",
              "       850.        ])"
            ]
          },
          "metadata": {
            "tags": []
          },
          "execution_count": 45
        }
      ]
    },
    {
      "cell_type": "code",
      "metadata": {
        "id": "FCuu8q-wvbc1",
        "colab_type": "code",
        "outputId": "b8f01bb3-0bd1-4298-8cd6-15e306cc6f05",
        "colab": {
          "base_uri": "https://localhost:8080/",
          "height": 35
        }
      },
      "source": [
        "pwlf.slopes"
      ],
      "execution_count": 0,
      "outputs": [
        {
          "output_type": "execute_result",
          "data": {
            "text/plain": [
              "array([193.92070356, -78.48208575, -31.58319951,  -2.40924884])"
            ]
          },
          "metadata": {
            "tags": []
          },
          "execution_count": 46
        }
      ]
    },
    {
      "cell_type": "code",
      "metadata": {
        "id": "smK1TgHkz_jY",
        "colab_type": "code",
        "outputId": "91c20322-7731-4ee8-a3b0-095b3c94def0",
        "colab": {
          "base_uri": "https://localhost:8080/",
          "height": 35
        }
      },
      "source": [
        "pwlf.intercepts"
      ],
      "execution_count": 0,
      "outputs": [
        {
          "output_type": "execute_result",
          "data": {
            "text/plain": [
              "array([-92869.65822243,  53245.21004417,  24167.90057896,   2019.26260598])"
            ]
          },
          "metadata": {
            "tags": []
          },
          "execution_count": 47
        }
      ]
    },
    {
      "cell_type": "code",
      "metadata": {
        "id": "uRhm5XNf0IiI",
        "colab_type": "code",
        "colab": {}
      },
      "source": [
        "yHat_piecewise = pwlf.predict(default_df['fico_score'])"
      ],
      "execution_count": 0,
      "outputs": []
    },
    {
      "cell_type": "code",
      "metadata": {
        "id": "93x1vOd11SuD",
        "colab_type": "code",
        "colab": {}
      },
      "source": [
        "plt.figure()\n",
        "plt.plot(['fico_score'], default_df['default_total'], 'o')\n",
        "plt.plot(default_df['fico_score'], yHat_piecewise, '-')\n",
        "plt.show()"
      ],
      "execution_count": 0,
      "outputs": []
    },
    {
      "cell_type": "code",
      "metadata": {
        "id": "SB4imlgiHRPb",
        "colab_type": "code",
        "colab": {}
      },
      "source": [
        ""
      ],
      "execution_count": 0,
      "outputs": []
    },
    {
      "cell_type": "code",
      "metadata": {
        "id": "q4NzykbIHRMF",
        "colab_type": "code",
        "colab": {}
      },
      "source": [
        ""
      ],
      "execution_count": 0,
      "outputs": []
    },
    {
      "cell_type": "code",
      "metadata": {
        "id": "9cJ0lcSzHRDr",
        "colab_type": "code",
        "colab": {}
      },
      "source": [
        ""
      ],
      "execution_count": 0,
      "outputs": []
    },
    {
      "cell_type": "code",
      "metadata": {
        "id": "31UK7DISHRAy",
        "colab_type": "code",
        "colab": {}
      },
      "source": [
        ""
      ],
      "execution_count": 0,
      "outputs": []
    },
    {
      "cell_type": "code",
      "metadata": {
        "id": "CSsO-SA3HQ9d",
        "colab_type": "code",
        "colab": {}
      },
      "source": [
        ""
      ],
      "execution_count": 0,
      "outputs": []
    },
    {
      "cell_type": "code",
      "metadata": {
        "id": "WyjRaxDFHQ6k",
        "colab_type": "code",
        "colab": {}
      },
      "source": [
        ""
      ],
      "execution_count": 0,
      "outputs": []
    },
    {
      "cell_type": "code",
      "metadata": {
        "id": "OQm_WOnvHQ21",
        "colab_type": "code",
        "colab": {}
      },
      "source": [
        ""
      ],
      "execution_count": 0,
      "outputs": []
    },
    {
      "cell_type": "code",
      "metadata": {
        "id": "HUl4qFHiHQza",
        "colab_type": "code",
        "colab": {}
      },
      "source": [
        ""
      ],
      "execution_count": 0,
      "outputs": []
    },
    {
      "cell_type": "code",
      "metadata": {
        "id": "USO0cC6WHQxU",
        "colab_type": "code",
        "colab": {}
      },
      "source": [
        ""
      ],
      "execution_count": 0,
      "outputs": []
    },
    {
      "cell_type": "code",
      "metadata": {
        "id": "xLk9Eb60HQtu",
        "colab_type": "code",
        "colab": {}
      },
      "source": [
        ""
      ],
      "execution_count": 0,
      "outputs": []
    },
    {
      "cell_type": "code",
      "metadata": {
        "id": "GItpkZCfHQiB",
        "colab_type": "code",
        "colab": {}
      },
      "source": [
        ""
      ],
      "execution_count": 0,
      "outputs": []
    },
    {
      "cell_type": "code",
      "metadata": {
        "id": "uy5bCIcf11oG",
        "colab_type": "code",
        "colab": {}
      },
      "source": [
        "loan_sample=loan_int_df.sample(10000)"
      ],
      "execution_count": 0,
      "outputs": []
    },
    {
      "cell_type": "code",
      "metadata": {
        "id": "Z3hb_Wtt6YFh",
        "colab_type": "code",
        "colab": {}
      },
      "source": [
        "loan_sample.shape"
      ],
      "execution_count": 0,
      "outputs": []
    },
    {
      "cell_type": "code",
      "metadata": {
        "id": "VaRp2yFp6dkn",
        "colab_type": "code",
        "colab": {}
      },
      "source": [
        "loan_sample['loan_status'].value_counts()"
      ],
      "execution_count": 0,
      "outputs": []
    },
    {
      "cell_type": "code",
      "metadata": {
        "id": "Q9-dEFJy6-Rv",
        "colab_type": "code",
        "colab": {}
      },
      "source": [
        "loan_sample.head()"
      ],
      "execution_count": 0,
      "outputs": []
    },
    {
      "cell_type": "code",
      "metadata": {
        "id": "B5XLcedw9aml",
        "colab_type": "code",
        "colab": {}
      },
      "source": [
        "loan_status_df=loan_int_df[['loan_status','fico_buckets']].groupby(['loan_status','fico_buckets']).agg({'fico_buckets':'count'})"
      ],
      "execution_count": 0,
      "outputs": []
    },
    {
      "cell_type": "code",
      "metadata": {
        "id": "fBPoN-2O6u7w",
        "colab_type": "code",
        "colab": {}
      },
      "source": [
        "sns.barplot(x=\"fico_buckets\", y=\"count\", hue=\"loan_status\", data=loan_status_df.rename({'fico_buckets':'count'},axis='columns').reset_index())"
      ],
      "execution_count": 0,
      "outputs": []
    },
    {
      "cell_type": "code",
      "metadata": {
        "id": "QVRnNGil7K7j",
        "colab_type": "code",
        "colab": {}
      },
      "source": [
        "sns.regplot(x='fico_score',y='default_total',data=loan_df) "
      ],
      "execution_count": 0,
      "outputs": []
    }
  ]
}