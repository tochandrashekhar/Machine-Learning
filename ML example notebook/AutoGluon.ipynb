{
  "nbformat": 4,
  "nbformat_minor": 0,
  "metadata": {
    "colab": {
      "name": "AutoGluon.ipynb",
      "provenance": [],
      "include_colab_link": true
    },
    "kernelspec": {
      "name": "python3",
      "display_name": "Python 3"
    }
  },
  "cells": [
    {
      "cell_type": "markdown",
      "metadata": {
        "id": "view-in-github",
        "colab_type": "text"
      },
      "source": [
        "<a href=\"https://colab.research.google.com/github/srivatsan88/YouTubeLI/blob/master/AutoGluon.ipynb\" target=\"_parent\"><img src=\"https://colab.research.google.com/assets/colab-badge.svg\" alt=\"Open In Colab\"/></a>"
      ]
    },
    {
      "cell_type": "markdown",
      "metadata": {
        "id": "Ydtu2LgJT7RP",
        "colab_type": "text"
      },
      "source": [
        "This notebook purpose is to try out AutoGluon package open sourced by AWS. The project details is available in link below\n",
        "\n",
        "https://autogluon.mxnet.io/\n"
      ]
    },
    {
      "cell_type": "code",
      "metadata": {
        "id": "kbHRfwu_CTJP",
        "colab_type": "code",
        "colab": {}
      },
      "source": [
        "!pip install --upgrade mxnet\n",
        "!pip install autogluon"
      ],
      "execution_count": 0,
      "outputs": []
    },
    {
      "cell_type": "code",
      "metadata": {
        "id": "8ZZN307DAnqn",
        "colab_type": "code",
        "colab": {}
      },
      "source": [
        "import autogluon as ag"
      ],
      "execution_count": 0,
      "outputs": []
    },
    {
      "cell_type": "code",
      "metadata": {
        "id": "v8wG9E2WFnL7",
        "colab_type": "code",
        "colab": {}
      },
      "source": [
        "from autogluon import TabularPrediction as task"
      ],
      "execution_count": 0,
      "outputs": []
    },
    {
      "cell_type": "code",
      "metadata": {
        "id": "WkSKEXkSODD_",
        "colab_type": "code",
        "colab": {
          "base_uri": "https://localhost:8080/",
          "height": 52
        },
        "outputId": "b51e37ed-206b-4031-ee5f-278a788815c7"
      },
      "source": [
        "train_data = task.Dataset(file_path='https://autogluon.s3.amazonaws.com/datasets/Inc/train.csv')\n",
        "test_data = task.Dataset(file_path='https://autogluon.s3.amazonaws.com/datasets/Inc/test.csv')"
      ],
      "execution_count": 4,
      "outputs": [
        {
          "output_type": "stream",
          "text": [
            "Loaded data from: https://autogluon.s3.amazonaws.com/datasets/Inc/train.csv | Columns = 15 / 15 | Rows = 39073 -> 39073\n",
            "Loaded data from: https://autogluon.s3.amazonaws.com/datasets/Inc/test.csv | Columns = 15 / 15 | Rows = 9769 -> 9769\n"
          ],
          "name": "stderr"
        }
      ]
    },
    {
      "cell_type": "code",
      "metadata": {
        "id": "doezfFcKOKBD",
        "colab_type": "code",
        "colab": {
          "base_uri": "https://localhost:8080/",
          "height": 156
        },
        "outputId": "701aa45b-0f2b-4137-9353-9ca1aa8d9085"
      },
      "source": [
        "print(train_data.head())"
      ],
      "execution_count": 5,
      "outputs": [
        {
          "output_type": "stream",
          "text": [
            "   age   workclass  fnlwgt  ... hours-per-week  native-country   class\n",
            "0   25     Private  178478  ...             40   United-States   <=50K\n",
            "1   23   State-gov   61743  ...             35   United-States   <=50K\n",
            "2   46     Private  376789  ...             15   United-States   <=50K\n",
            "3   55           ?  200235  ...             50   United-States    >50K\n",
            "4   36     Private  224541  ...             40     El-Salvador   <=50K\n",
            "\n",
            "[5 rows x 15 columns]\n"
          ],
          "name": "stdout"
        }
      ]
    },
    {
      "cell_type": "code",
      "metadata": {
        "id": "l9_irMW5OVYb",
        "colab_type": "code",
        "colab": {
          "base_uri": "https://localhost:8080/",
          "height": 208
        },
        "outputId": "c0878ce5-c8f7-4ea8-8cfc-12a87c1c7774"
      },
      "source": [
        "print(train_data.describe())"
      ],
      "execution_count": 6,
      "outputs": [
        {
          "output_type": "stream",
          "text": [
            "                age        fnlwgt  ...  capital-loss  hours-per-week\n",
            "count  39073.000000  3.907300e+04  ...  39073.000000    39073.000000\n",
            "mean      38.616743  1.899605e+05  ...     88.002866       40.407673\n",
            "std       13.718529  1.055563e+05  ...    403.732117       12.362809\n",
            "min       17.000000  1.349200e+04  ...      0.000000        1.000000\n",
            "25%       28.000000  1.177740e+05  ...      0.000000       40.000000\n",
            "50%       37.000000  1.783410e+05  ...      0.000000       40.000000\n",
            "75%       48.000000  2.383420e+05  ...      0.000000       45.000000\n",
            "max       90.000000  1.490400e+06  ...   4356.000000       99.000000\n",
            "\n",
            "[8 rows x 6 columns]\n"
          ],
          "name": "stdout"
        }
      ]
    },
    {
      "cell_type": "code",
      "metadata": {
        "id": "20hS8cclOG1_",
        "colab_type": "code",
        "colab": {
          "base_uri": "https://localhost:8080/",
          "height": 814
        },
        "outputId": "7a99c607-ba0a-406c-b8f7-cc675ea63481"
      },
      "source": [
        "predictor = task.fit(train_data=train_data, label='class')\n",
        "performance = predictor.evaluate(test_data)"
      ],
      "execution_count": 9,
      "outputs": [
        {
          "output_type": "stream",
          "text": [
            "No output_directory specified. Models will be saved in: AutogluonModels/ag-20191213_031812/\n",
            "Beginning AutoGluon training ...\n",
            "Preprocessing data ...\n",
            "Here are the first 10 unique label values in your data:  [' <=50K' ' >50K']\n",
            "AutoGluon infers your prediction problem is: binary  (because only two unique label-values observed)\n",
            "If this is wrong, please specify `problem_type` argument in fit() instead (You may specify problem_type as one of: ['binary', 'multiclass', 'regression'])\n",
            "\n",
            "Selected class <--> label mapping:  class 1 =  >50K, class 0 =  <=50K\n",
            "\tData preprocessing and feature engineering runtime = 0.26s ...\n",
            "AutoGluon will gauge predictive performance using evaluation metric: accuracy\n",
            "To change this, specify the eval_metric argument of fit()\n",
            "Fitting model: RandomForestClassifierGini ...\n",
            "\t9.24s\t = Training runtime\n",
            "\t0.846\t = Validation accuracy score\n",
            "Fitting model: RandomForestClassifierEntr ...\n",
            "\t12.06s\t = Training runtime\n",
            "\t0.8504\t = Validation accuracy score\n",
            "Fitting model: ExtraTreesClassifierGini ...\n",
            "\t7.69s\t = Training runtime\n",
            "\t0.8428\t = Validation accuracy score\n",
            "Fitting model: ExtraTreesClassifierEntr ...\n",
            "\t8.44s\t = Training runtime\n",
            "\t0.8412\t = Validation accuracy score\n",
            "Fitting model: KNeighborsClassifierUnif ...\n",
            "\t0.19s\t = Training runtime\n",
            "\t0.7736\t = Validation accuracy score\n",
            "Fitting model: KNeighborsClassifierDist ...\n",
            "\t0.19s\t = Training runtime\n",
            "\t0.7644\t = Validation accuracy score\n",
            "Fitting model: LightGBMClassifier ...\n",
            "\t3.86s\t = Training runtime\n",
            "\t0.8672\t = Validation accuracy score\n",
            "Fitting model: CatboostClassifier ...\n",
            "\t41.75s\t = Training runtime\n",
            "\t0.8696\t = Validation accuracy score\n",
            "Fitting model: NeuralNetClassifier ...\n",
            "\t300.95s\t = Training runtime\n",
            "\t0.8528\t = Validation accuracy score\n",
            "Fitting model: LightGBMClassifierCustom ...\n",
            "\t5.25s\t = Training runtime\n",
            "\t0.8676\t = Validation accuracy score\n",
            "Fitting model: weighted_ensemble_l1 ...\n",
            "\t1.35s\t = Training runtime\n",
            "\t0.8736\t = Validation accuracy score\n",
            "AutoGluon training complete, total runtime = 414.25s ...\n"
          ],
          "name": "stderr"
        },
        {
          "output_type": "stream",
          "text": [
            "Predictive performance on given dataset: accuracy = 0.8759340771829256\n"
          ],
          "name": "stdout"
        }
      ]
    },
    {
      "cell_type": "code",
      "metadata": {
        "id": "gY8DpwIvHdVA",
        "colab_type": "code",
        "colab": {
          "base_uri": "https://localhost:8080/",
          "height": 594
        },
        "outputId": "6b98651c-2812-47c5-8f06-34aed4d2df38"
      },
      "source": [
        "predictor.leaderboard(test_data)"
      ],
      "execution_count": 10,
      "outputs": [
        {
          "output_type": "stream",
          "text": [
            "                         model  score_test  score_val    fit_time  pred_time  stack_level\n",
            "0         weighted_ensemble_l1    0.875934     0.8736    1.345826   0.001283            1\n",
            "1           LightGBMClassifier    0.875729     0.8672    3.860519   0.026975            0\n",
            "2           CatboostClassifier    0.875422     0.8696   41.747761   0.024242            0\n",
            "3     LightGBMClassifierCustom    0.874092     0.8676    5.250850   0.033541            0\n",
            "4   RandomForestClassifierGini    0.860886     0.8460    9.243727   0.315890            0\n",
            "5   RandomForestClassifierEntr    0.859760     0.8504   12.060516   0.315280            0\n",
            "6          NeuralNetClassifier    0.857713     0.8528  300.947292   0.454450            0\n",
            "7     ExtraTreesClassifierGini    0.847681     0.8428    7.691765   0.315266            0\n",
            "8     ExtraTreesClassifierEntr    0.847374     0.8412    8.441998   0.315834            0\n",
            "9     KNeighborsClassifierUnif    0.774695     0.7736    0.189286   0.110026            0\n",
            "10    KNeighborsClassifierDist    0.762105     0.7644    0.190122   0.110154            0\n"
          ],
          "name": "stdout"
        },
        {
          "output_type": "execute_result",
          "data": {
            "text/html": [
              "<div>\n",
              "<style scoped>\n",
              "    .dataframe tbody tr th:only-of-type {\n",
              "        vertical-align: middle;\n",
              "    }\n",
              "\n",
              "    .dataframe tbody tr th {\n",
              "        vertical-align: top;\n",
              "    }\n",
              "\n",
              "    .dataframe thead th {\n",
              "        text-align: right;\n",
              "    }\n",
              "</style>\n",
              "<table border=\"1\" class=\"dataframe\">\n",
              "  <thead>\n",
              "    <tr style=\"text-align: right;\">\n",
              "      <th></th>\n",
              "      <th>model</th>\n",
              "      <th>score_test</th>\n",
              "      <th>score_val</th>\n",
              "      <th>fit_time</th>\n",
              "      <th>pred_time</th>\n",
              "      <th>stack_level</th>\n",
              "    </tr>\n",
              "  </thead>\n",
              "  <tbody>\n",
              "    <tr>\n",
              "      <th>0</th>\n",
              "      <td>weighted_ensemble_l1</td>\n",
              "      <td>0.875934</td>\n",
              "      <td>0.8736</td>\n",
              "      <td>1.345826</td>\n",
              "      <td>0.001283</td>\n",
              "      <td>1</td>\n",
              "    </tr>\n",
              "    <tr>\n",
              "      <th>1</th>\n",
              "      <td>LightGBMClassifier</td>\n",
              "      <td>0.875729</td>\n",
              "      <td>0.8672</td>\n",
              "      <td>3.860519</td>\n",
              "      <td>0.026975</td>\n",
              "      <td>0</td>\n",
              "    </tr>\n",
              "    <tr>\n",
              "      <th>2</th>\n",
              "      <td>CatboostClassifier</td>\n",
              "      <td>0.875422</td>\n",
              "      <td>0.8696</td>\n",
              "      <td>41.747761</td>\n",
              "      <td>0.024242</td>\n",
              "      <td>0</td>\n",
              "    </tr>\n",
              "    <tr>\n",
              "      <th>3</th>\n",
              "      <td>LightGBMClassifierCustom</td>\n",
              "      <td>0.874092</td>\n",
              "      <td>0.8676</td>\n",
              "      <td>5.250850</td>\n",
              "      <td>0.033541</td>\n",
              "      <td>0</td>\n",
              "    </tr>\n",
              "    <tr>\n",
              "      <th>4</th>\n",
              "      <td>RandomForestClassifierGini</td>\n",
              "      <td>0.860886</td>\n",
              "      <td>0.8460</td>\n",
              "      <td>9.243727</td>\n",
              "      <td>0.315890</td>\n",
              "      <td>0</td>\n",
              "    </tr>\n",
              "    <tr>\n",
              "      <th>5</th>\n",
              "      <td>RandomForestClassifierEntr</td>\n",
              "      <td>0.859760</td>\n",
              "      <td>0.8504</td>\n",
              "      <td>12.060516</td>\n",
              "      <td>0.315280</td>\n",
              "      <td>0</td>\n",
              "    </tr>\n",
              "    <tr>\n",
              "      <th>6</th>\n",
              "      <td>NeuralNetClassifier</td>\n",
              "      <td>0.857713</td>\n",
              "      <td>0.8528</td>\n",
              "      <td>300.947292</td>\n",
              "      <td>0.454450</td>\n",
              "      <td>0</td>\n",
              "    </tr>\n",
              "    <tr>\n",
              "      <th>7</th>\n",
              "      <td>ExtraTreesClassifierGini</td>\n",
              "      <td>0.847681</td>\n",
              "      <td>0.8428</td>\n",
              "      <td>7.691765</td>\n",
              "      <td>0.315266</td>\n",
              "      <td>0</td>\n",
              "    </tr>\n",
              "    <tr>\n",
              "      <th>8</th>\n",
              "      <td>ExtraTreesClassifierEntr</td>\n",
              "      <td>0.847374</td>\n",
              "      <td>0.8412</td>\n",
              "      <td>8.441998</td>\n",
              "      <td>0.315834</td>\n",
              "      <td>0</td>\n",
              "    </tr>\n",
              "    <tr>\n",
              "      <th>9</th>\n",
              "      <td>KNeighborsClassifierUnif</td>\n",
              "      <td>0.774695</td>\n",
              "      <td>0.7736</td>\n",
              "      <td>0.189286</td>\n",
              "      <td>0.110026</td>\n",
              "      <td>0</td>\n",
              "    </tr>\n",
              "    <tr>\n",
              "      <th>10</th>\n",
              "      <td>KNeighborsClassifierDist</td>\n",
              "      <td>0.762105</td>\n",
              "      <td>0.7644</td>\n",
              "      <td>0.190122</td>\n",
              "      <td>0.110154</td>\n",
              "      <td>0</td>\n",
              "    </tr>\n",
              "  </tbody>\n",
              "</table>\n",
              "</div>"
            ],
            "text/plain": [
              "                         model  score_test  ...  pred_time  stack_level\n",
              "0         weighted_ensemble_l1    0.875934  ...   0.001283            1\n",
              "1           LightGBMClassifier    0.875729  ...   0.026975            0\n",
              "2           CatboostClassifier    0.875422  ...   0.024242            0\n",
              "3     LightGBMClassifierCustom    0.874092  ...   0.033541            0\n",
              "4   RandomForestClassifierGini    0.860886  ...   0.315890            0\n",
              "5   RandomForestClassifierEntr    0.859760  ...   0.315280            0\n",
              "6          NeuralNetClassifier    0.857713  ...   0.454450            0\n",
              "7     ExtraTreesClassifierGini    0.847681  ...   0.315266            0\n",
              "8     ExtraTreesClassifierEntr    0.847374  ...   0.315834            0\n",
              "9     KNeighborsClassifierUnif    0.774695  ...   0.110026            0\n",
              "10    KNeighborsClassifierDist    0.762105  ...   0.110154            0\n",
              "\n",
              "[11 rows x 6 columns]"
            ]
          },
          "metadata": {
            "tags": []
          },
          "execution_count": 10
        }
      ]
    },
    {
      "cell_type": "code",
      "metadata": {
        "id": "n9Wj5LXzVCkq",
        "colab_type": "code",
        "colab": {
          "base_uri": "https://localhost:8080/",
          "height": 1000
        },
        "outputId": "af7669cd-706e-42d4-f368-189050f2c39a"
      },
      "source": [
        "predictor.fit_summary()"
      ],
      "execution_count": 16,
      "outputs": [
        {
          "output_type": "stream",
          "text": [
            "*** Summary of fit() ***\n",
            "Number of models trained: 11\n",
            "Types of models trained: \n",
            "{'WeightedEnsembleModel', 'RFModel', 'KNNModel', 'LGBModel', 'TabularNeuralNetModel', 'CatboostModel'}\n",
            "Validation performance of individual models: {'RandomForestClassifierGini': 0.846, 'RandomForestClassifierEntr': 0.8504, 'ExtraTreesClassifierGini': 0.8428, 'ExtraTreesClassifierEntr': 0.8412, 'KNeighborsClassifierUnif': 0.7736, 'KNeighborsClassifierDist': 0.7644, 'LightGBMClassifier': 0.8672, 'CatboostClassifier': 0.8696, 'NeuralNetClassifier': 0.8528, 'LightGBMClassifierCustom': 0.8676, 'weighted_ensemble_l1': 0.8736}\n",
            "Best model (based on validation performance): weighted_ensemble_l1\n",
            "Hyperparameter-tuning used: False\n",
            "Bagging used: False \n",
            "Stack-ensembling used: False \n",
            "User-specified hyperparameters:\n",
            "{'NN': {'num_epochs': 500}, 'GBM': {'num_boost_round': 10000}, 'CAT': {'iterations': 10000}, 'RF': {'n_estimators': 300}, 'XT': {'n_estimators': 300}, 'KNN': {}, 'custom': ['GBM']}\n",
            "Plot summary of models saved to file: SummaryOfModels.html\n",
            "*** End of fit() summary ***\n"
          ],
          "name": "stdout"
        },
        {
          "output_type": "execute_result",
          "data": {
            "text/plain": [
              "{'feature_prune': False,\n",
              " 'hyperparameter_tune': False,\n",
              " 'hyperparameters_userspecified': {'CAT': {'iterations': 10000},\n",
              "  'GBM': {'num_boost_round': 10000},\n",
              "  'KNN': {},\n",
              "  'NN': {'num_epochs': 500},\n",
              "  'RF': {'n_estimators': 300},\n",
              "  'XT': {'n_estimators': 300},\n",
              "  'custom': ['GBM']},\n",
              " 'model_best': 'weighted_ensemble_l1',\n",
              " 'model_fit_times': {'CatboostClassifier': 41.747761487960815,\n",
              "  'ExtraTreesClassifierEntr': 8.441998481750488,\n",
              "  'ExtraTreesClassifierGini': 7.691765308380127,\n",
              "  'KNeighborsClassifierDist': 0.19012165069580078,\n",
              "  'KNeighborsClassifierUnif': 0.1892862319946289,\n",
              "  'LightGBMClassifier': 3.86051869392395,\n",
              "  'LightGBMClassifierCustom': 5.250850200653076,\n",
              "  'NeuralNetClassifier': 300.94729232788086,\n",
              "  'RandomForestClassifierEntr': 12.060515880584717,\n",
              "  'RandomForestClassifierGini': 9.243727445602417,\n",
              "  'weighted_ensemble_l1': 1.3458259105682373},\n",
              " 'model_hyperparams': {'CatboostClassifier': {'eval_metric': 'Accuracy',\n",
              "   'iterations': 10000,\n",
              "   'learning_rate': 0.1,\n",
              "   'random_seed': 0},\n",
              "  'ExtraTreesClassifierEntr': {'n_estimators': 300},\n",
              "  'ExtraTreesClassifierGini': {'n_estimators': 300},\n",
              "  'KNeighborsClassifierDist': {},\n",
              "  'KNeighborsClassifierUnif': {},\n",
              "  'LightGBMClassifier': {'boosting_type': 'gbdt',\n",
              "   'metric': 'binary_logloss,binary_error',\n",
              "   'num_boost_round': 10000,\n",
              "   'num_threads': -1,\n",
              "   'objective': 'binary',\n",
              "   'two_round': True,\n",
              "   'verbose': -1},\n",
              "  'LightGBMClassifierCustom': {'boosting_type': 'gbdt',\n",
              "   'feature_fraction': 0.9,\n",
              "   'learning_rate': 0.03,\n",
              "   'metric': 'binary_logloss,binary_error',\n",
              "   'min_data_in_leaf': 5,\n",
              "   'num_boost_round': 10000,\n",
              "   'num_leaves': 128,\n",
              "   'num_threads': -1,\n",
              "   'objective': 'binary',\n",
              "   'seed_value': 0,\n",
              "   'two_round': True,\n",
              "   'verbose': -1},\n",
              "  'NeuralNetClassifier': {'activation': 'relu',\n",
              "   'batch_size': 512,\n",
              "   'clip_gradient': 100.0,\n",
              "   'ctx': cpu(0),\n",
              "   'dropout_prob': 0.1,\n",
              "   'embed_exponent': 0.56,\n",
              "   'embedding_size_factor': 1.0,\n",
              "   'epochs_wo_improve': 20,\n",
              "   'layers': [256, 128],\n",
              "   'learning_rate': 0.0003,\n",
              "   'loss_function': SoftmaxCrossEntropyLoss(batch_axis=0, w=None),\n",
              "   'max_embedding_dim': 100,\n",
              "   'max_layer_width': 2056,\n",
              "   'momentum': 0.9,\n",
              "   'network_type': 'widedeep',\n",
              "   'num_dataloading_workers': 1,\n",
              "   'num_epochs': 500,\n",
              "   'numeric_embed_dim': 160,\n",
              "   'optimizer': 'adam',\n",
              "   'proc.embed_min_categories': 4,\n",
              "   'proc.impute_strategy': 'median',\n",
              "   'proc.max_category_levels': 500,\n",
              "   'proc.skew_threshold': 0.99,\n",
              "   'seed_value': None,\n",
              "   'use_batchnorm': True,\n",
              "   'weight_decay': 1e-06,\n",
              "   'y_range': None,\n",
              "   'y_range_extend': 0.05},\n",
              "  'RandomForestClassifierEntr': {'n_estimators': 300},\n",
              "  'RandomForestClassifierGini': {'n_estimators': 300},\n",
              "  'weighted_ensemble_l1': {}},\n",
              " 'model_paths': {'CatboostClassifier': 'AutogluonModels/ag-20191213_031812/models/CatboostClassifier/',\n",
              "  'ExtraTreesClassifierEntr': 'AutogluonModels/ag-20191213_031812/models/ExtraTreesClassifierEntr/',\n",
              "  'ExtraTreesClassifierGini': 'AutogluonModels/ag-20191213_031812/models/ExtraTreesClassifierGini/',\n",
              "  'KNeighborsClassifierDist': 'AutogluonModels/ag-20191213_031812/models/KNeighborsClassifierDist/',\n",
              "  'KNeighborsClassifierUnif': 'AutogluonModels/ag-20191213_031812/models/KNeighborsClassifierUnif/',\n",
              "  'LightGBMClassifier': 'AutogluonModels/ag-20191213_031812/models/LightGBMClassifier/',\n",
              "  'LightGBMClassifierCustom': 'AutogluonModels/ag-20191213_031812/models/LightGBMClassifierCustom/',\n",
              "  'NeuralNetClassifier': 'AutogluonModels/ag-20191213_031812/models/NeuralNetClassifier/',\n",
              "  'RandomForestClassifierEntr': 'AutogluonModels/ag-20191213_031812/models/RandomForestClassifierEntr/',\n",
              "  'RandomForestClassifierGini': 'AutogluonModels/ag-20191213_031812/models/RandomForestClassifierGini/',\n",
              "  'weighted_ensemble_l1': 'AutogluonModels/ag-20191213_031812/models/weighted_ensemble_l1/'},\n",
              " 'model_performance': {'CatboostClassifier': 0.8696,\n",
              "  'ExtraTreesClassifierEntr': 0.8412,\n",
              "  'ExtraTreesClassifierGini': 0.8428,\n",
              "  'KNeighborsClassifierDist': 0.7644,\n",
              "  'KNeighborsClassifierUnif': 0.7736,\n",
              "  'LightGBMClassifier': 0.8672,\n",
              "  'LightGBMClassifierCustom': 0.8676,\n",
              "  'NeuralNetClassifier': 0.8528,\n",
              "  'RandomForestClassifierEntr': 0.8504,\n",
              "  'RandomForestClassifierGini': 0.846,\n",
              "  'weighted_ensemble_l1': 0.8736},\n",
              " 'model_pred_times': {'CatboostClassifier': 0.024242401123046875,\n",
              "  'ExtraTreesClassifierEntr': 0.31583356857299805,\n",
              "  'ExtraTreesClassifierGini': 0.31526613235473633,\n",
              "  'KNeighborsClassifierDist': 0.1101536750793457,\n",
              "  'KNeighborsClassifierUnif': 0.11002588272094727,\n",
              "  'LightGBMClassifier': 0.02697467803955078,\n",
              "  'LightGBMClassifierCustom': 0.03354072570800781,\n",
              "  'NeuralNetClassifier': 0.4544496536254883,\n",
              "  'RandomForestClassifierEntr': 0.3152797222137451,\n",
              "  'RandomForestClassifierGini': 0.3158900737762451,\n",
              "  'weighted_ensemble_l1': 0.001283407211303711},\n",
              " 'model_types': {'CatboostClassifier': 'CatboostModel',\n",
              "  'ExtraTreesClassifierEntr': 'RFModel',\n",
              "  'ExtraTreesClassifierGini': 'RFModel',\n",
              "  'KNeighborsClassifierDist': 'KNNModel',\n",
              "  'KNeighborsClassifierUnif': 'KNNModel',\n",
              "  'LightGBMClassifier': 'LGBModel',\n",
              "  'LightGBMClassifierCustom': 'LGBModel',\n",
              "  'NeuralNetClassifier': 'TabularNeuralNetModel',\n",
              "  'RandomForestClassifierEntr': 'RFModel',\n",
              "  'RandomForestClassifierGini': 'RFModel',\n",
              "  'weighted_ensemble_l1': 'WeightedEnsembleModel'},\n",
              " 'num_bagging_folds': 0,\n",
              " 'num_classes': 2,\n",
              " 'stack_ensemble_levels': 0}"
            ]
          },
          "metadata": {
            "tags": []
          },
          "execution_count": 16
        }
      ]
    }
  ]
}