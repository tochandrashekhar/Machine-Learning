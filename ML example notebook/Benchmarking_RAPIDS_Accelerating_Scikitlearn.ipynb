{
  "nbformat": 4,
  "nbformat_minor": 0,
  "metadata": {
    "colab": {
      "name": "Benchmarking RAPIDS - Accelerating Scikitlearn.ipynb",
      "provenance": [],
      "collapsed_sections": [],
      "include_colab_link": true
    },
    "kernelspec": {
      "name": "python3",
      "display_name": "Python 3"
    },
    "accelerator": "GPU"
  },
  "cells": [
    {
      "cell_type": "markdown",
      "metadata": {
        "id": "view-in-github",
        "colab_type": "text"
      },
      "source": [
        "<a href=\"https://colab.research.google.com/github/srivatsan88/YouTubeLI/blob/master/Benchmarking_RAPIDS_Accelerating_Scikitlearn.ipynb\" target=\"_parent\"><img src=\"https://colab.research.google.com/assets/colab-badge.svg\" alt=\"Open In Colab\"/></a>"
      ]
    },
    {
      "cell_type": "code",
      "metadata": {
        "id": "tm4mqdNMJRGd",
        "colab_type": "code",
        "outputId": "a8943905-b8f0-4c8f-b0a2-6f1aab4e7cef",
        "colab": {
          "base_uri": "https://localhost:8080/",
          "height": 326
        }
      },
      "source": [
        "!nvidia-smi"
      ],
      "execution_count": 0,
      "outputs": [
        {
          "output_type": "stream",
          "text": [
            "Sat Jan 11 19:06:15 2020       \n",
            "+-----------------------------------------------------------------------------+\n",
            "| NVIDIA-SMI 440.44       Driver Version: 418.67       CUDA Version: 10.1     |\n",
            "|-------------------------------+----------------------+----------------------+\n",
            "| GPU  Name        Persistence-M| Bus-Id        Disp.A | Volatile Uncorr. ECC |\n",
            "| Fan  Temp  Perf  Pwr:Usage/Cap|         Memory-Usage | GPU-Util  Compute M. |\n",
            "|===============================+======================+======================|\n",
            "|   0  Tesla P100-PCIE...  Off  | 00000000:00:04.0 Off |                    0 |\n",
            "| N/A   37C    P0    28W / 250W |      0MiB / 16280MiB |      0%      Default |\n",
            "+-------------------------------+----------------------+----------------------+\n",
            "                                                                               \n",
            "+-----------------------------------------------------------------------------+\n",
            "| Processes:                                                       GPU Memory |\n",
            "|  GPU       PID   Type   Process name                             Usage      |\n",
            "|=============================================================================|\n",
            "|  No running processes found                                                 |\n",
            "+-----------------------------------------------------------------------------+\n"
          ],
          "name": "stdout"
        }
      ]
    },
    {
      "cell_type": "code",
      "metadata": {
        "id": "oiQRzo0zGrCK",
        "colab_type": "code",
        "outputId": "f948886a-3daa-424c-dbe3-64cfd4a93e7c",
        "colab": {
          "base_uri": "https://localhost:8080/",
          "height": 1000
        }
      },
      "source": [
        "#This install will ask for 2 prompts\n",
        "#Start with 0.11 and then subsequent prompt say Y (only for 0.11). If it hangs in solving dependency for more than 2 min than kill,\n",
        "#restart with 0.10 install\n",
        "#This script for 0.10 and 0.11 has some bugs so follow subsequent steps\n",
        "!wget -nc https://github.com/rapidsai/notebooks-extended/raw/master/utils/rapids-colab.sh\n",
        "!bash rapids-colab.sh\n",
        "\n",
        "import sys, os\n",
        "\n",
        "dist_package_index = sys.path.index(\"/usr/local/lib/python3.6/dist-packages\")\n",
        "sys.path = sys.path[:dist_package_index] + [\"/usr/local/lib/python3.6/site-packages\"] + sys.path[dist_package_index:]\n",
        "sys.path\n",
        "if os.path.exists('update_pyarrow.py'): ## This file only exists if you're using RAPIDS version 0.11 or higher\n",
        "  exec(open(\"update_pyarrow.py\").read(), globals())\n",
        "\n",
        "sys.path.append('/usr/local/lib/python3.6/site-packages/')"
      ],
      "execution_count": 0,
      "outputs": [
        {
          "output_type": "stream",
          "text": [
            "--2020-01-11 19:06:17--  https://github.com/rapidsai/notebooks-extended/raw/master/utils/rapids-colab.sh\n",
            "Resolving github.com (github.com)... 140.82.118.3\n",
            "Connecting to github.com (github.com)|140.82.118.3|:443... connected.\n",
            "HTTP request sent, awaiting response... 301 Moved Permanently\n",
            "Location: https://github.com/rapidsai/notebooks-contrib/raw/master/utils/rapids-colab.sh [following]\n",
            "--2020-01-11 19:06:17--  https://github.com/rapidsai/notebooks-contrib/raw/master/utils/rapids-colab.sh\n",
            "Reusing existing connection to github.com:443.\n",
            "HTTP request sent, awaiting response... 302 Found\n",
            "Location: https://raw.githubusercontent.com/rapidsai/notebooks-contrib/master/utils/rapids-colab.sh [following]\n",
            "--2020-01-11 19:06:18--  https://raw.githubusercontent.com/rapidsai/notebooks-contrib/master/utils/rapids-colab.sh\n",
            "Resolving raw.githubusercontent.com (raw.githubusercontent.com)... 151.101.0.133, 151.101.64.133, 151.101.128.133, ...\n",
            "Connecting to raw.githubusercontent.com (raw.githubusercontent.com)|151.101.0.133|:443... connected.\n",
            "HTTP request sent, awaiting response... 200 OK\n",
            "Length: 5287 (5.2K) [text/plain]\n",
            "Saving to: ‘rapids-colab.sh’\n",
            "\n",
            "\rrapids-colab.sh       0%[                    ]       0  --.-KB/s               \rrapids-colab.sh     100%[===================>]   5.16K  --.-KB/s    in 0s      \n",
            "\n",
            "2020-01-11 19:06:18 (85.6 MB/s) - ‘rapids-colab.sh’ saved [5287/5287]\n",
            "\n",
            "PLEASE READ\n",
            "********************************************************************************************************\n",
            "Colab v0.11+ Migration Notice:\n",
            " \n",
            "There has been a NECESSARY Colab script code change for VERSION 0.11+ that MAY REQUIRE an update how you install RAPIDS into Colab!  \n",
            "Not all Colab notebooks are updated (like personal Colabs) and while the script will install RAPIDS correctly, \n",
            "a neccessary script to update pyarrow to v0.15.x to be compatible with RAPIDS v0.11+ may not run, and your RAPIDS instance\n",
            "will BREAK\n",
            " \n",
            "Please enter in the box your desired RAPIDS version (ex: '0.10' or '0.11', between 0.9 to 0.11, without the quotes) and hit Enter. \n",
            "0.10\n",
            "You may not have to change anything.  All versions of our script should work with this version of Colab\n",
            "--2020-01-11 19:06:25--  https://github.com/rapidsai/notebooks-contrib/raw/master/utils/env-check.py\n",
            "Resolving github.com (github.com)... 140.82.118.3\n",
            "Connecting to github.com (github.com)|140.82.118.3|:443... connected.\n",
            "HTTP request sent, awaiting response... 302 Found\n",
            "Location: https://raw.githubusercontent.com/rapidsai/notebooks-contrib/master/utils/env-check.py [following]\n",
            "--2020-01-11 19:06:26--  https://raw.githubusercontent.com/rapidsai/notebooks-contrib/master/utils/env-check.py\n",
            "Resolving raw.githubusercontent.com (raw.githubusercontent.com)... 151.101.0.133, 151.101.64.133, 151.101.128.133, ...\n",
            "Connecting to raw.githubusercontent.com (raw.githubusercontent.com)|151.101.0.133|:443... connected.\n",
            "HTTP request sent, awaiting response... 200 OK\n",
            "Length: 918 [text/plain]\n",
            "Saving to: ‘env-check.py’\n",
            "\n",
            "env-check.py        100%[===================>]     918  --.-KB/s    in 0s      \n",
            "\n",
            "2020-01-11 19:06:26 (248 MB/s) - ‘env-check.py’ saved [918/918]\n",
            "\n",
            "Checking for GPU type:\n",
            "***********************************************************************\n",
            "Woo! Your instance has the right kind of GPU, a 'Tesla P100-PCIE-16GB'!\n",
            "***********************************************************************\n",
            "\n",
            "Removing conflicting packages, will replace with RAPIDS compatible versions\n",
            "Uninstalling xgboost-0.90:\n",
            "  Successfully uninstalled xgboost-0.90\n",
            "Uninstalling dask-2.9.1:\n",
            "  Successfully uninstalled dask-2.9.1\n",
            "Uninstalling distributed-1.25.3:\n",
            "  Successfully uninstalled distributed-1.25.3\n",
            "Installing conda\n",
            "--2020-01-11 19:06:35--  https://repo.continuum.io/miniconda/Miniconda3-4.5.4-Linux-x86_64.sh\n",
            "Resolving repo.continuum.io (repo.continuum.io)... 104.18.200.79, 104.18.201.79, 2606:4700::6812:c94f, ...\n",
            "Connecting to repo.continuum.io (repo.continuum.io)|104.18.200.79|:443... connected.\n",
            "HTTP request sent, awaiting response... 200 OK\n",
            "Length: 58468498 (56M) [application/x-sh]\n",
            "Saving to: ‘Miniconda3-4.5.4-Linux-x86_64.sh’\n",
            "\n",
            "Miniconda3-4.5.4-Li 100%[===================>]  55.76M  73.2MB/s    in 0.8s    \n",
            "\n",
            "2020-01-11 19:06:36 (73.2 MB/s) - ‘Miniconda3-4.5.4-Linux-x86_64.sh’ saved [58468498/58468498]\n",
            "\n",
            "PREFIX=/usr/local\n",
            "installing: python-3.6.5-hc3d631a_2 ...\n",
            "Python 3.6.5 :: Anaconda, Inc.\n",
            "installing: ca-certificates-2018.03.07-0 ...\n",
            "installing: conda-env-2.6.0-h36134e3_1 ...\n",
            "installing: libgcc-ng-7.2.0-hdf63c60_3 ...\n",
            "installing: libstdcxx-ng-7.2.0-hdf63c60_3 ...\n",
            "installing: libffi-3.2.1-hd88cf55_4 ...\n",
            "installing: ncurses-6.1-hf484d3e_0 ...\n",
            "installing: openssl-1.0.2o-h20670df_0 ...\n",
            "installing: tk-8.6.7-hc745277_3 ...\n",
            "installing: xz-5.2.4-h14c3975_4 ...\n",
            "installing: yaml-0.1.7-had09818_2 ...\n",
            "installing: zlib-1.2.11-ha838bed_2 ...\n",
            "installing: libedit-3.1.20170329-h6b74fdf_2 ...\n",
            "installing: readline-7.0-ha6073c6_4 ...\n",
            "installing: sqlite-3.23.1-he433501_0 ...\n",
            "installing: asn1crypto-0.24.0-py36_0 ...\n",
            "installing: certifi-2018.4.16-py36_0 ...\n",
            "installing: chardet-3.0.4-py36h0f667ec_1 ...\n",
            "installing: idna-2.6-py36h82fb2a8_1 ...\n",
            "installing: pycosat-0.6.3-py36h0a5515d_0 ...\n",
            "installing: pycparser-2.18-py36hf9f622e_1 ...\n",
            "installing: pysocks-1.6.8-py36_0 ...\n",
            "installing: ruamel_yaml-0.15.37-py36h14c3975_2 ...\n",
            "installing: six-1.11.0-py36h372c433_1 ...\n",
            "installing: cffi-1.11.5-py36h9745a5d_0 ...\n",
            "installing: setuptools-39.2.0-py36_0 ...\n",
            "installing: cryptography-2.2.2-py36h14c3975_0 ...\n",
            "installing: wheel-0.31.1-py36_0 ...\n",
            "installing: pip-10.0.1-py36_0 ...\n",
            "installing: pyopenssl-18.0.0-py36_0 ...\n",
            "installing: urllib3-1.22-py36hbe7ace6_0 ...\n",
            "installing: requests-2.18.4-py36he2e5f8d_1 ...\n",
            "installing: conda-4.5.4-py36_0 ...\n",
            "installation finished.\n",
            "WARNING:\n",
            "    You currently have a PYTHONPATH environment variable set. This may cause\n",
            "    unexpected behavior when running the Python interpreter in Miniconda3.\n",
            "    For best results, please verify that your PYTHONPATH only points to\n",
            "    directories of packages that are compatible with the Python interpreter\n",
            "    in Miniconda3: /usr/local\n",
            "Installing RAPIDS 0.10 packages from the stable release channel\n",
            "Please standby, this will take a few minutes...\n",
            "Solving environment: - \b\b\\ \b\b| \b\b/ \b\b- \b\b\\ \b\b| \b\b/ \b\b- \b\b\\ \b\b| \b\b/ \b\b- \b\b\\ \b\b| \b\b/ \b\b- \b\b\\ \b\b| \b\b/ \b\b- \b\b\\ \b\b| \b\b/ \b\b- \b\b\\ \b\b| \b\b/ \b\b- \b\b\\ \b\b| \b\b/ \b\b- \b\b\\ \b\b| \b\b/ \b\b- \b\b\\ \b\b| \b\b/ \b\b- \b\b\\ \b\b| \b\b/ \b\b- \b\b\\ \b\b| \b\b/ \b\b- \b\b\\ \b\b| \b\b/ \b\b- \b\b\\ \b\b| \b\b/ \b\b- \b\b\\ \b\b| \b\b/ \b\b- \b\b\\ \b\b| \b\b/ \b\b- \b\b\\ \b\b| \b\b/ \b\b- \b\b\\ \b\b| \b\b/ \b\b- \b\b\\ \b\b| \b\b/ \b\b- \b\b\\ \b\b| \b\b/ \b\b- \b\b\\ \b\b| \b\b/ \b\b- \b\b\\ \b\b| \b\b/ \b\b- \b\b\\ \b\b| \b\b/ \b\b- \b\b\\ \b\b| \b\b/ \b\b- \b\b\\ \b\b| \b\b/ \b\b- \b\b\\ \b\b| \b\b/ \b\b- \b\b\\ \b\b| \b\b/ \b\b- \b\b\\ \b\b| \b\b/ \b\b- \b\b\\ \b\b| \b\b/ \b\b- \b\b\\ \b\b| \b\b/ \b\b- \b\b\\ \b\b| \b\b/ \b\b- \b\b\\ \b\b| \b\b/ \b\b- \b\b\\ \b\b| \b\b/ \b\b- \b\b\\ \b\b| \b\b/ \b\b- \b\b\\ \b\b| \b\b/ \b\b- \b\b\\ \b\b| \b\b/ \b\b- \b\b\\ \b\b| \b\b/ \b\b- \b\b\\ \b\b| \b\b/ \b\b- \b\b\\ \b\b| \b\b/ \b\b- \b\b\\ \b\b| \b\b/ \b\b- \b\b\\ \b\b| \b\b/ \b\b- \b\b\\ \b\b| \b\b/ \b\b- \b\b\\ \b\b| \b\b/ \b\b- \b\b\\ \b\b| \b\b/ \b\b- \b\b\\ \b\b| \b\b/ \b\b- \b\b\\ \b\b| \b\b/ \b\b- \b\b\\ \b\b| \b\b/ \b\b- \b\b\\ \b\b| \b\b/ \b\b- \b\b\\ \b\b| \b\b/ \b\b- \b\b\\ \b\b| \b\b/ \b\b- \b\b\\ \b\b| \b\b/ \b\b- \b\b\\ \b\b| \b\b/ \b\b- \b\b\\ \b\b| \b\b/ \b\b- \b\b\\ \b\b| \b\b/ \b\b- \b\b\\ \b\b| \b\b/ \b\b- \b\b\\ \b\b| \b\b/ \b\b- \b\b\\ \b\b| \b\b/ \b\b- \b\b\\ \b\b| \b\b/ \b\b- \b\b\\ \b\b| \b\b/ \b\b- \b\b\\ \b\b| \b\b/ \b\b- \b\b\\ \b\b| \b\b/ \b\b- \b\b\\ \b\b| \b\b/ \b\b- \b\b\\ \b\b| \b\b/ \b\b- \b\b\\ \b\b| \b\b/ \b\b- \b\b\\ \b\b| \b\b/ \b\b- \b\b\\ \b\b| \b\b/ \b\b- \b\b\\ \b\b| \b\b/ \b\b- \b\b\\ \b\b| \b\b/ \b\b- \b\b\\ \b\b| \b\b/ \b\b- \b\b\\ \b\b| \b\b/ \b\b- \b\b\\ \b\b| \b\b/ \b\b- \b\b\\ \b\b| \b\b/ \b\b- \b\b\\ \b\b| \b\b/ \b\b- \b\b\\ \b\b| \b\b/ \b\b- \b\b\\ \b\b| \b\b/ \b\b- \b\b\\ \b\b| \b\b/ \b\b- \b\b\\ \b\b| \b\b/ \b\b- \b\b\\ \b\b| \b\b/ \b\b- \b\b\\ \b\b| \b\b/ \b\b- \b\b\\ \b\b| \b\b/ \b\b- \b\b\\ \b\b| \b\b/ \b\b- \b\b\\ \b\b| \b\b/ \b\b- \b\b\\ \b\b| \b\b/ \b\b- \b\b\\ \b\b| \b\b/ \b\b- \b\b\\ \b\b| \b\b/ \b\b- \b\b\\ \b\b| \b\b/ \b\b- \b\b\\ \b\b| \b\b/ \b\b- \b\b\\ \b\b| \b\b/ \b\b- \b\b\\ \b\b| \b\b/ \b\b- \b\b\\ \b\b| \b\b/ \b\b- \b\b\\ \b\b| \b\b/ \b\b- \b\b\\ \b\b| \b\b/ \b\b- \b\b\\ \b\b| \b\b/ \b\b- \b\b\\ \b\b| \b\b/ \b\b- \b\b\\ \b\b| \b\b/ \b\b- \b\b\\ \b\b| \b\b/ \b\b- \b\b\\ \b\b| \b\b/ \b\b- \b\b\\ \b\b| \b\b/ \b\b- \b\b\\ \b\b| \b\b/ \b\b- \b\b\\ \b\b| \b\b/ \b\b- \b\b\\ \b\b| \b\b/ \b\b- \b\b\\ \b\b| \b\b/ \b\b- \b\b\\ \b\b| \b\b/ \b\b- \b\b\\ \b\b| \b\b/ \b\b- \b\b\\ \b\b| \b\b/ \b\b- \b\b\\ \b\b| \b\b/ \b\b- \b\b\\ \b\b| \b\b/ \b\b- \b\b\\ \b\b| \b\b/ \b\b- \b\b\\ \b\b| \b\b/ \b\b- \b\b\\ \b\b| \b\b/ \b\b- \b\b\\ \b\b| \b\b/ \b\b- \b\b\\ \b\b| \b\b/ \b\b- \b\b\\ \b\b| \b\b/ \b\b- \b\b\\ \b\b| \b\b/ \b\b- \b\b\\ \b\b| \b\b/ \b\b- \b\b\\ \b\b| \b\b/ \b\b- \b\b\\ \b\b| \b\b/ \b\b- \b\b\\ \b\b| \b\b/ \b\b- \b\b\\ \b\b| \b\b/ \b\b- \b\b\\ \b\b| \b\b/ \b\b- \b\b\\ \b\b| \b\b/ \b\b- \b\b\\ \b\b| \b\b/ \b\b- \b\b\\ \b\b| \b\b/ \b\b- \b\b\\ \b\b| \b\b/ \b\b- \b\b\\ \b\b| \b\b/ \b\b- \b\b\\ \b\b| \b\b/ \b\b- \b\b\\ \b\b| \b\b/ \b\b- \b\b\\ \b\b| \b\b/ \b\b- \b\b\\ \b\b| \b\b/ \b\b- \b\b\\ \b\b| \b\b/ \b\b- \b\b\\ \b\b| \b\b/ \b\b- \b\b\\ \b\b| \b\b/ \b\b- \b\b\\ \b\b| \b\b/ \b\b- \b\b\\ \b\b| \b\b/ \b\b- \b\b\\ \b\b| \b\b/ \b\b- \b\b\\ \b\b| \b\b/ \b\b- \b\b\\ \b\b| \b\b/ \b\b- \b\b\\ \b\b| \b\b/ \b\b- \b\b\\ \b\b| \b\b/ \b\b- \b\b\\ \b\b| \b\b/ \b\b- \b\b\\ \b\b| \b\b/ \b\b- \b\b\\ \b\b| \b\b/ \b\b- \b\b\\ \b\b| \b\b/ \b\b- \b\b\\ \b\b| \b\b/ \b\b- \b\b\\ \b\b| \b\b/ \b\b- \b\b\\ \b\b| \b\b/ \b\b- \b\b\\ \b\b| \b\b/ \b\b- \b\b\\ \b\b| \b\b/ \b\b- \b\b\\ \b\b| \b\b/ \b\b- \b\b\\ \b\b| \b\b/ \b\b- \b\b\\ \b\b| \b\b/ \b\b- \b\b\\ \b\b| \b\b/ \b\b- \b\b\\ \b\b| \b\b/ \b\b- \b\b\\ \b\b| \b\b/ \b\b- \b\b\\ \b\b| \b\b/ \b\b- \b\b\\ \b\b| \b\b/ \b\b- \b\b\\ \b\b| \b\b/ \b\b- \b\b\\ \b\b| \b\b/ \b\b- \b\b\\ \b\b| \b\b/ \b\b- \b\b\\ \b\b| \b\b/ \b\b- \b\b\\ \b\b| \b\b/ \b\b- \b\b\\ \b\b| \b\b/ \b\b- \b\b\\ \b\b| \b\b/ \b\b- \b\b\\ \b\b| \b\b/ \b\b- \b\b\\ \b\b| \b\b/ \b\b- \b\b\\ \b\b| \b\b/ \b\b- \b\b\\ \b\b| \b\b/ \b\b- \b\b\\ \b\b| \b\b/ \b\b- \b\b\\ \b\b| \b\b/ \b\b- \b\b\\ \b\b| \b\b/ \b\b- \b\b\\ \b\b| \b\b/ \b\b- \b\b\\ \b\b| \b\b/ \b\b- \b\b\\ \b\b| \b\b/ \b\b- \b\b\\ \b\b| \b\b/ \b\b- \b\b\\ \b\b| \b\b/ \b\b- \b\b\\ \b\b| \b\b/ \b\b- \b\b\\ \b\b| \b\b/ \b\b- \b\b\\ \b\b| \b\b/ \b\b- \b\b\\ \b\b| \b\b/ \b\b- \b\b\\ \b\b| \b\b/ \b\b- \b\b\\ \b\b| \b\b/ \b\b- \b\b\\ \b\b| \b\b/ \b\b- \b\b\\ \b\b| \b\b/ \b\b- \b\b\\ \b\b| \b\b/ \b\b- \b\b\\ \b\b| \b\b/ \b\b- \b\b\\ \b\b| \b\b/ \b\b- \b\b\\ \b\b| \b\b/ \b\b- \b\b\\ \b\b| \b\b/ \b\b- \b\b\\ \b\b| \b\b/ \b\b- \b\b\\ \b\b| \b\b/ \b\b- \b\b\\ \b\b| \b\b/ \b\b- \b\b\\ \b\b| \b\b/ \b\b- \b\b\\ \b\b| \b\b/ \b\b- \b\b\\ \b\b| \b\bdone\n",
            "\n",
            "\n",
            "==> WARNING: A newer version of conda exists. <==\n",
            "  current version: 4.5.4\n",
            "  latest version: 4.8.0\n",
            "\n",
            "Please update conda by running\n",
            "\n",
            "    $ conda update -n base conda\n",
            "\n",
            "\n",
            "\n",
            "## Package Plan ##\n",
            "\n",
            "  environment location: /usr/local\n",
            "\n",
            "  added / updated specs: \n",
            "    - cudatoolkit=10.1\n",
            "    - cudf=0.10\n",
            "    - cugraph\n",
            "    - cuml\n",
            "    - cuspatial\n",
            "    - gcsfs\n",
            "    - pynvml\n",
            "    - python=3.6\n",
            "\n",
            "\n",
            "The following packages will be downloaded:\n",
            "\n",
            "    package                    |            build\n",
            "    ---------------------------|-----------------\n",
            "    grpc-cpp-1.25.0            |       h18db393_0         5.1 MB  conda-forge\n",
            "    arrow-cpp-0.14.1           |   py36h6b969ab_1        17.3 MB  conda-forge\n",
            "    libgfortran-ng-7.3.0       |       hdf63c60_4         1.7 MB  conda-forge\n",
            "    _openmp_mutex-4.5          |            0_gnu         435 KB  conda-forge\n",
            "    cryptography-2.8           |   py36h72c5cf5_1         616 KB  conda-forge\n",
            "    cuspatial-0.10.0           |           py36_0         456 KB  rapidsai\n",
            "    glog-0.4.0                 |       he1b5a44_1         104 KB  conda-forge\n",
            "    gflags-2.2.2               |    he1b5a44_1002         175 KB  conda-forge\n",
            "    decorator-4.4.1            |             py_0          11 KB  conda-forge\n",
            "    requests-oauthlib-1.2.0    |             py_0          19 KB  conda-forge\n",
            "    python-3.6.7               |    h357f687_1006        34.6 MB  conda-forge\n",
            "    libopenblas-0.3.7          |       h5ec1e0e_6         7.6 MB  conda-forge\n",
            "    zstd-1.4.0                 |       h3b9ef0a_0         928 KB  conda-forge\n",
            "    openssl-1.1.1d             |       h516909a_0         2.1 MB  conda-forge\n",
            "    google-auth-oauthlib-0.4.1 |             py_0          18 KB  conda-forge\n",
            "    zlib-1.2.11                |    h516909a_1006         105 KB  conda-forge\n",
            "    numba-0.47.0               |   py36hb3f55d8_0         3.4 MB  conda-forge\n",
            "    python-dateutil-2.8.1      |             py_0         220 KB  conda-forge\n",
            "    fastavro-0.22.9            |   py36h516909a_0         409 KB  conda-forge\n",
            "    libcudf-0.10.0             |       cuda10.1_0        32.3 MB  rapidsai\n",
            "    cuml-0.10.0                |  cuda10.1_py36_0         6.6 MB  rapidsai\n",
            "    rsa-4.0                    |             py_0          27 KB  conda-forge\n",
            "    nccl-2.4.6.1               |       cuda10.1_0        66.9 MB  nvidia\n",
            "    libcugraph-0.10.0          |       cuda10.1_0        16.1 MB  rapidsai\n",
            "    libcumlprims-0.10.0        |       cuda10.1_0         4.2 MB  nvidia\n",
            "    cudatoolkit-10.1.243       |       h6bb024c_0       513.2 MB  nvidia\n",
            "    xz-5.2.4                   |    h14c3975_1001         366 KB  conda-forge\n",
            "    ca-certificates-2019.11.28 |       hecc5488_0         145 KB  conda-forge\n",
            "    pynvml-8.0.4               |             py_0          31 KB  conda-forge\n",
            "    brotli-1.0.7               |    he1b5a44_1000         1.0 MB  conda-forge\n",
            "    urllib3-1.25.7             |           py36_0         160 KB  conda-forge\n",
            "    cugraph-0.10.0             |           py36_0         1.7 MB  rapidsai\n",
            "    blinker-1.4                |             py_1          13 KB  conda-forge\n",
            "    dlpack-0.2                 |       he1b5a44_1          13 KB  conda-forge\n",
            "    libprotobuf-3.8.0          |       h8b12597_0         4.7 MB  conda-forge\n",
            "    cffi-1.13.2                |   py36h8022711_0         220 KB  conda-forge\n",
            "    libffi-3.2.1               |    he1b5a44_1006          46 KB  conda-forge\n",
            "    google-auth-1.10.0         |             py_0          47 KB  conda-forge\n",
            "    wheel-0.33.6               |           py36_0          35 KB  conda-forge\n",
            "    readline-8.0               |       hf8c457e_0         441 KB  conda-forge\n",
            "    cudf-0.10.0                |           py36_0         7.2 MB  rapidsai\n",
            "    llvmlite-0.31.0            |   py36h8b12597_0         337 KB  conda-forge\n",
            "    oauthlib-3.0.1             |             py_0          82 KB  conda-forge\n",
            "    lz4-c-1.8.3                |    he1b5a44_1001         187 KB  conda-forge\n",
            "    pytz-2019.3                |             py_0         237 KB  conda-forge\n",
            "    nvstrings-0.10.0           |           py36_0         126 KB  rapidsai\n",
            "    parquet-cpp-1.5.1          |                2           3 KB  conda-forge\n",
            "    sqlite-3.30.1              |       hcee41ef_0         2.0 MB  conda-forge\n",
            "    certifi-2019.11.28         |           py36_0         149 KB  conda-forge\n",
            "    pyjwt-1.7.1                |             py_0          17 KB  conda-forge\n",
            "    ncurses-6.1                |    hf484d3e_1002         1.3 MB  conda-forge\n",
            "    libstdcxx-ng-9.2.0         |       hdf63c60_2         4.5 MB  conda-forge\n",
            "    pip-19.3.1                 |           py36_0         1.9 MB  conda-forge\n",
            "    cachetools-3.1.1           |             py_0          11 KB  conda-forge\n",
            "    libgcc-ng-9.2.0            |       h24d8f2e_2         8.2 MB  conda-forge\n",
            "    rmm-0.10.0                 |           py36_0         135 KB  rapidsai\n",
            "    liblapack-3.8.0            |      14_openblas          10 KB  conda-forge\n",
            "    six-1.13.0                 |           py36_0          22 KB  conda-forge\n",
            "    pycparser-2.19             |           py36_1         173 KB  conda-forge\n",
            "    requests-2.22.0            |           py36_1          84 KB  conda-forge\n",
            "    libllvm8-8.0.1             |       hc9558a2_0        23.2 MB  conda-forge\n",
            "    pyasn1-0.4.8               |             py_0          53 KB  conda-forge\n",
            "    pyopenssl-19.1.0           |           py36_0          83 KB  conda-forge\n",
            "    libcuspatial-0.10.0        |       cuda10.1_0         1.6 MB  rapidsai\n",
            "    numpy-1.17.3               |   py36h95a1406_0         5.2 MB  conda-forge\n",
            "    libblas-3.8.0              |      14_openblas          10 KB  conda-forge\n",
            "    c-ares-1.15.0              |    h516909a_1001         100 KB  conda-forge\n",
            "    _libgcc_mutex-0.1          |      conda_forge           3 KB  conda-forge\n",
            "    libcblas-3.8.0             |      14_openblas          10 KB  conda-forge\n",
            "    pyasn1-modules-0.2.7       |             py_0          60 KB  conda-forge\n",
            "    boost-cpp-1.70.0           |       h8e57a91_2        21.1 MB  conda-forge\n",
            "    tk-8.6.10                  |       hed695b0_0         3.2 MB  conda-forge\n",
            "    pysocks-1.7.1              |           py36_0          27 KB  conda-forge\n",
            "    chardet-3.0.4              |        py36_1003         190 KB  conda-forge\n",
            "    libevent-2.1.10            |       h72c5cf5_0         1.3 MB  conda-forge\n",
            "    libnvstrings-0.10.0        |       cuda10.1_0        25.1 MB  rapidsai\n",
            "    bzip2-1.0.8                |       h516909a_2         396 KB  conda-forge\n",
            "    pyarrow-0.14.1             |   py36h8b68381_2         2.8 MB  conda-forge\n",
            "    pandas-0.24.2              |   py36hb3f55d8_1        11.1 MB  conda-forge\n",
            "    gcsfs-0.6.0                |             py_0          19 KB  conda-forge\n",
            "    libcuml-0.10.0             |       cuda10.1_0        40.6 MB  rapidsai\n",
            "    idna-2.8                   |        py36_1000         132 KB  conda-forge\n",
            "    re2-2020.01.01             |       he1b5a44_0         422 KB  conda-forge\n",
            "    icu-64.2                   |       he1b5a44_1        12.6 MB  conda-forge\n",
            "    double-conversion-3.1.5    |       he1b5a44_2          85 KB  conda-forge\n",
            "    uriparser-0.9.3            |       he1b5a44_1          49 KB  conda-forge\n",
            "    libgomp-9.2.0              |       h24d8f2e_2         816 KB  conda-forge\n",
            "    fsspec-0.6.2               |             py_0          46 KB  conda-forge\n",
            "    setuptools-44.0.0          |           py36_0         640 KB  conda-forge\n",
            "    thrift-cpp-0.12.0          |    hf3afdfd_1004         2.4 MB  conda-forge\n",
            "    cython-0.29.14             |   py36he1b5a44_0         2.2 MB  conda-forge\n",
            "    librmm-0.10.0              |       cuda10.1_0          50 KB  rapidsai\n",
            "    snappy-1.1.7               |    he1b5a44_1003          39 KB  conda-forge\n",
            "    ------------------------------------------------------------\n",
            "                                           Total:       905.6 MB\n",
            "\n",
            "The following NEW packages will be INSTALLED:\n",
            "\n",
            "    _libgcc_mutex:        0.1-conda_forge        conda-forge\n",
            "    _openmp_mutex:        4.5-0_gnu              conda-forge\n",
            "    arrow-cpp:            0.14.1-py36h6b969ab_1  conda-forge\n",
            "    blinker:              1.4-py_1               conda-forge\n",
            "    boost-cpp:            1.70.0-h8e57a91_2      conda-forge\n",
            "    brotli:               1.0.7-he1b5a44_1000    conda-forge\n",
            "    bzip2:                1.0.8-h516909a_2       conda-forge\n",
            "    c-ares:               1.15.0-h516909a_1001   conda-forge\n",
            "    cachetools:           3.1.1-py_0             conda-forge\n",
            "    cudatoolkit:          10.1.243-h6bb024c_0    nvidia     \n",
            "    cudf:                 0.10.0-py36_0          rapidsai   \n",
            "    cugraph:              0.10.0-py36_0          rapidsai   \n",
            "    cuml:                 0.10.0-cuda10.1_py36_0 rapidsai   \n",
            "    cuspatial:            0.10.0-py36_0          rapidsai   \n",
            "    cython:               0.29.14-py36he1b5a44_0 conda-forge\n",
            "    decorator:            4.4.1-py_0             conda-forge\n",
            "    dlpack:               0.2-he1b5a44_1         conda-forge\n",
            "    double-conversion:    3.1.5-he1b5a44_2       conda-forge\n",
            "    fastavro:             0.22.9-py36h516909a_0  conda-forge\n",
            "    fsspec:               0.6.2-py_0             conda-forge\n",
            "    gcsfs:                0.6.0-py_0             conda-forge\n",
            "    gflags:               2.2.2-he1b5a44_1002    conda-forge\n",
            "    glog:                 0.4.0-he1b5a44_1       conda-forge\n",
            "    google-auth:          1.10.0-py_0            conda-forge\n",
            "    google-auth-oauthlib: 0.4.1-py_0             conda-forge\n",
            "    grpc-cpp:             1.25.0-h18db393_0      conda-forge\n",
            "    icu:                  64.2-he1b5a44_1        conda-forge\n",
            "    libblas:              3.8.0-14_openblas      conda-forge\n",
            "    libcblas:             3.8.0-14_openblas      conda-forge\n",
            "    libcudf:              0.10.0-cuda10.1_0      rapidsai   \n",
            "    libcugraph:           0.10.0-cuda10.1_0      rapidsai   \n",
            "    libcuml:              0.10.0-cuda10.1_0      rapidsai   \n",
            "    libcumlprims:         0.10.0-cuda10.1_0      nvidia     \n",
            "    libcuspatial:         0.10.0-cuda10.1_0      rapidsai   \n",
            "    libevent:             2.1.10-h72c5cf5_0      conda-forge\n",
            "    libgfortran-ng:       7.3.0-hdf63c60_4       conda-forge\n",
            "    libgomp:              9.2.0-h24d8f2e_2       conda-forge\n",
            "    liblapack:            3.8.0-14_openblas      conda-forge\n",
            "    libllvm8:             8.0.1-hc9558a2_0       conda-forge\n",
            "    libnvstrings:         0.10.0-cuda10.1_0      rapidsai   \n",
            "    libopenblas:          0.3.7-h5ec1e0e_6       conda-forge\n",
            "    libprotobuf:          3.8.0-h8b12597_0       conda-forge\n",
            "    librmm:               0.10.0-cuda10.1_0      rapidsai   \n",
            "    llvmlite:             0.31.0-py36h8b12597_0  conda-forge\n",
            "    lz4-c:                1.8.3-he1b5a44_1001    conda-forge\n",
            "    nccl:                 2.4.6.1-cuda10.1_0     nvidia     \n",
            "    numba:                0.47.0-py36hb3f55d8_0  conda-forge\n",
            "    numpy:                1.17.3-py36h95a1406_0  conda-forge\n",
            "    nvstrings:            0.10.0-py36_0          rapidsai   \n",
            "    oauthlib:             3.0.1-py_0             conda-forge\n",
            "    pandas:               0.24.2-py36hb3f55d8_1  conda-forge\n",
            "    parquet-cpp:          1.5.1-2                conda-forge\n",
            "    pyarrow:              0.14.1-py36h8b68381_2  conda-forge\n",
            "    pyasn1:               0.4.8-py_0             conda-forge\n",
            "    pyasn1-modules:       0.2.7-py_0             conda-forge\n",
            "    pyjwt:                1.7.1-py_0             conda-forge\n",
            "    pynvml:               8.0.4-py_0             conda-forge\n",
            "    python-dateutil:      2.8.1-py_0             conda-forge\n",
            "    pytz:                 2019.3-py_0            conda-forge\n",
            "    re2:                  2020.01.01-he1b5a44_0  conda-forge\n",
            "    requests-oauthlib:    1.2.0-py_0             conda-forge\n",
            "    rmm:                  0.10.0-py36_0          rapidsai   \n",
            "    rsa:                  4.0-py_0               conda-forge\n",
            "    snappy:               1.1.7-he1b5a44_1003    conda-forge\n",
            "    thrift-cpp:           0.12.0-hf3afdfd_1004   conda-forge\n",
            "    uriparser:            0.9.3-he1b5a44_1       conda-forge\n",
            "    zstd:                 1.4.0-h3b9ef0a_0       conda-forge\n",
            "\n",
            "The following packages will be UPDATED:\n",
            "\n",
            "    ca-certificates:      2018.03.07-0                       --> 2019.11.28-hecc5488_0 conda-forge\n",
            "    certifi:              2018.4.16-py36_0                   --> 2019.11.28-py36_0     conda-forge\n",
            "    cffi:                 1.11.5-py36h9745a5d_0              --> 1.13.2-py36h8022711_0 conda-forge\n",
            "    chardet:              3.0.4-py36h0f667ec_1               --> 3.0.4-py36_1003       conda-forge\n",
            "    cryptography:         2.2.2-py36h14c3975_0               --> 2.8-py36h72c5cf5_1    conda-forge\n",
            "    idna:                 2.6-py36h82fb2a8_1                 --> 2.8-py36_1000         conda-forge\n",
            "    libffi:               3.2.1-hd88cf55_4                   --> 3.2.1-he1b5a44_1006   conda-forge\n",
            "    libgcc-ng:            7.2.0-hdf63c60_3                   --> 9.2.0-h24d8f2e_2      conda-forge\n",
            "    libstdcxx-ng:         7.2.0-hdf63c60_3                   --> 9.2.0-hdf63c60_2      conda-forge\n",
            "    ncurses:              6.1-hf484d3e_0                     --> 6.1-hf484d3e_1002     conda-forge\n",
            "    openssl:              1.0.2o-h20670df_0                  --> 1.1.1d-h516909a_0     conda-forge\n",
            "    pip:                  10.0.1-py36_0                      --> 19.3.1-py36_0         conda-forge\n",
            "    pycparser:            2.18-py36hf9f622e_1                --> 2.19-py36_1           conda-forge\n",
            "    pyopenssl:            18.0.0-py36_0                      --> 19.1.0-py36_0         conda-forge\n",
            "    pysocks:              1.6.8-py36_0                       --> 1.7.1-py36_0          conda-forge\n",
            "    python:               3.6.5-hc3d631a_2                   --> 3.6.7-h357f687_1006   conda-forge\n",
            "    readline:             7.0-ha6073c6_4                     --> 8.0-hf8c457e_0        conda-forge\n",
            "    requests:             2.18.4-py36he2e5f8d_1              --> 2.22.0-py36_1         conda-forge\n",
            "    setuptools:           39.2.0-py36_0                      --> 44.0.0-py36_0         conda-forge\n",
            "    six:                  1.11.0-py36h372c433_1              --> 1.13.0-py36_0         conda-forge\n",
            "    sqlite:               3.23.1-he433501_0                  --> 3.30.1-hcee41ef_0     conda-forge\n",
            "    tk:                   8.6.7-hc745277_3                   --> 8.6.10-hed695b0_0     conda-forge\n",
            "    urllib3:              1.22-py36hbe7ace6_0                --> 1.25.7-py36_0         conda-forge\n",
            "    wheel:                0.31.1-py36_0                      --> 0.33.6-py36_0         conda-forge\n",
            "    xz:                   5.2.4-h14c3975_4                   --> 5.2.4-h14c3975_1001   conda-forge\n",
            "    zlib:                 1.2.11-ha838bed_2                  --> 1.2.11-h516909a_1006  conda-forge\n",
            "\n",
            "\n",
            "Downloading and Extracting Packages\n",
            "grpc-cpp-1.25.0      |  5.1 MB | : 100% 1.0/1 [00:01<00:00,  1.10s/it]               \n",
            "arrow-cpp-0.14.1     | 17.3 MB | : 100% 1.0/1 [00:02<00:00,  2.75s/it]              \n",
            "libgfortran-ng-7.3.0 |  1.7 MB | : 100% 1.0/1 [00:00<00:00,  2.72it/s]               \n",
            "_openmp_mutex-4.5    |  435 KB | : 100% 1.0/1 [00:00<00:00, 10.74it/s]\n",
            "cryptography-2.8     |  616 KB | : 100% 1.0/1 [00:00<00:00,  4.41it/s]               \n",
            "cuspatial-0.10.0     |  456 KB | : 100% 1.0/1 [00:01<00:00,  1.55s/it]               \n",
            "glog-0.4.0           |  104 KB | : 100% 1.0/1 [00:00<00:00, 15.52it/s]\n",
            "gflags-2.2.2         |  175 KB | : 100% 1.0/1 [00:00<00:00, 13.77it/s]\n",
            "decorator-4.4.1      |   11 KB | : 100% 1.0/1 [00:00<00:00, 34.56it/s]\n",
            "requests-oauthlib-1. |   19 KB | : 100% 1.0/1 [00:00<00:00, 13.00it/s]\n",
            "python-3.6.7         | 34.6 MB | : 100% 1.0/1 [00:05<00:00,  5.45s/it]               \n",
            "libopenblas-0.3.7    |  7.6 MB | : 100% 1.0/1 [00:01<00:00,  1.61s/it]               \n",
            "zstd-1.4.0           |  928 KB | : 100% 1.0/1 [00:00<00:00,  5.57it/s]              \n",
            "openssl-1.1.1d       |  2.1 MB | : 100% 1.0/1 [00:00<00:00,  2.76it/s]              \n",
            "google-auth-oauthlib |   18 KB | : 100% 1.0/1 [00:00<00:00, 12.00it/s]\n",
            "zlib-1.2.11          |  105 KB | : 100% 1.0/1 [00:00<00:00, 18.60it/s]\n",
            "numba-0.47.0         |  3.4 MB | : 100% 1.0/1 [00:01<00:00,  1.03s/it]               \n",
            "python-dateutil-2.8. |  220 KB | : 100% 1.0/1 [00:00<00:00, 16.00it/s]\n",
            "fastavro-0.22.9      |  409 KB | : 100% 1.0/1 [00:00<00:00,  9.16it/s]               \n",
            "libcudf-0.10.0       | 32.3 MB | : 100% 1.0/1 [00:08<00:00,  8.49s/it]               \n",
            "cuml-0.10.0          |  6.6 MB | : 100% 1.0/1 [00:02<00:00,  2.87s/it]              \n",
            "rsa-4.0              |   27 KB | : 100% 1.0/1 [00:00<00:00, 22.30it/s]\n",
            "nccl-2.4.6.1         | 66.9 MB | : 100% 1.0/1 [00:10<00:00, 10.39s/it]               \n",
            "libcugraph-0.10.0    | 16.1 MB | : 100% 1.0/1 [00:04<00:00,  4.46s/it]               \n",
            "libcumlprims-0.10.0  |  4.2 MB | : 100% 1.0/1 [00:01<00:00,  1.33s/it]               \n",
            "cudatoolkit-10.1.243 | 513.2 MB | : 100% 1.0/1 [01:15<00:00, 75.56s/it]                \n",
            "xz-5.2.4             |  366 KB | : 100% 1.0/1 [00:00<00:00,  8.61it/s]               \n",
            "ca-certificates-2019 |  145 KB | : 100% 1.0/1 [00:00<00:00, 20.42it/s]\n",
            "pynvml-8.0.4         |   31 KB | : 100% 1.0/1 [00:00<00:00, 14.75it/s]\n",
            "brotli-1.0.7         |  1.0 MB | : 100% 1.0/1 [00:00<00:00,  5.32it/s]               \n",
            "urllib3-1.25.7       |  160 KB | : 100% 1.0/1 [00:00<00:00, 11.57it/s]\n",
            "cugraph-0.10.0       |  1.7 MB | : 100% 1.0/1 [00:01<00:00,  1.96s/it]              \n",
            "blinker-1.4          |   13 KB | : 100% 1.0/1 [00:00<00:00, 30.70it/s]\n",
            "dlpack-0.2           |   13 KB | : 100% 1.0/1 [00:00<00:00, 27.85it/s]\n",
            "libprotobuf-3.8.0    |  4.7 MB | : 100% 1.0/1 [00:01<00:00,  1.05s/it]               \n",
            "cffi-1.13.2          |  220 KB | : 100% 1.0/1 [00:00<00:00, 10.65it/s]\n",
            "libffi-3.2.1         |   46 KB | : 100% 1.0/1 [00:00<00:00, 21.71it/s]\n",
            "google-auth-1.10.0   |   47 KB | : 100% 1.0/1 [00:00<00:00, 21.57it/s]\n",
            "wheel-0.33.6         |   35 KB | : 100% 1.0/1 [00:00<00:00, 18.90it/s]\n",
            "readline-8.0         |  441 KB | : 100% 1.0/1 [00:00<00:00,  7.29it/s]              \n",
            "cudf-0.10.0          |  7.2 MB | : 100% 1.0/1 [00:02<00:00,  2.15s/it]                \n",
            "llvmlite-0.31.0      |  337 KB | : 100% 1.0/1 [00:00<00:00,  7.86it/s]               \n",
            "oauthlib-3.0.1       |   82 KB | : 100% 1.0/1 [00:00<00:00, 13.78it/s]\n",
            "lz4-c-1.8.3          |  187 KB | : 100% 1.0/1 [00:00<00:00, 14.19it/s]\n",
            "pytz-2019.3          |  237 KB | : 100% 1.0/1 [00:00<00:00,  4.96it/s]               \n",
            "nvstrings-0.10.0     |  126 KB | : 100% 1.0/1 [00:00<00:00,  1.15it/s]                \n",
            "parquet-cpp-1.5.1    |    3 KB | : 100% 1.0/1 [00:00<00:00, 29.77it/s]\n",
            "sqlite-3.30.1        |  2.0 MB | : 100% 1.0/1 [00:00<00:00,  3.32it/s]               \n",
            "certifi-2019.11.28   |  149 KB | : 100% 1.0/1 [00:00<00:00, 16.88it/s]\n",
            "pyjwt-1.7.1          |   17 KB | : 100% 1.0/1 [00:00<00:00, 22.93it/s]\n",
            "ncurses-6.1          |  1.3 MB | : 100% 1.0/1 [00:00<00:00,  1.11it/s]              \n",
            "libstdcxx-ng-9.2.0   |  4.5 MB | : 100% 1.0/1 [00:00<00:00,  1.43it/s]               \n",
            "pip-19.3.1           |  1.9 MB | : 100% 1.0/1 [00:00<00:00,  1.82it/s]               \n",
            "cachetools-3.1.1     |   11 KB | : 100% 1.0/1 [00:00<00:00, 18.54it/s]\n",
            "libgcc-ng-9.2.0      |  8.2 MB | : 100% 1.0/1 [00:01<00:00,  1.26s/it]               \n",
            "rmm-0.10.0           |  135 KB | : 100% 1.0/1 [00:00<00:00,  2.65it/s]                \n",
            "liblapack-3.8.0      |   10 KB | : 100% 1.0/1 [00:00<00:00, 25.20it/s]\n",
            "six-1.13.0           |   22 KB | : 100% 1.0/1 [00:00<00:00, 20.98it/s]\n",
            "pycparser-2.19       |  173 KB | : 100% 1.0/1 [00:00<00:00, 12.79it/s]\n",
            "requests-2.22.0      |   84 KB | : 100% 1.0/1 [00:00<00:00, 13.03it/s]\n",
            "libllvm8-8.0.1       | 23.2 MB | : 100% 1.0/1 [00:03<00:00,  3.75s/it]              \n",
            "pyasn1-0.4.8         |   53 KB | : 100% 1.0/1 [00:00<00:00, 19.21it/s]\n",
            "pyopenssl-19.1.0     |   83 KB | : 100% 1.0/1 [00:00<00:00, 18.48it/s]\n",
            "libcuspatial-0.10.0  |  1.6 MB | : 100% 1.0/1 [00:00<00:00,  1.69it/s]               \n",
            "numpy-1.17.3         |  5.2 MB | : 100% 1.0/1 [00:01<00:00,  1.13s/it]               \n",
            "libblas-3.8.0        |   10 KB | : 100% 1.0/1 [00:00<00:00, 23.24it/s]\n",
            "c-ares-1.15.0        |  100 KB | : 100% 1.0/1 [00:00<00:00, 16.75it/s]\n",
            "_libgcc_mutex-0.1    |    3 KB | : 100% 1.0/1 [00:00<00:00, 34.23it/s]\n",
            "libcblas-3.8.0       |   10 KB | : 100% 1.0/1 [00:00<00:00, 20.53it/s]\n",
            "pyasn1-modules-0.2.7 |   60 KB | : 100% 1.0/1 [00:00<00:00, 13.71it/s]\n",
            "boost-cpp-1.70.0     | 21.1 MB | : 100% 1.0/1 [00:08<00:00,  8.57s/it]               \n",
            "tk-8.6.10            |  3.2 MB | : 100% 1.0/1 [00:00<00:00,  1.46it/s]               \n",
            "pysocks-1.7.1        |   27 KB | : 100% 1.0/1 [00:00<00:00, 29.27it/s]\n",
            "chardet-3.0.4        |  190 KB | : 100% 1.0/1 [00:00<00:00, 10.58it/s]\n",
            "libevent-2.1.10      |  1.3 MB | : 100% 1.0/1 [00:00<00:00,  2.84it/s]               \n",
            "libnvstrings-0.10.0  | 25.1 MB | : 100% 1.0/1 [00:06<00:00,  6.73s/it]               \n",
            "bzip2-1.0.8          |  396 KB | : 100% 1.0/1 [00:00<00:00,  8.37it/s]               \n",
            "pyarrow-0.14.1       |  2.8 MB | : 100% 1.0/1 [00:00<00:00,  1.20it/s]               \n",
            "pandas-0.24.2        | 11.1 MB | : 100% 1.0/1 [00:02<00:00,  2.43s/it]               \n",
            "gcsfs-0.6.0          |   19 KB | : 100% 1.0/1 [00:00<00:00, 23.48it/s]\n",
            "libcuml-0.10.0       | 40.6 MB | : 100% 1.0/1 [00:10<00:00, 10.38s/it]               \n",
            "idna-2.8             |  132 KB | : 100% 1.0/1 [00:00<00:00,  5.16it/s]                \n",
            "re2-2020.01.01       |  422 KB | : 100% 1.0/1 [00:00<00:00,  6.94it/s]               \n",
            "icu-64.2             | 12.6 MB | : 100% 1.0/1 [00:01<00:00,  1.95s/it]               \n",
            "double-conversion-3. |   85 KB | : 100% 1.0/1 [00:00<00:00, 17.36it/s]\n",
            "uriparser-0.9.3      |   49 KB | : 100% 1.0/1 [00:00<00:00, 14.70it/s]\n",
            "libgomp-9.2.0        |  816 KB | : 100% 1.0/1 [00:00<00:00,  7.10it/s]               \n",
            "fsspec-0.6.2         |   46 KB | : 100% 1.0/1 [00:00<00:00, 18.47it/s]\n",
            "setuptools-44.0.0    |  640 KB | : 100% 1.0/1 [00:00<00:00,  3.34it/s]               \n",
            "thrift-cpp-0.12.0    |  2.4 MB | : 100% 1.0/1 [00:00<00:00,  2.20it/s]              \n",
            "cython-0.29.14       |  2.2 MB | : 100% 1.0/1 [00:00<00:00,  1.92it/s]               \n",
            "librmm-0.10.0        |   50 KB | : 100% 1.0/1 [00:01<00:00,  3.72s/it]                \n",
            "snappy-1.1.7         |   39 KB | : 100% 1.0/1 [00:00<00:00, 18.33it/s]\n",
            "Preparing transaction: - \b\b\\ \b\b| \b\b/ \b\b- \b\b\\ \b\b| \b\b/ \b\b- \b\b\\ \b\b| \b\b/ \b\bdone\n",
            "Verifying transaction: \\ \b\b| \b\b/ \b\b- \b\b\\ \b\b| \b\b/ \b\b- \b\b\\ \b\b| \b\b/ \b\b- \b\b\\ \b\b| \b\b/ \b\b- \b\b\\ \b\b| \b\b/ \b\b- \b\b\\ \b\b| \b\b/ \b\b- \b\b\\ \b\b| \b\b/ \b\b- \b\b\\ \b\b| \b\b/ \b\b- \b\b\\ \b\b| \b\b/ \b\b- \b\b\\ \b\b| \b\b/ \b\b- \b\b\\ \b\b| \b\b/ \b\b- \b\b\\ \b\b| \b\b/ \b\b- \b\b\\ \b\b| \b\b/ \b\b- \b\b\\ \b\b| \b\b/ \b\b- \b\b\\ \b\b| \b\b/ \b\b- \b\b\\ \b\b| \b\b/ \b\b- \b\b\\ \b\b| \b\b/ \b\b- \b\b\\ \b\b| \b\b/ \b\b- \b\b\\ \b\b| \b\b/ \b\b- \b\b\\ \b\b| \b\b/ \b\b- \b\b\\ \b\b| \b\b/ \b\b- \b\b\\ \b\b| \b\b/ \b\b- \b\b\\ \b\b| \b\b/ \b\b- \b\b\\ \b\b| \b\b/ \b\b- \b\b\\ \b\b| \b\b/ \b\b- \b\b\\ \b\b| \b\b/ \b\b- \b\b\\ \b\b| \b\b/ \b\b- \b\b\\ \b\b| \b\b/ \b\b- \b\b\\ \b\b| \b\b/ \b\b- \b\b\\ \b\b| \b\b/ \b\b- \b\b\\ \b\b| \b\b/ \b\b- \b\b\\ \b\b| \b\b/ \b\b- \b\b\\ \b\b| \b\b/ \b\b- \b\b\\ \b\b| \b\b/ \b\b- \b\b\\ \b\b| \b\b/ \b\b- \b\b\\ \b\b| \b\b/ \b\bdone\n",
            "Executing transaction: \\ \b\b| \b\b/ \b\b- \b\b\\ \b\b| \b\b/ \b\b- \b\b\\ \b\b| \b\b/ \b\b- \b\b\\ \b\b| \b\b/ \b\b- \b\b\\ \b\b| \b\b/ \b\b- \b\b\\ \b\b| \b\b/ \b\b- \b\b\\ \b\b| \b\b/ \b\b- \b\b\\ \b\b| \b\b/ \b\b- \b\b\\ \b\b| \b\b/ \b\b- \b\b\\ \b\b| \b\b/ \b\b- \b\b\\ \b\b| \b\b/ \b\b- \b\b\\ \b\b| \b\b/ \b\b- \b\b\\ \b\b| \b\b/ \b\b- \b\b\\ \b\b| \b\b/ \b\b- \b\b\\ \b\b| \b\b/ \b\b- \b\b\\ \b\b| \b\b/ \b\b- \b\b\\ \b\b| \b\b/ \b\b- \b\b\\ \b\b| \b\b/ \b\b- \b\b\\ \b\b| \b\b/ \b\b- \b\b\\ \b\b| \b\b/ \b\b- \b\b\\ \b\b| \b\b/ \b\b- \b\b\\ \b\b| \b\b/ \b\b- \b\b\\ \b\b| \b\b/ \b\b- \b\b\\ \b\b| \b\b/ \b\b- \b\b\\ \b\b| \b\b/ \b\b- \b\b\\ \b\b| \b\b/ \b\b- \b\b\\ \b\b| \b\b/ \b\b- \b\b\\ \b\b| \b\b/ \b\b- \b\b\\ \b\b| \b\b/ \b\b- \b\b\\ \b\b| \b\b/ \b\b- \b\b\\ \b\b| \b\b/ \b\b- \b\b\\ \b\b| \b\b/ \b\b- \b\b\\ \b\b| \b\b/ \b\b- \b\b\\ \b\b| \b\b/ \b\b- \b\b\\ \b\b| \b\b/ \b\b- \b\b\\ \b\b| \b\b/ \b\b- \b\b\\ \b\b| \b\b/ \b\b- \b\b\\ \b\b| \b\b/ \b\b- \b\b\\ \b\b| \b\b/ \b\b- \b\b\\ \b\b| \b\b/ \b\b- \b\b\\ \b\b| \b\b/ \b\b- \b\b\\ \b\b| \b\b/ \b\b- \b\b\\ \b\b| \b\b/ \b\b- \b\b\\ \b\b| \b\b/ \b\b- \b\b\\ \b\b| \b\b/ \b\b- \b\b\\ \b\b| \b\b/ \b\b- \b\b\\ \b\b| \b\b/ \b\b- \b\b\\ \b\b| \b\b/ \b\b- \b\b\\ \b\b| \b\b/ \b\b- \b\b\\ \b\b| \b\b/ \b\b- \b\b\\ \b\b| \b\b/ \b\b- \b\b\\ \b\b| \b\b/ \b\bdone\n",
            "rapids-colab.sh: line 95: dask-cudf: command not found\n"
          ],
          "name": "stdout"
        }
      ]
    },
    {
      "cell_type": "code",
      "metadata": {
        "id": "Zc7bhhbDxCps",
        "colab_type": "code",
        "outputId": "52377d34-0b85-48e7-8de3-c77eea1fe9ab",
        "colab": {
          "base_uri": "https://localhost:8080/",
          "height": 1000
        }
      },
      "source": [
        "#only for 0.10\n",
        "!conda install -y --prefix /usr/local -c rapidsai/label/xgboost -c rapidsai -c nvidia -c conda-forge dask-cudf xgboost"
      ],
      "execution_count": 0,
      "outputs": [
        {
          "output_type": "stream",
          "text": [
            "Solving environment: - \b\b\\ \b\b| \b\b/ \b\b- \b\b\\ \b\b| \b\b/ \b\b- \b\b\\ \b\b| \b\b/ \b\b- \b\b\\ \b\b| \b\b/ \b\b- \b\b\\ \b\b| \b\b/ \b\b- \b\b\\ \b\b| \b\b/ \b\b- \b\b\\ \b\b| \b\b/ \b\b- \b\b\\ \b\b| \b\b/ \b\b- \b\b\\ \b\b| \b\b/ \b\b- \b\b\\ \b\b| \b\b/ \b\b- \b\b\\ \b\b| \b\b/ \b\b- \b\b\\ \b\b| \b\b/ \b\b- \b\b\\ \b\b| \b\b/ \b\b- \b\b\\ \b\b| \b\b/ \b\b- \b\b\\ \b\b| \b\b/ \b\b- \b\b\\ \b\b| \b\b/ \b\b- \b\b\\ \b\b| \b\b/ \b\b- \b\b\\ \b\b| \b\b/ \b\b- \b\b\\ \b\b| \b\b/ \b\b- \b\b\\ \b\b| \b\b/ \b\b- \b\b\\ \b\b| \b\b/ \b\b- \b\b\\ \b\b| \b\b/ \b\b- \b\b\\ \b\b| \b\b/ \b\b- \b\b\\ \b\b| \b\b/ \b\b- \b\b\\ \b\b| \b\b/ \b\b- \b\b\\ \b\b| \b\b/ \b\b- \b\b\\ \b\b| \b\b/ \b\b- \b\b\\ \b\b| \b\b/ \b\b- \b\b\\ \b\b| \b\b/ \b\b- \b\b\\ \b\b| \b\b/ \b\b- \b\b\\ \b\b| \b\b/ \b\b- \b\b\\ \b\b| \b\b/ \b\b- \b\b\\ \b\b| \b\b/ \b\b- \b\b\\ \b\b| \b\b/ \b\b- \b\b\\ \b\b| \b\b/ \b\b- \b\b\\ \b\b| \b\b/ \b\b- \b\b\\ \b\b| \b\b/ \b\b- \b\b\\ \b\b| \b\b/ \b\b- \b\b\\ \b\b| \b\b/ \b\b- \b\b\\ \b\b| \b\b/ \b\b- \b\b\\ \b\b| \b\b/ \b\b- \b\b\\ \b\b| \b\b/ \b\b- \b\b\\ \b\b| \b\b/ \b\b- \b\b\\ \b\b| \b\b/ \b\b- \b\b\\ \b\b| \b\b/ \b\b- \b\b\\ \b\b| \b\b/ \b\b- \b\b\\ \b\b| \b\b/ \b\b- \b\b\\ \b\b| \b\b/ \b\b- \b\b\\ \b\b| \b\b/ \b\b- \b\b\\ \b\b| \b\b/ \b\b- \b\b\\ \b\b| \b\b/ \b\b- \b\b\\ \b\b| \b\b/ \b\b- \b\b\\ \b\b| \b\b/ \b\b- \b\b\\ \b\b| \b\b/ \b\b- \b\b\\ \b\b| \b\b/ \b\b- \b\b\\ \b\b| \b\b/ \b\b- \b\b\\ \b\b| \b\b/ \b\b- \b\b\\ \b\b| \b\b/ \b\b- \b\b\\ \b\b| \b\b/ \b\b- \b\b\\ \b\b| \b\b/ \b\b- \b\b\\ \b\b| \b\b/ \b\b- \b\b\\ \b\b| \b\b/ \b\b- \b\b\\ \b\b| \b\b/ \b\b- \b\b\\ \b\b| \b\b/ \b\b- \b\b\\ \b\b| \b\b/ \b\b- \b\b\\ \b\b| \b\b/ \b\b- \b\b\\ \b\b| \b\b/ \b\b- \b\b\\ \b\b| \b\b/ \b\b- \b\b\\ \b\b| \b\b/ \b\b- \b\b\\ \b\b| \b\b/ \b\b- \b\b\\ \b\b| \b\b/ \b\b- \b\b\\ \b\b| \b\b/ \b\b- \b\b\\ \b\b| \b\b/ \b\b- \b\b\\ \b\b| \b\b/ \b\b- \b\b\\ \b\b| \b\b/ \b\b- \b\b\\ \b\b| \b\b/ \b\b- \b\b\\ \b\b| \b\b/ \b\b- \b\b\\ \b\b| \b\b/ \b\b- \b\b\\ \b\b| \b\b/ \b\b- \b\b\\ \b\b| \b\b/ \b\b- \b\b\\ \b\b| \b\b/ \b\b- \b\b\\ \b\b| \b\b/ \b\b- \b\b\\ \b\b| \b\b/ \b\b- \b\b\\ \b\b| \b\b/ \b\b- \b\b\\ \b\b| \b\b/ \b\b- \b\b\\ \b\b| \b\b/ \b\b- \b\b\\ \b\b| \b\b/ \b\b- \b\b\\ \b\b| \b\b/ \b\b- \b\b\\ \b\b| \b\b/ \b\b- \b\b\\ \b\b| \b\b/ \b\b- \b\b\\ \b\b| \b\b/ \b\b- \b\b\\ \b\b| \b\b/ \b\b- \b\b\\ \b\b| \b\b/ \b\b- \b\b\\ \b\b| \b\b/ \b\b- \b\b\\ \b\b| \b\b/ \b\b- \b\b\\ \b\b| \b\b/ \b\b- \b\b\\ \b\b| \b\b/ \b\b- \b\b\\ \b\b| \b\b/ \b\b- \b\b\\ \b\b| \b\b/ \b\b- \b\b\\ \b\b| \b\b/ \b\b- \b\b\\ \b\b| \b\b/ \b\b- \b\b\\ \b\b| \b\b/ \b\b- \b\b\\ \b\b| \b\b/ \b\b- \b\b\\ \b\b| \b\b/ \b\b- \b\b\\ \b\b| \b\b/ \b\b- \b\b\\ \b\b| \b\b/ \b\b- \b\b\\ \b\b| \b\b/ \b\b- \b\b\\ \b\b| \b\b/ \b\b- \b\b\\ \b\b| \b\b/ \b\b- \b\b\\ \b\b| \b\b/ \b\b- \b\b\\ \b\b| \b\b/ \b\b- \b\b\\ \b\b| \b\b/ \b\b- \b\b\\ \b\b| \b\b/ \b\b- \b\b\\ \b\b| \b\b/ \b\b- \b\b\\ \b\b| \b\b/ \b\b- \b\b\\ \b\b| \b\b/ \b\b- \b\b\\ \b\b| \b\b/ \b\b- \b\b\\ \b\b| \b\b/ \b\b- \b\b\\ \b\b| \b\b/ \b\b- \b\b\\ \b\b| \b\b/ \b\b- \b\b\\ \b\b| \b\b/ \b\b- \b\b\\ \b\b| \b\b/ \b\b- \b\b\\ \b\b| \b\b/ \b\b- \b\b\\ \b\b| \b\b/ \b\b- \b\b\\ \b\b| \b\b/ \b\b- \b\b\\ \b\b| \b\b/ \b\b- \b\b\\ \b\b| \b\b/ \b\b- \b\b\\ \b\b| \b\b/ \b\b- \b\b\\ \b\b| \b\b/ \b\b- \b\b\\ \b\b| \b\b/ \b\b- \b\b\\ \b\b| \b\b/ \b\b- \b\b\\ \b\b| \b\b/ \b\b- \b\b\\ \b\b| \b\b/ \b\b- \b\b\\ \b\b| \b\b/ \b\b- \b\b\\ \b\b| \b\b/ \b\b- \b\b\\ \b\b| \b\b/ \b\b- \b\b\\ \b\b| \b\b/ \b\b- \b\b\\ \b\b| \b\b/ \b\b- \b\b\\ \b\b| \b\b/ \b\b- \b\b\\ \b\b| \b\b/ \b\b- \b\b\\ \b\b| \b\b/ \b\b- \b\b\\ \b\b| \b\b/ \b\b- \b\b\\ \b\b| \b\b/ \b\b- \b\b\\ \b\b| \b\b/ \b\b- \b\b\\ \b\b| \b\b/ \b\b- \b\b\\ \b\b| \b\b/ \b\b- \b\b\\ \b\b| \b\bdone\n",
            "\n",
            "## Package Plan ##\n",
            "\n",
            "  environment location: /usr/local\n",
            "\n",
            "  added / updated specs: \n",
            "    - dask-cudf\n",
            "    - xgboost\n",
            "\n",
            "\n",
            "The following packages will be downloaded:\n",
            "\n",
            "    package                    |            build\n",
            "    ---------------------------|-----------------\n",
            "    click-7.0                  |             py_0          61 KB  conda-forge\n",
            "    jinja2-2.10.3              |             py_0          91 KB  conda-forge\n",
            "    psutil-5.6.7               |   py36h516909a_0         323 KB  conda-forge\n",
            "    bokeh-1.4.0                |           py36_0        13.5 MB  conda-forge\n",
            "    locket-0.2.0               |             py_2           6 KB  conda-forge\n",
            "    libxgboost-0.90.rapidsdev1 |       cuda10.1_1        33.2 MB  rapidsai/label/xgboost\n",
            "    scikit-learn-0.22.1        |   py36hcdab131_1         7.1 MB  conda-forge\n",
            "    msgpack-python-0.6.2       |   py36hc9558a2_0          89 KB  conda-forge\n",
            "    markupsafe-1.1.1           |   py36h516909a_0          26 KB  conda-forge\n",
            "    zict-1.0.0                 |             py_0          10 KB  conda-forge\n",
            "    cloudpickle-1.2.2          |             py_1          23 KB  conda-forge\n",
            "    tornado-6.0.3              |   py36h516909a_0         636 KB  conda-forge\n",
            "    toolz-0.10.0               |             py_0          46 KB  conda-forge\n",
            "    distributed-2.9.1          |             py_0         394 KB  conda-forge\n",
            "    libpng-1.6.37              |       hed695b0_0         343 KB  conda-forge\n",
            "    packaging-20.0             |             py_0          31 KB  conda-forge\n",
            "    olefile-0.46               |             py_0          31 KB  conda-forge\n",
            "    conda-package-handling-1.6.0|   py36h516909a_1         941 KB  conda-forge\n",
            "    pillow-6.2.1               |   py36h6b7be26_0         639 KB  conda-forge\n",
            "    scipy-1.4.1                |   py36h921218d_0        18.9 MB  conda-forge\n",
            "    libtiff-4.0.10             |    h57b8799_1003         587 KB  conda-forge\n",
            "    conda-4.8.0                |           py36_1         3.0 MB  conda-forge\n",
            "    joblib-0.14.1              |             py_0         198 KB  conda-forge\n",
            "    pyyaml-5.1.2               |   py36h516909a_0         184 KB  conda-forge\n",
            "    heapdict-1.0.1             |             py_0           7 KB  conda-forge\n",
            "    tqdm-4.41.1                |             py_0          45 KB  conda-forge\n",
            "    partd-1.1.0                |             py_0          17 KB  conda-forge\n",
            "    pyparsing-2.4.6            |             py_0          59 KB  conda-forge\n",
            "    dask-core-2.9.1            |             py_0         583 KB  conda-forge\n",
            "    dask-cudf-0.10.0           |           py36_0          65 KB  rapidsai\n",
            "    cytoolz-0.10.1             |   py36h516909a_0         431 KB  conda-forge\n",
            "    py-xgboost-0.90.rapidsdev1 |   cuda10.1py36_1          87 KB  rapidsai/label/xgboost\n",
            "    jpeg-9c                    |    h14c3975_1001         251 KB  conda-forge\n",
            "    xgboost-0.90.rapidsdev1    |   cuda10.1py36_1          12 KB  rapidsai/label/xgboost\n",
            "    freetype-2.10.0            |       he983fc9_1         884 KB  conda-forge\n",
            "    tblib-1.6.0                |             py_0          14 KB  conda-forge\n",
            "    sortedcontainers-2.1.0     |             py_0          25 KB  conda-forge\n",
            "    dask-2.9.1                 |             py_0           4 KB  conda-forge\n",
            "    ------------------------------------------------------------\n",
            "                                           Total:        82.7 MB\n",
            "\n",
            "The following NEW packages will be INSTALLED:\n",
            "\n",
            "    bokeh:                  1.4.0-py36_0                   conda-forge           \n",
            "    click:                  7.0-py_0                       conda-forge           \n",
            "    cloudpickle:            1.2.2-py_1                     conda-forge           \n",
            "    conda-package-handling: 1.6.0-py36h516909a_1           conda-forge           \n",
            "    cytoolz:                0.10.1-py36h516909a_0          conda-forge           \n",
            "    dask:                   2.9.1-py_0                     conda-forge           \n",
            "    dask-core:              2.9.1-py_0                     conda-forge           \n",
            "    dask-cudf:              0.10.0-py36_0                  rapidsai              \n",
            "    distributed:            2.9.1-py_0                     conda-forge           \n",
            "    freetype:               2.10.0-he983fc9_1              conda-forge           \n",
            "    heapdict:               1.0.1-py_0                     conda-forge           \n",
            "    jinja2:                 2.10.3-py_0                    conda-forge           \n",
            "    joblib:                 0.14.1-py_0                    conda-forge           \n",
            "    jpeg:                   9c-h14c3975_1001               conda-forge           \n",
            "    libpng:                 1.6.37-hed695b0_0              conda-forge           \n",
            "    libtiff:                4.0.10-h57b8799_1003           conda-forge           \n",
            "    libxgboost:             0.90.rapidsdev1-cuda10.1_1     rapidsai/label/xgboost\n",
            "    locket:                 0.2.0-py_2                     conda-forge           \n",
            "    markupsafe:             1.1.1-py36h516909a_0           conda-forge           \n",
            "    msgpack-python:         0.6.2-py36hc9558a2_0           conda-forge           \n",
            "    olefile:                0.46-py_0                      conda-forge           \n",
            "    packaging:              20.0-py_0                      conda-forge           \n",
            "    partd:                  1.1.0-py_0                     conda-forge           \n",
            "    pillow:                 6.2.1-py36h6b7be26_0           conda-forge           \n",
            "    psutil:                 5.6.7-py36h516909a_0           conda-forge           \n",
            "    py-xgboost:             0.90.rapidsdev1-cuda10.1py36_1 rapidsai/label/xgboost\n",
            "    pyparsing:              2.4.6-py_0                     conda-forge           \n",
            "    pyyaml:                 5.1.2-py36h516909a_0           conda-forge           \n",
            "    scikit-learn:           0.22.1-py36hcdab131_1          conda-forge           \n",
            "    scipy:                  1.4.1-py36h921218d_0           conda-forge           \n",
            "    sortedcontainers:       2.1.0-py_0                     conda-forge           \n",
            "    tblib:                  1.6.0-py_0                     conda-forge           \n",
            "    toolz:                  0.10.0-py_0                    conda-forge           \n",
            "    tornado:                6.0.3-py36h516909a_0           conda-forge           \n",
            "    tqdm:                   4.41.1-py_0                    conda-forge           \n",
            "    xgboost:                0.90.rapidsdev1-cuda10.1py36_1 rapidsai/label/xgboost\n",
            "    zict:                   1.0.0-py_0                     conda-forge           \n",
            "\n",
            "The following packages will be UPDATED:\n",
            "\n",
            "    conda:                  4.5.4-py36_0                                          --> 4.8.0-py36_1 conda-forge\n",
            "\n",
            "\n",
            "Downloading and Extracting Packages\n",
            "click-7.0            |   61 KB | : 100% 1.0/1 [00:00<00:00, 12.27it/s]\n",
            "jinja2-2.10.3        |   91 KB | : 100% 1.0/1 [00:00<00:00,  7.40it/s] \n",
            "psutil-5.6.7         |  323 KB | : 100% 1.0/1 [00:00<00:00,  7.41it/s]               \n",
            "bokeh-1.4.0          | 13.5 MB | : 100% 1.0/1 [00:03<00:00,  3.69s/it]               \n",
            "locket-0.2.0         |    6 KB | : 100% 1.0/1 [00:00<00:00, 17.61it/s]\n",
            "libxgboost-0.90.rapi | 33.2 MB | : 100% 1.0/1 [00:09<00:00,  9.90s/it]               \n",
            "scikit-learn-0.22.1  |  7.1 MB | : 100% 1.0/1 [00:01<00:00,  1.72s/it]               \n",
            "msgpack-python-0.6.2 |   89 KB | : 100% 1.0/1 [00:00<00:00, 18.86it/s]\n",
            "markupsafe-1.1.1     |   26 KB | : 100% 1.0/1 [00:00<00:00, 22.47it/s]\n",
            "zict-1.0.0           |   10 KB | : 100% 1.0/1 [00:00<00:00, 25.35it/s]\n",
            "cloudpickle-1.2.2    |   23 KB | : 100% 1.0/1 [00:00<00:00, 27.62it/s]\n",
            "tornado-6.0.3        |  636 KB | : 100% 1.0/1 [00:00<00:00,  4.92it/s]               \n",
            "toolz-0.10.0         |   46 KB | : 100% 1.0/1 [00:00<00:00, 13.76it/s]\n",
            "distributed-2.9.1    |  394 KB | : 100% 1.0/1 [00:00<00:00,  5.16it/s]             \n",
            "libpng-1.6.37        |  343 KB | : 100% 1.0/1 [00:00<00:00,  2.76it/s]                 \n",
            "packaging-20.0       |   31 KB | : 100% 1.0/1 [00:00<00:00,  4.13it/s]               \n",
            "olefile-0.46         |   31 KB | : 100% 1.0/1 [00:00<00:00, 26.24it/s]\n",
            "conda-package-handli |  941 KB | : 100% 1.0/1 [00:00<00:00,  5.78it/s]               \n",
            "pillow-6.2.1         |  639 KB | : 100% 1.0/1 [00:00<00:00,  2.10it/s]               \n",
            "scipy-1.4.1          | 18.9 MB | : 100% 1.0/1 [00:03<00:00,  3.58s/it]               \n",
            "libtiff-4.0.10       |  587 KB | : 100% 1.0/1 [00:00<00:00,  7.22it/s]               \n",
            "conda-4.8.0          |  3.0 MB | : 100% 1.0/1 [00:00<00:00,  1.50it/s]               \n",
            "joblib-0.14.1        |  198 KB | : 100% 1.0/1 [00:00<00:00,  7.23it/s]\n",
            "pyyaml-5.1.2         |  184 KB | : 100% 1.0/1 [00:00<00:00, 13.94it/s]\n",
            "heapdict-1.0.1       |    7 KB | : 100% 1.0/1 [00:00<00:00, 17.50it/s]\n",
            "tqdm-4.41.1          |   45 KB | : 100% 1.0/1 [00:00<00:00, 14.95it/s]\n",
            "partd-1.1.0          |   17 KB | : 100% 1.0/1 [00:00<00:00, 24.05it/s]\n",
            "pyparsing-2.4.6      |   59 KB | : 100% 1.0/1 [00:00<00:00, 19.06it/s]\n",
            "dask-core-2.9.1      |  583 KB | : 100% 1.0/1 [00:00<00:00,  4.89it/s]               \n",
            "dask-cudf-0.10.0     |   65 KB | : 100% 1.0/1 [00:01<00:00,  4.44s/it]               \n",
            "cytoolz-0.10.1       |  431 KB | : 100% 1.0/1 [00:00<00:00,  9.95it/s]\n",
            "py-xgboost-0.90.rapi |   87 KB | : 100% 1.0/1 [00:00<00:00,  4.10s/it]                \n",
            "jpeg-9c              |  251 KB | : 100% 1.0/1 [00:00<00:00, 11.61it/s]\n",
            "xgboost-0.90.rapidsd |   12 KB | : 100% 1.0/1 [00:00<00:00,  2.42it/s] \n",
            "freetype-2.10.0      |  884 KB | : 100% 1.0/1 [00:00<00:00,  5.86it/s]               \n",
            "tblib-1.6.0          |   14 KB | : 100% 1.0/1 [00:00<00:00, 18.48it/s]\n",
            "sortedcontainers-2.1 |   25 KB | : 100% 1.0/1 [00:00<00:00, 27.34it/s]\n",
            "dask-2.9.1           |    4 KB | : 100% 1.0/1 [00:00<00:00, 21.52it/s]\n",
            "Preparing transaction: - \b\b\\ \b\b| \b\b/ \b\b- \b\bdone\n",
            "Verifying transaction: | \b\b/ \b\b- \b\b\\ \b\b| \b\b/ \b\b- \b\b\\ \b\b| \b\b/ \b\b- \b\b\\ \b\b| \b\b/ \b\b- \b\b\\ \b\b| \b\b/ \b\b- \b\b\\ \b\b| \b\b/ \b\b- \b\bdone\n",
            "Executing transaction: | \b\b/ \b\b- \b\b\\ \b\b| \b\b/ \b\b- \b\b\\ \b\b| \b\b/ \b\b- \b\b\\ \b\b| \b\b/ \b\b- \b\b\\ \b\b| \b\b/ \b\b- \b\b\\ \b\b| \b\b/ \b\b- \b\b\\ \b\b| \b\b/ \b\b- \b\b\\ \b\b| \b\b/ \b\b- \b\b\\ \b\b| \b\b/ \b\b- \b\b\\ \b\b| \b\b/ \b\b- \b\b\\ \b\b| \b\b/ \b\b- \b\b\\ \b\b| \b\b/ \b\b- \b\b\\ \b\b| \b\b/ \b\b- \b\b\\ \b\b| \b\b/ \b\b- \b\b\\ \b\b| \b\b/ \b\b- \b\b\\ \b\b| \b\b/ \b\b- \b\b\\ \b\b| \b\b/ \b\b- \b\b\\ \b\b| \b\b/ \b\b- \b\b\\ \b\b| \b\b/ \b\b- \b\b\\ \b\b| \b\b/ \b\b- \b\b\\ \b\b| \b\b/ \b\b- \b\b\\ \b\b| \b\b/ \b\b- \b\b\\ \b\b| \b\b/ \b\b- \b\b\\ \b\b| \b\b/ \b\b- \b\b\\ \b\b| \b\b/ \b\b- \b\b\\ \b\b| \b\b/ \b\b- \b\b\\ \b\b| \b\b/ \b\b- \b\b\\ \b\b| \b\b/ \b\b- \b\b\\ \b\b| \b\b/ \b\b- \b\b\\ \b\b| \b\b/ \b\b- \b\b\\ \b\b| \b\b/ \b\b- \b\b\\ \b\b| \b\b/ \b\b- \b\b\\ \b\b| \b\b/ \b\b- \b\b\\ \b\b| \b\b/ \b\b- \b\b\\ \b\b| \b\b/ \b\b- \b\b\\ \b\b| \b\b/ \b\b- \b\b\\ \b\b| \b\b/ \b\b- \b\b\\ \b\b| \b\b/ \b\b- \b\b\\ \b\b| \b\b/ \b\b- \b\b\\ \b\b| \b\b/ \b\b- \b\b\\ \b\b| \b\b/ \b\b- \b\b\\ \b\b| \b\b/ \b\b- \b\b\\ \b\b| \b\b/ \b\b- \b\b\\ \b\b| \b\b/ \b\b- \b\b\\ \b\b| \b\b/ \b\b- \b\b\\ \b\b| \b\b/ \b\b- \b\b\\ \b\b| \b\b/ \b\b- \b\b\\ \b\b| \b\b/ \b\b- \b\b\\ \b\b| \b\b/ \b\b- \b\b\\ \b\b| \b\b/ \b\b- \b\b\\ \b\b| \b\b/ \b\b- \b\b\\ \b\b| \b\b/ \b\b- \b\b\\ \b\b| \b\b/ \b\b- \b\b\\ \b\b| \b\b/ \b\b- \b\b\\ \b\b| \b\b/ \b\b- \b\b\\ \b\b| \b\b/ \b\b- \b\b\\ \b\b| \b\b/ \b\b- \b\b\\ \b\b| \b\b/ \b\b- \b\b\\ \b\b| \b\b/ \b\b- \b\b\\ \b\b| \b\b/ \b\b- \b\b\\ \b\b| \b\b/ \b\b- \b\b\\ \b\b| \b\b/ \b\b- \b\b\\ \b\b| \b\b/ \b\b- \b\b\\ \b\b| \b\b/ \b\b- \b\b\\ \b\b| \b\b/ \b\b- \b\b\\ \b\b| \b\b/ \b\b- \b\b\\ \b\b| \b\b/ \b\b- \b\b\\ \b\b| \b\b/ \b\b- \b\b\\ \b\b| \b\b/ \b\b- \b\b\\ \b\b| \b\b/ \b\b- \b\b\\ \b\b| \b\b/ \b\b- \b\b\\ \b\b| \b\b/ \b\b- \b\b\\ \b\b| \b\b/ \b\b- \b\b\\ \b\b| \b\b/ \b\b- \b\b\\ \b\b| \b\b/ \b\b- \b\b\\ \b\b| \b\b/ \b\b- \b\b\\ \b\b| \b\b/ \b\b- \b\b\\ \b\bdone\n"
          ],
          "name": "stdout"
        }
      ]
    },
    {
      "cell_type": "code",
      "metadata": {
        "id": "XACkVY_qxq6B",
        "colab_type": "code",
        "outputId": "460a0f18-d4e7-4c78-bdaa-fbc4c391b757",
        "colab": {
          "base_uri": "https://localhost:8080/",
          "height": 35
        }
      },
      "source": [
        "!ls /usr/lib/libxgboost.so"
      ],
      "execution_count": 0,
      "outputs": [
        {
          "output_type": "stream",
          "text": [
            "ls: cannot access '/usr/lib/libxgboost.so': No such file or directory\n"
          ],
          "name": "stdout"
        }
      ]
    },
    {
      "cell_type": "code",
      "metadata": {
        "id": "dtRD94MSs8BY",
        "colab_type": "code",
        "colab": {}
      },
      "source": [
        "!cp /usr/local/lib/libxgboost.so /usr/lib"
      ],
      "execution_count": 0,
      "outputs": []
    },
    {
      "cell_type": "code",
      "metadata": {
        "id": "8tRX3zJ3nO6A",
        "colab_type": "code",
        "colab": {}
      },
      "source": [
        "import cudf"
      ],
      "execution_count": 0,
      "outputs": []
    },
    {
      "cell_type": "code",
      "metadata": {
        "id": "wYsohgWlDB8X",
        "colab_type": "code",
        "colab": {}
      },
      "source": [
        "from __future__ import print_function\n",
        "import sys,tempfile, urllib, os\n",
        "import pandas as pd\n",
        "from sklearn.model_selection import train_test_split\n",
        "import numpy as np"
      ],
      "execution_count": 0,
      "outputs": []
    },
    {
      "cell_type": "code",
      "metadata": {
        "id": "ZtuVC35u3qTL",
        "colab_type": "code",
        "colab": {}
      },
      "source": [
        "from sklearn.datasets import fetch_openml\n",
        "covtyp = fetch_openml(name='covertype', version=4)"
      ],
      "execution_count": 0,
      "outputs": []
    },
    {
      "cell_type": "code",
      "metadata": {
        "id": "3OR4SZNm65qf",
        "colab_type": "code",
        "outputId": "3c1fe3a0-0915-45cf-c9f3-69c2f346338b",
        "colab": {
          "base_uri": "https://localhost:8080/",
          "height": 35
        }
      },
      "source": [
        "covtyp.data.shape"
      ],
      "execution_count": 0,
      "outputs": [
        {
          "output_type": "execute_result",
          "data": {
            "text/plain": [
              "(581012, 54)"
            ]
          },
          "metadata": {
            "tags": []
          },
          "execution_count": 9
        }
      ]
    },
    {
      "cell_type": "code",
      "metadata": {
        "id": "QhW9jLy_7mHv",
        "colab_type": "code",
        "outputId": "2a7a8f68-e626-4518-f427-678447dd05e2",
        "colab": {
          "base_uri": "https://localhost:8080/",
          "height": 35
        }
      },
      "source": [
        "np.unique(covtyp.target)"
      ],
      "execution_count": 0,
      "outputs": [
        {
          "output_type": "execute_result",
          "data": {
            "text/plain": [
              "array(['1', '2', '3', '4', '5', '6', '7'], dtype=object)"
            ]
          },
          "metadata": {
            "tags": []
          },
          "execution_count": 10
        }
      ]
    },
    {
      "cell_type": "code",
      "metadata": {
        "id": "0eSauT6En37r",
        "colab_type": "code",
        "outputId": "b71496aa-48b4-4d5f-d049-cf347385f5b7",
        "colab": {
          "base_uri": "https://localhost:8080/",
          "height": 326
        }
      },
      "source": [
        "!nvidia-smi"
      ],
      "execution_count": 0,
      "outputs": [
        {
          "output_type": "stream",
          "text": [
            "Sat Jan 11 19:14:22 2020       \n",
            "+-----------------------------------------------------------------------------+\n",
            "| NVIDIA-SMI 440.44       Driver Version: 418.67       CUDA Version: 10.1     |\n",
            "|-------------------------------+----------------------+----------------------+\n",
            "| GPU  Name        Persistence-M| Bus-Id        Disp.A | Volatile Uncorr. ECC |\n",
            "| Fan  Temp  Perf  Pwr:Usage/Cap|         Memory-Usage | GPU-Util  Compute M. |\n",
            "|===============================+======================+======================|\n",
            "|   0  Tesla P100-PCIE...  Off  | 00000000:00:04.0 Off |                    0 |\n",
            "| N/A   37C    P0    28W / 250W |      0MiB / 16280MiB |      0%      Default |\n",
            "+-------------------------------+----------------------+----------------------+\n",
            "                                                                               \n",
            "+-----------------------------------------------------------------------------+\n",
            "| Processes:                                                       GPU Memory |\n",
            "|  GPU       PID   Type   Process name                             Usage      |\n",
            "|=============================================================================|\n",
            "|  No running processes found                                                 |\n",
            "+-----------------------------------------------------------------------------+\n"
          ],
          "name": "stdout"
        }
      ]
    },
    {
      "cell_type": "code",
      "metadata": {
        "id": "2kdUEoVk8uQ6",
        "colab_type": "code",
        "colab": {}
      },
      "source": [
        "cov_df = pd.DataFrame(data= np.c_[covtyp['data'], covtyp['target']],\n",
        "                     columns= covtyp['feature_names'] + ['target'])"
      ],
      "execution_count": 0,
      "outputs": []
    },
    {
      "cell_type": "code",
      "metadata": {
        "id": "8TB9_2CqOsPP",
        "colab_type": "code",
        "outputId": "f275266d-86cd-4aec-98bf-0dd98c141cee",
        "colab": {
          "base_uri": "https://localhost:8080/",
          "height": 35
        }
      },
      "source": [
        "cov_df.memory_usage(index=True).sum()"
      ],
      "execution_count": 0,
      "outputs": [
        {
          "output_type": "execute_result",
          "data": {
            "text/plain": [
              "255645408"
            ]
          },
          "metadata": {
            "tags": []
          },
          "execution_count": 13
        }
      ]
    },
    {
      "cell_type": "code",
      "metadata": {
        "id": "cwaOT3fCDVR8",
        "colab_type": "code",
        "outputId": "388c8fa2-5ced-4085-9273-24fefde89f7a",
        "colab": {
          "base_uri": "https://localhost:8080/",
          "height": 218
        }
      },
      "source": [
        "cov_df.head()"
      ],
      "execution_count": 0,
      "outputs": [
        {
          "output_type": "execute_result",
          "data": {
            "text/html": [
              "<div>\n",
              "<style scoped>\n",
              "    .dataframe tbody tr th:only-of-type {\n",
              "        vertical-align: middle;\n",
              "    }\n",
              "\n",
              "    .dataframe tbody tr th {\n",
              "        vertical-align: top;\n",
              "    }\n",
              "\n",
              "    .dataframe thead th {\n",
              "        text-align: right;\n",
              "    }\n",
              "</style>\n",
              "<table border=\"1\" class=\"dataframe\">\n",
              "  <thead>\n",
              "    <tr style=\"text-align: right;\">\n",
              "      <th></th>\n",
              "      <th>Elevation</th>\n",
              "      <th>Aspect</th>\n",
              "      <th>Slope</th>\n",
              "      <th>Horizontal_Distance_To_Hydrology</th>\n",
              "      <th>Vertical_Distance_To_Hydrology</th>\n",
              "      <th>Horizontal_Distance_To_Roadways</th>\n",
              "      <th>Hillshade_9am</th>\n",
              "      <th>Hillshade_Noon</th>\n",
              "      <th>Hillshade_3pm</th>\n",
              "      <th>Horizontal_Distance_To_Fire_Points</th>\n",
              "      <th>Wilderness_Area1</th>\n",
              "      <th>Wilderness_Area2</th>\n",
              "      <th>Wilderness_Area3</th>\n",
              "      <th>Wilderness_Area4</th>\n",
              "      <th>Soil_Type1</th>\n",
              "      <th>Soil_Type2</th>\n",
              "      <th>Soil_Type3</th>\n",
              "      <th>Soil_Type4</th>\n",
              "      <th>Soil_Type5</th>\n",
              "      <th>Soil_Type6</th>\n",
              "      <th>Soil_Type7</th>\n",
              "      <th>Soil_Type8</th>\n",
              "      <th>Soil_Type9</th>\n",
              "      <th>Soil_Type10</th>\n",
              "      <th>Soil_Type11</th>\n",
              "      <th>Soil_Type12</th>\n",
              "      <th>Soil_Type13</th>\n",
              "      <th>Soil_Type14</th>\n",
              "      <th>Soil_Type15</th>\n",
              "      <th>Soil_Type16</th>\n",
              "      <th>Soil_Type17</th>\n",
              "      <th>Soil_Type18</th>\n",
              "      <th>Soil_Type19</th>\n",
              "      <th>Soil_Type20</th>\n",
              "      <th>Soil_Type21</th>\n",
              "      <th>Soil_Type22</th>\n",
              "      <th>Soil_Type23</th>\n",
              "      <th>Soil_Type24</th>\n",
              "      <th>Soil_Type25</th>\n",
              "      <th>Soil_Type26</th>\n",
              "      <th>Soil_Type27</th>\n",
              "      <th>Soil_Type28</th>\n",
              "      <th>Soil_Type29</th>\n",
              "      <th>Soil_Type30</th>\n",
              "      <th>Soil_Type31</th>\n",
              "      <th>Soil_Type32</th>\n",
              "      <th>Soil_Type33</th>\n",
              "      <th>Soil_Type34</th>\n",
              "      <th>Soil_Type35</th>\n",
              "      <th>Soil_Type36</th>\n",
              "      <th>Soil_Type37</th>\n",
              "      <th>Soil_Type38</th>\n",
              "      <th>Soil_Type39</th>\n",
              "      <th>Soil_Type40</th>\n",
              "      <th>target</th>\n",
              "    </tr>\n",
              "  </thead>\n",
              "  <tbody>\n",
              "    <tr>\n",
              "      <th>0</th>\n",
              "      <td>2596</td>\n",
              "      <td>51</td>\n",
              "      <td>3</td>\n",
              "      <td>258</td>\n",
              "      <td>0</td>\n",
              "      <td>510</td>\n",
              "      <td>221</td>\n",
              "      <td>232</td>\n",
              "      <td>148</td>\n",
              "      <td>6279</td>\n",
              "      <td>1</td>\n",
              "      <td>0</td>\n",
              "      <td>0</td>\n",
              "      <td>0</td>\n",
              "      <td>0</td>\n",
              "      <td>0</td>\n",
              "      <td>0</td>\n",
              "      <td>0</td>\n",
              "      <td>0</td>\n",
              "      <td>0</td>\n",
              "      <td>0</td>\n",
              "      <td>0</td>\n",
              "      <td>0</td>\n",
              "      <td>0</td>\n",
              "      <td>0</td>\n",
              "      <td>0</td>\n",
              "      <td>0</td>\n",
              "      <td>0</td>\n",
              "      <td>0</td>\n",
              "      <td>0</td>\n",
              "      <td>0</td>\n",
              "      <td>0</td>\n",
              "      <td>0</td>\n",
              "      <td>0</td>\n",
              "      <td>0</td>\n",
              "      <td>0</td>\n",
              "      <td>0</td>\n",
              "      <td>0</td>\n",
              "      <td>0</td>\n",
              "      <td>0</td>\n",
              "      <td>0</td>\n",
              "      <td>0</td>\n",
              "      <td>1</td>\n",
              "      <td>0</td>\n",
              "      <td>0</td>\n",
              "      <td>0</td>\n",
              "      <td>0</td>\n",
              "      <td>0</td>\n",
              "      <td>0</td>\n",
              "      <td>0</td>\n",
              "      <td>0</td>\n",
              "      <td>0</td>\n",
              "      <td>0</td>\n",
              "      <td>0</td>\n",
              "      <td>5</td>\n",
              "    </tr>\n",
              "    <tr>\n",
              "      <th>1</th>\n",
              "      <td>2590</td>\n",
              "      <td>56</td>\n",
              "      <td>2</td>\n",
              "      <td>212</td>\n",
              "      <td>-6</td>\n",
              "      <td>390</td>\n",
              "      <td>220</td>\n",
              "      <td>235</td>\n",
              "      <td>151</td>\n",
              "      <td>6225</td>\n",
              "      <td>1</td>\n",
              "      <td>0</td>\n",
              "      <td>0</td>\n",
              "      <td>0</td>\n",
              "      <td>0</td>\n",
              "      <td>0</td>\n",
              "      <td>0</td>\n",
              "      <td>0</td>\n",
              "      <td>0</td>\n",
              "      <td>0</td>\n",
              "      <td>0</td>\n",
              "      <td>0</td>\n",
              "      <td>0</td>\n",
              "      <td>0</td>\n",
              "      <td>0</td>\n",
              "      <td>0</td>\n",
              "      <td>0</td>\n",
              "      <td>0</td>\n",
              "      <td>0</td>\n",
              "      <td>0</td>\n",
              "      <td>0</td>\n",
              "      <td>0</td>\n",
              "      <td>0</td>\n",
              "      <td>0</td>\n",
              "      <td>0</td>\n",
              "      <td>0</td>\n",
              "      <td>0</td>\n",
              "      <td>0</td>\n",
              "      <td>0</td>\n",
              "      <td>0</td>\n",
              "      <td>0</td>\n",
              "      <td>0</td>\n",
              "      <td>1</td>\n",
              "      <td>0</td>\n",
              "      <td>0</td>\n",
              "      <td>0</td>\n",
              "      <td>0</td>\n",
              "      <td>0</td>\n",
              "      <td>0</td>\n",
              "      <td>0</td>\n",
              "      <td>0</td>\n",
              "      <td>0</td>\n",
              "      <td>0</td>\n",
              "      <td>0</td>\n",
              "      <td>5</td>\n",
              "    </tr>\n",
              "    <tr>\n",
              "      <th>2</th>\n",
              "      <td>2804</td>\n",
              "      <td>139</td>\n",
              "      <td>9</td>\n",
              "      <td>268</td>\n",
              "      <td>65</td>\n",
              "      <td>3180</td>\n",
              "      <td>234</td>\n",
              "      <td>238</td>\n",
              "      <td>135</td>\n",
              "      <td>6121</td>\n",
              "      <td>1</td>\n",
              "      <td>0</td>\n",
              "      <td>0</td>\n",
              "      <td>0</td>\n",
              "      <td>0</td>\n",
              "      <td>0</td>\n",
              "      <td>0</td>\n",
              "      <td>0</td>\n",
              "      <td>0</td>\n",
              "      <td>0</td>\n",
              "      <td>0</td>\n",
              "      <td>0</td>\n",
              "      <td>0</td>\n",
              "      <td>0</td>\n",
              "      <td>0</td>\n",
              "      <td>1</td>\n",
              "      <td>0</td>\n",
              "      <td>0</td>\n",
              "      <td>0</td>\n",
              "      <td>0</td>\n",
              "      <td>0</td>\n",
              "      <td>0</td>\n",
              "      <td>0</td>\n",
              "      <td>0</td>\n",
              "      <td>0</td>\n",
              "      <td>0</td>\n",
              "      <td>0</td>\n",
              "      <td>0</td>\n",
              "      <td>0</td>\n",
              "      <td>0</td>\n",
              "      <td>0</td>\n",
              "      <td>0</td>\n",
              "      <td>0</td>\n",
              "      <td>0</td>\n",
              "      <td>0</td>\n",
              "      <td>0</td>\n",
              "      <td>0</td>\n",
              "      <td>0</td>\n",
              "      <td>0</td>\n",
              "      <td>0</td>\n",
              "      <td>0</td>\n",
              "      <td>0</td>\n",
              "      <td>0</td>\n",
              "      <td>0</td>\n",
              "      <td>2</td>\n",
              "    </tr>\n",
              "    <tr>\n",
              "      <th>3</th>\n",
              "      <td>2785</td>\n",
              "      <td>155</td>\n",
              "      <td>18</td>\n",
              "      <td>242</td>\n",
              "      <td>118</td>\n",
              "      <td>3090</td>\n",
              "      <td>238</td>\n",
              "      <td>238</td>\n",
              "      <td>122</td>\n",
              "      <td>6211</td>\n",
              "      <td>1</td>\n",
              "      <td>0</td>\n",
              "      <td>0</td>\n",
              "      <td>0</td>\n",
              "      <td>0</td>\n",
              "      <td>0</td>\n",
              "      <td>0</td>\n",
              "      <td>0</td>\n",
              "      <td>0</td>\n",
              "      <td>0</td>\n",
              "      <td>0</td>\n",
              "      <td>0</td>\n",
              "      <td>0</td>\n",
              "      <td>0</td>\n",
              "      <td>0</td>\n",
              "      <td>0</td>\n",
              "      <td>0</td>\n",
              "      <td>0</td>\n",
              "      <td>0</td>\n",
              "      <td>0</td>\n",
              "      <td>0</td>\n",
              "      <td>0</td>\n",
              "      <td>0</td>\n",
              "      <td>0</td>\n",
              "      <td>0</td>\n",
              "      <td>0</td>\n",
              "      <td>0</td>\n",
              "      <td>0</td>\n",
              "      <td>0</td>\n",
              "      <td>0</td>\n",
              "      <td>0</td>\n",
              "      <td>0</td>\n",
              "      <td>0</td>\n",
              "      <td>1</td>\n",
              "      <td>0</td>\n",
              "      <td>0</td>\n",
              "      <td>0</td>\n",
              "      <td>0</td>\n",
              "      <td>0</td>\n",
              "      <td>0</td>\n",
              "      <td>0</td>\n",
              "      <td>0</td>\n",
              "      <td>0</td>\n",
              "      <td>0</td>\n",
              "      <td>2</td>\n",
              "    </tr>\n",
              "    <tr>\n",
              "      <th>4</th>\n",
              "      <td>2595</td>\n",
              "      <td>45</td>\n",
              "      <td>2</td>\n",
              "      <td>153</td>\n",
              "      <td>-1</td>\n",
              "      <td>391</td>\n",
              "      <td>220</td>\n",
              "      <td>234</td>\n",
              "      <td>150</td>\n",
              "      <td>6172</td>\n",
              "      <td>1</td>\n",
              "      <td>0</td>\n",
              "      <td>0</td>\n",
              "      <td>0</td>\n",
              "      <td>0</td>\n",
              "      <td>0</td>\n",
              "      <td>0</td>\n",
              "      <td>0</td>\n",
              "      <td>0</td>\n",
              "      <td>0</td>\n",
              "      <td>0</td>\n",
              "      <td>0</td>\n",
              "      <td>0</td>\n",
              "      <td>0</td>\n",
              "      <td>0</td>\n",
              "      <td>0</td>\n",
              "      <td>0</td>\n",
              "      <td>0</td>\n",
              "      <td>0</td>\n",
              "      <td>0</td>\n",
              "      <td>0</td>\n",
              "      <td>0</td>\n",
              "      <td>0</td>\n",
              "      <td>0</td>\n",
              "      <td>0</td>\n",
              "      <td>0</td>\n",
              "      <td>0</td>\n",
              "      <td>0</td>\n",
              "      <td>0</td>\n",
              "      <td>0</td>\n",
              "      <td>0</td>\n",
              "      <td>0</td>\n",
              "      <td>1</td>\n",
              "      <td>0</td>\n",
              "      <td>0</td>\n",
              "      <td>0</td>\n",
              "      <td>0</td>\n",
              "      <td>0</td>\n",
              "      <td>0</td>\n",
              "      <td>0</td>\n",
              "      <td>0</td>\n",
              "      <td>0</td>\n",
              "      <td>0</td>\n",
              "      <td>0</td>\n",
              "      <td>5</td>\n",
              "    </tr>\n",
              "  </tbody>\n",
              "</table>\n",
              "</div>"
            ],
            "text/plain": [
              "  Elevation Aspect Slope  ... Soil_Type39 Soil_Type40 target\n",
              "0      2596     51     3  ...           0           0      5\n",
              "1      2590     56     2  ...           0           0      5\n",
              "2      2804    139     9  ...           0           0      2\n",
              "3      2785    155    18  ...           0           0      2\n",
              "4      2595     45     2  ...           0           0      5\n",
              "\n",
              "[5 rows x 55 columns]"
            ]
          },
          "metadata": {
            "tags": []
          },
          "execution_count": 14
        }
      ]
    },
    {
      "cell_type": "code",
      "metadata": {
        "id": "oOgRjV_ULCtl",
        "colab_type": "code",
        "outputId": "bcdb5a44-bbaf-424b-8220-17a527420586",
        "colab": {
          "base_uri": "https://localhost:8080/",
          "height": 54
        }
      },
      "source": [
        "print (\"Rows     : \" ,cov_df.shape[0])\n",
        "print (\"Columns  : \" ,cov_df.shape[1])"
      ],
      "execution_count": 0,
      "outputs": [
        {
          "output_type": "stream",
          "text": [
            "Rows     :  581012\n",
            "Columns  :  55\n"
          ],
          "name": "stdout"
        }
      ]
    },
    {
      "cell_type": "code",
      "metadata": {
        "id": "nCjmIZE4K8iW",
        "colab_type": "code",
        "outputId": "37d30c8d-f433-4d69-8339-d9698dfef620",
        "colab": {
          "base_uri": "https://localhost:8080/",
          "height": 163
        }
      },
      "source": [
        "cov_df.target.value_counts()"
      ],
      "execution_count": 0,
      "outputs": [
        {
          "output_type": "execute_result",
          "data": {
            "text/plain": [
              "2    283301\n",
              "1    211840\n",
              "3     35754\n",
              "7     20510\n",
              "6     17367\n",
              "5      9493\n",
              "4      2747\n",
              "Name: target, dtype: int64"
            ]
          },
          "metadata": {
            "tags": []
          },
          "execution_count": 16
        }
      ]
    },
    {
      "cell_type": "code",
      "metadata": {
        "id": "9G_kjG8QSd4Y",
        "colab_type": "code",
        "outputId": "cdf1963e-2575-4c02-d3f4-f5016da836e1",
        "colab": {
          "base_uri": "https://localhost:8080/",
          "height": 1000
        }
      },
      "source": [
        "cov_df.dtypes"
      ],
      "execution_count": 0,
      "outputs": [
        {
          "output_type": "execute_result",
          "data": {
            "text/plain": [
              "Elevation                             object\n",
              "Aspect                                object\n",
              "Slope                                 object\n",
              "Horizontal_Distance_To_Hydrology      object\n",
              "Vertical_Distance_To_Hydrology        object\n",
              "Horizontal_Distance_To_Roadways       object\n",
              "Hillshade_9am                         object\n",
              "Hillshade_Noon                        object\n",
              "Hillshade_3pm                         object\n",
              "Horizontal_Distance_To_Fire_Points    object\n",
              "Wilderness_Area1                      object\n",
              "Wilderness_Area2                      object\n",
              "Wilderness_Area3                      object\n",
              "Wilderness_Area4                      object\n",
              "Soil_Type1                            object\n",
              "Soil_Type2                            object\n",
              "Soil_Type3                            object\n",
              "Soil_Type4                            object\n",
              "Soil_Type5                            object\n",
              "Soil_Type6                            object\n",
              "Soil_Type7                            object\n",
              "Soil_Type8                            object\n",
              "Soil_Type9                            object\n",
              "Soil_Type10                           object\n",
              "Soil_Type11                           object\n",
              "Soil_Type12                           object\n",
              "Soil_Type13                           object\n",
              "Soil_Type14                           object\n",
              "Soil_Type15                           object\n",
              "Soil_Type16                           object\n",
              "Soil_Type17                           object\n",
              "Soil_Type18                           object\n",
              "Soil_Type19                           object\n",
              "Soil_Type20                           object\n",
              "Soil_Type21                           object\n",
              "Soil_Type22                           object\n",
              "Soil_Type23                           object\n",
              "Soil_Type24                           object\n",
              "Soil_Type25                           object\n",
              "Soil_Type26                           object\n",
              "Soil_Type27                           object\n",
              "Soil_Type28                           object\n",
              "Soil_Type29                           object\n",
              "Soil_Type30                           object\n",
              "Soil_Type31                           object\n",
              "Soil_Type32                           object\n",
              "Soil_Type33                           object\n",
              "Soil_Type34                           object\n",
              "Soil_Type35                           object\n",
              "Soil_Type36                           object\n",
              "Soil_Type37                           object\n",
              "Soil_Type38                           object\n",
              "Soil_Type39                           object\n",
              "Soil_Type40                           object\n",
              "target                                object\n",
              "dtype: object"
            ]
          },
          "metadata": {
            "tags": []
          },
          "execution_count": 17
        }
      ]
    },
    {
      "cell_type": "code",
      "metadata": {
        "id": "QjdZdC0_aY4r",
        "colab_type": "code",
        "colab": {}
      },
      "source": [
        "for cols in cov_df.columns:\n",
        "  cov_df[cols] = pd.to_numeric(cov_df[cols], downcast='float')"
      ],
      "execution_count": 0,
      "outputs": []
    },
    {
      "cell_type": "code",
      "metadata": {
        "id": "FCUjxIRvgL6a",
        "colab_type": "code",
        "colab": {}
      },
      "source": [
        "cov_df['target'] = cov_df['target'].astype(np.int32)"
      ],
      "execution_count": 0,
      "outputs": []
    },
    {
      "cell_type": "code",
      "metadata": {
        "id": "9bAi7NZYBBiP",
        "colab_type": "code",
        "colab": {}
      },
      "source": [
        "cov_df['target'] = cov_df['target']-1"
      ],
      "execution_count": 0,
      "outputs": []
    },
    {
      "cell_type": "code",
      "metadata": {
        "colab_type": "code",
        "id": "nUYeVzKa9q9V",
        "colab": {}
      },
      "source": [
        "cov_df_X = cov_df.copy()\n",
        "cov_df_y =  cov_df_X.pop('target')"
      ],
      "execution_count": 0,
      "outputs": []
    },
    {
      "cell_type": "code",
      "metadata": {
        "id": "ZsKHF1ejlkKF",
        "colab_type": "code",
        "colab": {}
      },
      "source": [
        "X_train, X_test, y_train, y_test = train_test_split(cov_df_X, cov_df_y, train_size=0.95, test_size=0.05)"
      ],
      "execution_count": 0,
      "outputs": []
    },
    {
      "cell_type": "code",
      "metadata": {
        "id": "m58fCw6guyOj",
        "colab_type": "code",
        "colab": {}
      },
      "source": [
        "X_train_gdf = cudf.DataFrame.from_pandas(X_train)\n",
        "X_test_gdf = cudf.DataFrame.from_pandas(X_test)\n",
        "y_train_gdf = cudf.DataFrame.from_pandas(pd.DataFrame(y_train))\n",
        "y_test_gdf = cudf.DataFrame.from_pandas(pd.DataFrame(y_test))"
      ],
      "execution_count": 0,
      "outputs": []
    },
    {
      "cell_type": "code",
      "metadata": {
        "id": "E_oNY9Dzu9hc",
        "colab_type": "code",
        "outputId": "a8ec9621-1d12-4d66-9bdc-db5789372457",
        "colab": {
          "base_uri": "https://localhost:8080/",
          "height": 308
        }
      },
      "source": [
        "!nvidia-smi"
      ],
      "execution_count": 0,
      "outputs": [
        {
          "output_type": "stream",
          "text": [
            "Sat Jan 11 19:14:39 2020       \n",
            "+-----------------------------------------------------------------------------+\n",
            "| NVIDIA-SMI 440.44       Driver Version: 418.67       CUDA Version: 10.1     |\n",
            "|-------------------------------+----------------------+----------------------+\n",
            "| GPU  Name        Persistence-M| Bus-Id        Disp.A | Volatile Uncorr. ECC |\n",
            "| Fan  Temp  Perf  Pwr:Usage/Cap|         Memory-Usage | GPU-Util  Compute M. |\n",
            "|===============================+======================+======================|\n",
            "|   0  Tesla P100-PCIE...  Off  | 00000000:00:04.0 Off |                    0 |\n",
            "| N/A   37C    P0    35W / 250W |    605MiB / 16280MiB |      0%      Default |\n",
            "+-------------------------------+----------------------+----------------------+\n",
            "                                                                               \n",
            "+-----------------------------------------------------------------------------+\n",
            "| Processes:                                                       GPU Memory |\n",
            "|  GPU       PID   Type   Process name                             Usage      |\n",
            "|=============================================================================|\n",
            "+-----------------------------------------------------------------------------+\n"
          ],
          "name": "stdout"
        }
      ]
    },
    {
      "cell_type": "code",
      "metadata": {
        "id": "vSGbIXcYesbO",
        "colab_type": "code",
        "colab": {}
      },
      "source": [
        "from cuml import RandomForestClassifier as cuRF\n",
        "import time"
      ],
      "execution_count": 0,
      "outputs": []
    },
    {
      "cell_type": "code",
      "metadata": {
        "id": "9Rzbir13esot",
        "colab_type": "code",
        "colab": {}
      },
      "source": [
        "cu_rf_params = {\n",
        "    'n_estimators': 250,\n",
        "    'max_depth': 8,\n",
        "    'n_streams': 1,\n",
        "    'split_algo': 0, \n",
        "    'seed': 1010\n",
        "}\n",
        "cu_rf = cuRF(**cu_rf_params)"
      ],
      "execution_count": 0,
      "outputs": []
    },
    {
      "cell_type": "code",
      "metadata": {
        "id": "bf38NATmfrvd",
        "colab_type": "code",
        "outputId": "55f23149-4397-4d5e-a0a6-fb7ce8a00829",
        "colab": {
          "base_uri": "https://localhost:8080/",
          "height": 35
        }
      },
      "source": [
        "start_time = time.time()\n",
        "cu_rf.fit(X_train_gdf, y_train_gdf)\n",
        "print(\"GPU Training Time with GPU dataframe: %s seconds\" % (str(time.time() - start_time)))"
      ],
      "execution_count": 0,
      "outputs": [
        {
          "output_type": "stream",
          "text": [
            "GPU Training Time with GPU dataframe: 3.4566354751586914 seconds\n"
          ],
          "name": "stdout"
        }
      ]
    },
    {
      "cell_type": "code",
      "metadata": {
        "id": "vNN_y2Kbhc8u",
        "colab_type": "code",
        "colab": {}
      },
      "source": [
        "predvalue = cu_rf.predict(X_test_gdf)"
      ],
      "execution_count": 0,
      "outputs": []
    },
    {
      "cell_type": "code",
      "metadata": {
        "id": "7qMDiL1bp3A4",
        "colab_type": "code",
        "outputId": "47aa66fd-9796-4457-ec00-6bc36d32ac8e",
        "colab": {
          "base_uri": "https://localhost:8080/",
          "height": 35
        }
      },
      "source": [
        "predvalue[0]"
      ],
      "execution_count": 0,
      "outputs": [
        {
          "output_type": "execute_result",
          "data": {
            "text/plain": [
              "1.0"
            ]
          },
          "metadata": {
            "tags": []
          },
          "execution_count": 29
        }
      ]
    },
    {
      "cell_type": "code",
      "metadata": {
        "id": "ZY4LUyby02S_",
        "colab_type": "code",
        "outputId": "6ce3cf19-0f61-4ea7-f967-e4d88475798a",
        "colab": {
          "base_uri": "https://localhost:8080/",
          "height": 35
        }
      },
      "source": [
        "#cu_rf.score(X_test_gdf, y_test_gdf) --> use GPU frame if using 0.11 version of rapids\n",
        "cu_rf.score(X_test_gdf, y_test.to_numpy())"
      ],
      "execution_count": 0,
      "outputs": [
        {
          "output_type": "execute_result",
          "data": {
            "text/plain": [
              "0.6940897107124329"
            ]
          },
          "metadata": {
            "tags": []
          },
          "execution_count": 30
        }
      ]
    },
    {
      "cell_type": "code",
      "metadata": {
        "id": "qNKbv0nN6yrf",
        "colab_type": "code",
        "colab": {}
      },
      "source": [
        "pred_out=predvalue.copy_to_host()"
      ],
      "execution_count": 0,
      "outputs": []
    },
    {
      "cell_type": "code",
      "metadata": {
        "id": "9eNF98go5M4w",
        "colab_type": "code",
        "colab": {}
      },
      "source": [
        " from sklearn.metrics import confusion_matrix"
      ],
      "execution_count": 0,
      "outputs": []
    },
    {
      "cell_type": "code",
      "metadata": {
        "id": "nt80V2t68Ysg",
        "colab_type": "code",
        "outputId": "8cc2f87c-fcde-4c21-a9ea-bb4f4b534d19",
        "colab": {
          "base_uri": "https://localhost:8080/",
          "height": 145
        }
      },
      "source": [
        "confusion_matrix(y_test, pred_out)"
      ],
      "execution_count": 0,
      "outputs": [
        {
          "output_type": "execute_result",
          "data": {
            "text/plain": [
              "array([[ 6301,  4255,     0,     0,     0,     0,     0],\n",
              "       [ 2196, 12032,     0,     0,     0,     0,     0],\n",
              "       [    0,  1765,     0,     0,     0,     0,     0],\n",
              "       [    0,   140,     0,     0,     0,     0,     0],\n",
              "       [    0,   462,     0,     0,     0,     0,     0],\n",
              "       [    0,   905,     0,     0,     0,     0,     0],\n",
              "       [  154,   841,     0,     0,     0,     0,     0]])"
            ]
          },
          "metadata": {
            "tags": []
          },
          "execution_count": 33
        }
      ]
    },
    {
      "cell_type": "code",
      "metadata": {
        "id": "YU-p7DcUCKSW",
        "colab_type": "code",
        "colab": {}
      },
      "source": [
        "from sklearn.ensemble import RandomForestClassifier"
      ],
      "execution_count": 0,
      "outputs": []
    },
    {
      "cell_type": "code",
      "metadata": {
        "id": "dOZwuS6ZCLPb",
        "colab_type": "code",
        "colab": {}
      },
      "source": [
        "clf = RandomForestClassifier(n_estimators=250, max_depth=8, random_state=1010)"
      ],
      "execution_count": 0,
      "outputs": []
    },
    {
      "cell_type": "code",
      "metadata": {
        "id": "tdwODzNgCLUH",
        "colab_type": "code",
        "outputId": "d7784080-a4a5-418b-d495-02c9a02285ee",
        "colab": {
          "base_uri": "https://localhost:8080/",
          "height": 35
        }
      },
      "source": [
        "start_time = time.time()\n",
        "clf.fit(X_train,y_train)\n",
        "print(\"scikit learn training time: %s seconds\" % (str(time.time() - start_time)))"
      ],
      "execution_count": 0,
      "outputs": [
        {
          "output_type": "stream",
          "text": [
            "scikit learn training time: 118.68698120117188 seconds\n"
          ],
          "name": "stdout"
        }
      ]
    },
    {
      "cell_type": "code",
      "metadata": {
        "id": "1f78QaZOCLZR",
        "colab_type": "code",
        "colab": {}
      },
      "source": [
        "predict_scikit=clf.predict(X_test)"
      ],
      "execution_count": 0,
      "outputs": []
    },
    {
      "cell_type": "code",
      "metadata": {
        "id": "z_Hrs4IrCbWc",
        "colab_type": "code",
        "outputId": "07ebfa0d-c80f-41d8-a739-53d11216abba",
        "colab": {
          "base_uri": "https://localhost:8080/",
          "height": 35
        }
      },
      "source": [
        "predict_scikit"
      ],
      "execution_count": 0,
      "outputs": [
        {
          "output_type": "execute_result",
          "data": {
            "text/plain": [
              "array([1, 1, 0, ..., 0, 2, 6], dtype=int32)"
            ]
          },
          "metadata": {
            "tags": []
          },
          "execution_count": 38
        }
      ]
    },
    {
      "cell_type": "code",
      "metadata": {
        "id": "hkyTXKUhCbZ_",
        "colab_type": "code",
        "outputId": "1326bd9a-0409-462b-f5cc-6d0f2e9d36b3",
        "colab": {
          "base_uri": "https://localhost:8080/",
          "height": 35
        }
      },
      "source": [
        "clf.score(X_test,y_test)"
      ],
      "execution_count": 0,
      "outputs": [
        {
          "output_type": "execute_result",
          "data": {
            "text/plain": [
              "0.7144332380985164"
            ]
          },
          "metadata": {
            "tags": []
          },
          "execution_count": 39
        }
      ]
    },
    {
      "cell_type": "code",
      "metadata": {
        "id": "w7BMewAmCg5s",
        "colab_type": "code",
        "outputId": "501b72a9-7000-40fe-dafa-c9bffff89b41",
        "colab": {
          "base_uri": "https://localhost:8080/",
          "height": 145
        }
      },
      "source": [
        "confusion_matrix(y_test, predict_scikit)"
      ],
      "execution_count": 0,
      "outputs": [
        {
          "output_type": "execute_result",
          "data": {
            "text/plain": [
              "array([[ 7770,  2778,     0,     0,     0,     0,     8],\n",
              "       [ 2926, 11193,   108,     0,     0,     1,     0],\n",
              "       [    0,   315,  1450,     0,     0,     0,     0],\n",
              "       [    0,     0,   104,    36,     0,     0,     0],\n",
              "       [    0,   458,     4,     0,     0,     0,     0],\n",
              "       [    0,   362,   532,     1,     0,    10,     0],\n",
              "       [  695,     4,     0,     0,     0,     0,   296]])"
            ]
          },
          "metadata": {
            "tags": []
          },
          "execution_count": 40
        }
      ]
    }
  ]
}