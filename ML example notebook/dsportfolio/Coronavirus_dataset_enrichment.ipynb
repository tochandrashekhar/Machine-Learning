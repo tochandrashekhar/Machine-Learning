{
  "nbformat": 4,
  "nbformat_minor": 0,
  "metadata": {
    "colab": {
      "name": "Coronavirus dataset enrichment.ipynb",
      "provenance": [],
      "authorship_tag": "ABX9TyPiBqWOIZJD2peHOmbWRkKi",
      "include_colab_link": true
    },
    "kernelspec": {
      "name": "python3",
      "display_name": "Python 3"
    }
  },
  "cells": [
    {
      "cell_type": "markdown",
      "metadata": {
        "id": "view-in-github",
        "colab_type": "text"
      },
      "source": [
        "<a href=\"https://colab.research.google.com/github/srivatsan88/YouTubeLI/blob/master/dsportfolio/Coronavirus_dataset_enrichment.ipynb\" target=\"_parent\"><img src=\"https://colab.research.google.com/assets/colab-badge.svg\" alt=\"Open In Colab\"/></a>"
      ]
    },
    {
      "cell_type": "markdown",
      "metadata": {
        "id": "mBQ9rcFkZaaF",
        "colab_type": "text"
      },
      "source": [
        "![Model Training](https://drive.google.com/uc?id=17cUxpbL2eonLzgY0uIVAxmsfMfQF1by2)"
      ]
    },
    {
      "cell_type": "code",
      "metadata": {
        "id": "lNxJfjPCLO-T",
        "colab_type": "code",
        "colab": {}
      },
      "source": [
        "from google.colab import drive\n",
        "drive.mount('/content/drive')"
      ],
      "execution_count": 0,
      "outputs": []
    },
    {
      "cell_type": "code",
      "metadata": {
        "id": "vclrTo1rLV0t",
        "colab_type": "code",
        "colab": {}
      },
      "source": [
        "!ls '/content/drive/My Drive/Colab Notebooks/twitter.properties'"
      ],
      "execution_count": 0,
      "outputs": []
    },
    {
      "cell_type": "code",
      "metadata": {
        "id": "6wF2auF-MpVp",
        "colab_type": "code",
        "colab": {}
      },
      "source": [
        "!pip install ConfigParser"
      ],
      "execution_count": 0,
      "outputs": []
    },
    {
      "cell_type": "markdown",
      "metadata": {
        "id": "b-PiMClfrxDu",
        "colab_type": "text"
      },
      "source": [
        "[twitter]\n",
        "accesstoken=xxxx\n",
        "\n",
        "accesstokensecret=xxxx\n",
        "\n",
        "apikey=xxxxxx\n",
        "\n",
        "apisecretkey=xxxxxx\n",
        "\n",
        "googleapikey=xxxxxxx"
      ]
    },
    {
      "cell_type": "code",
      "metadata": {
        "id": "bUTImyaELjg1",
        "colab_type": "code",
        "colab": {}
      },
      "source": [
        "import pandas as pd\n",
        "import configparser\n",
        "config = configparser.RawConfigParser()\n",
        "config.read('/content/drive/My Drive/Colab Notebooks/twitter.properties')\n",
        "\n",
        "print(config.sections());\n"
      ],
      "execution_count": 0,
      "outputs": []
    },
    {
      "cell_type": "code",
      "metadata": {
        "id": "cDLW8AUKxdo9",
        "colab_type": "code",
        "colab": {}
      },
      "source": [
        "corona_confirmed_df = pd.read_csv('https://raw.githubusercontent.com/CSSEGISandData/COVID-19/master/csse_covid_19_data/csse_covid_19_time_series/time_series_19-covid-Confirmed.csv')"
      ],
      "execution_count": 0,
      "outputs": []
    },
    {
      "cell_type": "code",
      "metadata": {
        "id": "qEL1RFFhx7fj",
        "colab_type": "code",
        "colab": {}
      },
      "source": [
        "corona_confirmed_df.head()"
      ],
      "execution_count": 0,
      "outputs": []
    },
    {
      "cell_type": "code",
      "metadata": {
        "id": "8QlDkDrhvyrS",
        "colab_type": "code",
        "colab": {}
      },
      "source": [
        "corona_death_df = pd.read_csv('https://raw.githubusercontent.com/CSSEGISandData/COVID-19/master/csse_covid_19_data/csse_covid_19_time_series/time_series_19-covid-Deaths.csv')"
      ],
      "execution_count": 0,
      "outputs": []
    },
    {
      "cell_type": "code",
      "metadata": {
        "id": "UTfIVXgRwBzJ",
        "colab_type": "code",
        "colab": {}
      },
      "source": [
        "corona_death_df.head()"
      ],
      "execution_count": 0,
      "outputs": []
    },
    {
      "cell_type": "code",
      "metadata": {
        "id": "Zp_2vjdA70lw",
        "colab_type": "code",
        "colab": {}
      },
      "source": [
        "corona_recovered_df = pd.read_csv('https://raw.githubusercontent.com/CSSEGISandData/COVID-19/master/csse_covid_19_data/csse_covid_19_time_series/time_series_19-covid-Recovered.csv')"
      ],
      "execution_count": 0,
      "outputs": []
    },
    {
      "cell_type": "code",
      "metadata": {
        "id": "VWw1MPkA77Ls",
        "colab_type": "code",
        "colab": {}
      },
      "source": [
        "corona_recovered_df.head()"
      ],
      "execution_count": 0,
      "outputs": []
    },
    {
      "cell_type": "code",
      "metadata": {
        "id": "4RdVXNp7wD2p",
        "colab_type": "code",
        "colab": {}
      },
      "source": [
        "corona_confirmed_df=corona_confirmed_df.melt(id_vars=['Province/State','Country/Region','Lat','Long'])"
      ],
      "execution_count": 0,
      "outputs": []
    },
    {
      "cell_type": "code",
      "metadata": {
        "id": "E_PVdt7x6HQu",
        "colab_type": "code",
        "colab": {}
      },
      "source": [
        "corona_confirmed_df.head()"
      ],
      "execution_count": 0,
      "outputs": []
    },
    {
      "cell_type": "code",
      "metadata": {
        "id": "oubwC4bJ4aLO",
        "colab_type": "code",
        "colab": {}
      },
      "source": [
        "corona_confirmed_df=corona_confirmed_df.rename({'variable':'Date','value': 'Confirmed'}, axis='columns')"
      ],
      "execution_count": 0,
      "outputs": []
    },
    {
      "cell_type": "code",
      "metadata": {
        "id": "VGH0hpI47oe6",
        "colab_type": "code",
        "colab": {}
      },
      "source": [
        "corona_confirmed_df.head()"
      ],
      "execution_count": 0,
      "outputs": []
    },
    {
      "cell_type": "code",
      "metadata": {
        "id": "CoUZXyrm7t3o",
        "colab_type": "code",
        "colab": {}
      },
      "source": [
        "corona_death_df=corona_death_df.melt(id_vars=['Province/State','Country/Region','Lat','Long'])"
      ],
      "execution_count": 0,
      "outputs": []
    },
    {
      "cell_type": "code",
      "metadata": {
        "id": "zyAf83_zCza2",
        "colab_type": "code",
        "colab": {}
      },
      "source": [
        "corona_death_df=corona_death_df.rename({'variable':'Date','value': 'Death'}, axis='columns')"
      ],
      "execution_count": 0,
      "outputs": []
    },
    {
      "cell_type": "code",
      "metadata": {
        "id": "O5x1c_Y1C5bS",
        "colab_type": "code",
        "colab": {}
      },
      "source": [
        "corona_death_df.head()"
      ],
      "execution_count": 0,
      "outputs": []
    },
    {
      "cell_type": "code",
      "metadata": {
        "id": "yYYbeKU99WMy",
        "colab_type": "code",
        "colab": {}
      },
      "source": [
        "corona_recovered_df=corona_recovered_df.melt(id_vars=['Province/State','Country/Region','Lat','Long']).rename({'variable':'Date','value': 'Recovered'}, axis='columns')"
      ],
      "execution_count": 0,
      "outputs": []
    },
    {
      "cell_type": "code",
      "metadata": {
        "id": "uOBI9p0397sF",
        "colab_type": "code",
        "colab": {}
      },
      "source": [
        "corona_recovered_df.head()"
      ],
      "execution_count": 0,
      "outputs": []
    },
    {
      "cell_type": "code",
      "metadata": {
        "id": "tIm2uApT9_GF",
        "colab_type": "code",
        "colab": {}
      },
      "source": [
        "combined_df = [corona_confirmed_df, corona_death_df, corona_recovered_df]\n",
        "combined_df = [df.set_index(['Province/State','Country/Region','Lat','Long','Date']) for df in combined_df]\n",
        "combined_df=combined_df[0].join(combined_df[1:])"
      ],
      "execution_count": 0,
      "outputs": []
    },
    {
      "cell_type": "code",
      "metadata": {
        "id": "SLpneDMG_XK4",
        "colab_type": "code",
        "colab": {}
      },
      "source": [
        "combined_df.head()"
      ],
      "execution_count": 0,
      "outputs": []
    },
    {
      "cell_type": "code",
      "metadata": {
        "id": "lW0As0oq_30i",
        "colab_type": "code",
        "colab": {}
      },
      "source": [
        "combined_df=combined_df.reset_index()"
      ],
      "execution_count": 0,
      "outputs": []
    },
    {
      "cell_type": "code",
      "metadata": {
        "id": "z0GQZCGqAKPA",
        "colab_type": "code",
        "colab": {}
      },
      "source": [
        "combined_df.head()"
      ],
      "execution_count": 0,
      "outputs": []
    },
    {
      "cell_type": "code",
      "metadata": {
        "id": "25DTI342AQ97",
        "colab_type": "code",
        "colab": {}
      },
      "source": [
        "combined_df[['Lat', 'Long','Confirmed','Death','Recovered']] = combined_df[['Lat', 'Long','Confirmed','Death','Recovered']].apply(pd.to_numeric) "
      ],
      "execution_count": 0,
      "outputs": []
    },
    {
      "cell_type": "code",
      "metadata": {
        "id": "3vxX9-SOF93f",
        "colab_type": "code",
        "colab": {}
      },
      "source": [
        "combined_df[['Date']] = combined_df[['Date']].apply(pd.to_datetime)"
      ],
      "execution_count": 0,
      "outputs": []
    },
    {
      "cell_type": "code",
      "metadata": {
        "id": "1kxSjq8JF2vs",
        "colab_type": "code",
        "colab": {}
      },
      "source": [
        "combined_df.dtypes"
      ],
      "execution_count": 0,
      "outputs": []
    },
    {
      "cell_type": "code",
      "metadata": {
        "id": "UuH48Ja1F772",
        "colab_type": "code",
        "colab": {}
      },
      "source": [
        "combined_df.head()"
      ],
      "execution_count": 0,
      "outputs": []
    },
    {
      "cell_type": "code",
      "metadata": {
        "id": "AxuGr9qCh1Vg",
        "colab_type": "code",
        "colab": {}
      },
      "source": [
        "\n",
        "combined_df=combined_df.rename({'Province/State':'State','Country/Region': 'Country'}, axis='columns')"
      ],
      "execution_count": 0,
      "outputs": []
    },
    {
      "cell_type": "code",
      "metadata": {
        "id": "aYwQc56Hh9u7",
        "colab_type": "code",
        "colab": {}
      },
      "source": [
        "combined_df.head()"
      ],
      "execution_count": 0,
      "outputs": []
    },
    {
      "cell_type": "code",
      "metadata": {
        "id": "Njq_qzwc9WHJ",
        "colab_type": "code",
        "colab": {}
      },
      "source": [
        "combined_df.isnull().any()"
      ],
      "execution_count": 0,
      "outputs": []
    },
    {
      "cell_type": "code",
      "metadata": {
        "id": "YQXsoF-s_fTY",
        "colab_type": "code",
        "colab": {}
      },
      "source": [
        "combined_df.count()"
      ],
      "execution_count": 0,
      "outputs": []
    },
    {
      "cell_type": "code",
      "metadata": {
        "id": "nT71HaeIhQT4",
        "colab_type": "code",
        "colab": {}
      },
      "source": [
        "combined_df.set_index('Country').filter(like=\"India\", axis=0)"
      ],
      "execution_count": 0,
      "outputs": []
    },
    {
      "cell_type": "code",
      "metadata": {
        "id": "Bd7RKSvIqUpz",
        "colab_type": "code",
        "colab": {}
      },
      "source": [
        "combined_df[combined_df.State.isnull()]['Country'].value_counts()"
      ],
      "execution_count": 0,
      "outputs": []
    },
    {
      "cell_type": "code",
      "metadata": {
        "id": "mGnl1yck8c2x",
        "colab_type": "code",
        "colab": {}
      },
      "source": [
        "!pip install -U googlemaps"
      ],
      "execution_count": 0,
      "outputs": []
    },
    {
      "cell_type": "code",
      "metadata": {
        "id": "NQNnE6qD8jO0",
        "colab_type": "code",
        "colab": {}
      },
      "source": [
        "import googlemaps"
      ],
      "execution_count": 0,
      "outputs": []
    },
    {
      "cell_type": "code",
      "metadata": {
        "id": "8LQKyPwp8jId",
        "colab_type": "code",
        "colab": {}
      },
      "source": [
        "gmaps = googlemaps.Client(key=config.get('twitter', 'googleapikey'))\n",
        "\n",
        "geocode_result = gmaps.reverse_geocode((-23.4425, -58.4438))\n",
        "\n",
        "print(geocode_result[0])\n",
        "print(geocode_result[0]['formatted_address'])\n",
        "print(geocode_result[0]['formatted_address'].split(\",\")[-2].strip(\" \"))"
      ],
      "execution_count": 0,
      "outputs": []
    },
    {
      "cell_type": "code",
      "metadata": {
        "id": "3kowHK_g1jLK",
        "colab_type": "code",
        "colab": {}
      },
      "source": [
        "import re\n",
        "\n",
        "english_check = re.compile(r'[a-z]')\n",
        "\n",
        "def get_state(lat, longi):\n",
        "  try:\n",
        "    output=gmaps.reverse_geocode((lat, longi))[0]['formatted_address'].split(\",\")[-2].strip()\n",
        "    if(len(output.split(\" \")) > 1):\n",
        "      output=\"TBF\"\n",
        "\n",
        "    if not english_check.match(output.lower()):\n",
        "      output=\"TBF\"\n",
        "    \n",
        "  except:\n",
        "    print(\"Error in Reverse Geocoding\")\n",
        "    output=\"TBF\"\n",
        "  return output"
      ],
      "execution_count": 0,
      "outputs": []
    },
    {
      "cell_type": "code",
      "metadata": {
        "id": "B7TglxHs8i19",
        "colab_type": "code",
        "colab": {}
      },
      "source": [
        "combined_df[\"state_cleaned\"]=combined_df[combined_df.State.isnull()][['Lat','Long']].apply(lambda x : get_state(x['Lat'], x['Long']),axis=1)\n"
      ],
      "execution_count": 0,
      "outputs": []
    },
    {
      "cell_type": "code",
      "metadata": {
        "id": "bkND_acm3bA8",
        "colab_type": "code",
        "colab": {}
      },
      "source": [
        "combined_df[combined_df.state_cleaned.isnull()]['Country'].value_counts()"
      ],
      "execution_count": 0,
      "outputs": []
    },
    {
      "cell_type": "code",
      "metadata": {
        "id": "yAQ8lVTCBY66",
        "colab_type": "code",
        "colab": {}
      },
      "source": [
        "combined_int_df = combined_df.copy()"
      ],
      "execution_count": 0,
      "outputs": []
    },
    {
      "cell_type": "code",
      "metadata": {
        "id": "dMO9UZ00GNKV",
        "colab_type": "code",
        "colab": {}
      },
      "source": [
        "combined_df[combined_df.state_cleaned.notna()]"
      ],
      "execution_count": 0,
      "outputs": []
    },
    {
      "cell_type": "code",
      "metadata": {
        "id": "2BQmlzVlJbrO",
        "colab_type": "code",
        "colab": {}
      },
      "source": [
        "combined_int_df.count()"
      ],
      "execution_count": 0,
      "outputs": []
    },
    {
      "cell_type": "code",
      "metadata": {
        "id": "lRau9hiMIHvs",
        "colab_type": "code",
        "colab": {}
      },
      "source": [
        "combined_int_df[combined_int_df.State.notna()]"
      ],
      "execution_count": 0,
      "outputs": []
    },
    {
      "cell_type": "code",
      "metadata": {
        "id": "1k2ZwiOxJ1wW",
        "colab_type": "code",
        "colab": {}
      },
      "source": [
        "combined_int_df[combined_int_df.State.notna()][\"State\"].count()"
      ],
      "execution_count": 0,
      "outputs": []
    },
    {
      "cell_type": "code",
      "metadata": {
        "id": "k8g6QoujDKFO",
        "colab_type": "code",
        "colab": {}
      },
      "source": [
        "import numpy\n",
        "combined_int_df[\"state_cleaned\"]=combined_int_df.apply(lambda x: x['State'] if (numpy.all(pd.notnull(x['State']))) else x['state_cleaned'], axis=1)"
      ],
      "execution_count": 0,
      "outputs": []
    },
    {
      "cell_type": "code",
      "metadata": {
        "id": "u5vlUIcyE23W",
        "colab_type": "code",
        "colab": {}
      },
      "source": [
        "combined_int_df[combined_int_df.State.notna()]"
      ],
      "execution_count": 0,
      "outputs": []
    },
    {
      "cell_type": "code",
      "metadata": {
        "id": "bt5weSwrKGcq",
        "colab_type": "code",
        "colab": {}
      },
      "source": [
        "combined_int_df[combined_df.state_cleaned==\"TBF\"]"
      ],
      "execution_count": 0,
      "outputs": []
    },
    {
      "cell_type": "code",
      "metadata": {
        "id": "RAwFrMom9cz-",
        "colab_type": "code",
        "colab": {}
      },
      "source": [
        "combined_int_df[combined_int_df.state_cleaned == \"TBF\"]['Country'].value_counts()"
      ],
      "execution_count": 0,
      "outputs": []
    },
    {
      "cell_type": "code",
      "metadata": {
        "id": "Kb0lpUPK9cyw",
        "colab_type": "code",
        "colab": {}
      },
      "source": [
        "combined_int_df.head(50)"
      ],
      "execution_count": 0,
      "outputs": []
    },
    {
      "cell_type": "code",
      "metadata": {
        "id": "lRmcAQz-9cdM",
        "colab_type": "code",
        "colab": {}
      },
      "source": [
        "capital_df = pd.read_csv('https://raw.githubusercontent.com/icyrockcom/country-capitals/master/data/country-list.csv')"
      ],
      "execution_count": 0,
      "outputs": []
    },
    {
      "cell_type": "code",
      "metadata": {
        "id": "1NLNx2sMB6oF",
        "colab_type": "code",
        "colab": {}
      },
      "source": [
        "capital_df.head()"
      ],
      "execution_count": 0,
      "outputs": []
    },
    {
      "cell_type": "code",
      "metadata": {
        "id": "dJmvjBAXxQeS",
        "colab_type": "code",
        "colab": {}
      },
      "source": [
        "capital_df['country'].replace({\"United Kingdom; England\": \"United Kingdom\"}, inplace=True)"
      ],
      "execution_count": 0,
      "outputs": []
    },
    {
      "cell_type": "code",
      "metadata": {
        "id": "USz2_UxkZ-Ca",
        "colab_type": "code",
        "colab": {}
      },
      "source": [
        "capital_df['country']=capital_df.country.str.lower()"
      ],
      "execution_count": 0,
      "outputs": []
    },
    {
      "cell_type": "code",
      "metadata": {
        "id": "AEO44xjR9cX9",
        "colab_type": "code",
        "colab": {}
      },
      "source": [
        "capital_df.head()"
      ],
      "execution_count": 0,
      "outputs": []
    },
    {
      "cell_type": "code",
      "metadata": {
        "id": "o8zQCox3eRgP",
        "colab_type": "code",
        "colab": {}
      },
      "source": [
        "capital_df=capital_df.set_index('country')"
      ],
      "execution_count": 0,
      "outputs": []
    },
    {
      "cell_type": "code",
      "metadata": {
        "id": "UQPk6uUvZfbG",
        "colab_type": "code",
        "colab": {}
      },
      "source": [
        "capital_df.loc['algeria'][0]"
      ],
      "execution_count": 0,
      "outputs": []
    },
    {
      "cell_type": "code",
      "metadata": {
        "id": "esPtNA959cOg",
        "colab_type": "code",
        "colab": {}
      },
      "source": [
        "combined_int_df[combined_int_df.state_cleaned == \"TBF\"]"
      ],
      "execution_count": 0,
      "outputs": []
    },
    {
      "cell_type": "code",
      "metadata": {
        "id": "5kQEFzRh9cJE",
        "colab_type": "code",
        "colab": {}
      },
      "source": [
        "def lookup_capital(country):\n",
        "  try:\n",
        "    capital=capital_df.loc[country.lower()][0]\n",
        "  except:\n",
        "    capital=\"TBF\"\n",
        "  return capital  "
      ],
      "execution_count": 0,
      "outputs": []
    },
    {
      "cell_type": "code",
      "metadata": {
        "id": "Vtd9wiPr9b78",
        "colab_type": "code",
        "colab": {}
      },
      "source": [
        "combined_int_df.apply(lambda x: lookup_capital(x['Country']) if (x['state_cleaned']==\"TBF\") else x['state_cleaned'], axis=1)"
      ],
      "execution_count": 0,
      "outputs": []
    },
    {
      "cell_type": "code",
      "metadata": {
        "id": "r5sVBFNxUbSC",
        "colab_type": "code",
        "colab": {}
      },
      "source": [
        "combined_int_df['state_cleaned']=combined_int_df.apply(lambda x: lookup_capital(x['Country']) if (x['state_cleaned']==\"TBF\") else x['state_cleaned'], axis=1)"
      ],
      "execution_count": 0,
      "outputs": []
    },
    {
      "cell_type": "code",
      "metadata": {
        "id": "jl_NVUY0UbOP",
        "colab_type": "code",
        "colab": {}
      },
      "source": [
        "combined_int_df[combined_int_df.state_cleaned == \"TBF\"]['Country'].value_counts()"
      ],
      "execution_count": 0,
      "outputs": []
    },
    {
      "cell_type": "code",
      "metadata": {
        "id": "iZB-gcvPqHDU",
        "colab_type": "code",
        "colab": {}
      },
      "source": [
        "combined_int_df[\"Country\"].replace({\"Republic of Moldova\": \"Moldova\", \"Holy See\": \"Vatican City\", \"UK\": \"United Kingdom\",\"Viet Nam\":\"Vietnam\",\"Iran (Islamic Republic of)\":\"Iran\"}, inplace=True)"
      ],
      "execution_count": 0,
      "outputs": []
    },
    {
      "cell_type": "code",
      "metadata": {
        "id": "tfcmRK5evlAc",
        "colab_type": "code",
        "colab": {}
      },
      "source": [
        "combined_int_df[combined_int_df.state_cleaned == \"TBF\"]['Country'].value_counts()"
      ],
      "execution_count": 0,
      "outputs": []
    },
    {
      "cell_type": "code",
      "metadata": {
        "id": "yym-UtbHUbAV",
        "colab_type": "code",
        "colab": {}
      },
      "source": [
        "combined_int_df['state_cleaned']=combined_int_df.apply(lambda x: lookup_capital(x['Country']) if (x['state_cleaned']==\"TBF\") else x['state_cleaned'], axis=1)"
      ],
      "execution_count": 0,
      "outputs": []
    },
    {
      "cell_type": "code",
      "metadata": {
        "id": "X1VMTJ10kM3U",
        "colab_type": "code",
        "colab": {}
      },
      "source": [
        "combined_int_df[combined_int_df.state_cleaned == \"TBF\"]['Country'].value_counts()"
      ],
      "execution_count": 0,
      "outputs": []
    },
    {
      "cell_type": "code",
      "metadata": {
        "id": "6uE4DpvjkM0I",
        "colab_type": "code",
        "colab": {}
      },
      "source": [
        "combined_int_df[\"state_cleaned\"]=combined_int_df.apply(lambda x: x['Country'] if (x['state_cleaned']==\"TBF\") else x['state_cleaned'], axis=1)"
      ],
      "execution_count": 0,
      "outputs": []
    },
    {
      "cell_type": "code",
      "metadata": {
        "id": "_t8VgV9dkMu2",
        "colab_type": "code",
        "colab": {}
      },
      "source": [
        "combined_int_df[combined_int_df.state_cleaned == \"TBF\"]['Country'].value_counts()"
      ],
      "execution_count": 0,
      "outputs": []
    },
    {
      "cell_type": "code",
      "metadata": {
        "id": "1KM2jAH379Hz",
        "colab_type": "code",
        "colab": {}
      },
      "source": [
        "combined_int_df.to_csv('corona_dataset.csv')"
      ],
      "execution_count": 0,
      "outputs": []
    },
    {
      "cell_type": "code",
      "metadata": {
        "id": "7py3PvrU79FP",
        "colab_type": "code",
        "colab": {}
      },
      "source": [
        "combined_int_df[combined_int_df.Country==\"US\"]"
      ],
      "execution_count": 0,
      "outputs": []
    },
    {
      "cell_type": "code",
      "metadata": {
        "id": "OWBq46-n79Ab",
        "colab_type": "code",
        "colab": {}
      },
      "source": [
        "usstates_df = pd.read_csv('https://raw.githubusercontent.com/jasonong/List-of-US-States/master/states.csv')"
      ],
      "execution_count": 0,
      "outputs": []
    },
    {
      "cell_type": "code",
      "metadata": {
        "id": "tNdfUsqgkMsL",
        "colab_type": "code",
        "colab": {}
      },
      "source": [
        "usstates_df.head()"
      ],
      "execution_count": 0,
      "outputs": []
    },
    {
      "cell_type": "code",
      "metadata": {
        "id": "yxQ0oV-rkMox",
        "colab_type": "code",
        "colab": {}
      },
      "source": [
        "usstates_df=usstates_df.set_index('Abbreviation')"
      ],
      "execution_count": 0,
      "outputs": []
    },
    {
      "cell_type": "code",
      "metadata": {
        "id": "809rOPkVkMkc",
        "colab_type": "code",
        "colab": {}
      },
      "source": [
        "usstates_df.head()"
      ],
      "execution_count": 0,
      "outputs": []
    },
    {
      "cell_type": "code",
      "metadata": {
        "id": "MT6iByxdMXZJ",
        "colab_type": "code",
        "colab": {}
      },
      "source": [
        "usstates_df.loc['AZ']"
      ],
      "execution_count": 0,
      "outputs": []
    },
    {
      "cell_type": "code",
      "metadata": {
        "id": "BSAhHtuCMXVz",
        "colab_type": "code",
        "colab": {}
      },
      "source": [
        "combined_int_df['City']=combined_int_df.apply(lambda x: x['State'].split(\",\")[0] if(x['Country']==\"US\") else \"\", axis=1)"
      ],
      "execution_count": 0,
      "outputs": []
    },
    {
      "cell_type": "code",
      "metadata": {
        "id": "CblRlpDvXdgg",
        "colab_type": "code",
        "colab": {}
      },
      "source": [
        "def convert_state(state):\n",
        "  try:\n",
        "    output=state.split(\",\")[1].strip()\n",
        "    output=usstates_df.loc[output.upper()][0]\n",
        "  except:\n",
        "    output=state\n",
        "  return output  "
      ],
      "execution_count": 0,
      "outputs": []
    },
    {
      "cell_type": "code",
      "metadata": {
        "id": "dW0aLMFkMXR1",
        "colab_type": "code",
        "colab": {}
      },
      "source": [
        "combined_int_df[\"state_cleaned\"]=combined_int_df.apply(lambda x: convert_state(x['state_cleaned']) if(x['Country']==\"US\") else x['state_cleaned'], axis=1)"
      ],
      "execution_count": 0,
      "outputs": []
    },
    {
      "cell_type": "code",
      "metadata": {
        "id": "xf-inZPOPGRy",
        "colab_type": "code",
        "colab": {}
      },
      "source": [
        "combined_int_df.head(50)"
      ],
      "execution_count": 0,
      "outputs": []
    },
    {
      "cell_type": "code",
      "metadata": {
        "id": "AKj-KV19PGNv",
        "colab_type": "code",
        "colab": {}
      },
      "source": [
        "combined_int_df[combined_int_df.Country==\"US\"][0:100]"
      ],
      "execution_count": 0,
      "outputs": []
    },
    {
      "cell_type": "code",
      "metadata": {
        "id": "G5pA6K-CPGJg",
        "colab_type": "code",
        "colab": {}
      },
      "source": [
        "combined_int_df.to_csv(\"corona_dataset.csv\")"
      ],
      "execution_count": 0,
      "outputs": []
    },
    {
      "cell_type": "code",
      "metadata": {
        "id": "y5RyAIQNPGAy",
        "colab_type": "code",
        "colab": {}
      },
      "source": [
        "combined_int_df.apply(lambda x: 1 if(x['Country']==\"US\" and numpy.all(pd.notnull(x['City']))) else 0, axis=1)"
      ],
      "execution_count": 0,
      "outputs": []
    },
    {
      "cell_type": "code",
      "metadata": {
        "id": "cks_wvvQWZZe",
        "colab_type": "code",
        "colab": {}
      },
      "source": [
        ""
      ],
      "execution_count": 0,
      "outputs": []
    }
  ]
}