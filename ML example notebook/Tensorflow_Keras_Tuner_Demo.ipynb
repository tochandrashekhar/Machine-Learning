{
  "nbformat": 4,
  "nbformat_minor": 0,
  "metadata": {
    "colab": {
      "name": "Tensorflow - Keras Tuner Demo.ipynb",
      "provenance": [],
      "collapsed_sections": [],
      "authorship_tag": "ABX9TyOUrBQ02jRNRje6g9j73BBf",
      "include_colab_link": true
    },
    "kernelspec": {
      "name": "python3",
      "display_name": "Python 3"
    },
    "accelerator": "GPU"
  },
  "cells": [
    {
      "cell_type": "markdown",
      "metadata": {
        "id": "view-in-github",
        "colab_type": "text"
      },
      "source": [
        "<a href=\"https://colab.research.google.com/github/srivatsan88/YouTubeLI/blob/master/Tensorflow_Keras_Tuner_Demo.ipynb\" target=\"_parent\"><img src=\"https://colab.research.google.com/assets/colab-badge.svg\" alt=\"Open In Colab\"/></a>"
      ]
    },
    {
      "cell_type": "code",
      "metadata": {
        "id": "YWBgNvyhEgH7",
        "colab_type": "code",
        "outputId": "d50a4fb2-215e-4e1b-8f86-77750ba12b83",
        "colab": {
          "base_uri": "https://localhost:8080/",
          "height": 326
        }
      },
      "source": [
        "!nvidia-smi"
      ],
      "execution_count": 0,
      "outputs": [
        {
          "output_type": "stream",
          "text": [
            "Sun Apr 26 00:08:17 2020       \n",
            "+-----------------------------------------------------------------------------+\n",
            "| NVIDIA-SMI 440.64.00    Driver Version: 418.67       CUDA Version: 10.1     |\n",
            "|-------------------------------+----------------------+----------------------+\n",
            "| GPU  Name        Persistence-M| Bus-Id        Disp.A | Volatile Uncorr. ECC |\n",
            "| Fan  Temp  Perf  Pwr:Usage/Cap|         Memory-Usage | GPU-Util  Compute M. |\n",
            "|===============================+======================+======================|\n",
            "|   0  Tesla P100-PCIE...  Off  | 00000000:00:04.0 Off |                    0 |\n",
            "| N/A   36C    P0    28W / 250W |      0MiB / 16280MiB |      0%      Default |\n",
            "+-------------------------------+----------------------+----------------------+\n",
            "                                                                               \n",
            "+-----------------------------------------------------------------------------+\n",
            "| Processes:                                                       GPU Memory |\n",
            "|  GPU       PID   Type   Process name                             Usage      |\n",
            "|=============================================================================|\n",
            "|  No running processes found                                                 |\n",
            "+-----------------------------------------------------------------------------+\n"
          ],
          "name": "stdout"
        }
      ]
    },
    {
      "cell_type": "code",
      "metadata": {
        "id": "DIetHv471dqF",
        "colab_type": "code",
        "colab": {}
      },
      "source": [
        "!pip install -U keras-tuner"
      ],
      "execution_count": 0,
      "outputs": []
    },
    {
      "cell_type": "code",
      "metadata": {
        "id": "gq4AFhYBLB6F",
        "colab_type": "code",
        "colab": {}
      },
      "source": [
        "from __future__ import absolute_import, division, print_function, unicode_literals\n",
        "\n",
        "try:\n",
        "  %tensorflow_version 2.x\n",
        "except Exception:\n",
        "  pass\n",
        "import tensorflow as tf\n",
        "\n",
        "import os\n",
        "import datetime\n",
        "import tensorflow_datasets as tfds\n",
        "from kerastuner.engine.hyperparameters import HyperParameters\n",
        "\n",
        "%load_ext tensorboard"
      ],
      "execution_count": 0,
      "outputs": []
    },
    {
      "cell_type": "code",
      "metadata": {
        "id": "v2Q1QxakrCiy",
        "colab_type": "code",
        "colab": {}
      },
      "source": [
        "tf.config.experimental.list_physical_devices()"
      ],
      "execution_count": 0,
      "outputs": []
    },
    {
      "cell_type": "code",
      "metadata": {
        "id": "iVE1XB-MPCc_",
        "colab_type": "code",
        "colab": {}
      },
      "source": [
        "import tensorflow_datasets as tfds\n",
        "datasets, info = tfds.load(name='fashion_mnist', with_info=True, as_supervised=True, try_gcs=True, split=['train','test'])"
      ],
      "execution_count": 0,
      "outputs": []
    },
    {
      "cell_type": "code",
      "metadata": {
        "id": "B3W-Rn6wotWR",
        "colab_type": "code",
        "colab": {}
      },
      "source": [
        "print(info.features)\n",
        "print(info.features[\"label\"].num_classes)\n",
        "print(info.features[\"label\"].names)"
      ],
      "execution_count": 0,
      "outputs": []
    },
    {
      "cell_type": "code",
      "metadata": {
        "id": "tXXwjZI7cvpf",
        "colab_type": "code",
        "colab": {}
      },
      "source": [
        "fm_train, fm_test = datasets[0], datasets[1]\n",
        "fm_val = fm_test.take(3000)\n",
        "fm_test = fm_test.skip(3000)"
      ],
      "execution_count": 0,
      "outputs": []
    },
    {
      "cell_type": "code",
      "metadata": {
        "id": "UTLtqRJzm0ZM",
        "colab_type": "code",
        "colab": {}
      },
      "source": [
        "import matplotlib.pyplot as plt\n",
        "import numpy as np\n",
        "for fm_sample in fm_train.take(5):  \n",
        "  image, label = fm_sample[0], fm_sample[1]\n",
        "\n",
        "  plt.figure()\n",
        "  plt.imshow(image.numpy()[:, :, 0].astype(np.float32), cmap=plt.get_cmap(\"gray\"))\n",
        "  plt.show()\n",
        "  print(\"Label: %d\" % label.numpy())\n",
        "  print(\"Category: %s\" % info.features[\"label\"].names[label.numpy()])"
      ],
      "execution_count": 0,
      "outputs": []
    },
    {
      "cell_type": "code",
      "metadata": {
        "id": "6oeTJIAqPEc0",
        "colab_type": "code",
        "colab": {}
      },
      "source": [
        "def scale(image, label):\n",
        "  image = tf.cast(image, tf.float32)\n",
        "  image /= 255.0\n",
        "\n",
        "  return image, label"
      ],
      "execution_count": 0,
      "outputs": []
    },
    {
      "cell_type": "code",
      "metadata": {
        "id": "H9hFZgIQPdVh",
        "colab_type": "code",
        "colab": {}
      },
      "source": [
        "def get_dataset(batch_size=64):\n",
        "  train_dataset_scaled = fm_train.map(scale).shuffle(60000).batch(batch_size)\n",
        "  test_dataset_scaled = fm_test.map(scale).batch(batch_size)\n",
        "  val_dataset_scaled = fm_val.map(scale).batch(batch_size)\n",
        "  return train_dataset_scaled, test_dataset_scaled, val_dataset_scaled"
      ],
      "execution_count": 0,
      "outputs": []
    },
    {
      "cell_type": "code",
      "metadata": {
        "id": "6kJg2-bsBGh-",
        "colab_type": "code",
        "colab": {}
      },
      "source": [
        "hp = HyperParameters()\n",
        "hp.Choice('learning_rate', [1e-1, 1e-3])\n",
        "hp.Int('conv_blocks', 3, 4, default=3)\n",
        "hp.Int('hidden_size', 128, 256, step=64, default=128)"
      ],
      "execution_count": 0,
      "outputs": []
    },
    {
      "cell_type": "code",
      "metadata": {
        "id": "vqyGArjIBGVv",
        "colab_type": "code",
        "colab": {}
      },
      "source": [
        "def build_model(hp):\n",
        "    inputs = tf.keras.Input(shape=(28, 28, 1))\n",
        "    x = inputs\n",
        "    for i in range(hp.get('conv_blocks')):\n",
        "        filters = hp.Int('filters_' + str(i), 32, 256, step=64)\n",
        "        for _ in range(2):\n",
        "            x = tf.keras.layers.Convolution2D(\n",
        "              filters, kernel_size=(3, 3), padding='same')(x)\n",
        "            x = tf.keras.layers.BatchNormalization()(x)\n",
        "            x = tf.keras.layers.ReLU()(x)\n",
        "        if hp.Choice('pooling_' + str(i), ['avg', 'max']) == 'max':\n",
        "            x = tf.keras.layers.MaxPool2D()(x)\n",
        "        else:\n",
        "            x = tf.keras.layers.AvgPool2D()(x)\n",
        "    x = tf.keras.layers.GlobalAvgPool2D()(x)\n",
        "    x = tf.keras.layers.Dense( hp.get('hidden_size'),activation='relu')(x)\n",
        "    x = tf.keras.layers.Dropout(0.5)(x)\n",
        "    outputs = tf.keras.layers.Dense(10, activation='softmax')(x)\n",
        "\n",
        "    model = tf.keras.Model(inputs, outputs)\n",
        "    model.compile(\n",
        "      optimizer=tf.keras.optimizers.Adam(hp.get('learning_rate')),\n",
        "      loss='sparse_categorical_crossentropy',\n",
        "      metrics=['accuracy'])\n",
        "    return model"
      ],
      "execution_count": 0,
      "outputs": []
    },
    {
      "cell_type": "code",
      "metadata": {
        "id": "KUAK_CDw2eRz",
        "colab_type": "code",
        "colab": {}
      },
      "source": [
        "import kerastuner as kt\n",
        "\n",
        "tuner = kt.Hyperband(\n",
        "    build_model,\n",
        "    objective='val_accuracy',\n",
        "    hyperparameters=hp,\n",
        "    max_epochs=5,\n",
        "    hyperband_iterations=2)\n",
        "  "
      ],
      "execution_count": 0,
      "outputs": []
    },
    {
      "cell_type": "code",
      "metadata": {
        "id": "ulICt1OEOJHe",
        "colab_type": "code",
        "colab": {}
      },
      "source": [
        "tuner.search_space_summary()\n"
      ],
      "execution_count": 0,
      "outputs": []
    },
    {
      "cell_type": "code",
      "metadata": {
        "id": "Nx2osUIMJNhD",
        "colab_type": "code",
        "colab": {}
      },
      "source": [
        "train_dataset, test_dataset, val_dataset = get_dataset()\n",
        "train_dataset.cache()\n",
        "val_dataset.cache()\n",
        "\n",
        "tuner.search(train_dataset,\n",
        "             validation_data=val_dataset,\n",
        "             epochs=5,\n",
        "             callbacks=[tf.keras.callbacks.EarlyStopping(patience=1)])"
      ],
      "execution_count": 0,
      "outputs": []
    },
    {
      "cell_type": "code",
      "metadata": {
        "id": "5Y2nsKBE8PHy",
        "colab_type": "code",
        "colab": {}
      },
      "source": [
        "best_model = tuner.get_best_models(1)[0]"
      ],
      "execution_count": 0,
      "outputs": []
    },
    {
      "cell_type": "code",
      "metadata": {
        "id": "Yzay1-B-8PEx",
        "colab_type": "code",
        "colab": {}
      },
      "source": [
        "best_model.summary()"
      ],
      "execution_count": 0,
      "outputs": []
    },
    {
      "cell_type": "code",
      "metadata": {
        "id": "Qm0MGFQz8O8w",
        "colab_type": "code",
        "colab": {}
      },
      "source": [
        "best_hyperparameters = tuner.get_best_hyperparameters(1)[0]\n"
      ],
      "execution_count": 0,
      "outputs": []
    },
    {
      "cell_type": "code",
      "metadata": {
        "id": "QUhP-NQpG0LG",
        "colab_type": "code",
        "colab": {}
      },
      "source": [
        "best_hyperparameters.values"
      ],
      "execution_count": 0,
      "outputs": []
    },
    {
      "cell_type": "code",
      "metadata": {
        "id": "ythvYYc78avp",
        "colab_type": "code",
        "colab": {}
      },
      "source": [
        "tuner.results_summary()"
      ],
      "execution_count": 0,
      "outputs": []
    },
    {
      "cell_type": "code",
      "metadata": {
        "id": "TxqQhpovk36g",
        "colab_type": "code",
        "colab": {}
      },
      "source": [
        "best_model.save('/tmp/fashion.hdf5')"
      ],
      "execution_count": 0,
      "outputs": []
    },
    {
      "cell_type": "code",
      "metadata": {
        "id": "aPLCFsndX5rT",
        "colab_type": "code",
        "colab": {}
      },
      "source": [
        " !nvidia-smi"
      ],
      "execution_count": 0,
      "outputs": []
    },
    {
      "cell_type": "code",
      "metadata": {
        "id": "XC72ZZrL-F2G",
        "colab_type": "code",
        "colab": {}
      },
      "source": [
        "!ls -alrt /tmp/fashion.hdf5"
      ],
      "execution_count": 0,
      "outputs": []
    },
    {
      "cell_type": "code",
      "metadata": {
        "id": "Yn9gOSMVuDJ6",
        "colab_type": "code",
        "colab": {}
      },
      "source": [
        "tf.keras.backend.clear_session()\n",
        "fminst_load = tf.keras.models.load_model('/tmp/fashion.hdf5',compile = False)"
      ],
      "execution_count": 0,
      "outputs": []
    },
    {
      "cell_type": "code",
      "metadata": {
        "id": "c1yDSWCxNwoI",
        "colab_type": "code",
        "colab": {}
      },
      "source": [
        "for test_sample in fm_test.take(10):  \n",
        "  image, label = test_sample[0], test_sample[1]\n",
        "\n",
        "  img = tf.keras.preprocessing.image.img_to_array(image)                    \n",
        "  img = np.expand_dims(img, axis=0)         \n",
        "  img /= 255.    \n",
        "  pred=fminst_load.predict(img)\n",
        "  plt.figure()\n",
        "  plt.imshow(image.numpy()[:, :, 0].astype(np.float32), cmap=plt.get_cmap(\"gray\"))\n",
        "  plt.show()\n",
        "  print(\"Actual Label: %s\" % info.features[\"label\"].names[label.numpy()])\n",
        "  print(\"Predicted Label: %s\" % info.features[\"label\"].names[np.argmax(pred)])\n"
      ],
      "execution_count": 0,
      "outputs": []
    },
    {
      "cell_type": "code",
      "metadata": {
        "id": "b25yf8X4OReh",
        "colab_type": "code",
        "colab": {}
      },
      "source": [
        "_, accuracy = best_model.evaluate(test_dataset)"
      ],
      "execution_count": 0,
      "outputs": []
    },
    {
      "cell_type": "code",
      "metadata": {
        "id": "muV2kGhyRBdi",
        "colab_type": "code",
        "colab": {}
      },
      "source": [
        "accuracy"
      ],
      "execution_count": 0,
      "outputs": []
    },
    {
      "cell_type": "code",
      "metadata": {
        "id": "NC0ZV6mm4Q9D",
        "colab_type": "code",
        "colab": {}
      },
      "source": [
        ""
      ],
      "execution_count": 0,
      "outputs": []
    }
  ]
}