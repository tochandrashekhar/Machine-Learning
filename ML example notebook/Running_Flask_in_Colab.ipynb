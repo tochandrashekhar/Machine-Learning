{
  "nbformat": 4,
  "nbformat_minor": 0,
  "metadata": {
    "colab": {
      "name": "Running Flask in Colab.ipynb",
      "provenance": [],
      "collapsed_sections": [],
      "authorship_tag": "ABX9TyMGGZL5R0nae2QlpU2LjWwD",
      "include_colab_link": true
    },
    "kernelspec": {
      "name": "python3",
      "display_name": "Python 3"
    }
  },
  "cells": [
    {
      "cell_type": "markdown",
      "metadata": {
        "id": "view-in-github",
        "colab_type": "text"
      },
      "source": [
        "<a href=\"https://colab.research.google.com/github/srivatsan88/YouTubeLI/blob/master/Running_Flask_in_Colab.ipynb\" target=\"_parent\"><img src=\"https://colab.research.google.com/assets/colab-badge.svg\" alt=\"Open In Colab\"/></a>"
      ]
    },
    {
      "cell_type": "code",
      "metadata": {
        "id": "p-MlOTXR-hv4",
        "colab_type": "code",
        "colab": {}
      },
      "source": [
        "from google.colab import drive\n",
        "drive.mount('/content/drive')"
      ],
      "execution_count": 0,
      "outputs": []
    },
    {
      "cell_type": "code",
      "metadata": {
        "id": "jGokItTB-jhh",
        "colab_type": "code",
        "outputId": "e1fed2b0-6629-4d0b-daa6-94ec1e60a50d",
        "colab": {
          "base_uri": "https://localhost:8080/",
          "height": 90
        }
      },
      "source": [
        "!ls '/content/drive/My Drive/Colab Notebooks/models/'"
      ],
      "execution_count": 2,
      "outputs": [
        {
          "output_type": "stream",
          "text": [
            "fashion.hdf5\t\t       sa_encoder.vocab.tokens1\n",
            "fashion_tpu.hdf5\t       sentiment_analysis.hdf5\n",
            "final_sentiment_analysis.hdf5  sentiment_analysis.hdf51\n",
            "sa_encoder.vocab.tokens\n"
          ],
          "name": "stdout"
        }
      ]
    },
    {
      "cell_type": "code",
      "metadata": {
        "id": "xk6pqXHXpChi",
        "colab_type": "code",
        "outputId": "c24684f1-104a-4a92-9ff0-08538c2122b4",
        "colab": {
          "base_uri": "https://localhost:8080/",
          "height": 35
        }
      },
      "source": [
        "import socket\n",
        "print(socket.gethostbyname(socket.gethostname()))"
      ],
      "execution_count": 3,
      "outputs": [
        {
          "output_type": "stream",
          "text": [
            "172.28.0.2\n"
          ],
          "name": "stdout"
        }
      ]
    },
    {
      "cell_type": "code",
      "metadata": {
        "id": "5DUmBgC4tLgD",
        "colab_type": "code",
        "outputId": "c8b500f5-1a2c-4605-f191-87fc08cf2645",
        "colab": {
          "base_uri": "https://localhost:8080/",
          "height": 145
        }
      },
      "source": [
        "import tensorflow_datasets as tfds\n",
        "import tensorflow as tf\n",
        "from flask import Flask, jsonify, make_response, request\n",
        "import threading\n",
        "\n",
        "app = Flask(__name__)\n",
        "padding_size = 1000\n",
        "model = tf.keras.models.load_model('/content/drive/My Drive/Colab Notebooks/models/sentiment_analysis.hdf5')\n",
        "text_encoder = tfds.features.text.TokenTextEncoder.load_from_file(\"/content/drive/My Drive/Colab Notebooks/models/sa_encoder.vocab\")\n",
        "\n",
        "print('Model and Vocabalory loaded.......')\n",
        "\n",
        "@app.route(\"/\")\n",
        "def hello():\n",
        "    return \"I am alive!\"\n",
        "\n",
        "def pad_to_size(vec, size):\n",
        "    zeros = [0] * (size - len(vec))\n",
        "    vec.extend(zeros)\n",
        "    return vec\n",
        "\n",
        "\n",
        "def predict_fn(predict_text, pad_size):\n",
        "    encoded_text = text_encoder.encode(predict_text)\n",
        "    encoded_text = pad_to_size(encoded_text, pad_size)\n",
        "    encoded_text = tf.cast(encoded_text, tf.int64)\n",
        "    predictions = model.predict(tf.expand_dims(encoded_text, 0))\n",
        "\n",
        "    return (predictions.tolist())\n",
        "\n",
        "\n",
        "@app.route('/seclassifier', methods=['POST'])\n",
        "def predict_sentiment():\n",
        "    text = request.get_json()['text']\n",
        "    print(text)\n",
        "    predictions = predict_fn(text, padding_size)\n",
        "    sentiment = 'positive' if float(''.join(map(str,predictions[0]))) > 0 else 'Negative'\n",
        "    return jsonify({'predictions ':predictions, 'sentiment ': sentiment})\n",
        "\n",
        "\n",
        "threading.Thread(target=app.run, kwargs={'host':'0.0.0.0','port':6000}).start() "
      ],
      "execution_count": 4,
      "outputs": [
        {
          "output_type": "stream",
          "text": [
            "Model and Vocabalory loaded.......\n",
            " * Serving Flask app \"__main__\" (lazy loading)\n",
            " * Environment: production\n",
            "\u001b[31m   WARNING: This is a development server. Do not use it in a production deployment.\u001b[0m\n",
            "\u001b[2m   Use a production WSGI server instead.\u001b[0m\n",
            " * Debug mode: off\n"
          ],
          "name": "stdout"
        },
        {
          "output_type": "stream",
          "text": [
            " * Running on http://0.0.0.0:6000/ (Press CTRL+C to quit)\n"
          ],
          "name": "stderr"
        }
      ]
    },
    {
      "cell_type": "code",
      "metadata": {
        "id": "XDrmi6eQuHDQ",
        "colab_type": "code",
        "outputId": "cceb2a11-a60c-45df-867c-cb0b272d4a88",
        "colab": {
          "base_uri": "https://localhost:8080/",
          "height": 72
        }
      },
      "source": [
        "import requests\n",
        "req = requests.get(\"http://172.28.0.2:6000/\")\n",
        "print(req.status_code)\n",
        "print(req.text)"
      ],
      "execution_count": 5,
      "outputs": [
        {
          "output_type": "stream",
          "text": [
            "172.28.0.2 - - [05/Jun/2020 14:25:01] \"\u001b[37mGET / HTTP/1.1\u001b[0m\" 200 -\n"
          ],
          "name": "stderr"
        },
        {
          "output_type": "stream",
          "text": [
            "200\n",
            "I am alive!\n"
          ],
          "name": "stdout"
        }
      ]
    },
    {
      "cell_type": "code",
      "metadata": {
        "id": "w0Vbn3kFz3V2",
        "colab_type": "code",
        "colab": {
          "base_uri": "https://localhost:8080/",
          "height": 108
        },
        "outputId": "320bfa92-02dd-476d-bc95-747ebb87e405"
      },
      "source": [
        "import requests, json\n",
        "headers = {'Content-type': 'application/json', 'Accept': 'text/plain'}\n",
        "data = {\"text\":\"Still working my way through it but definitely changes your view on investment. Wish it was available on Audible\"}\n",
        "req = requests.post(\"http://172.28.0.2:6000/seclassifier\",  data=json.dumps(data), headers=headers)\n",
        "\n",
        "print(req.status_code)\n",
        "print(req.text)"
      ],
      "execution_count": 6,
      "outputs": [
        {
          "output_type": "stream",
          "text": [
            "Still working my way through it but definitely changes your view on investment. Wish it was available on Audible\n"
          ],
          "name": "stdout"
        },
        {
          "output_type": "stream",
          "text": [
            "172.28.0.2 - - [05/Jun/2020 14:25:35] \"\u001b[37mPOST /seclassifier HTTP/1.1\u001b[0m\" 200 -\n"
          ],
          "name": "stderr"
        },
        {
          "output_type": "stream",
          "text": [
            "200\n",
            "{\"predictions \":[[0.8370056748390198]],\"sentiment \":\"positive\"}\n",
            "\n"
          ],
          "name": "stdout"
        }
      ]
    },
    {
      "cell_type": "code",
      "metadata": {
        "id": "stWiQxHI16Qi",
        "colab_type": "code",
        "colab": {
          "base_uri": "https://localhost:8080/",
          "height": 108
        },
        "outputId": "1e56d6b8-da6f-4697-e8c8-29c8419384c4"
      },
      "source": [
        "import requests, json\n",
        "headers = {'Content-type': 'application/json', 'Accept': 'text/plain'}\n",
        "data = {\"text\":\"I thought this will be good one. But I was wrong\"}\n",
        "req = requests.post(\"http://172.28.0.2:6000/seclassifier\",  data=json.dumps(data), headers=headers)\n",
        "\n",
        "print(req.status_code)\n",
        "print(req.text)"
      ],
      "execution_count": 8,
      "outputs": [
        {
          "output_type": "stream",
          "text": [
            "I thought this will be good one. But I was wrong\n"
          ],
          "name": "stdout"
        },
        {
          "output_type": "stream",
          "text": [
            "172.28.0.2 - - [05/Jun/2020 14:26:08] \"\u001b[37mPOST /seclassifier HTTP/1.1\u001b[0m\" 200 -\n"
          ],
          "name": "stderr"
        },
        {
          "output_type": "stream",
          "text": [
            "200\n",
            "{\"predictions \":[[-0.8676939606666565]],\"sentiment \":\"Negative\"}\n",
            "\n"
          ],
          "name": "stdout"
        }
      ]
    },
    {
      "cell_type": "code",
      "metadata": {
        "id": "R0jA9Xev2zz-",
        "colab_type": "code",
        "colab": {
          "base_uri": "https://localhost:8080/",
          "height": 110
        },
        "outputId": "305c9b08-e1d4-4668-89ff-06c1f369845a"
      },
      "source": [
        "!ps -eaf | grep python"
      ],
      "execution_count": 9,
      "outputs": [
        {
          "output_type": "stream",
          "text": [
            "root          18       8  0 13:59 ?        00:00:03 /usr/bin/python2 /usr/local/bin/jupyter-notebook --ip=\"172.28.0.2\" --port=9000 --FileContentsManager.root_dir=\"/\" --MappingKernelManager.root_dir=\"/content\"\n",
            "root         126      18  0 14:04 ?        00:00:08 /usr/bin/python3 -m ipykernel_launcher -f /root/.local/share/jupyter/runtime/kernel-4b17b2d1-f76b-46f8-a312-6700eb4ce66e.json\n",
            "root         745     126  0 14:26 ?        00:00:00 /bin/bash -c ps -eaf | grep python\n",
            "root         747     745  0 14:26 ?        00:00:00 grep python\n"
          ],
          "name": "stdout"
        }
      ]
    },
    {
      "cell_type": "code",
      "metadata": {
        "id": "eGJiHeCD5a1K",
        "colab_type": "code",
        "colab": {
          "base_uri": "https://localhost:8080/",
          "height": 35
        },
        "outputId": "c47123e3-6d01-42b5-f528-6cf593f9367e"
      },
      "source": [
        "import flask\n",
        "flask.__version__"
      ],
      "execution_count": 10,
      "outputs": [
        {
          "output_type": "execute_result",
          "data": {
            "text/plain": [
              "'1.1.2'"
            ]
          },
          "metadata": {
            "tags": []
          },
          "execution_count": 10
        }
      ]
    },
    {
      "cell_type": "code",
      "metadata": {
        "id": "yDJ3bhrzG65X",
        "colab_type": "code",
        "outputId": "797c7178-d005-42a4-f79c-7703542b833f",
        "colab": {
          "base_uri": "https://localhost:8080/",
          "height": 310
        }
      },
      "source": [
        "!pip install flask-ngrok"
      ],
      "execution_count": 11,
      "outputs": [
        {
          "output_type": "stream",
          "text": [
            "Collecting flask-ngrok\n",
            "  Downloading https://files.pythonhosted.org/packages/af/6c/f54cb686ad1129e27d125d182f90f52b32f284e6c8df58c1bae54fa1adbc/flask_ngrok-0.0.25-py3-none-any.whl\n",
            "Requirement already satisfied: requests in /usr/local/lib/python3.6/dist-packages (from flask-ngrok) (2.23.0)\n",
            "Requirement already satisfied: Flask>=0.8 in /usr/local/lib/python3.6/dist-packages (from flask-ngrok) (1.1.2)\n",
            "Requirement already satisfied: chardet<4,>=3.0.2 in /usr/local/lib/python3.6/dist-packages (from requests->flask-ngrok) (3.0.4)\n",
            "Requirement already satisfied: idna<3,>=2.5 in /usr/local/lib/python3.6/dist-packages (from requests->flask-ngrok) (2.9)\n",
            "Requirement already satisfied: certifi>=2017.4.17 in /usr/local/lib/python3.6/dist-packages (from requests->flask-ngrok) (2020.4.5.1)\n",
            "Requirement already satisfied: urllib3!=1.25.0,!=1.25.1,<1.26,>=1.21.1 in /usr/local/lib/python3.6/dist-packages (from requests->flask-ngrok) (1.24.3)\n",
            "Requirement already satisfied: Jinja2>=2.10.1 in /usr/local/lib/python3.6/dist-packages (from Flask>=0.8->flask-ngrok) (2.11.2)\n",
            "Requirement already satisfied: Werkzeug>=0.15 in /usr/local/lib/python3.6/dist-packages (from Flask>=0.8->flask-ngrok) (1.0.1)\n",
            "Requirement already satisfied: itsdangerous>=0.24 in /usr/local/lib/python3.6/dist-packages (from Flask>=0.8->flask-ngrok) (1.1.0)\n",
            "Requirement already satisfied: click>=5.1 in /usr/local/lib/python3.6/dist-packages (from Flask>=0.8->flask-ngrok) (7.1.2)\n",
            "Requirement already satisfied: MarkupSafe>=0.23 in /usr/local/lib/python3.6/dist-packages (from Jinja2>=2.10.1->Flask>=0.8->flask-ngrok) (1.1.1)\n",
            "Installing collected packages: flask-ngrok\n",
            "Successfully installed flask-ngrok-0.0.25\n"
          ],
          "name": "stdout"
        }
      ]
    },
    {
      "cell_type": "code",
      "metadata": {
        "id": "35JGfAl1yXvE",
        "colab_type": "code",
        "outputId": "15c0828a-c29e-4fb2-c3dd-ae17e0ea3fb5",
        "colab": {
          "base_uri": "https://localhost:8080/",
          "height": 235
        }
      },
      "source": [
        "import tensorflow_datasets as tfds\n",
        "import tensorflow as tf\n",
        "from flask import Flask, jsonify, make_response, request\n",
        "from flask_ngrok import run_with_ngrok\n",
        "\n",
        "app = Flask(__name__)\n",
        "run_with_ngrok(app)\n",
        "\n",
        "padding_size = 1000\n",
        "model = tf.keras.models.load_model('/content/drive/My Drive/Colab Notebooks/models/sentiment_analysis.hdf5')\n",
        "text_encoder = tfds.features.text.TokenTextEncoder.load_from_file(\"/content/drive/My Drive/Colab Notebooks/models/sa_encoder.vocab\")\n",
        "\n",
        "print('Model and Vocabalory loaded.......')\n",
        "\n",
        "@app.route(\"/\")\n",
        "def hello():\n",
        "    return \"I am alive!\"\n",
        "\n",
        "def pad_to_size(vec, size):\n",
        "    zeros = [0] * (size - len(vec))\n",
        "    vec.extend(zeros)\n",
        "    return vec\n",
        "\n",
        "\n",
        "def predict_fn(predict_text, pad_size):\n",
        "    encoded_text = text_encoder.encode(predict_text)\n",
        "    encoded_text = pad_to_size(encoded_text, pad_size)\n",
        "    encoded_text = tf.cast(encoded_text, tf.int64)\n",
        "    predictions = model.predict(tf.expand_dims(encoded_text, 0))\n",
        "\n",
        "    return (predictions.tolist())\n",
        "\n",
        "\n",
        "@app.route('/seclassifier', methods=['POST'])\n",
        "def predict_sentiment():\n",
        "    text = request.get_json()['text']\n",
        "    print(text)\n",
        "    predictions = predict_fn(text, padding_size)\n",
        "    sentiment = 'positive' if float(''.join(map(str,predictions[0]))) > 0 else 'Negative'\n",
        "    return jsonify({'predictions ':predictions, 'sentiment ': sentiment})\n",
        "\n",
        "if __name__ == '__main__':\n",
        "    app.run()"
      ],
      "execution_count": 13,
      "outputs": [
        {
          "output_type": "stream",
          "text": [
            "Model and Vocabalory loaded.......\n",
            " * Serving Flask app \"__main__\" (lazy loading)\n",
            " * Environment: production\n",
            "\u001b[31m   WARNING: This is a development server. Do not use it in a production deployment.\u001b[0m\n",
            "\u001b[2m   Use a production WSGI server instead.\u001b[0m\n",
            " * Debug mode: off\n"
          ],
          "name": "stdout"
        },
        {
          "output_type": "stream",
          "text": [
            " * Running on http://127.0.0.1:5000/ (Press CTRL+C to quit)\n"
          ],
          "name": "stderr"
        },
        {
          "output_type": "stream",
          "text": [
            " * Running on http://f06e7206df84.ngrok.io\n",
            " * Traffic stats available on http://127.0.0.1:4040\n"
          ],
          "name": "stdout"
        },
        {
          "output_type": "stream",
          "text": [
            "127.0.0.1 - - [05/Jun/2020 14:34:45] \"\u001b[37mGET / HTTP/1.1\u001b[0m\" 200 -\n"
          ],
          "name": "stderr"
        },
        {
          "output_type": "stream",
          "text": [
            "I thought this will be good one. But I was wrong\n"
          ],
          "name": "stdout"
        },
        {
          "output_type": "stream",
          "text": [
            "127.0.0.1 - - [05/Jun/2020 14:35:01] \"\u001b[37mPOST /seclassifier HTTP/1.1\u001b[0m\" 200 -\n"
          ],
          "name": "stderr"
        }
      ]
    },
    {
      "cell_type": "code",
      "metadata": {
        "id": "5vgwRobA02md",
        "colab_type": "code",
        "colab": {}
      },
      "source": [
        ""
      ],
      "execution_count": 0,
      "outputs": []
    }
  ]
}